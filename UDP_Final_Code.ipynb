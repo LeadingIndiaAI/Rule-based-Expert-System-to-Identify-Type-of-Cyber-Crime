{
  "nbformat": 4,
  "nbformat_minor": 0,
  "metadata": {
    "colab": {
      "name": "UDP_Final_Code.ipynb",
      "provenance": [],
      "collapsed_sections": [],
      "include_colab_link": true
    },
    "kernelspec": {
      "name": "python3",
      "display_name": "Python 3"
    }
  },
  "cells": [
    {
      "cell_type": "markdown",
      "metadata": {
        "id": "view-in-github",
        "colab_type": "text"
      },
      "source": [
        "<a href=\"https://colab.research.google.com/github/khagendra1998/A-rule-based-expert-system-to-identify-the-type-of-cybercrime/blob/master/UDP_Final_Code.ipynb\" target=\"_parent\"><img src=\"https://colab.research.google.com/assets/colab-badge.svg\" alt=\"Open In Colab\"/></a>"
      ]
    },
    {
      "cell_type": "markdown",
      "metadata": {
        "id": "WLprYqMGigKa",
        "colab_type": "text"
      },
      "source": [
        "#**UDP Dataset**"
      ]
    },
    {
      "cell_type": "markdown",
      "metadata": {
        "id": "KNbRAh8GlsxJ",
        "colab_type": "text"
      },
      "source": [
        "**Load the data from the google drive**"
      ]
    },
    {
      "cell_type": "code",
      "metadata": {
        "id": "X8VXK9VoQ-9R",
        "colab_type": "code",
        "colab": {
          "base_uri": "https://localhost:8080/",
          "height": 54
        },
        "outputId": "49af24ea-8e55-4190-a42a-e7f7d9e2dee5"
      },
      "source": [
        "from google.colab import drive\n",
        "drive.mount('/content/drive')"
      ],
      "execution_count": 2,
      "outputs": [
        {
          "output_type": "stream",
          "text": [
            "Drive already mounted at /content/drive; to attempt to forcibly remount, call drive.mount(\"/content/drive\", force_remount=True).\n"
          ],
          "name": "stdout"
        }
      ]
    },
    {
      "cell_type": "code",
      "metadata": {
        "id": "Bbtik3o3C88e",
        "colab_type": "code",
        "outputId": "3cd65b75-df50-4133-8823-d7af3d9d84d2",
        "colab": {
          "base_uri": "https://localhost:8080/",
          "height": 71
        }
      },
      "source": [
        "import pandas as pd\n",
        "import numpy as np\n",
        "import matplotlib.pyplot as plt\n",
        "\n",
        "#Load the Data from CSV file\n",
        "\n",
        "data = pd.read_csv(\"/content/drive/My Drive/Datasets/UDP.csv\")"
      ],
      "execution_count": 3,
      "outputs": [
        {
          "output_type": "stream",
          "text": [
            "/usr/local/lib/python3.6/dist-packages/IPython/core/interactiveshell.py:2718: DtypeWarning: Columns (85) have mixed types.Specify dtype option on import or set low_memory=False.\n",
            "  interactivity=interactivity, compiler=compiler, result=result)\n"
          ],
          "name": "stderr"
        }
      ]
    },
    {
      "cell_type": "markdown",
      "metadata": {
        "id": "NqLX8_Fel3If",
        "colab_type": "text"
      },
      "source": [
        "**Show the First Five rows of the Dataset**"
      ]
    },
    {
      "cell_type": "code",
      "metadata": {
        "id": "J3XSj4zBDjIO",
        "colab_type": "code",
        "outputId": "ca167fcb-3b5c-43c0-eace-117a36f9d30c",
        "colab": {
          "base_uri": "https://localhost:8080/",
          "height": 559
        }
      },
      "source": [
        "data.head()"
      ],
      "execution_count": 4,
      "outputs": [
        {
          "output_type": "execute_result",
          "data": {
            "text/html": [
              "<div>\n",
              "<style scoped>\n",
              "    .dataframe tbody tr th:only-of-type {\n",
              "        vertical-align: middle;\n",
              "    }\n",
              "\n",
              "    .dataframe tbody tr th {\n",
              "        vertical-align: top;\n",
              "    }\n",
              "\n",
              "    .dataframe thead th {\n",
              "        text-align: right;\n",
              "    }\n",
              "</style>\n",
              "<table border=\"1\" class=\"dataframe\">\n",
              "  <thead>\n",
              "    <tr style=\"text-align: right;\">\n",
              "      <th></th>\n",
              "      <th>Unnamed: 0</th>\n",
              "      <th>Flow ID</th>\n",
              "      <th>Source IP</th>\n",
              "      <th>Source Port</th>\n",
              "      <th>Destination IP</th>\n",
              "      <th>Destination Port</th>\n",
              "      <th>Protocol</th>\n",
              "      <th>Timestamp</th>\n",
              "      <th>Flow Duration</th>\n",
              "      <th>Total Fwd Packets</th>\n",
              "      <th>Total Backward Packets</th>\n",
              "      <th>Total Length of Fwd Packets</th>\n",
              "      <th>Total Length of Bwd Packets</th>\n",
              "      <th>Fwd Packet Length Max</th>\n",
              "      <th>Fwd Packet Length Min</th>\n",
              "      <th>Fwd Packet Length Mean</th>\n",
              "      <th>Fwd Packet Length Std</th>\n",
              "      <th>Bwd Packet Length Max</th>\n",
              "      <th>Bwd Packet Length Min</th>\n",
              "      <th>Bwd Packet Length Mean</th>\n",
              "      <th>Bwd Packet Length Std</th>\n",
              "      <th>Flow Bytes/s</th>\n",
              "      <th>Flow Packets/s</th>\n",
              "      <th>Flow IAT Mean</th>\n",
              "      <th>Flow IAT Std</th>\n",
              "      <th>Flow IAT Max</th>\n",
              "      <th>Flow IAT Min</th>\n",
              "      <th>Fwd IAT Total</th>\n",
              "      <th>Fwd IAT Mean</th>\n",
              "      <th>Fwd IAT Std</th>\n",
              "      <th>Fwd IAT Max</th>\n",
              "      <th>Fwd IAT Min</th>\n",
              "      <th>Bwd IAT Total</th>\n",
              "      <th>Bwd IAT Mean</th>\n",
              "      <th>Bwd IAT Std</th>\n",
              "      <th>Bwd IAT Max</th>\n",
              "      <th>Bwd IAT Min</th>\n",
              "      <th>Fwd PSH Flags</th>\n",
              "      <th>Bwd PSH Flags</th>\n",
              "      <th>Fwd URG Flags</th>\n",
              "      <th>...</th>\n",
              "      <th>Packet Length Std</th>\n",
              "      <th>Packet Length Variance</th>\n",
              "      <th>FIN Flag Count</th>\n",
              "      <th>SYN Flag Count</th>\n",
              "      <th>RST Flag Count</th>\n",
              "      <th>PSH Flag Count</th>\n",
              "      <th>ACK Flag Count</th>\n",
              "      <th>URG Flag Count</th>\n",
              "      <th>CWE Flag Count</th>\n",
              "      <th>ECE Flag Count</th>\n",
              "      <th>Down/Up Ratio</th>\n",
              "      <th>Average Packet Size</th>\n",
              "      <th>Avg Fwd Segment Size</th>\n",
              "      <th>Avg Bwd Segment Size</th>\n",
              "      <th>Fwd Header Length.1</th>\n",
              "      <th>Fwd Avg Bytes/Bulk</th>\n",
              "      <th>Fwd Avg Packets/Bulk</th>\n",
              "      <th>Fwd Avg Bulk Rate</th>\n",
              "      <th>Bwd Avg Bytes/Bulk</th>\n",
              "      <th>Bwd Avg Packets/Bulk</th>\n",
              "      <th>Bwd Avg Bulk Rate</th>\n",
              "      <th>Subflow Fwd Packets</th>\n",
              "      <th>Subflow Fwd Bytes</th>\n",
              "      <th>Subflow Bwd Packets</th>\n",
              "      <th>Subflow Bwd Bytes</th>\n",
              "      <th>Init_Win_bytes_forward</th>\n",
              "      <th>Init_Win_bytes_backward</th>\n",
              "      <th>act_data_pkt_fwd</th>\n",
              "      <th>min_seg_size_forward</th>\n",
              "      <th>Active Mean</th>\n",
              "      <th>Active Std</th>\n",
              "      <th>Active Max</th>\n",
              "      <th>Active Min</th>\n",
              "      <th>Idle Mean</th>\n",
              "      <th>Idle Std</th>\n",
              "      <th>Idle Max</th>\n",
              "      <th>Idle Min</th>\n",
              "      <th>SimillarHTTP</th>\n",
              "      <th>Inbound</th>\n",
              "      <th>Label</th>\n",
              "    </tr>\n",
              "  </thead>\n",
              "  <tbody>\n",
              "    <tr>\n",
              "      <th>0</th>\n",
              "      <td>15798</td>\n",
              "      <td>172.16.0.5-192.168.50.4-9401-15931-17</td>\n",
              "      <td>172.16.0.5</td>\n",
              "      <td>9401</td>\n",
              "      <td>192.168.50.4</td>\n",
              "      <td>15931</td>\n",
              "      <td>17</td>\n",
              "      <td>2018-11-03 10:42:57.176671</td>\n",
              "      <td>1</td>\n",
              "      <td>2</td>\n",
              "      <td>0</td>\n",
              "      <td>2560.0</td>\n",
              "      <td>0.0</td>\n",
              "      <td>1280.0</td>\n",
              "      <td>1280.0</td>\n",
              "      <td>1280.0</td>\n",
              "      <td>0.0</td>\n",
              "      <td>0.0</td>\n",
              "      <td>0.0</td>\n",
              "      <td>0.0</td>\n",
              "      <td>0.0</td>\n",
              "      <td>2.560000e+09</td>\n",
              "      <td>2000000.0</td>\n",
              "      <td>1.0</td>\n",
              "      <td>0.0</td>\n",
              "      <td>1.0</td>\n",
              "      <td>1.0</td>\n",
              "      <td>1.0</td>\n",
              "      <td>1.0</td>\n",
              "      <td>0.0</td>\n",
              "      <td>1.0</td>\n",
              "      <td>1.0</td>\n",
              "      <td>0.0</td>\n",
              "      <td>0.0</td>\n",
              "      <td>0.0</td>\n",
              "      <td>0.0</td>\n",
              "      <td>0.0</td>\n",
              "      <td>0</td>\n",
              "      <td>0</td>\n",
              "      <td>0</td>\n",
              "      <td>...</td>\n",
              "      <td>0.0</td>\n",
              "      <td>0.0</td>\n",
              "      <td>0</td>\n",
              "      <td>0</td>\n",
              "      <td>0</td>\n",
              "      <td>0</td>\n",
              "      <td>0</td>\n",
              "      <td>0</td>\n",
              "      <td>0</td>\n",
              "      <td>0</td>\n",
              "      <td>0.0</td>\n",
              "      <td>1920.0</td>\n",
              "      <td>1280.0</td>\n",
              "      <td>0.0</td>\n",
              "      <td>-2</td>\n",
              "      <td>0</td>\n",
              "      <td>0</td>\n",
              "      <td>0</td>\n",
              "      <td>0</td>\n",
              "      <td>0</td>\n",
              "      <td>0</td>\n",
              "      <td>2</td>\n",
              "      <td>2560</td>\n",
              "      <td>0</td>\n",
              "      <td>0</td>\n",
              "      <td>-1</td>\n",
              "      <td>-1</td>\n",
              "      <td>1</td>\n",
              "      <td>-1</td>\n",
              "      <td>0.0</td>\n",
              "      <td>0.0</td>\n",
              "      <td>0.0</td>\n",
              "      <td>0.0</td>\n",
              "      <td>0.0</td>\n",
              "      <td>0.0</td>\n",
              "      <td>0.0</td>\n",
              "      <td>0.0</td>\n",
              "      <td>0</td>\n",
              "      <td>1</td>\n",
              "      <td>MSSQL</td>\n",
              "    </tr>\n",
              "    <tr>\n",
              "      <th>1</th>\n",
              "      <td>110891</td>\n",
              "      <td>172.16.0.5-192.168.50.4-9402-29997-17</td>\n",
              "      <td>172.16.0.5</td>\n",
              "      <td>9402</td>\n",
              "      <td>192.168.50.4</td>\n",
              "      <td>29997</td>\n",
              "      <td>17</td>\n",
              "      <td>2018-11-03 10:42:57.176673</td>\n",
              "      <td>0</td>\n",
              "      <td>2</td>\n",
              "      <td>0</td>\n",
              "      <td>816.0</td>\n",
              "      <td>0.0</td>\n",
              "      <td>408.0</td>\n",
              "      <td>408.0</td>\n",
              "      <td>408.0</td>\n",
              "      <td>0.0</td>\n",
              "      <td>0.0</td>\n",
              "      <td>0.0</td>\n",
              "      <td>0.0</td>\n",
              "      <td>0.0</td>\n",
              "      <td>inf</td>\n",
              "      <td>inf</td>\n",
              "      <td>0.0</td>\n",
              "      <td>0.0</td>\n",
              "      <td>0.0</td>\n",
              "      <td>0.0</td>\n",
              "      <td>0.0</td>\n",
              "      <td>0.0</td>\n",
              "      <td>0.0</td>\n",
              "      <td>0.0</td>\n",
              "      <td>0.0</td>\n",
              "      <td>0.0</td>\n",
              "      <td>0.0</td>\n",
              "      <td>0.0</td>\n",
              "      <td>0.0</td>\n",
              "      <td>0.0</td>\n",
              "      <td>0</td>\n",
              "      <td>0</td>\n",
              "      <td>0</td>\n",
              "      <td>...</td>\n",
              "      <td>0.0</td>\n",
              "      <td>0.0</td>\n",
              "      <td>0</td>\n",
              "      <td>0</td>\n",
              "      <td>0</td>\n",
              "      <td>0</td>\n",
              "      <td>0</td>\n",
              "      <td>0</td>\n",
              "      <td>0</td>\n",
              "      <td>0</td>\n",
              "      <td>0.0</td>\n",
              "      <td>612.0</td>\n",
              "      <td>408.0</td>\n",
              "      <td>0.0</td>\n",
              "      <td>-2</td>\n",
              "      <td>0</td>\n",
              "      <td>0</td>\n",
              "      <td>0</td>\n",
              "      <td>0</td>\n",
              "      <td>0</td>\n",
              "      <td>0</td>\n",
              "      <td>2</td>\n",
              "      <td>816</td>\n",
              "      <td>0</td>\n",
              "      <td>0</td>\n",
              "      <td>-1</td>\n",
              "      <td>-1</td>\n",
              "      <td>1</td>\n",
              "      <td>-1</td>\n",
              "      <td>0.0</td>\n",
              "      <td>0.0</td>\n",
              "      <td>0.0</td>\n",
              "      <td>0.0</td>\n",
              "      <td>0.0</td>\n",
              "      <td>0.0</td>\n",
              "      <td>0.0</td>\n",
              "      <td>0.0</td>\n",
              "      <td>0</td>\n",
              "      <td>1</td>\n",
              "      <td>MSSQL</td>\n",
              "    </tr>\n",
              "    <tr>\n",
              "      <th>2</th>\n",
              "      <td>66956</td>\n",
              "      <td>172.16.0.5-192.168.50.4-9403-29887-17</td>\n",
              "      <td>172.16.0.5</td>\n",
              "      <td>9403</td>\n",
              "      <td>192.168.50.4</td>\n",
              "      <td>29887</td>\n",
              "      <td>17</td>\n",
              "      <td>2018-11-03 10:42:57.176727</td>\n",
              "      <td>1</td>\n",
              "      <td>2</td>\n",
              "      <td>0</td>\n",
              "      <td>810.0</td>\n",
              "      <td>0.0</td>\n",
              "      <td>405.0</td>\n",
              "      <td>405.0</td>\n",
              "      <td>405.0</td>\n",
              "      <td>0.0</td>\n",
              "      <td>0.0</td>\n",
              "      <td>0.0</td>\n",
              "      <td>0.0</td>\n",
              "      <td>0.0</td>\n",
              "      <td>8.100000e+08</td>\n",
              "      <td>2000000.0</td>\n",
              "      <td>1.0</td>\n",
              "      <td>0.0</td>\n",
              "      <td>1.0</td>\n",
              "      <td>1.0</td>\n",
              "      <td>1.0</td>\n",
              "      <td>1.0</td>\n",
              "      <td>0.0</td>\n",
              "      <td>1.0</td>\n",
              "      <td>1.0</td>\n",
              "      <td>0.0</td>\n",
              "      <td>0.0</td>\n",
              "      <td>0.0</td>\n",
              "      <td>0.0</td>\n",
              "      <td>0.0</td>\n",
              "      <td>0</td>\n",
              "      <td>0</td>\n",
              "      <td>0</td>\n",
              "      <td>...</td>\n",
              "      <td>0.0</td>\n",
              "      <td>0.0</td>\n",
              "      <td>0</td>\n",
              "      <td>0</td>\n",
              "      <td>0</td>\n",
              "      <td>0</td>\n",
              "      <td>0</td>\n",
              "      <td>0</td>\n",
              "      <td>0</td>\n",
              "      <td>0</td>\n",
              "      <td>0.0</td>\n",
              "      <td>607.5</td>\n",
              "      <td>405.0</td>\n",
              "      <td>0.0</td>\n",
              "      <td>-2</td>\n",
              "      <td>0</td>\n",
              "      <td>0</td>\n",
              "      <td>0</td>\n",
              "      <td>0</td>\n",
              "      <td>0</td>\n",
              "      <td>0</td>\n",
              "      <td>2</td>\n",
              "      <td>810</td>\n",
              "      <td>0</td>\n",
              "      <td>0</td>\n",
              "      <td>-1</td>\n",
              "      <td>-1</td>\n",
              "      <td>1</td>\n",
              "      <td>-1</td>\n",
              "      <td>0.0</td>\n",
              "      <td>0.0</td>\n",
              "      <td>0.0</td>\n",
              "      <td>0.0</td>\n",
              "      <td>0.0</td>\n",
              "      <td>0.0</td>\n",
              "      <td>0.0</td>\n",
              "      <td>0.0</td>\n",
              "      <td>0</td>\n",
              "      <td>1</td>\n",
              "      <td>MSSQL</td>\n",
              "    </tr>\n",
              "    <tr>\n",
              "      <th>3</th>\n",
              "      <td>66144</td>\n",
              "      <td>172.16.0.5-192.168.50.4-9404-7393-17</td>\n",
              "      <td>172.16.0.5</td>\n",
              "      <td>9404</td>\n",
              "      <td>192.168.50.4</td>\n",
              "      <td>7393</td>\n",
              "      <td>17</td>\n",
              "      <td>2018-11-03 10:42:57.176729</td>\n",
              "      <td>1</td>\n",
              "      <td>2</td>\n",
              "      <td>0</td>\n",
              "      <td>852.0</td>\n",
              "      <td>0.0</td>\n",
              "      <td>426.0</td>\n",
              "      <td>426.0</td>\n",
              "      <td>426.0</td>\n",
              "      <td>0.0</td>\n",
              "      <td>0.0</td>\n",
              "      <td>0.0</td>\n",
              "      <td>0.0</td>\n",
              "      <td>0.0</td>\n",
              "      <td>8.520000e+08</td>\n",
              "      <td>2000000.0</td>\n",
              "      <td>1.0</td>\n",
              "      <td>0.0</td>\n",
              "      <td>1.0</td>\n",
              "      <td>1.0</td>\n",
              "      <td>1.0</td>\n",
              "      <td>1.0</td>\n",
              "      <td>0.0</td>\n",
              "      <td>1.0</td>\n",
              "      <td>1.0</td>\n",
              "      <td>0.0</td>\n",
              "      <td>0.0</td>\n",
              "      <td>0.0</td>\n",
              "      <td>0.0</td>\n",
              "      <td>0.0</td>\n",
              "      <td>0</td>\n",
              "      <td>0</td>\n",
              "      <td>0</td>\n",
              "      <td>...</td>\n",
              "      <td>0.0</td>\n",
              "      <td>0.0</td>\n",
              "      <td>0</td>\n",
              "      <td>0</td>\n",
              "      <td>0</td>\n",
              "      <td>0</td>\n",
              "      <td>0</td>\n",
              "      <td>0</td>\n",
              "      <td>0</td>\n",
              "      <td>0</td>\n",
              "      <td>0.0</td>\n",
              "      <td>639.0</td>\n",
              "      <td>426.0</td>\n",
              "      <td>0.0</td>\n",
              "      <td>-2</td>\n",
              "      <td>0</td>\n",
              "      <td>0</td>\n",
              "      <td>0</td>\n",
              "      <td>0</td>\n",
              "      <td>0</td>\n",
              "      <td>0</td>\n",
              "      <td>2</td>\n",
              "      <td>852</td>\n",
              "      <td>0</td>\n",
              "      <td>0</td>\n",
              "      <td>-1</td>\n",
              "      <td>-1</td>\n",
              "      <td>1</td>\n",
              "      <td>-1</td>\n",
              "      <td>0.0</td>\n",
              "      <td>0.0</td>\n",
              "      <td>0.0</td>\n",
              "      <td>0.0</td>\n",
              "      <td>0.0</td>\n",
              "      <td>0.0</td>\n",
              "      <td>0.0</td>\n",
              "      <td>0.0</td>\n",
              "      <td>0</td>\n",
              "      <td>1</td>\n",
              "      <td>MSSQL</td>\n",
              "    </tr>\n",
              "    <tr>\n",
              "      <th>4</th>\n",
              "      <td>72903</td>\n",
              "      <td>172.16.0.5-192.168.50.4-9405-57957-17</td>\n",
              "      <td>172.16.0.5</td>\n",
              "      <td>9405</td>\n",
              "      <td>192.168.50.4</td>\n",
              "      <td>57957</td>\n",
              "      <td>17</td>\n",
              "      <td>2018-11-03 10:42:57.177121</td>\n",
              "      <td>1</td>\n",
              "      <td>2</td>\n",
              "      <td>0</td>\n",
              "      <td>1240.0</td>\n",
              "      <td>0.0</td>\n",
              "      <td>620.0</td>\n",
              "      <td>620.0</td>\n",
              "      <td>620.0</td>\n",
              "      <td>0.0</td>\n",
              "      <td>0.0</td>\n",
              "      <td>0.0</td>\n",
              "      <td>0.0</td>\n",
              "      <td>0.0</td>\n",
              "      <td>1.240000e+09</td>\n",
              "      <td>2000000.0</td>\n",
              "      <td>1.0</td>\n",
              "      <td>0.0</td>\n",
              "      <td>1.0</td>\n",
              "      <td>1.0</td>\n",
              "      <td>1.0</td>\n",
              "      <td>1.0</td>\n",
              "      <td>0.0</td>\n",
              "      <td>1.0</td>\n",
              "      <td>1.0</td>\n",
              "      <td>0.0</td>\n",
              "      <td>0.0</td>\n",
              "      <td>0.0</td>\n",
              "      <td>0.0</td>\n",
              "      <td>0.0</td>\n",
              "      <td>0</td>\n",
              "      <td>0</td>\n",
              "      <td>0</td>\n",
              "      <td>...</td>\n",
              "      <td>0.0</td>\n",
              "      <td>0.0</td>\n",
              "      <td>0</td>\n",
              "      <td>0</td>\n",
              "      <td>0</td>\n",
              "      <td>0</td>\n",
              "      <td>0</td>\n",
              "      <td>0</td>\n",
              "      <td>0</td>\n",
              "      <td>0</td>\n",
              "      <td>0.0</td>\n",
              "      <td>930.0</td>\n",
              "      <td>620.0</td>\n",
              "      <td>0.0</td>\n",
              "      <td>-2</td>\n",
              "      <td>0</td>\n",
              "      <td>0</td>\n",
              "      <td>0</td>\n",
              "      <td>0</td>\n",
              "      <td>0</td>\n",
              "      <td>0</td>\n",
              "      <td>2</td>\n",
              "      <td>1240</td>\n",
              "      <td>0</td>\n",
              "      <td>0</td>\n",
              "      <td>-1</td>\n",
              "      <td>-1</td>\n",
              "      <td>1</td>\n",
              "      <td>-1</td>\n",
              "      <td>0.0</td>\n",
              "      <td>0.0</td>\n",
              "      <td>0.0</td>\n",
              "      <td>0.0</td>\n",
              "      <td>0.0</td>\n",
              "      <td>0.0</td>\n",
              "      <td>0.0</td>\n",
              "      <td>0.0</td>\n",
              "      <td>0</td>\n",
              "      <td>1</td>\n",
              "      <td>MSSQL</td>\n",
              "    </tr>\n",
              "  </tbody>\n",
              "</table>\n",
              "<p>5 rows × 88 columns</p>\n",
              "</div>"
            ],
            "text/plain": [
              "   Unnamed: 0                                Flow ID  ...  Inbound   Label\n",
              "0       15798  172.16.0.5-192.168.50.4-9401-15931-17  ...        1   MSSQL\n",
              "1      110891  172.16.0.5-192.168.50.4-9402-29997-17  ...        1   MSSQL\n",
              "2       66956  172.16.0.5-192.168.50.4-9403-29887-17  ...        1   MSSQL\n",
              "3       66144   172.16.0.5-192.168.50.4-9404-7393-17  ...        1   MSSQL\n",
              "4       72903  172.16.0.5-192.168.50.4-9405-57957-17  ...        1   MSSQL\n",
              "\n",
              "[5 rows x 88 columns]"
            ]
          },
          "metadata": {
            "tags": []
          },
          "execution_count": 4
        }
      ]
    },
    {
      "cell_type": "markdown",
      "metadata": {
        "id": "xpqQHBUBl6Bm",
        "colab_type": "text"
      },
      "source": [
        "**Description of the dataset**"
      ]
    },
    {
      "cell_type": "code",
      "metadata": {
        "id": "oXDmeElqDlQz",
        "colab_type": "code",
        "outputId": "6b2a8a41-a699-43d4-baff-dce91075c41f",
        "colab": {
          "base_uri": "https://localhost:8080/",
          "height": 397
        }
      },
      "source": [
        "data.describe()"
      ],
      "execution_count": 5,
      "outputs": [
        {
          "output_type": "execute_result",
          "data": {
            "text/html": [
              "<div>\n",
              "<style scoped>\n",
              "    .dataframe tbody tr th:only-of-type {\n",
              "        vertical-align: middle;\n",
              "    }\n",
              "\n",
              "    .dataframe tbody tr th {\n",
              "        vertical-align: top;\n",
              "    }\n",
              "\n",
              "    .dataframe thead th {\n",
              "        text-align: right;\n",
              "    }\n",
              "</style>\n",
              "<table border=\"1\" class=\"dataframe\">\n",
              "  <thead>\n",
              "    <tr style=\"text-align: right;\">\n",
              "      <th></th>\n",
              "      <th>Unnamed: 0</th>\n",
              "      <th>Source Port</th>\n",
              "      <th>Destination Port</th>\n",
              "      <th>Protocol</th>\n",
              "      <th>Flow Duration</th>\n",
              "      <th>Total Fwd Packets</th>\n",
              "      <th>Total Backward Packets</th>\n",
              "      <th>Total Length of Fwd Packets</th>\n",
              "      <th>Total Length of Bwd Packets</th>\n",
              "      <th>Fwd Packet Length Max</th>\n",
              "      <th>Fwd Packet Length Min</th>\n",
              "      <th>Fwd Packet Length Mean</th>\n",
              "      <th>Fwd Packet Length Std</th>\n",
              "      <th>Bwd Packet Length Max</th>\n",
              "      <th>Bwd Packet Length Min</th>\n",
              "      <th>Bwd Packet Length Mean</th>\n",
              "      <th>Bwd Packet Length Std</th>\n",
              "      <th>Flow Bytes/s</th>\n",
              "      <th>Flow Packets/s</th>\n",
              "      <th>Flow IAT Mean</th>\n",
              "      <th>Flow IAT Std</th>\n",
              "      <th>Flow IAT Max</th>\n",
              "      <th>Flow IAT Min</th>\n",
              "      <th>Fwd IAT Total</th>\n",
              "      <th>Fwd IAT Mean</th>\n",
              "      <th>Fwd IAT Std</th>\n",
              "      <th>Fwd IAT Max</th>\n",
              "      <th>Fwd IAT Min</th>\n",
              "      <th>Bwd IAT Total</th>\n",
              "      <th>Bwd IAT Mean</th>\n",
              "      <th>Bwd IAT Std</th>\n",
              "      <th>Bwd IAT Max</th>\n",
              "      <th>Bwd IAT Min</th>\n",
              "      <th>Fwd PSH Flags</th>\n",
              "      <th>Bwd PSH Flags</th>\n",
              "      <th>Fwd URG Flags</th>\n",
              "      <th>Bwd URG Flags</th>\n",
              "      <th>Fwd Header Length</th>\n",
              "      <th>Bwd Header Length</th>\n",
              "      <th>Fwd Packets/s</th>\n",
              "      <th>...</th>\n",
              "      <th>Max Packet Length</th>\n",
              "      <th>Packet Length Mean</th>\n",
              "      <th>Packet Length Std</th>\n",
              "      <th>Packet Length Variance</th>\n",
              "      <th>FIN Flag Count</th>\n",
              "      <th>SYN Flag Count</th>\n",
              "      <th>RST Flag Count</th>\n",
              "      <th>PSH Flag Count</th>\n",
              "      <th>ACK Flag Count</th>\n",
              "      <th>URG Flag Count</th>\n",
              "      <th>CWE Flag Count</th>\n",
              "      <th>ECE Flag Count</th>\n",
              "      <th>Down/Up Ratio</th>\n",
              "      <th>Average Packet Size</th>\n",
              "      <th>Avg Fwd Segment Size</th>\n",
              "      <th>Avg Bwd Segment Size</th>\n",
              "      <th>Fwd Header Length.1</th>\n",
              "      <th>Fwd Avg Bytes/Bulk</th>\n",
              "      <th>Fwd Avg Packets/Bulk</th>\n",
              "      <th>Fwd Avg Bulk Rate</th>\n",
              "      <th>Bwd Avg Bytes/Bulk</th>\n",
              "      <th>Bwd Avg Packets/Bulk</th>\n",
              "      <th>Bwd Avg Bulk Rate</th>\n",
              "      <th>Subflow Fwd Packets</th>\n",
              "      <th>Subflow Fwd Bytes</th>\n",
              "      <th>Subflow Bwd Packets</th>\n",
              "      <th>Subflow Bwd Bytes</th>\n",
              "      <th>Init_Win_bytes_forward</th>\n",
              "      <th>Init_Win_bytes_backward</th>\n",
              "      <th>act_data_pkt_fwd</th>\n",
              "      <th>min_seg_size_forward</th>\n",
              "      <th>Active Mean</th>\n",
              "      <th>Active Std</th>\n",
              "      <th>Active Max</th>\n",
              "      <th>Active Min</th>\n",
              "      <th>Idle Mean</th>\n",
              "      <th>Idle Std</th>\n",
              "      <th>Idle Max</th>\n",
              "      <th>Idle Min</th>\n",
              "      <th>Inbound</th>\n",
              "    </tr>\n",
              "  </thead>\n",
              "  <tbody>\n",
              "    <tr>\n",
              "      <th>count</th>\n",
              "      <td>3.782206e+06</td>\n",
              "      <td>3.782206e+06</td>\n",
              "      <td>3.782206e+06</td>\n",
              "      <td>3.782206e+06</td>\n",
              "      <td>3.782206e+06</td>\n",
              "      <td>3.782206e+06</td>\n",
              "      <td>3.782206e+06</td>\n",
              "      <td>3.782206e+06</td>\n",
              "      <td>3.782206e+06</td>\n",
              "      <td>3.782206e+06</td>\n",
              "      <td>3.782206e+06</td>\n",
              "      <td>3.782206e+06</td>\n",
              "      <td>3.782206e+06</td>\n",
              "      <td>3.782206e+06</td>\n",
              "      <td>3.782206e+06</td>\n",
              "      <td>3.782206e+06</td>\n",
              "      <td>3.782206e+06</td>\n",
              "      <td>3.782202e+06</td>\n",
              "      <td>3.782206e+06</td>\n",
              "      <td>3.782206e+06</td>\n",
              "      <td>3.782206e+06</td>\n",
              "      <td>3.782206e+06</td>\n",
              "      <td>3.782206e+06</td>\n",
              "      <td>3.782206e+06</td>\n",
              "      <td>3.782206e+06</td>\n",
              "      <td>3.782206e+06</td>\n",
              "      <td>3.782206e+06</td>\n",
              "      <td>3.782206e+06</td>\n",
              "      <td>3.782206e+06</td>\n",
              "      <td>3.782206e+06</td>\n",
              "      <td>3.782206e+06</td>\n",
              "      <td>3.782206e+06</td>\n",
              "      <td>3.782206e+06</td>\n",
              "      <td>3.782206e+06</td>\n",
              "      <td>3782206.0</td>\n",
              "      <td>3782206.0</td>\n",
              "      <td>3782206.0</td>\n",
              "      <td>3.782206e+06</td>\n",
              "      <td>3.782206e+06</td>\n",
              "      <td>3.782206e+06</td>\n",
              "      <td>...</td>\n",
              "      <td>3.782206e+06</td>\n",
              "      <td>3.782206e+06</td>\n",
              "      <td>3.782206e+06</td>\n",
              "      <td>3.782206e+06</td>\n",
              "      <td>3782206.0</td>\n",
              "      <td>3.782206e+06</td>\n",
              "      <td>3.782206e+06</td>\n",
              "      <td>3782206.0</td>\n",
              "      <td>3.782206e+06</td>\n",
              "      <td>3.782206e+06</td>\n",
              "      <td>3.782206e+06</td>\n",
              "      <td>3782206.0</td>\n",
              "      <td>3.782206e+06</td>\n",
              "      <td>3.782206e+06</td>\n",
              "      <td>3.782206e+06</td>\n",
              "      <td>3.782206e+06</td>\n",
              "      <td>3.782206e+06</td>\n",
              "      <td>3782206.0</td>\n",
              "      <td>3782206.0</td>\n",
              "      <td>3782206.0</td>\n",
              "      <td>3782206.0</td>\n",
              "      <td>3782206.0</td>\n",
              "      <td>3782206.0</td>\n",
              "      <td>3.782206e+06</td>\n",
              "      <td>3.782206e+06</td>\n",
              "      <td>3.782206e+06</td>\n",
              "      <td>3.782206e+06</td>\n",
              "      <td>3.782206e+06</td>\n",
              "      <td>3.782206e+06</td>\n",
              "      <td>3.782206e+06</td>\n",
              "      <td>3.782206e+06</td>\n",
              "      <td>3.782206e+06</td>\n",
              "      <td>3.782206e+06</td>\n",
              "      <td>3.782206e+06</td>\n",
              "      <td>3.782206e+06</td>\n",
              "      <td>3.782206e+06</td>\n",
              "      <td>3.782206e+06</td>\n",
              "      <td>3.782206e+06</td>\n",
              "      <td>3.782206e+06</td>\n",
              "      <td>3.782206e+06</td>\n",
              "    </tr>\n",
              "    <tr>\n",
              "      <th>mean</th>\n",
              "      <td>6.314332e+04</td>\n",
              "      <td>4.679348e+04</td>\n",
              "      <td>3.330075e+04</td>\n",
              "      <td>1.699230e+01</td>\n",
              "      <td>9.054014e+04</td>\n",
              "      <td>3.749488e+00</td>\n",
              "      <td>7.763723e-03</td>\n",
              "      <td>1.362059e+03</td>\n",
              "      <td>5.805188e+00</td>\n",
              "      <td>3.881425e+02</td>\n",
              "      <td>3.595337e+02</td>\n",
              "      <td>3.724167e+02</td>\n",
              "      <td>1.507711e+01</td>\n",
              "      <td>2.106897e-01</td>\n",
              "      <td>2.022708e-02</td>\n",
              "      <td>7.380842e-02</td>\n",
              "      <td>5.931257e-02</td>\n",
              "      <td>inf</td>\n",
              "      <td>inf</td>\n",
              "      <td>1.895856e+04</td>\n",
              "      <td>3.006970e+04</td>\n",
              "      <td>5.523858e+04</td>\n",
              "      <td>1.265483e+01</td>\n",
              "      <td>9.033281e+04</td>\n",
              "      <td>1.908819e+04</td>\n",
              "      <td>3.022446e+04</td>\n",
              "      <td>5.511813e+04</td>\n",
              "      <td>1.255458e+01</td>\n",
              "      <td>5.113479e+03</td>\n",
              "      <td>2.777776e+02</td>\n",
              "      <td>6.110455e+02</td>\n",
              "      <td>1.921615e+03</td>\n",
              "      <td>1.793133e-03</td>\n",
              "      <td>1.853416e-04</td>\n",
              "      <td>0.0</td>\n",
              "      <td>0.0</td>\n",
              "      <td>0.0</td>\n",
              "      <td>-5.603045e+07</td>\n",
              "      <td>-5.617487e+02</td>\n",
              "      <td>7.514461e+05</td>\n",
              "      <td>...</td>\n",
              "      <td>3.882642e+02</td>\n",
              "      <td>3.702776e+02</td>\n",
              "      <td>1.444350e+01</td>\n",
              "      <td>4.671685e+02</td>\n",
              "      <td>0.0</td>\n",
              "      <td>3.965939e-06</td>\n",
              "      <td>1.853416e-04</td>\n",
              "      <td>0.0</td>\n",
              "      <td>1.853416e-04</td>\n",
              "      <td>4.716824e-04</td>\n",
              "      <td>1.821688e-04</td>\n",
              "      <td>0.0</td>\n",
              "      <td>6.882227e-04</td>\n",
              "      <td>5.051987e+02</td>\n",
              "      <td>3.724167e+02</td>\n",
              "      <td>7.380842e-02</td>\n",
              "      <td>-5.603045e+07</td>\n",
              "      <td>0.0</td>\n",
              "      <td>0.0</td>\n",
              "      <td>0.0</td>\n",
              "      <td>0.0</td>\n",
              "      <td>0.0</td>\n",
              "      <td>0.0</td>\n",
              "      <td>3.749488e+00</td>\n",
              "      <td>1.362059e+03</td>\n",
              "      <td>7.763723e-03</td>\n",
              "      <td>5.805188e+00</td>\n",
              "      <td>4.233566e+00</td>\n",
              "      <td>7.263605e-01</td>\n",
              "      <td>2.746263e+00</td>\n",
              "      <td>-2.357353e+07</td>\n",
              "      <td>7.549161e+01</td>\n",
              "      <td>2.851830e+01</td>\n",
              "      <td>1.207670e+02</td>\n",
              "      <td>5.850962e+01</td>\n",
              "      <td>2.400031e+03</td>\n",
              "      <td>1.250781e+02</td>\n",
              "      <td>2.517102e+03</td>\n",
              "      <td>2.292068e+03</td>\n",
              "      <td>9.990566e-01</td>\n",
              "    </tr>\n",
              "    <tr>\n",
              "      <th>std</th>\n",
              "      <td>3.657531e+04</td>\n",
              "      <td>8.424700e+03</td>\n",
              "      <td>1.865294e+04</td>\n",
              "      <td>2.965105e-01</td>\n",
              "      <td>7.661436e+05</td>\n",
              "      <td>3.573937e+00</td>\n",
              "      <td>1.442430e+00</td>\n",
              "      <td>1.201260e+03</td>\n",
              "      <td>2.216302e+03</td>\n",
              "      <td>3.095188e+01</td>\n",
              "      <td>4.303871e+01</td>\n",
              "      <td>3.448869e+01</td>\n",
              "      <td>1.615960e+01</td>\n",
              "      <td>2.029896e+01</td>\n",
              "      <td>1.436148e+00</td>\n",
              "      <td>6.607057e+00</td>\n",
              "      <td>5.997098e+00</td>\n",
              "      <td>NaN</td>\n",
              "      <td>NaN</td>\n",
              "      <td>5.588453e+04</td>\n",
              "      <td>1.068378e+05</td>\n",
              "      <td>3.273608e+05</td>\n",
              "      <td>4.993744e+03</td>\n",
              "      <td>7.633034e+05</td>\n",
              "      <td>6.297673e+04</td>\n",
              "      <td>1.198657e+05</td>\n",
              "      <td>3.252938e+05</td>\n",
              "      <td>5.034657e+03</td>\n",
              "      <td>6.810442e+05</td>\n",
              "      <td>3.324711e+04</td>\n",
              "      <td>7.564203e+04</td>\n",
              "      <td>2.689338e+05</td>\n",
              "      <td>2.167218e-01</td>\n",
              "      <td>1.361276e-02</td>\n",
              "      <td>0.0</td>\n",
              "      <td>0.0</td>\n",
              "      <td>0.0</td>\n",
              "      <td>4.349231e+08</td>\n",
              "      <td>1.092888e+06</td>\n",
              "      <td>9.411168e+05</td>\n",
              "      <td>...</td>\n",
              "      <td>3.460111e+01</td>\n",
              "      <td>3.559022e+01</td>\n",
              "      <td>1.607961e+01</td>\n",
              "      <td>4.145499e+03</td>\n",
              "      <td>0.0</td>\n",
              "      <td>1.991463e-03</td>\n",
              "      <td>1.361276e-02</td>\n",
              "      <td>0.0</td>\n",
              "      <td>1.361276e-02</td>\n",
              "      <td>2.171313e-02</td>\n",
              "      <td>1.349577e-02</td>\n",
              "      <td>0.0</td>\n",
              "      <td>3.625421e-02</td>\n",
              "      <td>9.253673e+01</td>\n",
              "      <td>3.448869e+01</td>\n",
              "      <td>6.607057e+00</td>\n",
              "      <td>4.349231e+08</td>\n",
              "      <td>0.0</td>\n",
              "      <td>0.0</td>\n",
              "      <td>0.0</td>\n",
              "      <td>0.0</td>\n",
              "      <td>0.0</td>\n",
              "      <td>0.0</td>\n",
              "      <td>3.573937e+00</td>\n",
              "      <td>1.201260e+03</td>\n",
              "      <td>1.442430e+00</td>\n",
              "      <td>2.216302e+03</td>\n",
              "      <td>3.715303e+02</td>\n",
              "      <td>2.420249e+02</td>\n",
              "      <td>3.445795e+00</td>\n",
              "      <td>1.565131e+08</td>\n",
              "      <td>1.598006e+04</td>\n",
              "      <td>8.481062e+03</td>\n",
              "      <td>2.363565e+04</td>\n",
              "      <td>1.464551e+04</td>\n",
              "      <td>3.039307e+05</td>\n",
              "      <td>6.037865e+04</td>\n",
              "      <td>3.197172e+05</td>\n",
              "      <td>2.964808e+05</td>\n",
              "      <td>3.069976e-02</td>\n",
              "    </tr>\n",
              "    <tr>\n",
              "      <th>min</th>\n",
              "      <td>0.000000e+00</td>\n",
              "      <td>0.000000e+00</td>\n",
              "      <td>0.000000e+00</td>\n",
              "      <td>0.000000e+00</td>\n",
              "      <td>0.000000e+00</td>\n",
              "      <td>1.000000e+00</td>\n",
              "      <td>0.000000e+00</td>\n",
              "      <td>0.000000e+00</td>\n",
              "      <td>0.000000e+00</td>\n",
              "      <td>0.000000e+00</td>\n",
              "      <td>0.000000e+00</td>\n",
              "      <td>0.000000e+00</td>\n",
              "      <td>0.000000e+00</td>\n",
              "      <td>0.000000e+00</td>\n",
              "      <td>0.000000e+00</td>\n",
              "      <td>0.000000e+00</td>\n",
              "      <td>0.000000e+00</td>\n",
              "      <td>0.000000e+00</td>\n",
              "      <td>3.456459e-02</td>\n",
              "      <td>0.000000e+00</td>\n",
              "      <td>0.000000e+00</td>\n",
              "      <td>0.000000e+00</td>\n",
              "      <td>0.000000e+00</td>\n",
              "      <td>0.000000e+00</td>\n",
              "      <td>0.000000e+00</td>\n",
              "      <td>0.000000e+00</td>\n",
              "      <td>0.000000e+00</td>\n",
              "      <td>0.000000e+00</td>\n",
              "      <td>0.000000e+00</td>\n",
              "      <td>0.000000e+00</td>\n",
              "      <td>0.000000e+00</td>\n",
              "      <td>0.000000e+00</td>\n",
              "      <td>0.000000e+00</td>\n",
              "      <td>0.000000e+00</td>\n",
              "      <td>0.0</td>\n",
              "      <td>0.0</td>\n",
              "      <td>0.0</td>\n",
              "      <td>-8.926839e+10</td>\n",
              "      <td>-2.125438e+09</td>\n",
              "      <td>0.000000e+00</td>\n",
              "      <td>...</td>\n",
              "      <td>0.000000e+00</td>\n",
              "      <td>0.000000e+00</td>\n",
              "      <td>0.000000e+00</td>\n",
              "      <td>0.000000e+00</td>\n",
              "      <td>0.0</td>\n",
              "      <td>0.000000e+00</td>\n",
              "      <td>0.000000e+00</td>\n",
              "      <td>0.0</td>\n",
              "      <td>0.000000e+00</td>\n",
              "      <td>0.000000e+00</td>\n",
              "      <td>0.000000e+00</td>\n",
              "      <td>0.0</td>\n",
              "      <td>0.000000e+00</td>\n",
              "      <td>0.000000e+00</td>\n",
              "      <td>0.000000e+00</td>\n",
              "      <td>0.000000e+00</td>\n",
              "      <td>-8.926839e+10</td>\n",
              "      <td>0.0</td>\n",
              "      <td>0.0</td>\n",
              "      <td>0.0</td>\n",
              "      <td>0.0</td>\n",
              "      <td>0.0</td>\n",
              "      <td>0.0</td>\n",
              "      <td>1.000000e+00</td>\n",
              "      <td>0.000000e+00</td>\n",
              "      <td>0.000000e+00</td>\n",
              "      <td>0.000000e+00</td>\n",
              "      <td>-1.000000e+00</td>\n",
              "      <td>-1.000000e+00</td>\n",
              "      <td>0.000000e+00</td>\n",
              "      <td>-1.062719e+09</td>\n",
              "      <td>0.000000e+00</td>\n",
              "      <td>0.000000e+00</td>\n",
              "      <td>0.000000e+00</td>\n",
              "      <td>0.000000e+00</td>\n",
              "      <td>0.000000e+00</td>\n",
              "      <td>0.000000e+00</td>\n",
              "      <td>0.000000e+00</td>\n",
              "      <td>0.000000e+00</td>\n",
              "      <td>0.000000e+00</td>\n",
              "    </tr>\n",
              "    <tr>\n",
              "      <th>25%</th>\n",
              "      <td>3.151800e+04</td>\n",
              "      <td>3.985400e+04</td>\n",
              "      <td>1.721100e+04</td>\n",
              "      <td>1.700000e+01</td>\n",
              "      <td>1.000000e+00</td>\n",
              "      <td>2.000000e+00</td>\n",
              "      <td>0.000000e+00</td>\n",
              "      <td>7.660000e+02</td>\n",
              "      <td>0.000000e+00</td>\n",
              "      <td>3.750000e+02</td>\n",
              "      <td>3.300000e+02</td>\n",
              "      <td>3.495000e+02</td>\n",
              "      <td>0.000000e+00</td>\n",
              "      <td>0.000000e+00</td>\n",
              "      <td>0.000000e+00</td>\n",
              "      <td>0.000000e+00</td>\n",
              "      <td>0.000000e+00</td>\n",
              "      <td>1.298508e+04</td>\n",
              "      <td>3.678161e+01</td>\n",
              "      <td>1.000000e+00</td>\n",
              "      <td>0.000000e+00</td>\n",
              "      <td>1.000000e+00</td>\n",
              "      <td>1.000000e+00</td>\n",
              "      <td>1.000000e+00</td>\n",
              "      <td>1.000000e+00</td>\n",
              "      <td>0.000000e+00</td>\n",
              "      <td>1.000000e+00</td>\n",
              "      <td>1.000000e+00</td>\n",
              "      <td>0.000000e+00</td>\n",
              "      <td>0.000000e+00</td>\n",
              "      <td>0.000000e+00</td>\n",
              "      <td>0.000000e+00</td>\n",
              "      <td>0.000000e+00</td>\n",
              "      <td>0.000000e+00</td>\n",
              "      <td>0.0</td>\n",
              "      <td>0.0</td>\n",
              "      <td>0.0</td>\n",
              "      <td>1.600000e+01</td>\n",
              "      <td>0.000000e+00</td>\n",
              "      <td>3.672285e+01</td>\n",
              "      <td>...</td>\n",
              "      <td>3.750000e+02</td>\n",
              "      <td>3.456000e+02</td>\n",
              "      <td>0.000000e+00</td>\n",
              "      <td>0.000000e+00</td>\n",
              "      <td>0.0</td>\n",
              "      <td>0.000000e+00</td>\n",
              "      <td>0.000000e+00</td>\n",
              "      <td>0.0</td>\n",
              "      <td>0.000000e+00</td>\n",
              "      <td>0.000000e+00</td>\n",
              "      <td>0.000000e+00</td>\n",
              "      <td>0.0</td>\n",
              "      <td>0.000000e+00</td>\n",
              "      <td>4.320000e+02</td>\n",
              "      <td>3.495000e+02</td>\n",
              "      <td>0.000000e+00</td>\n",
              "      <td>1.600000e+01</td>\n",
              "      <td>0.0</td>\n",
              "      <td>0.0</td>\n",
              "      <td>0.0</td>\n",
              "      <td>0.0</td>\n",
              "      <td>0.0</td>\n",
              "      <td>0.0</td>\n",
              "      <td>2.000000e+00</td>\n",
              "      <td>7.660000e+02</td>\n",
              "      <td>0.000000e+00</td>\n",
              "      <td>0.000000e+00</td>\n",
              "      <td>-1.000000e+00</td>\n",
              "      <td>-1.000000e+00</td>\n",
              "      <td>1.000000e+00</td>\n",
              "      <td>8.000000e+00</td>\n",
              "      <td>0.000000e+00</td>\n",
              "      <td>0.000000e+00</td>\n",
              "      <td>0.000000e+00</td>\n",
              "      <td>0.000000e+00</td>\n",
              "      <td>0.000000e+00</td>\n",
              "      <td>0.000000e+00</td>\n",
              "      <td>0.000000e+00</td>\n",
              "      <td>0.000000e+00</td>\n",
              "      <td>1.000000e+00</td>\n",
              "    </tr>\n",
              "    <tr>\n",
              "      <th>50%</th>\n",
              "      <td>6.303600e+04</td>\n",
              "      <td>4.690800e+04</td>\n",
              "      <td>3.328800e+04</td>\n",
              "      <td>1.700000e+01</td>\n",
              "      <td>5.100000e+01</td>\n",
              "      <td>2.000000e+00</td>\n",
              "      <td>0.000000e+00</td>\n",
              "      <td>1.146000e+03</td>\n",
              "      <td>0.000000e+00</td>\n",
              "      <td>3.890000e+02</td>\n",
              "      <td>3.750000e+02</td>\n",
              "      <td>3.750000e+02</td>\n",
              "      <td>0.000000e+00</td>\n",
              "      <td>0.000000e+00</td>\n",
              "      <td>0.000000e+00</td>\n",
              "      <td>0.000000e+00</td>\n",
              "      <td>0.000000e+00</td>\n",
              "      <td>1.501961e+07</td>\n",
              "      <td>4.000000e+04</td>\n",
              "      <td>5.000000e+01</td>\n",
              "      <td>0.000000e+00</td>\n",
              "      <td>5.100000e+01</td>\n",
              "      <td>1.000000e+00</td>\n",
              "      <td>5.100000e+01</td>\n",
              "      <td>5.000000e+01</td>\n",
              "      <td>0.000000e+00</td>\n",
              "      <td>5.000000e+01</td>\n",
              "      <td>1.000000e+00</td>\n",
              "      <td>0.000000e+00</td>\n",
              "      <td>0.000000e+00</td>\n",
              "      <td>0.000000e+00</td>\n",
              "      <td>0.000000e+00</td>\n",
              "      <td>0.000000e+00</td>\n",
              "      <td>0.000000e+00</td>\n",
              "      <td>0.0</td>\n",
              "      <td>0.0</td>\n",
              "      <td>0.0</td>\n",
              "      <td>4.000000e+01</td>\n",
              "      <td>0.000000e+00</td>\n",
              "      <td>1.182208e+02</td>\n",
              "      <td>...</td>\n",
              "      <td>3.890000e+02</td>\n",
              "      <td>3.750000e+02</td>\n",
              "      <td>0.000000e+00</td>\n",
              "      <td>0.000000e+00</td>\n",
              "      <td>0.0</td>\n",
              "      <td>0.000000e+00</td>\n",
              "      <td>0.000000e+00</td>\n",
              "      <td>0.0</td>\n",
              "      <td>0.000000e+00</td>\n",
              "      <td>0.000000e+00</td>\n",
              "      <td>0.000000e+00</td>\n",
              "      <td>0.0</td>\n",
              "      <td>0.000000e+00</td>\n",
              "      <td>5.155000e+02</td>\n",
              "      <td>3.750000e+02</td>\n",
              "      <td>0.000000e+00</td>\n",
              "      <td>4.000000e+01</td>\n",
              "      <td>0.0</td>\n",
              "      <td>0.0</td>\n",
              "      <td>0.0</td>\n",
              "      <td>0.0</td>\n",
              "      <td>0.0</td>\n",
              "      <td>0.0</td>\n",
              "      <td>2.000000e+00</td>\n",
              "      <td>1.146000e+03</td>\n",
              "      <td>0.000000e+00</td>\n",
              "      <td>0.000000e+00</td>\n",
              "      <td>-1.000000e+00</td>\n",
              "      <td>-1.000000e+00</td>\n",
              "      <td>1.000000e+00</td>\n",
              "      <td>8.000000e+00</td>\n",
              "      <td>0.000000e+00</td>\n",
              "      <td>0.000000e+00</td>\n",
              "      <td>0.000000e+00</td>\n",
              "      <td>0.000000e+00</td>\n",
              "      <td>0.000000e+00</td>\n",
              "      <td>0.000000e+00</td>\n",
              "      <td>0.000000e+00</td>\n",
              "      <td>0.000000e+00</td>\n",
              "      <td>1.000000e+00</td>\n",
              "    </tr>\n",
              "    <tr>\n",
              "      <th>75%</th>\n",
              "      <td>9.455500e+04</td>\n",
              "      <td>5.389900e+04</td>\n",
              "      <td>4.948300e+04</td>\n",
              "      <td>1.700000e+01</td>\n",
              "      <td>1.087730e+05</td>\n",
              "      <td>4.000000e+00</td>\n",
              "      <td>0.000000e+00</td>\n",
              "      <td>1.438000e+03</td>\n",
              "      <td>0.000000e+00</td>\n",
              "      <td>3.930000e+02</td>\n",
              "      <td>3.830000e+02</td>\n",
              "      <td>3.830000e+02</td>\n",
              "      <td>3.406367e+01</td>\n",
              "      <td>0.000000e+00</td>\n",
              "      <td>0.000000e+00</td>\n",
              "      <td>0.000000e+00</td>\n",
              "      <td>0.000000e+00</td>\n",
              "      <td>7.660000e+08</td>\n",
              "      <td>2.000000e+06</td>\n",
              "      <td>3.625000e+04</td>\n",
              "      <td>6.120259e+04</td>\n",
              "      <td>1.087290e+05</td>\n",
              "      <td>1.000000e+00</td>\n",
              "      <td>1.087730e+05</td>\n",
              "      <td>3.625000e+04</td>\n",
              "      <td>6.120230e+04</td>\n",
              "      <td>1.087290e+05</td>\n",
              "      <td>1.000000e+00</td>\n",
              "      <td>0.000000e+00</td>\n",
              "      <td>0.000000e+00</td>\n",
              "      <td>0.000000e+00</td>\n",
              "      <td>0.000000e+00</td>\n",
              "      <td>0.000000e+00</td>\n",
              "      <td>0.000000e+00</td>\n",
              "      <td>0.0</td>\n",
              "      <td>0.0</td>\n",
              "      <td>0.0</td>\n",
              "      <td>7.200000e+01</td>\n",
              "      <td>0.000000e+00</td>\n",
              "      <td>2.000000e+06</td>\n",
              "      <td>...</td>\n",
              "      <td>3.930000e+02</td>\n",
              "      <td>3.830000e+02</td>\n",
              "      <td>3.231563e+01</td>\n",
              "      <td>1.044300e+03</td>\n",
              "      <td>0.0</td>\n",
              "      <td>0.000000e+00</td>\n",
              "      <td>0.000000e+00</td>\n",
              "      <td>0.0</td>\n",
              "      <td>0.000000e+00</td>\n",
              "      <td>0.000000e+00</td>\n",
              "      <td>0.000000e+00</td>\n",
              "      <td>0.0</td>\n",
              "      <td>0.000000e+00</td>\n",
              "      <td>5.745000e+02</td>\n",
              "      <td>3.830000e+02</td>\n",
              "      <td>0.000000e+00</td>\n",
              "      <td>7.200000e+01</td>\n",
              "      <td>0.0</td>\n",
              "      <td>0.0</td>\n",
              "      <td>0.0</td>\n",
              "      <td>0.0</td>\n",
              "      <td>0.0</td>\n",
              "      <td>0.0</td>\n",
              "      <td>4.000000e+00</td>\n",
              "      <td>1.438000e+03</td>\n",
              "      <td>0.000000e+00</td>\n",
              "      <td>0.000000e+00</td>\n",
              "      <td>-1.000000e+00</td>\n",
              "      <td>-1.000000e+00</td>\n",
              "      <td>3.000000e+00</td>\n",
              "      <td>2.000000e+01</td>\n",
              "      <td>0.000000e+00</td>\n",
              "      <td>0.000000e+00</td>\n",
              "      <td>0.000000e+00</td>\n",
              "      <td>0.000000e+00</td>\n",
              "      <td>0.000000e+00</td>\n",
              "      <td>0.000000e+00</td>\n",
              "      <td>0.000000e+00</td>\n",
              "      <td>0.000000e+00</td>\n",
              "      <td>1.000000e+00</td>\n",
              "    </tr>\n",
              "    <tr>\n",
              "      <th>max</th>\n",
              "      <td>1.323170e+05</td>\n",
              "      <td>6.553100e+04</td>\n",
              "      <td>6.553500e+04</td>\n",
              "      <td>1.700000e+01</td>\n",
              "      <td>1.199956e+08</td>\n",
              "      <td>9.220000e+02</td>\n",
              "      <td>1.347000e+03</td>\n",
              "      <td>1.024720e+05</td>\n",
              "      <td>2.466308e+06</td>\n",
              "      <td>3.495000e+03</td>\n",
              "      <td>1.472000e+03</td>\n",
              "      <td>1.472000e+03</td>\n",
              "      <td>1.405156e+03</td>\n",
              "      <td>3.621000e+03</td>\n",
              "      <td>3.270000e+02</td>\n",
              "      <td>1.830964e+03</td>\n",
              "      <td>1.036555e+03</td>\n",
              "      <td>inf</td>\n",
              "      <td>inf</td>\n",
              "      <td>3.857513e+07</td>\n",
              "      <td>6.681408e+07</td>\n",
              "      <td>1.157254e+08</td>\n",
              "      <td>7.009992e+06</td>\n",
              "      <td>1.199956e+08</td>\n",
              "      <td>3.857513e+07</td>\n",
              "      <td>6.681408e+07</td>\n",
              "      <td>1.157254e+08</td>\n",
              "      <td>7.009992e+06</td>\n",
              "      <td>1.196189e+08</td>\n",
              "      <td>2.052633e+07</td>\n",
              "      <td>4.182230e+07</td>\n",
              "      <td>9.511334e+07</td>\n",
              "      <td>9.700000e+01</td>\n",
              "      <td>1.000000e+00</td>\n",
              "      <td>0.0</td>\n",
              "      <td>0.0</td>\n",
              "      <td>0.0</td>\n",
              "      <td>3.036600e+04</td>\n",
              "      <td>4.312000e+04</td>\n",
              "      <td>4.000000e+06</td>\n",
              "      <td>...</td>\n",
              "      <td>3.621000e+03</td>\n",
              "      <td>1.472000e+03</td>\n",
              "      <td>1.045965e+03</td>\n",
              "      <td>1.094043e+06</td>\n",
              "      <td>0.0</td>\n",
              "      <td>1.000000e+00</td>\n",
              "      <td>1.000000e+00</td>\n",
              "      <td>0.0</td>\n",
              "      <td>1.000000e+00</td>\n",
              "      <td>1.000000e+00</td>\n",
              "      <td>1.000000e+00</td>\n",
              "      <td>0.0</td>\n",
              "      <td>1.000000e+01</td>\n",
              "      <td>2.208000e+03</td>\n",
              "      <td>1.472000e+03</td>\n",
              "      <td>1.830964e+03</td>\n",
              "      <td>3.036600e+04</td>\n",
              "      <td>0.0</td>\n",
              "      <td>0.0</td>\n",
              "      <td>0.0</td>\n",
              "      <td>0.0</td>\n",
              "      <td>0.0</td>\n",
              "      <td>0.0</td>\n",
              "      <td>9.220000e+02</td>\n",
              "      <td>1.024720e+05</td>\n",
              "      <td>1.347000e+03</td>\n",
              "      <td>2.466308e+06</td>\n",
              "      <td>6.553500e+04</td>\n",
              "      <td>6.553500e+04</td>\n",
              "      <td>2.160000e+02</td>\n",
              "      <td>7.730000e+02</td>\n",
              "      <td>1.086388e+07</td>\n",
              "      <td>8.246154e+06</td>\n",
              "      <td>1.613015e+07</td>\n",
              "      <td>1.086388e+07</td>\n",
              "      <td>1.157254e+08</td>\n",
              "      <td>6.188006e+07</td>\n",
              "      <td>1.157254e+08</td>\n",
              "      <td>1.157254e+08</td>\n",
              "      <td>1.000000e+00</td>\n",
              "    </tr>\n",
              "  </tbody>\n",
              "</table>\n",
              "<p>8 rows × 82 columns</p>\n",
              "</div>"
            ],
            "text/plain": [
              "         Unnamed: 0   Source Port  ...      Idle Min       Inbound\n",
              "count  3.782206e+06  3.782206e+06  ...  3.782206e+06  3.782206e+06\n",
              "mean   6.314332e+04  4.679348e+04  ...  2.292068e+03  9.990566e-01\n",
              "std    3.657531e+04  8.424700e+03  ...  2.964808e+05  3.069976e-02\n",
              "min    0.000000e+00  0.000000e+00  ...  0.000000e+00  0.000000e+00\n",
              "25%    3.151800e+04  3.985400e+04  ...  0.000000e+00  1.000000e+00\n",
              "50%    6.303600e+04  4.690800e+04  ...  0.000000e+00  1.000000e+00\n",
              "75%    9.455500e+04  5.389900e+04  ...  0.000000e+00  1.000000e+00\n",
              "max    1.323170e+05  6.553100e+04  ...  1.157254e+08  1.000000e+00\n",
              "\n",
              "[8 rows x 82 columns]"
            ]
          },
          "metadata": {
            "tags": []
          },
          "execution_count": 5
        }
      ]
    },
    {
      "cell_type": "markdown",
      "metadata": {
        "id": "ZTpkWG2ul_cM",
        "colab_type": "text"
      },
      "source": [
        "**Make the List of the Relevant Columns of Dataset**\n",
        "\n",
        "It can be analysis by the CICFlowMeter\n",
        "this the URL of the CICFlowMeter\n",
        "\n",
        "http://netflowmeter.ca/"
      ]
    },
    {
      "cell_type": "code",
      "metadata": {
        "id": "u_dDfctSDxXK",
        "colab_type": "code",
        "colab": {}
      },
      "source": [
        "irr = [' Fwd Packet Length Max',\n",
        "    ' Fwd Packet Length Min',\n",
        "    ' Min Packet Length',\n",
        "    ' Max Packet Length',\n",
        "    ' Average Packet Size',\n",
        "    'Fwd Packets/s',\n",
        "    ' Fwd Header Length',\n",
        "    ' Fwd Header Length.1',\n",
        "    ' min_seg_size_forward',\n",
        "    'Total Length of Fwd Packets',\n",
        "    ' Fwd Packet Length Std',\n",
        "    ' Flow IAT Min',\n",
        "    ' Subflow Fwd Bytes',\n",
        "    ' Destination Port',\n",
        "    ' Protocol',\n",
        "    ' Packet Length Std',\n",
        "    ' Flow Duration',\n",
        "    'Fwd IAT Total',\n",
        "    ' ACK Flag Count',\n",
        "    'Init_Win_bytes_forward',\n",
        "    ' Flow IAT Mean',\n",
        "    ' Flow IAT Max',\n",
        "    ' Fwd IAT Mean',\n",
        "    ' Fwd IAT Max']"
      ],
      "execution_count": 0,
      "outputs": []
    },
    {
      "cell_type": "code",
      "metadata": {
        "id": "sXBiY22hLX2V",
        "colab_type": "code",
        "outputId": "8b5c4dad-26c1-49b2-adcb-4005425af8f5",
        "colab": {
          "base_uri": "https://localhost:8080/",
          "height": 34
        }
      },
      "source": [
        "print(len(irr))"
      ],
      "execution_count": 7,
      "outputs": [
        {
          "output_type": "stream",
          "text": [
            "24\n"
          ],
          "name": "stdout"
        }
      ]
    },
    {
      "cell_type": "markdown",
      "metadata": {
        "id": "Fb3aWvJFmBz1",
        "colab_type": "text"
      },
      "source": [
        "**Here we remove the Irrevelent Columns except Revelent Column List which is defined above**"
      ]
    },
    {
      "cell_type": "code",
      "metadata": {
        "id": "K03LClpSEfUX",
        "colab_type": "code",
        "colab": {}
      },
      "source": [
        "remove_col = []\n",
        "for mycol in data.columns:\n",
        "    if all (x not in mycol for x in irr):\n",
        "        remove_col.append(mycol)"
      ],
      "execution_count": 0,
      "outputs": []
    },
    {
      "cell_type": "code",
      "metadata": {
        "id": "JIn0hfd3LPep",
        "colab_type": "code",
        "outputId": "d9e2e872-5522-4364-968f-256d474cde64",
        "colab": {
          "base_uri": "https://localhost:8080/",
          "height": 71
        }
      },
      "source": [
        "print(remove_col)\n",
        "print(len(remove_col))"
      ],
      "execution_count": 9,
      "outputs": [
        {
          "output_type": "stream",
          "text": [
            "['Unnamed: 0', 'Flow ID', ' Source IP', ' Source Port', ' Destination IP', ' Timestamp', ' Total Fwd Packets', ' Total Backward Packets', ' Total Length of Bwd Packets', ' Fwd Packet Length Mean', 'Bwd Packet Length Max', ' Bwd Packet Length Min', ' Bwd Packet Length Mean', 'Flow Bytes/s', ' Flow Packets/s', ' Flow IAT Std', ' Fwd IAT Std', ' Fwd IAT Min', 'Bwd IAT Total', ' Bwd IAT Mean', ' Bwd IAT Std', ' Bwd IAT Max', ' Bwd IAT Min', 'Fwd PSH Flags', ' Bwd PSH Flags', ' Fwd URG Flags', ' Bwd URG Flags', ' Bwd Header Length', ' Bwd Packets/s', ' Packet Length Mean', ' Packet Length Variance', 'FIN Flag Count', ' SYN Flag Count', ' RST Flag Count', ' PSH Flag Count', ' URG Flag Count', ' CWE Flag Count', ' ECE Flag Count', ' Down/Up Ratio', ' Avg Fwd Segment Size', ' Avg Bwd Segment Size', 'Fwd Avg Bytes/Bulk', ' Fwd Avg Packets/Bulk', ' Fwd Avg Bulk Rate', ' Bwd Avg Bytes/Bulk', ' Bwd Avg Packets/Bulk', 'Bwd Avg Bulk Rate', 'Subflow Fwd Packets', ' Subflow Bwd Packets', ' Subflow Bwd Bytes', ' Init_Win_bytes_backward', ' act_data_pkt_fwd', 'Active Mean', ' Active Std', ' Active Max', ' Active Min', 'Idle Mean', ' Idle Std', ' Idle Max', ' Idle Min', 'SimillarHTTP', ' Inbound', ' Label']\n",
            "63\n"
          ],
          "name": "stdout"
        }
      ]
    },
    {
      "cell_type": "code",
      "metadata": {
        "id": "WzKzq8SbUSCe",
        "colab_type": "code",
        "outputId": "41b8076a-b7ff-4f4b-f471-760c408ed8e4",
        "colab": {
          "base_uri": "https://localhost:8080/",
          "height": 275
        }
      },
      "source": [
        "data = data.drop(['Unnamed: 0',\n",
        "'Flow ID',\n",
        "' Source IP',\n",
        "' Source Port',\n",
        "' Destination IP',\n",
        "' Timestamp',\n",
        "' Total Fwd Packets',\n",
        "' Total Backward Packets',\n",
        "' Total Length of Bwd Packets',\n",
        "' Fwd Packet Length Mean',\n",
        "'Bwd Packet Length Max',\n",
        "' Bwd Packet Length Min',\n",
        "' Bwd Packet Length Mean',\n",
        "'Flow Bytes/s',\n",
        "' Flow Packets/s',\n",
        "' Flow IAT Std',\n",
        "' Fwd IAT Std',\n",
        "' Fwd IAT Min',\n",
        "'Bwd IAT Total',\n",
        "' Bwd IAT Mean',\n",
        "' Bwd IAT Std',\n",
        "' Bwd IAT Max',\n",
        "' Bwd IAT Min',\n",
        "'Fwd PSH Flags',\n",
        "' Bwd PSH Flags',\n",
        "' Fwd URG Flags',\n",
        "' Bwd URG Flags',\n",
        "' Bwd Header Length',\n",
        "' Bwd Packets/s',\n",
        "' Packet Length Mean',\n",
        "' Packet Length Variance',\n",
        "'FIN Flag Count',\n",
        "' SYN Flag Count',\n",
        "' RST Flag Count',\n",
        "' PSH Flag Count',\n",
        "' URG Flag Count',\n",
        "' CWE Flag Count',\n",
        "' ECE Flag Count',\n",
        "' Down/Up Ratio',\n",
        "' Avg Fwd Segment Size',\n",
        "' Avg Bwd Segment Size',\n",
        "'Fwd Avg Bytes/Bulk',\n",
        "' Fwd Avg Packets/Bulk',\n",
        "' Fwd Avg Bulk Rate',\n",
        "' Bwd Avg Bytes/Bulk',\n",
        "' Bwd Avg Packets/Bulk',\n",
        "'Bwd Avg Bulk Rate',\n",
        "'Subflow Fwd Packets',\n",
        "' Subflow Bwd Packets',\n",
        "' Subflow Bwd Bytes',\n",
        "' Init_Win_bytes_backward',\n",
        "' act_data_pkt_fwd',\n",
        "'Active Mean',\n",
        "' Active Std',\n",
        "' Active Max',\n",
        "' Active Min',\n",
        "'Idle Mean',\n",
        "' Idle Std',\n",
        "' Idle Max',\n",
        "' Idle Min',\n",
        "'SimillarHTTP',\n",
        "' Inbound'],axis=1)\n",
        "data.head()"
      ],
      "execution_count": 10,
      "outputs": [
        {
          "output_type": "execute_result",
          "data": {
            "text/html": [
              "<div>\n",
              "<style scoped>\n",
              "    .dataframe tbody tr th:only-of-type {\n",
              "        vertical-align: middle;\n",
              "    }\n",
              "\n",
              "    .dataframe tbody tr th {\n",
              "        vertical-align: top;\n",
              "    }\n",
              "\n",
              "    .dataframe thead th {\n",
              "        text-align: right;\n",
              "    }\n",
              "</style>\n",
              "<table border=\"1\" class=\"dataframe\">\n",
              "  <thead>\n",
              "    <tr style=\"text-align: right;\">\n",
              "      <th></th>\n",
              "      <th>Destination Port</th>\n",
              "      <th>Protocol</th>\n",
              "      <th>Flow Duration</th>\n",
              "      <th>Total Length of Fwd Packets</th>\n",
              "      <th>Fwd Packet Length Max</th>\n",
              "      <th>Fwd Packet Length Min</th>\n",
              "      <th>Fwd Packet Length Std</th>\n",
              "      <th>Bwd Packet Length Std</th>\n",
              "      <th>Flow IAT Mean</th>\n",
              "      <th>Flow IAT Max</th>\n",
              "      <th>Flow IAT Min</th>\n",
              "      <th>Fwd IAT Total</th>\n",
              "      <th>Fwd IAT Mean</th>\n",
              "      <th>Fwd IAT Max</th>\n",
              "      <th>Fwd Header Length</th>\n",
              "      <th>Fwd Packets/s</th>\n",
              "      <th>Min Packet Length</th>\n",
              "      <th>Max Packet Length</th>\n",
              "      <th>Packet Length Std</th>\n",
              "      <th>ACK Flag Count</th>\n",
              "      <th>Average Packet Size</th>\n",
              "      <th>Fwd Header Length.1</th>\n",
              "      <th>Subflow Fwd Bytes</th>\n",
              "      <th>Init_Win_bytes_forward</th>\n",
              "      <th>min_seg_size_forward</th>\n",
              "      <th>Label</th>\n",
              "    </tr>\n",
              "  </thead>\n",
              "  <tbody>\n",
              "    <tr>\n",
              "      <th>0</th>\n",
              "      <td>15931</td>\n",
              "      <td>17</td>\n",
              "      <td>1</td>\n",
              "      <td>2560.0</td>\n",
              "      <td>1280.0</td>\n",
              "      <td>1280.0</td>\n",
              "      <td>0.0</td>\n",
              "      <td>0.0</td>\n",
              "      <td>1.0</td>\n",
              "      <td>1.0</td>\n",
              "      <td>1.0</td>\n",
              "      <td>1.0</td>\n",
              "      <td>1.0</td>\n",
              "      <td>1.0</td>\n",
              "      <td>-2</td>\n",
              "      <td>2000000.0</td>\n",
              "      <td>1280.0</td>\n",
              "      <td>1280.0</td>\n",
              "      <td>0.0</td>\n",
              "      <td>0</td>\n",
              "      <td>1920.0</td>\n",
              "      <td>-2</td>\n",
              "      <td>2560</td>\n",
              "      <td>-1</td>\n",
              "      <td>-1</td>\n",
              "      <td>MSSQL</td>\n",
              "    </tr>\n",
              "    <tr>\n",
              "      <th>1</th>\n",
              "      <td>29997</td>\n",
              "      <td>17</td>\n",
              "      <td>0</td>\n",
              "      <td>816.0</td>\n",
              "      <td>408.0</td>\n",
              "      <td>408.0</td>\n",
              "      <td>0.0</td>\n",
              "      <td>0.0</td>\n",
              "      <td>0.0</td>\n",
              "      <td>0.0</td>\n",
              "      <td>0.0</td>\n",
              "      <td>0.0</td>\n",
              "      <td>0.0</td>\n",
              "      <td>0.0</td>\n",
              "      <td>-2</td>\n",
              "      <td>0.0</td>\n",
              "      <td>408.0</td>\n",
              "      <td>408.0</td>\n",
              "      <td>0.0</td>\n",
              "      <td>0</td>\n",
              "      <td>612.0</td>\n",
              "      <td>-2</td>\n",
              "      <td>816</td>\n",
              "      <td>-1</td>\n",
              "      <td>-1</td>\n",
              "      <td>MSSQL</td>\n",
              "    </tr>\n",
              "    <tr>\n",
              "      <th>2</th>\n",
              "      <td>29887</td>\n",
              "      <td>17</td>\n",
              "      <td>1</td>\n",
              "      <td>810.0</td>\n",
              "      <td>405.0</td>\n",
              "      <td>405.0</td>\n",
              "      <td>0.0</td>\n",
              "      <td>0.0</td>\n",
              "      <td>1.0</td>\n",
              "      <td>1.0</td>\n",
              "      <td>1.0</td>\n",
              "      <td>1.0</td>\n",
              "      <td>1.0</td>\n",
              "      <td>1.0</td>\n",
              "      <td>-2</td>\n",
              "      <td>2000000.0</td>\n",
              "      <td>405.0</td>\n",
              "      <td>405.0</td>\n",
              "      <td>0.0</td>\n",
              "      <td>0</td>\n",
              "      <td>607.5</td>\n",
              "      <td>-2</td>\n",
              "      <td>810</td>\n",
              "      <td>-1</td>\n",
              "      <td>-1</td>\n",
              "      <td>MSSQL</td>\n",
              "    </tr>\n",
              "    <tr>\n",
              "      <th>3</th>\n",
              "      <td>7393</td>\n",
              "      <td>17</td>\n",
              "      <td>1</td>\n",
              "      <td>852.0</td>\n",
              "      <td>426.0</td>\n",
              "      <td>426.0</td>\n",
              "      <td>0.0</td>\n",
              "      <td>0.0</td>\n",
              "      <td>1.0</td>\n",
              "      <td>1.0</td>\n",
              "      <td>1.0</td>\n",
              "      <td>1.0</td>\n",
              "      <td>1.0</td>\n",
              "      <td>1.0</td>\n",
              "      <td>-2</td>\n",
              "      <td>2000000.0</td>\n",
              "      <td>426.0</td>\n",
              "      <td>426.0</td>\n",
              "      <td>0.0</td>\n",
              "      <td>0</td>\n",
              "      <td>639.0</td>\n",
              "      <td>-2</td>\n",
              "      <td>852</td>\n",
              "      <td>-1</td>\n",
              "      <td>-1</td>\n",
              "      <td>MSSQL</td>\n",
              "    </tr>\n",
              "    <tr>\n",
              "      <th>4</th>\n",
              "      <td>57957</td>\n",
              "      <td>17</td>\n",
              "      <td>1</td>\n",
              "      <td>1240.0</td>\n",
              "      <td>620.0</td>\n",
              "      <td>620.0</td>\n",
              "      <td>0.0</td>\n",
              "      <td>0.0</td>\n",
              "      <td>1.0</td>\n",
              "      <td>1.0</td>\n",
              "      <td>1.0</td>\n",
              "      <td>1.0</td>\n",
              "      <td>1.0</td>\n",
              "      <td>1.0</td>\n",
              "      <td>-2</td>\n",
              "      <td>2000000.0</td>\n",
              "      <td>620.0</td>\n",
              "      <td>620.0</td>\n",
              "      <td>0.0</td>\n",
              "      <td>0</td>\n",
              "      <td>930.0</td>\n",
              "      <td>-2</td>\n",
              "      <td>1240</td>\n",
              "      <td>-1</td>\n",
              "      <td>-1</td>\n",
              "      <td>MSSQL</td>\n",
              "    </tr>\n",
              "  </tbody>\n",
              "</table>\n",
              "</div>"
            ],
            "text/plain": [
              "    Destination Port   Protocol  ...   min_seg_size_forward   Label\n",
              "0              15931         17  ...                     -1   MSSQL\n",
              "1              29997         17  ...                     -1   MSSQL\n",
              "2              29887         17  ...                     -1   MSSQL\n",
              "3               7393         17  ...                     -1   MSSQL\n",
              "4              57957         17  ...                     -1   MSSQL\n",
              "\n",
              "[5 rows x 26 columns]"
            ]
          },
          "metadata": {
            "tags": []
          },
          "execution_count": 10
        }
      ]
    },
    {
      "cell_type": "markdown",
      "metadata": {
        "id": "SjL55RmrmNhs",
        "colab_type": "text"
      },
      "source": [
        "**Shape of the Clean Dataset**"
      ]
    },
    {
      "cell_type": "code",
      "metadata": {
        "id": "l6FKV5IkW9rP",
        "colab_type": "code",
        "outputId": "dbe3fd26-89ab-4e9a-e4fb-00f035ca76e8",
        "colab": {
          "base_uri": "https://localhost:8080/",
          "height": 34
        }
      },
      "source": [
        "data.shape"
      ],
      "execution_count": 11,
      "outputs": [
        {
          "output_type": "execute_result",
          "data": {
            "text/plain": [
              "(3782206, 26)"
            ]
          },
          "metadata": {
            "tags": []
          },
          "execution_count": 11
        }
      ]
    },
    {
      "cell_type": "markdown",
      "metadata": {
        "id": "e0Akv1y0mR9o",
        "colab_type": "text"
      },
      "source": [
        "**Check any Column have empty space**"
      ]
    },
    {
      "cell_type": "code",
      "metadata": {
        "id": "efcN8lUCXgmu",
        "colab_type": "code",
        "outputId": "9868774c-4ad9-4483-acf8-46ab6d53ab1e",
        "colab": {
          "base_uri": "https://localhost:8080/",
          "height": 476
        }
      },
      "source": [
        "data.isnull().sum()"
      ],
      "execution_count": 12,
      "outputs": [
        {
          "output_type": "execute_result",
          "data": {
            "text/plain": [
              " Destination Port              0\n",
              " Protocol                      0\n",
              " Flow Duration                 0\n",
              "Total Length of Fwd Packets    0\n",
              " Fwd Packet Length Max         0\n",
              " Fwd Packet Length Min         0\n",
              " Fwd Packet Length Std         0\n",
              " Bwd Packet Length Std         0\n",
              " Flow IAT Mean                 0\n",
              " Flow IAT Max                  0\n",
              " Flow IAT Min                  0\n",
              "Fwd IAT Total                  0\n",
              " Fwd IAT Mean                  0\n",
              " Fwd IAT Max                   0\n",
              " Fwd Header Length             0\n",
              "Fwd Packets/s                  0\n",
              " Min Packet Length             0\n",
              " Max Packet Length             0\n",
              " Packet Length Std             0\n",
              " ACK Flag Count                0\n",
              " Average Packet Size           0\n",
              " Fwd Header Length.1           0\n",
              " Subflow Fwd Bytes             0\n",
              "Init_Win_bytes_forward         0\n",
              " min_seg_size_forward          0\n",
              " Label                         0\n",
              "dtype: int64"
            ]
          },
          "metadata": {
            "tags": []
          },
          "execution_count": 12
        }
      ]
    },
    {
      "cell_type": "markdown",
      "metadata": {
        "id": "Nfs3Q7q6mfgw",
        "colab_type": "text"
      },
      "source": [
        "**Here no column have the empty space of NULL values all columns are the full**"
      ]
    },
    {
      "cell_type": "markdown",
      "metadata": {
        "id": "cTdc8OdZmfej",
        "colab_type": "text"
      },
      "source": [
        "**This we check the Object datatype column in the dataset**"
      ]
    },
    {
      "cell_type": "code",
      "metadata": {
        "id": "Ouej7mvTXoeb",
        "colab_type": "code",
        "outputId": "bb637a5f-77f7-4082-b042-c4f99924eac4",
        "colab": {
          "base_uri": "https://localhost:8080/",
          "height": 34
        }
      },
      "source": [
        "for i in data.columns:\n",
        "    if(data[i].dtype == np.object):\n",
        "        print(i)"
      ],
      "execution_count": 13,
      "outputs": [
        {
          "output_type": "stream",
          "text": [
            " Label\n"
          ],
          "name": "stdout"
        }
      ]
    },
    {
      "cell_type": "markdown",
      "metadata": {
        "id": "qgpUeJkHmkaG",
        "colab_type": "text"
      },
      "source": [
        "**Divide the data into two parts in X and Y**"
      ]
    },
    {
      "cell_type": "code",
      "metadata": {
        "id": "OWQMSwkcXvU-",
        "colab_type": "code",
        "outputId": "1c7dbc3e-f748-429f-c54a-037de02743c6",
        "colab": {
          "base_uri": "https://localhost:8080/",
          "height": 527
        }
      },
      "source": [
        "y = data[' Label']\n",
        "x = data.drop([' Label'],axis=1)\n",
        "\n",
        "print(\"\\n<<====================== X ================================>>\\n\",x)\n",
        "print(\"\\n<<====================== Y ================================>>\\n\",y)"
      ],
      "execution_count": 14,
      "outputs": [
        {
          "output_type": "stream",
          "text": [
            "\n",
            "<<====================== X ================================>>\n",
            "           Destination Port  ...   min_seg_size_forward\n",
            "0                    15931  ...                     -1\n",
            "1                    29997  ...                     -1\n",
            "2                    29887  ...                     -1\n",
            "3                     7393  ...                     -1\n",
            "4                    57957  ...                     -1\n",
            "...                    ...  ...                    ...\n",
            "3782201              39817  ...                      0\n",
            "3782202              36358  ...                      0\n",
            "3782203              40307  ...                      0\n",
            "3782204              43637  ...                      0\n",
            "3782205              20186  ...                      0\n",
            "\n",
            "[3782206 rows x 25 columns]\n",
            "\n",
            "<<====================== Y ================================>>\n",
            " 0          MSSQL\n",
            "1          MSSQL\n",
            "2          MSSQL\n",
            "3          MSSQL\n",
            "4          MSSQL\n",
            "           ...  \n",
            "3782201      UDP\n",
            "3782202      UDP\n",
            "3782203      UDP\n",
            "3782204      UDP\n",
            "3782205      UDP\n",
            "Name:  Label, Length: 3782206, dtype: object\n"
          ],
          "name": "stdout"
        }
      ]
    },
    {
      "cell_type": "markdown",
      "metadata": {
        "id": "Z3vlThocmp9V",
        "colab_type": "text"
      },
      "source": [
        "**Split the dataset into the x_train, x_test, y_train, y_test**\n",
        "\n",
        "**Split Ratio into Test and train is 30:70 means that 30% of the total data is goes for the test and 70% of the total data is goes for the training.**"
      ]
    },
    {
      "cell_type": "code",
      "metadata": {
        "id": "oNCg4zlnDAe9",
        "colab_type": "code",
        "outputId": "b68481d0-a145-4bfa-d4e1-bb101e5f068d",
        "colab": {
          "base_uri": "https://localhost:8080/",
          "height": 221
        }
      },
      "source": [
        "#split data into training and testing\n",
        "from sklearn.model_selection import train_test_split\n",
        "x_train,x_test,y_train,y_test=train_test_split(x,y,\n",
        "                                               test_size=0.30,\n",
        "                                               random_state=42)\n",
        "print(\"\\n<<======== X_Train ========>>\\n\",x_train.shape)\n",
        "print(\"\\n<<======== X_Train ========>>\\n\",y_train.shape)\n",
        "print(\"\\n<<======== X_Test ========>>\\n\",x_test.shape)\n",
        "print(\"\\n<<======== Y_Test ========>>\\n\",y_test.shape)"
      ],
      "execution_count": 15,
      "outputs": [
        {
          "output_type": "stream",
          "text": [
            "\n",
            "<<======== X_Train ========>>\n",
            " (2647544, 25)\n",
            "\n",
            "<<======== X_Train ========>>\n",
            " (2647544,)\n",
            "\n",
            "<<======== X_Test ========>>\n",
            " (1134662, 25)\n",
            "\n",
            "<<======== Y_Test ========>>\n",
            " (1134662,)\n"
          ],
          "name": "stdout"
        }
      ]
    },
    {
      "cell_type": "markdown",
      "metadata": {
        "id": "agKxJi3wDG1d",
        "colab_type": "text"
      },
      "source": [
        "#**LOGISTIC REGRESSION**"
      ]
    },
    {
      "cell_type": "markdown",
      "metadata": {
        "id": "Spaj1PsTmsOB",
        "colab_type": "text"
      },
      "source": [
        "**Fiting the model in the Logistic Regression Algorithm**"
      ]
    },
    {
      "cell_type": "code",
      "metadata": {
        "id": "-lVRHpsrDGOH",
        "colab_type": "code",
        "outputId": "4266de68-b86f-425e-e9af-fcffc5069537",
        "colab": {
          "base_uri": "https://localhost:8080/",
          "height": 258
        }
      },
      "source": [
        "#fitting the logistic regression model\n",
        "from sklearn.linear_model import LogisticRegression\n",
        "classifier = LogisticRegression( random_state = 0)\n",
        "classifier.fit(x_train, y_train)"
      ],
      "execution_count": 16,
      "outputs": [
        {
          "output_type": "stream",
          "text": [
            "/usr/local/lib/python3.6/dist-packages/sklearn/linear_model/_logistic.py:940: ConvergenceWarning: lbfgs failed to converge (status=1):\n",
            "STOP: TOTAL NO. of ITERATIONS REACHED LIMIT.\n",
            "\n",
            "Increase the number of iterations (max_iter) or scale the data as shown in:\n",
            "    https://scikit-learn.org/stable/modules/preprocessing.html\n",
            "Please also refer to the documentation for alternative solver options:\n",
            "    https://scikit-learn.org/stable/modules/linear_model.html#logistic-regression\n",
            "  extra_warning_msg=_LOGISTIC_SOLVER_CONVERGENCE_MSG)\n"
          ],
          "name": "stderr"
        },
        {
          "output_type": "execute_result",
          "data": {
            "text/plain": [
              "LogisticRegression(C=1.0, class_weight=None, dual=False, fit_intercept=True,\n",
              "                   intercept_scaling=1, l1_ratio=None, max_iter=100,\n",
              "                   multi_class='auto', n_jobs=None, penalty='l2',\n",
              "                   random_state=0, solver='lbfgs', tol=0.0001, verbose=0,\n",
              "                   warm_start=False)"
            ]
          },
          "metadata": {
            "tags": []
          },
          "execution_count": 16
        }
      ]
    },
    {
      "cell_type": "code",
      "metadata": {
        "id": "kWvDIHgEDRLO",
        "colab_type": "code",
        "outputId": "51f9d981-0eb9-4d7e-992f-517fc99b2ca2",
        "colab": {
          "base_uri": "https://localhost:8080/",
          "height": 34
        }
      },
      "source": [
        "#predicting the test result\n",
        "y_pred = classifier.predict(x_test)\n",
        "print(y_pred)"
      ],
      "execution_count": 17,
      "outputs": [
        {
          "output_type": "stream",
          "text": [
            "['UDP' 'UDP' 'UDP' ... 'UDP' 'UDP' 'UDP']\n"
          ],
          "name": "stdout"
        }
      ]
    },
    {
      "cell_type": "markdown",
      "metadata": {
        "id": "dHuyGogimzlv",
        "colab_type": "text"
      },
      "source": [
        "**Confusion Matrix of the Logisitic Regression**"
      ]
    },
    {
      "cell_type": "code",
      "metadata": {
        "id": "01Jjgn-PDU8O",
        "colab_type": "code",
        "outputId": "d3dee6d5-6b75-40c7-9db7-db3e5c1acb97",
        "colab": {
          "base_uri": "https://localhost:8080/",
          "height": 102
        }
      },
      "source": [
        "#checking the accuracy of model\n",
        "\n",
        "from sklearn.metrics import confusion_matrix, accuracy_score, classification_report\n",
        "cfm = confusion_matrix(y_test, y_pred)\n",
        "print(\"\\n<<================= Confusion Matrix ======================>> \\n\",cfm)"
      ],
      "execution_count": 18,
      "outputs": [
        {
          "output_type": "stream",
          "text": [
            "\n",
            "<<================= Confusion Matrix ======================>> \n",
            " [[     10       0     943]\n",
            " [      0       0    7173]\n",
            " [     16       1 1126519]]\n"
          ],
          "name": "stdout"
        }
      ]
    },
    {
      "cell_type": "markdown",
      "metadata": {
        "id": "_r1v0XqGm2JK",
        "colab_type": "text"
      },
      "source": [
        "**Classification Report of the Logistic Regeression**"
      ]
    },
    {
      "cell_type": "code",
      "metadata": {
        "id": "sbYRSIZTDdHT",
        "colab_type": "code",
        "outputId": "7bc853e3-c64d-4c35-c27f-3ff780195aab",
        "colab": {
          "base_uri": "https://localhost:8080/",
          "height": 238
        }
      },
      "source": [
        "## Classification Report\n",
        "\n",
        "print(\"\\n<<==================== Calssification Report ====================>>\\n\")\n",
        "\n",
        "print (classification_report(y_test, y_pred))"
      ],
      "execution_count": 19,
      "outputs": [
        {
          "output_type": "stream",
          "text": [
            "\n",
            "<<==================== Calssification Report ====================>>\n",
            "\n",
            "              precision    recall  f1-score   support\n",
            "\n",
            "      BENIGN       0.38      0.01      0.02       953\n",
            "       MSSQL       0.00      0.00      0.00      7173\n",
            "         UDP       0.99      1.00      1.00   1126536\n",
            "\n",
            "    accuracy                           0.99   1134662\n",
            "   macro avg       0.46      0.34      0.34   1134662\n",
            "weighted avg       0.99      0.99      0.99   1134662\n",
            "\n"
          ],
          "name": "stdout"
        }
      ]
    },
    {
      "cell_type": "markdown",
      "metadata": {
        "id": "tZi1Femmm7wg",
        "colab_type": "text"
      },
      "source": [
        "**Accuracy of the Logistic Regression**"
      ]
    },
    {
      "cell_type": "code",
      "metadata": {
        "id": "CE1l2kRcD08-",
        "colab_type": "code",
        "outputId": "6d568fc9-2743-41fa-f612-b93f81446178",
        "colab": {
          "base_uri": "https://localhost:8080/",
          "height": 88
        }
      },
      "source": [
        "## Accuracy Of The Model In the Linear Regression Algo\n",
        "acc = accuracy_score(y_test, y_pred)\n",
        "print ('\\n<<================================ Accuracy Of the Model in LR Algo ================================>>\\n', acc*100)"
      ],
      "execution_count": 20,
      "outputs": [
        {
          "output_type": "stream",
          "text": [
            "\n",
            "<<================================ Accuracy Of the Model in LR Algo ================================>>\n",
            " 99.2832226689534\n"
          ],
          "name": "stdout"
        }
      ]
    },
    {
      "cell_type": "code",
      "metadata": {
        "id": "--7iGT4sWGAc",
        "colab_type": "code",
        "outputId": "9102b339-4ab9-44df-fc78-f30dfb10bc1c",
        "colab": {
          "base_uri": "https://localhost:8080/",
          "height": 51
        }
      },
      "source": [
        "############ \n",
        "from sklearn.metrics import accuracy_score\n",
        "print(\"Model Accuracy is : \\n \",accuracy_score(y_test,y_pred))"
      ],
      "execution_count": 21,
      "outputs": [
        {
          "output_type": "stream",
          "text": [
            "Model Accuracy is : \n",
            "  0.992832226689534\n"
          ],
          "name": "stdout"
        }
      ]
    },
    {
      "cell_type": "code",
      "metadata": {
        "id": "0HVKEZw6WQAK",
        "colab_type": "code",
        "outputId": "aeb4800d-e8bb-4183-a9d1-d3da4ff71426",
        "colab": {
          "base_uri": "https://localhost:8080/",
          "height": 323
        }
      },
      "source": [
        "from sklearn.metrics import classification_report\n",
        "from sklearn.metrics import confusion_matrix\n",
        "\n",
        "print(classification_report(y_test,y_pred))\n",
        "print(\"\\n\\n <<===================================>> \\n\\n\")\n",
        "print(confusion_matrix(y_test,y_pred))"
      ],
      "execution_count": 22,
      "outputs": [
        {
          "output_type": "stream",
          "text": [
            "              precision    recall  f1-score   support\n",
            "\n",
            "      BENIGN       0.38      0.01      0.02       953\n",
            "       MSSQL       0.00      0.00      0.00      7173\n",
            "         UDP       0.99      1.00      1.00   1126536\n",
            "\n",
            "    accuracy                           0.99   1134662\n",
            "   macro avg       0.46      0.34      0.34   1134662\n",
            "weighted avg       0.99      0.99      0.99   1134662\n",
            "\n",
            "\n",
            "\n",
            " <<===================================>> \n",
            "\n",
            "\n",
            "[[     10       0     943]\n",
            " [      0       0    7173]\n",
            " [     16       1 1126519]]\n"
          ],
          "name": "stdout"
        }
      ]
    },
    {
      "cell_type": "markdown",
      "metadata": {
        "id": "b7UNTsIrPIJ-",
        "colab_type": "text"
      },
      "source": [
        "#**NAIVE BAYES ALGORITHM**"
      ]
    },
    {
      "cell_type": "markdown",
      "metadata": {
        "id": "-OxE9tInm_L-",
        "colab_type": "text"
      },
      "source": [
        "**Fiting the Model into the Navie Bayes Algorithm**"
      ]
    },
    {
      "cell_type": "code",
      "metadata": {
        "id": "ClfId6FCW1k9",
        "colab_type": "code",
        "outputId": "37b7bd9a-0d16-42ef-fd8c-0936e7438279",
        "colab": {
          "base_uri": "https://localhost:8080/",
          "height": 34
        }
      },
      "source": [
        "############ now we solve naive Bayes algo\n",
        "from sklearn.naive_bayes import GaussianNB\n",
        "classifier = GaussianNB()\n",
        "## model fit on x,y data\n",
        "classifier.fit(x,y)"
      ],
      "execution_count": 23,
      "outputs": [
        {
          "output_type": "execute_result",
          "data": {
            "text/plain": [
              "GaussianNB(priors=None, var_smoothing=1e-09)"
            ]
          },
          "metadata": {
            "tags": []
          },
          "execution_count": 23
        }
      ]
    },
    {
      "cell_type": "code",
      "metadata": {
        "id": "Zuh3qsosXfBZ",
        "colab_type": "code",
        "outputId": "a244b48d-c8e4-4735-fa48-d4697ab0ad21",
        "colab": {
          "base_uri": "https://localhost:8080/",
          "height": 34
        }
      },
      "source": [
        "#predicting the test result\n",
        "y_pred = classifier.predict(x)\n",
        "print(y_pred)"
      ],
      "execution_count": 24,
      "outputs": [
        {
          "output_type": "stream",
          "text": [
            "['UDP' 'UDP' 'UDP' ... 'UDP' 'UDP' 'UDP']\n"
          ],
          "name": "stdout"
        }
      ]
    },
    {
      "cell_type": "markdown",
      "metadata": {
        "id": "ieEBnCX8nGhl",
        "colab_type": "text"
      },
      "source": [
        "**Confusion Matrix of the Naive Bayes Algorithm**"
      ]
    },
    {
      "cell_type": "code",
      "metadata": {
        "id": "3b6ZLYpkXiZk",
        "colab_type": "code",
        "outputId": "304e73ef-849a-455c-e310-d38cc7fbc433",
        "colab": {
          "base_uri": "https://localhost:8080/",
          "height": 102
        }
      },
      "source": [
        "#checking the accuracy of model\n",
        "\n",
        "from sklearn.metrics import confusion_matrix, accuracy_score, classification_report\n",
        "cfm = confusion_matrix(y, y_pred)\n",
        "print(\"\\n<<================= Confusion Matrix ======================>> \\n\",cfm)"
      ],
      "execution_count": 25,
      "outputs": [
        {
          "output_type": "stream",
          "text": [
            "\n",
            "<<================= Confusion Matrix ======================>> \n",
            " [[    593     114    2427]\n",
            " [     44       4   24344]\n",
            " [     31   63226 3691423]]\n"
          ],
          "name": "stdout"
        }
      ]
    },
    {
      "cell_type": "markdown",
      "metadata": {
        "id": "4rNJl1sJnJwp",
        "colab_type": "text"
      },
      "source": [
        "**Classification Report of the Naive Bayes Algorithm**"
      ]
    },
    {
      "cell_type": "code",
      "metadata": {
        "id": "LjZFRBupXl0R",
        "colab_type": "code",
        "outputId": "6dc4aec0-75e8-43ce-952f-eb882fd6910d",
        "colab": {
          "base_uri": "https://localhost:8080/",
          "height": 238
        }
      },
      "source": [
        "## Classification Report\n",
        "\n",
        "print(\"\\n<<==================== Calssification Report ====================>>\\n\")\n",
        "\n",
        "print (classification_report(y, y_pred))"
      ],
      "execution_count": 26,
      "outputs": [
        {
          "output_type": "stream",
          "text": [
            "\n",
            "<<==================== Calssification Report ====================>>\n",
            "\n",
            "              precision    recall  f1-score   support\n",
            "\n",
            "      BENIGN       0.89      0.19      0.31      3134\n",
            "       MSSQL       0.00      0.00      0.00     24392\n",
            "         UDP       0.99      0.98      0.99   3754680\n",
            "\n",
            "    accuracy                           0.98   3782206\n",
            "   macro avg       0.63      0.39      0.43   3782206\n",
            "weighted avg       0.99      0.98      0.98   3782206\n",
            "\n"
          ],
          "name": "stdout"
        }
      ]
    },
    {
      "cell_type": "markdown",
      "metadata": {
        "id": "LOE7eYHlnPNn",
        "colab_type": "text"
      },
      "source": [
        "**Accuracy of the Naive Bayes Algorithm**"
      ]
    },
    {
      "cell_type": "code",
      "metadata": {
        "id": "HO-EsUOTXpeE",
        "colab_type": "code",
        "outputId": "c9043557-0d8a-4533-d3b5-5bd68a1cd9f6",
        "colab": {
          "base_uri": "https://localhost:8080/",
          "height": 88
        }
      },
      "source": [
        "## Accuracy Of The Model In the Linear Regression Algo\n",
        "acc = accuracy_score(y, y_pred)\n",
        "print ('\\n<<================================ Accuracy Of the Model in LR Algo ================================>>\\n', acc)"
      ],
      "execution_count": 27,
      "outputs": [
        {
          "output_type": "stream",
          "text": [
            "\n",
            "<<================================ Accuracy Of the Model in LR Algo ================================>>\n",
            " 0.9761551856244742\n"
          ],
          "name": "stdout"
        }
      ]
    },
    {
      "cell_type": "markdown",
      "metadata": {
        "id": "x-9VaiYaiRoR",
        "colab_type": "text"
      },
      "source": [
        "#**KNN ALGORITHM**"
      ]
    },
    {
      "cell_type": "markdown",
      "metadata": {
        "id": "bWo-Kj9InTi5",
        "colab_type": "text"
      },
      "source": [
        "**Label Encoding of the Label Column in the Dataset becasuse its dtype is Object**"
      ]
    },
    {
      "cell_type": "code",
      "metadata": {
        "id": "xxDpweR5mlch",
        "colab_type": "code",
        "colab": {}
      },
      "source": [
        "## Label Encoding\n",
        "from sklearn.preprocessing import LabelEncoder\n",
        "le = LabelEncoder()\n",
        "y_train= le.fit_transform(y_train)\n",
        "y_test= le.fit_transform(y_test)"
      ],
      "execution_count": 0,
      "outputs": []
    },
    {
      "cell_type": "markdown",
      "metadata": {
        "id": "6vODgiUynWD9",
        "colab_type": "text"
      },
      "source": [
        "**Fiting the Model in the KNN Algorithm**"
      ]
    },
    {
      "cell_type": "code",
      "metadata": {
        "id": "OuNHehZYdfL7",
        "colab_type": "code",
        "outputId": "ca371b8b-69ff-41f9-bf5d-baa0e270f14e",
        "colab": {
          "base_uri": "https://localhost:8080/",
          "height": 88
        }
      },
      "source": [
        "from sklearn.neighbors import  KNeighborsClassifier\n",
        "model = KNeighborsClassifier(n_neighbors=100)\n",
        "\n",
        "model.fit(x_train,y_train)"
      ],
      "execution_count": 30,
      "outputs": [
        {
          "output_type": "execute_result",
          "data": {
            "text/plain": [
              "KNeighborsClassifier(algorithm='auto', leaf_size=30, metric='minkowski',\n",
              "                     metric_params=None, n_jobs=None, n_neighbors=100, p=2,\n",
              "                     weights='uniform')"
            ]
          },
          "metadata": {
            "tags": []
          },
          "execution_count": 30
        }
      ]
    },
    {
      "cell_type": "code",
      "metadata": {
        "id": "hg-_qQKthhXV",
        "colab_type": "code",
        "outputId": "c32a3969-05a2-47d2-e63e-5b2aefeaae89",
        "colab": {
          "base_uri": "https://localhost:8080/",
          "height": 34
        }
      },
      "source": [
        "THRESHOLD = 0.67\n",
        "\n",
        "import numpy as np\n",
        "\n",
        "y_pred = np.where(model.predict_proba(x_test)[:,1] > THRESHOLD, 1,0)\n",
        "\n",
        "#Print(model.predict_proba(x_test))\n",
        "#model test and take y_pred value\n",
        "\n",
        "print(y_pred)"
      ],
      "execution_count": 32,
      "outputs": [
        {
          "output_type": "stream",
          "text": [
            "[0 0 0 ... 0 0 0]\n"
          ],
          "name": "stdout"
        }
      ]
    },
    {
      "cell_type": "markdown",
      "metadata": {
        "id": "_lP6jXaunczu",
        "colab_type": "text"
      },
      "source": [
        "**Accuracy and Classification Report of the KNN Algorithn**"
      ]
    },
    {
      "cell_type": "code",
      "metadata": {
        "id": "UPuzBJNJkEJ_",
        "colab_type": "code",
        "outputId": "ac8a8727-6b07-4387-990e-b684bd28ef71",
        "colab": {
          "base_uri": "https://localhost:8080/",
          "height": 564
        }
      },
      "source": [
        "##################\n",
        "\n",
        "from sklearn.metrics import accuracy_score\n",
        "print(\"Model Accuracy is : \\n \", accuracy_score(y_test,y_pred))\n",
        "\n",
        "from sklearn.metrics import classification_report\n",
        "from sklearn.metrics import confusion_matrix\n",
        "print(\"\\n\\n <<===================================>> \\n\\n\")\n",
        "print(\"\\t CLASSIFICATION REPORT \\n\")\n",
        "print(classification_report(y_test,y_pred))\n",
        "print(\"\\n\\n <<===================================>> \\n\\n\")\n",
        "print(\"Confusion Matrix \\n \")\n",
        "print(confusion_matrix(y_test,y_pred))"
      ],
      "execution_count": 33,
      "outputs": [
        {
          "output_type": "stream",
          "text": [
            "Model Accuracy is : \n",
            "  0.0011809684293648682\n",
            "\n",
            "\n",
            " <<===================================>> \n",
            "\n",
            "\n",
            "\t CLASSIFICATION REPORT \n",
            "\n"
          ],
          "name": "stdout"
        },
        {
          "output_type": "stream",
          "text": [
            "/usr/local/lib/python3.6/dist-packages/sklearn/metrics/_classification.py:1272: UndefinedMetricWarning: Precision and F-score are ill-defined and being set to 0.0 in labels with no predicted samples. Use `zero_division` parameter to control this behavior.\n",
            "  _warn_prf(average, modifier, msg_start, len(result))\n"
          ],
          "name": "stderr"
        },
        {
          "output_type": "stream",
          "text": [
            "              precision    recall  f1-score   support\n",
            "\n",
            "           0       0.00      1.00      0.00       953\n",
            "           1       0.97      0.05      0.10      7173\n",
            "           2       0.00      0.00      0.00   1126536\n",
            "\n",
            "    accuracy                           0.00   1134662\n",
            "   macro avg       0.33      0.35      0.03   1134662\n",
            "weighted avg       0.01      0.00      0.00   1134662\n",
            "\n",
            "\n",
            "\n",
            " <<===================================>> \n",
            "\n",
            "\n",
            "Confusion Matrix \n",
            " \n",
            "[[    953       0       0]\n",
            " [   6786     387       0]\n",
            " [1126526      10       0]]\n"
          ],
          "name": "stdout"
        }
      ]
    },
    {
      "cell_type": "markdown",
      "metadata": {
        "id": "PNt3pBe8nfgb",
        "colab_type": "text"
      },
      "source": [
        "**Comparision of the Accuracies of the**\n",
        "\n",
        "**1.   Logistic Regression**\n",
        "\n",
        "**2.   KNN Algorithm**\n",
        "\n",
        "**3.   Naive Bayes Algorithm**\n"
      ]
    },
    {
      "cell_type": "code",
      "metadata": {
        "id": "A6aJ4lP6oki2",
        "colab_type": "code",
        "outputId": "6e79eec2-3942-4040-aa61-6cb143d1633e",
        "colab": {
          "base_uri": "https://localhost:8080/",
          "height": 319
        }
      },
      "source": [
        "accu_LR =   0.992832226689534*100\n",
        "accu_KNN =  0.0011809684293648682*100\n",
        "accu_NB =   0.9761551856244742*100\n",
        "\n",
        "import matplotlib.pyplot as plt\n",
        "import matplotlib as pl\n",
        "import seaborn as sns\n",
        "y=[accu_LR,accu_KNN,accu_NB]\n",
        "x=[\"Logistic\",\"KNN\",\"NB\"]\n",
        "c=[\"red\",\"blue\",\"green\"]\n",
        "plt.bar(x,y,color=c)\n",
        "plt.show()"
      ],
      "execution_count": 1,
      "outputs": [
        {
          "output_type": "stream",
          "text": [
            "/usr/local/lib/python3.6/dist-packages/statsmodels/tools/_testing.py:19: FutureWarning: pandas.util.testing is deprecated. Use the functions in the public API at pandas.testing instead.\n",
            "  import pandas.util.testing as tm\n"
          ],
          "name": "stderr"
        },
        {
          "output_type": "display_data",
          "data": {
            "image/png": "[encoded data removed]",
            "text/plain": [
              "<Figure size 432x288 with 1 Axes>"
            ]
          },
          "metadata": {
            "tags": [],
            "needs_background": "light"
          }
        }
      ]
    }
  ]
}