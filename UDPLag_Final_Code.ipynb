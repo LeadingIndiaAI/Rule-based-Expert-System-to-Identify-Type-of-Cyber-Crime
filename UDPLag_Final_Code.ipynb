{
  "nbformat": 4,
  "nbformat_minor": 0,
  "metadata": {
    "colab": {
      "name": "UDPLag_Final_Code.ipynb",
      "provenance": [],
      "collapsed_sections": [],
      "include_colab_link": true
    },
    "kernelspec": {
      "name": "python3",
      "display_name": "Python 3"
    }
  },
  "cells": [
    {
      "cell_type": "markdown",
      "metadata": {
        "id": "view-in-github",
        "colab_type": "text"
      },
      "source": [
        "<a href=\"https://colab.research.google.com/github/khagendra1998/A-rule-based-expert-system-to-identify-the-type-of-cybercrime/blob/master/UDPLag_Final_Code.ipynb\" target=\"_parent\"><img src=\"https://colab.research.google.com/assets/colab-badge.svg\" alt=\"Open In Colab\"/></a>"
      ]
    },
    {
      "cell_type": "markdown",
      "metadata": {
        "id": "WLprYqMGigKa",
        "colab_type": "text"
      },
      "source": [
        "#**UDP Dataset**"
      ]
    },
    {
      "cell_type": "markdown",
      "metadata": {
        "id": "g4VcVxuElwO2",
        "colab_type": "text"
      },
      "source": [
        "**Load the data from the google drive**"
      ]
    },
    {
      "cell_type": "code",
      "metadata": {
        "id": "X8VXK9VoQ-9R",
        "colab_type": "code",
        "outputId": "e24ee119-1090-42ec-8b59-19a1c8eab184",
        "colab": {
          "base_uri": "https://localhost:8080/",
          "height": 54
        }
      },
      "source": [
        "from google.colab import drive\n",
        "drive.mount('/content/drive')"
      ],
      "execution_count": 2,
      "outputs": [
        {
          "output_type": "stream",
          "text": [
            "Drive already mounted at /content/drive; to attempt to forcibly remount, call drive.mount(\"/content/drive\", force_remount=True).\n"
          ],
          "name": "stdout"
        }
      ]
    },
    {
      "cell_type": "code",
      "metadata": {
        "id": "Bbtik3o3C88e",
        "colab_type": "code",
        "colab": {
          "base_uri": "https://localhost:8080/",
          "height": 71
        },
        "outputId": "4d9e227b-fc2e-436a-a5e8-80b5844afdf2"
      },
      "source": [
        "import pandas as pd\n",
        "import numpy as np\n",
        "import matplotlib.pyplot as plt\n",
        "\n",
        "#Load the Data from CSV file\n",
        "\n",
        "data = pd.read_csv(\"/content/drive/My Drive/Datasets/UDPLag.csv\")"
      ],
      "execution_count": 3,
      "outputs": [
        {
          "output_type": "stream",
          "text": [
            "/usr/local/lib/python3.6/dist-packages/IPython/core/interactiveshell.py:2718: DtypeWarning: Columns (85) have mixed types.Specify dtype option on import or set low_memory=False.\n",
            "  interactivity=interactivity, compiler=compiler, result=result)\n"
          ],
          "name": "stderr"
        }
      ]
    },
    {
      "cell_type": "markdown",
      "metadata": {
        "id": "mO2GWxnmlzcK",
        "colab_type": "text"
      },
      "source": [
        "**Show the First Five rows of the Dataset**"
      ]
    },
    {
      "cell_type": "code",
      "metadata": {
        "id": "J3XSj4zBDjIO",
        "colab_type": "code",
        "colab": {
          "base_uri": "https://localhost:8080/",
          "height": 559
        },
        "outputId": "e72779f0-e5fa-4e8c-e929-73c8127750ef"
      },
      "source": [
        "data.head()"
      ],
      "execution_count": 4,
      "outputs": [
        {
          "output_type": "execute_result",
          "data": {
            "text/html": [
              "<div>\n",
              "<style scoped>\n",
              "    .dataframe tbody tr th:only-of-type {\n",
              "        vertical-align: middle;\n",
              "    }\n",
              "\n",
              "    .dataframe tbody tr th {\n",
              "        vertical-align: top;\n",
              "    }\n",
              "\n",
              "    .dataframe thead th {\n",
              "        text-align: right;\n",
              "    }\n",
              "</style>\n",
              "<table border=\"1\" class=\"dataframe\">\n",
              "  <thead>\n",
              "    <tr style=\"text-align: right;\">\n",
              "      <th></th>\n",
              "      <th>Unnamed: 0</th>\n",
              "      <th>Flow ID</th>\n",
              "      <th>Source IP</th>\n",
              "      <th>Source Port</th>\n",
              "      <th>Destination IP</th>\n",
              "      <th>Destination Port</th>\n",
              "      <th>Protocol</th>\n",
              "      <th>Timestamp</th>\n",
              "      <th>Flow Duration</th>\n",
              "      <th>Total Fwd Packets</th>\n",
              "      <th>Total Backward Packets</th>\n",
              "      <th>Total Length of Fwd Packets</th>\n",
              "      <th>Total Length of Bwd Packets</th>\n",
              "      <th>Fwd Packet Length Max</th>\n",
              "      <th>Fwd Packet Length Min</th>\n",
              "      <th>Fwd Packet Length Mean</th>\n",
              "      <th>Fwd Packet Length Std</th>\n",
              "      <th>Bwd Packet Length Max</th>\n",
              "      <th>Bwd Packet Length Min</th>\n",
              "      <th>Bwd Packet Length Mean</th>\n",
              "      <th>Bwd Packet Length Std</th>\n",
              "      <th>Flow Bytes/s</th>\n",
              "      <th>Flow Packets/s</th>\n",
              "      <th>Flow IAT Mean</th>\n",
              "      <th>Flow IAT Std</th>\n",
              "      <th>Flow IAT Max</th>\n",
              "      <th>Flow IAT Min</th>\n",
              "      <th>Fwd IAT Total</th>\n",
              "      <th>Fwd IAT Mean</th>\n",
              "      <th>Fwd IAT Std</th>\n",
              "      <th>Fwd IAT Max</th>\n",
              "      <th>Fwd IAT Min</th>\n",
              "      <th>Bwd IAT Total</th>\n",
              "      <th>Bwd IAT Mean</th>\n",
              "      <th>Bwd IAT Std</th>\n",
              "      <th>Bwd IAT Max</th>\n",
              "      <th>Bwd IAT Min</th>\n",
              "      <th>Fwd PSH Flags</th>\n",
              "      <th>Bwd PSH Flags</th>\n",
              "      <th>Fwd URG Flags</th>\n",
              "      <th>...</th>\n",
              "      <th>Packet Length Std</th>\n",
              "      <th>Packet Length Variance</th>\n",
              "      <th>FIN Flag Count</th>\n",
              "      <th>SYN Flag Count</th>\n",
              "      <th>RST Flag Count</th>\n",
              "      <th>PSH Flag Count</th>\n",
              "      <th>ACK Flag Count</th>\n",
              "      <th>URG Flag Count</th>\n",
              "      <th>CWE Flag Count</th>\n",
              "      <th>ECE Flag Count</th>\n",
              "      <th>Down/Up Ratio</th>\n",
              "      <th>Average Packet Size</th>\n",
              "      <th>Avg Fwd Segment Size</th>\n",
              "      <th>Avg Bwd Segment Size</th>\n",
              "      <th>Fwd Header Length.1</th>\n",
              "      <th>Fwd Avg Bytes/Bulk</th>\n",
              "      <th>Fwd Avg Packets/Bulk</th>\n",
              "      <th>Fwd Avg Bulk Rate</th>\n",
              "      <th>Bwd Avg Bytes/Bulk</th>\n",
              "      <th>Bwd Avg Packets/Bulk</th>\n",
              "      <th>Bwd Avg Bulk Rate</th>\n",
              "      <th>Subflow Fwd Packets</th>\n",
              "      <th>Subflow Fwd Bytes</th>\n",
              "      <th>Subflow Bwd Packets</th>\n",
              "      <th>Subflow Bwd Bytes</th>\n",
              "      <th>Init_Win_bytes_forward</th>\n",
              "      <th>Init_Win_bytes_backward</th>\n",
              "      <th>act_data_pkt_fwd</th>\n",
              "      <th>min_seg_size_forward</th>\n",
              "      <th>Active Mean</th>\n",
              "      <th>Active Std</th>\n",
              "      <th>Active Max</th>\n",
              "      <th>Active Min</th>\n",
              "      <th>Idle Mean</th>\n",
              "      <th>Idle Std</th>\n",
              "      <th>Idle Max</th>\n",
              "      <th>Idle Min</th>\n",
              "      <th>SimillarHTTP</th>\n",
              "      <th>Inbound</th>\n",
              "      <th>Label</th>\n",
              "    </tr>\n",
              "  </thead>\n",
              "  <tbody>\n",
              "    <tr>\n",
              "      <th>0</th>\n",
              "      <td>50880</td>\n",
              "      <td>172.16.0.5-192.168.50.4-35468-49856-17</td>\n",
              "      <td>172.16.0.5</td>\n",
              "      <td>35468</td>\n",
              "      <td>192.168.50.4</td>\n",
              "      <td>49856</td>\n",
              "      <td>17</td>\n",
              "      <td>2018-11-03 11:01:43.652742</td>\n",
              "      <td>47</td>\n",
              "      <td>2</td>\n",
              "      <td>0</td>\n",
              "      <td>778.0</td>\n",
              "      <td>0.0</td>\n",
              "      <td>389.0</td>\n",
              "      <td>389.0</td>\n",
              "      <td>389.000000</td>\n",
              "      <td>0.000000</td>\n",
              "      <td>0.0</td>\n",
              "      <td>0.0</td>\n",
              "      <td>0.0</td>\n",
              "      <td>0.0</td>\n",
              "      <td>1.655319e+07</td>\n",
              "      <td>42553.191489</td>\n",
              "      <td>47.000000</td>\n",
              "      <td>0.000000</td>\n",
              "      <td>47.0</td>\n",
              "      <td>47.0</td>\n",
              "      <td>47.0</td>\n",
              "      <td>47.000000</td>\n",
              "      <td>0.000000</td>\n",
              "      <td>47.0</td>\n",
              "      <td>47.0</td>\n",
              "      <td>0.0</td>\n",
              "      <td>0.0</td>\n",
              "      <td>0.0</td>\n",
              "      <td>0.0</td>\n",
              "      <td>0.0</td>\n",
              "      <td>0</td>\n",
              "      <td>0</td>\n",
              "      <td>0</td>\n",
              "      <td>...</td>\n",
              "      <td>0.000000</td>\n",
              "      <td>0.000000</td>\n",
              "      <td>0</td>\n",
              "      <td>0</td>\n",
              "      <td>0</td>\n",
              "      <td>0</td>\n",
              "      <td>0</td>\n",
              "      <td>0</td>\n",
              "      <td>0</td>\n",
              "      <td>0</td>\n",
              "      <td>0.0</td>\n",
              "      <td>583.5</td>\n",
              "      <td>389.000000</td>\n",
              "      <td>0.0</td>\n",
              "      <td>-2</td>\n",
              "      <td>0</td>\n",
              "      <td>0</td>\n",
              "      <td>0</td>\n",
              "      <td>0</td>\n",
              "      <td>0</td>\n",
              "      <td>0</td>\n",
              "      <td>2</td>\n",
              "      <td>778</td>\n",
              "      <td>0</td>\n",
              "      <td>0</td>\n",
              "      <td>-1</td>\n",
              "      <td>-1</td>\n",
              "      <td>1</td>\n",
              "      <td>-1</td>\n",
              "      <td>0.0</td>\n",
              "      <td>0.0</td>\n",
              "      <td>0.0</td>\n",
              "      <td>0.0</td>\n",
              "      <td>0.0</td>\n",
              "      <td>0.0</td>\n",
              "      <td>0.0</td>\n",
              "      <td>0.0</td>\n",
              "      <td>0</td>\n",
              "      <td>1</td>\n",
              "      <td>UDP</td>\n",
              "    </tr>\n",
              "    <tr>\n",
              "      <th>1</th>\n",
              "      <td>83164</td>\n",
              "      <td>172.16.0.5-192.168.50.4-44167-44225-17</td>\n",
              "      <td>172.16.0.5</td>\n",
              "      <td>44167</td>\n",
              "      <td>192.168.50.4</td>\n",
              "      <td>44225</td>\n",
              "      <td>17</td>\n",
              "      <td>2018-11-03 11:01:43.653107</td>\n",
              "      <td>2</td>\n",
              "      <td>2</td>\n",
              "      <td>0</td>\n",
              "      <td>786.0</td>\n",
              "      <td>0.0</td>\n",
              "      <td>393.0</td>\n",
              "      <td>393.0</td>\n",
              "      <td>393.000000</td>\n",
              "      <td>0.000000</td>\n",
              "      <td>0.0</td>\n",
              "      <td>0.0</td>\n",
              "      <td>0.0</td>\n",
              "      <td>0.0</td>\n",
              "      <td>3.930000e+08</td>\n",
              "      <td>1000000.000000</td>\n",
              "      <td>2.000000</td>\n",
              "      <td>0.000000</td>\n",
              "      <td>2.0</td>\n",
              "      <td>2.0</td>\n",
              "      <td>2.0</td>\n",
              "      <td>2.000000</td>\n",
              "      <td>0.000000</td>\n",
              "      <td>2.0</td>\n",
              "      <td>2.0</td>\n",
              "      <td>0.0</td>\n",
              "      <td>0.0</td>\n",
              "      <td>0.0</td>\n",
              "      <td>0.0</td>\n",
              "      <td>0.0</td>\n",
              "      <td>0</td>\n",
              "      <td>0</td>\n",
              "      <td>0</td>\n",
              "      <td>...</td>\n",
              "      <td>0.000000</td>\n",
              "      <td>0.000000</td>\n",
              "      <td>0</td>\n",
              "      <td>0</td>\n",
              "      <td>0</td>\n",
              "      <td>0</td>\n",
              "      <td>0</td>\n",
              "      <td>0</td>\n",
              "      <td>0</td>\n",
              "      <td>0</td>\n",
              "      <td>0.0</td>\n",
              "      <td>589.5</td>\n",
              "      <td>393.000000</td>\n",
              "      <td>0.0</td>\n",
              "      <td>-2</td>\n",
              "      <td>0</td>\n",
              "      <td>0</td>\n",
              "      <td>0</td>\n",
              "      <td>0</td>\n",
              "      <td>0</td>\n",
              "      <td>0</td>\n",
              "      <td>2</td>\n",
              "      <td>786</td>\n",
              "      <td>0</td>\n",
              "      <td>0</td>\n",
              "      <td>-1</td>\n",
              "      <td>-1</td>\n",
              "      <td>1</td>\n",
              "      <td>-1</td>\n",
              "      <td>0.0</td>\n",
              "      <td>0.0</td>\n",
              "      <td>0.0</td>\n",
              "      <td>0.0</td>\n",
              "      <td>0.0</td>\n",
              "      <td>0.0</td>\n",
              "      <td>0.0</td>\n",
              "      <td>0.0</td>\n",
              "      <td>0</td>\n",
              "      <td>1</td>\n",
              "      <td>UDP</td>\n",
              "    </tr>\n",
              "    <tr>\n",
              "      <th>2</th>\n",
              "      <td>49389</td>\n",
              "      <td>172.16.0.5-192.168.50.4-36215-28771-17</td>\n",
              "      <td>172.16.0.5</td>\n",
              "      <td>36215</td>\n",
              "      <td>192.168.50.4</td>\n",
              "      <td>28771</td>\n",
              "      <td>17</td>\n",
              "      <td>2018-11-03 11:01:43.653383</td>\n",
              "      <td>2</td>\n",
              "      <td>2</td>\n",
              "      <td>0</td>\n",
              "      <td>748.0</td>\n",
              "      <td>0.0</td>\n",
              "      <td>374.0</td>\n",
              "      <td>374.0</td>\n",
              "      <td>374.000000</td>\n",
              "      <td>0.000000</td>\n",
              "      <td>0.0</td>\n",
              "      <td>0.0</td>\n",
              "      <td>0.0</td>\n",
              "      <td>0.0</td>\n",
              "      <td>3.740000e+08</td>\n",
              "      <td>1000000.000000</td>\n",
              "      <td>2.000000</td>\n",
              "      <td>0.000000</td>\n",
              "      <td>2.0</td>\n",
              "      <td>2.0</td>\n",
              "      <td>2.0</td>\n",
              "      <td>2.000000</td>\n",
              "      <td>0.000000</td>\n",
              "      <td>2.0</td>\n",
              "      <td>2.0</td>\n",
              "      <td>0.0</td>\n",
              "      <td>0.0</td>\n",
              "      <td>0.0</td>\n",
              "      <td>0.0</td>\n",
              "      <td>0.0</td>\n",
              "      <td>0</td>\n",
              "      <td>0</td>\n",
              "      <td>0</td>\n",
              "      <td>...</td>\n",
              "      <td>0.000000</td>\n",
              "      <td>0.000000</td>\n",
              "      <td>0</td>\n",
              "      <td>0</td>\n",
              "      <td>0</td>\n",
              "      <td>0</td>\n",
              "      <td>0</td>\n",
              "      <td>0</td>\n",
              "      <td>0</td>\n",
              "      <td>0</td>\n",
              "      <td>0.0</td>\n",
              "      <td>561.0</td>\n",
              "      <td>374.000000</td>\n",
              "      <td>0.0</td>\n",
              "      <td>-2</td>\n",
              "      <td>0</td>\n",
              "      <td>0</td>\n",
              "      <td>0</td>\n",
              "      <td>0</td>\n",
              "      <td>0</td>\n",
              "      <td>0</td>\n",
              "      <td>2</td>\n",
              "      <td>748</td>\n",
              "      <td>0</td>\n",
              "      <td>0</td>\n",
              "      <td>-1</td>\n",
              "      <td>-1</td>\n",
              "      <td>1</td>\n",
              "      <td>-1</td>\n",
              "      <td>0.0</td>\n",
              "      <td>0.0</td>\n",
              "      <td>0.0</td>\n",
              "      <td>0.0</td>\n",
              "      <td>0.0</td>\n",
              "      <td>0.0</td>\n",
              "      <td>0.0</td>\n",
              "      <td>0.0</td>\n",
              "      <td>0</td>\n",
              "      <td>1</td>\n",
              "      <td>UDP</td>\n",
              "    </tr>\n",
              "    <tr>\n",
              "      <th>3</th>\n",
              "      <td>34687</td>\n",
              "      <td>172.16.0.5-192.168.50.4-44168-43679-17</td>\n",
              "      <td>172.16.0.5</td>\n",
              "      <td>44168</td>\n",
              "      <td>192.168.50.4</td>\n",
              "      <td>43679</td>\n",
              "      <td>17</td>\n",
              "      <td>2018-11-03 11:01:43.653386</td>\n",
              "      <td>2</td>\n",
              "      <td>2</td>\n",
              "      <td>0</td>\n",
              "      <td>786.0</td>\n",
              "      <td>0.0</td>\n",
              "      <td>393.0</td>\n",
              "      <td>393.0</td>\n",
              "      <td>393.000000</td>\n",
              "      <td>0.000000</td>\n",
              "      <td>0.0</td>\n",
              "      <td>0.0</td>\n",
              "      <td>0.0</td>\n",
              "      <td>0.0</td>\n",
              "      <td>3.930000e+08</td>\n",
              "      <td>1000000.000000</td>\n",
              "      <td>2.000000</td>\n",
              "      <td>0.000000</td>\n",
              "      <td>2.0</td>\n",
              "      <td>2.0</td>\n",
              "      <td>2.0</td>\n",
              "      <td>2.000000</td>\n",
              "      <td>0.000000</td>\n",
              "      <td>2.0</td>\n",
              "      <td>2.0</td>\n",
              "      <td>0.0</td>\n",
              "      <td>0.0</td>\n",
              "      <td>0.0</td>\n",
              "      <td>0.0</td>\n",
              "      <td>0.0</td>\n",
              "      <td>0</td>\n",
              "      <td>0</td>\n",
              "      <td>0</td>\n",
              "      <td>...</td>\n",
              "      <td>0.000000</td>\n",
              "      <td>0.000000</td>\n",
              "      <td>0</td>\n",
              "      <td>0</td>\n",
              "      <td>0</td>\n",
              "      <td>0</td>\n",
              "      <td>0</td>\n",
              "      <td>0</td>\n",
              "      <td>0</td>\n",
              "      <td>0</td>\n",
              "      <td>0.0</td>\n",
              "      <td>589.5</td>\n",
              "      <td>393.000000</td>\n",
              "      <td>0.0</td>\n",
              "      <td>-2</td>\n",
              "      <td>0</td>\n",
              "      <td>0</td>\n",
              "      <td>0</td>\n",
              "      <td>0</td>\n",
              "      <td>0</td>\n",
              "      <td>0</td>\n",
              "      <td>2</td>\n",
              "      <td>786</td>\n",
              "      <td>0</td>\n",
              "      <td>0</td>\n",
              "      <td>-1</td>\n",
              "      <td>-1</td>\n",
              "      <td>1</td>\n",
              "      <td>-1</td>\n",
              "      <td>0.0</td>\n",
              "      <td>0.0</td>\n",
              "      <td>0.0</td>\n",
              "      <td>0.0</td>\n",
              "      <td>0.0</td>\n",
              "      <td>0.0</td>\n",
              "      <td>0.0</td>\n",
              "      <td>0.0</td>\n",
              "      <td>0</td>\n",
              "      <td>1</td>\n",
              "      <td>UDP</td>\n",
              "    </tr>\n",
              "    <tr>\n",
              "      <th>4</th>\n",
              "      <td>87466</td>\n",
              "      <td>172.16.0.5-192.168.50.4-52334-44960-17</td>\n",
              "      <td>172.16.0.5</td>\n",
              "      <td>52334</td>\n",
              "      <td>192.168.50.4</td>\n",
              "      <td>44960</td>\n",
              "      <td>17</td>\n",
              "      <td>2018-11-03 11:01:43.653387</td>\n",
              "      <td>880701</td>\n",
              "      <td>18</td>\n",
              "      <td>0</td>\n",
              "      <td>6600.0</td>\n",
              "      <td>0.0</td>\n",
              "      <td>401.0</td>\n",
              "      <td>330.0</td>\n",
              "      <td>366.666667</td>\n",
              "      <td>28.171742</td>\n",
              "      <td>0.0</td>\n",
              "      <td>0.0</td>\n",
              "      <td>0.0</td>\n",
              "      <td>0.0</td>\n",
              "      <td>7.494030e+03</td>\n",
              "      <td>20.438265</td>\n",
              "      <td>51805.941176</td>\n",
              "      <td>56640.323946</td>\n",
              "      <td>111083.0</td>\n",
              "      <td>1.0</td>\n",
              "      <td>880701.0</td>\n",
              "      <td>51805.941176</td>\n",
              "      <td>56640.323946</td>\n",
              "      <td>111083.0</td>\n",
              "      <td>1.0</td>\n",
              "      <td>0.0</td>\n",
              "      <td>0.0</td>\n",
              "      <td>0.0</td>\n",
              "      <td>0.0</td>\n",
              "      <td>0.0</td>\n",
              "      <td>0</td>\n",
              "      <td>0</td>\n",
              "      <td>0</td>\n",
              "      <td>...</td>\n",
              "      <td>28.641156</td>\n",
              "      <td>820.315789</td>\n",
              "      <td>0</td>\n",
              "      <td>0</td>\n",
              "      <td>0</td>\n",
              "      <td>0</td>\n",
              "      <td>0</td>\n",
              "      <td>0</td>\n",
              "      <td>0</td>\n",
              "      <td>0</td>\n",
              "      <td>0.0</td>\n",
              "      <td>385.0</td>\n",
              "      <td>366.666667</td>\n",
              "      <td>0.0</td>\n",
              "      <td>96</td>\n",
              "      <td>0</td>\n",
              "      <td>0</td>\n",
              "      <td>0</td>\n",
              "      <td>0</td>\n",
              "      <td>0</td>\n",
              "      <td>0</td>\n",
              "      <td>18</td>\n",
              "      <td>6600</td>\n",
              "      <td>0</td>\n",
              "      <td>0</td>\n",
              "      <td>-1</td>\n",
              "      <td>-1</td>\n",
              "      <td>17</td>\n",
              "      <td>-1</td>\n",
              "      <td>0.0</td>\n",
              "      <td>0.0</td>\n",
              "      <td>0.0</td>\n",
              "      <td>0.0</td>\n",
              "      <td>0.0</td>\n",
              "      <td>0.0</td>\n",
              "      <td>0.0</td>\n",
              "      <td>0.0</td>\n",
              "      <td>0</td>\n",
              "      <td>1</td>\n",
              "      <td>UDP</td>\n",
              "    </tr>\n",
              "  </tbody>\n",
              "</table>\n",
              "<p>5 rows × 88 columns</p>\n",
              "</div>"
            ],
            "text/plain": [
              "   Unnamed: 0                                 Flow ID  ...  Inbound   Label\n",
              "0       50880  172.16.0.5-192.168.50.4-35468-49856-17  ...        1     UDP\n",
              "1       83164  172.16.0.5-192.168.50.4-44167-44225-17  ...        1     UDP\n",
              "2       49389  172.16.0.5-192.168.50.4-36215-28771-17  ...        1     UDP\n",
              "3       34687  172.16.0.5-192.168.50.4-44168-43679-17  ...        1     UDP\n",
              "4       87466  172.16.0.5-192.168.50.4-52334-44960-17  ...        1     UDP\n",
              "\n",
              "[5 rows x 88 columns]"
            ]
          },
          "metadata": {
            "tags": []
          },
          "execution_count": 4
        }
      ]
    },
    {
      "cell_type": "markdown",
      "metadata": {
        "id": "cnBFDfVwl74f",
        "colab_type": "text"
      },
      "source": [
        "**Description of the dataset**"
      ]
    },
    {
      "cell_type": "code",
      "metadata": {
        "id": "oXDmeElqDlQz",
        "colab_type": "code",
        "colab": {
          "base_uri": "https://localhost:8080/",
          "height": 397
        },
        "outputId": "6258e271-e6fd-49fc-bbf0-38aed759f58d"
      },
      "source": [
        "data.describe()"
      ],
      "execution_count": 5,
      "outputs": [
        {
          "output_type": "execute_result",
          "data": {
            "text/html": [
              "<div>\n",
              "<style scoped>\n",
              "    .dataframe tbody tr th:only-of-type {\n",
              "        vertical-align: middle;\n",
              "    }\n",
              "\n",
              "    .dataframe tbody tr th {\n",
              "        vertical-align: top;\n",
              "    }\n",
              "\n",
              "    .dataframe thead th {\n",
              "        text-align: right;\n",
              "    }\n",
              "</style>\n",
              "<table border=\"1\" class=\"dataframe\">\n",
              "  <thead>\n",
              "    <tr style=\"text-align: right;\">\n",
              "      <th></th>\n",
              "      <th>Unnamed: 0</th>\n",
              "      <th>Source Port</th>\n",
              "      <th>Destination Port</th>\n",
              "      <th>Protocol</th>\n",
              "      <th>Flow Duration</th>\n",
              "      <th>Total Fwd Packets</th>\n",
              "      <th>Total Backward Packets</th>\n",
              "      <th>Total Length of Fwd Packets</th>\n",
              "      <th>Total Length of Bwd Packets</th>\n",
              "      <th>Fwd Packet Length Max</th>\n",
              "      <th>Fwd Packet Length Min</th>\n",
              "      <th>Fwd Packet Length Mean</th>\n",
              "      <th>Fwd Packet Length Std</th>\n",
              "      <th>Bwd Packet Length Max</th>\n",
              "      <th>Bwd Packet Length Min</th>\n",
              "      <th>Bwd Packet Length Mean</th>\n",
              "      <th>Bwd Packet Length Std</th>\n",
              "      <th>Flow Bytes/s</th>\n",
              "      <th>Flow Packets/s</th>\n",
              "      <th>Flow IAT Mean</th>\n",
              "      <th>Flow IAT Std</th>\n",
              "      <th>Flow IAT Max</th>\n",
              "      <th>Flow IAT Min</th>\n",
              "      <th>Fwd IAT Total</th>\n",
              "      <th>Fwd IAT Mean</th>\n",
              "      <th>Fwd IAT Std</th>\n",
              "      <th>Fwd IAT Max</th>\n",
              "      <th>Fwd IAT Min</th>\n",
              "      <th>Bwd IAT Total</th>\n",
              "      <th>Bwd IAT Mean</th>\n",
              "      <th>Bwd IAT Std</th>\n",
              "      <th>Bwd IAT Max</th>\n",
              "      <th>Bwd IAT Min</th>\n",
              "      <th>Fwd PSH Flags</th>\n",
              "      <th>Bwd PSH Flags</th>\n",
              "      <th>Fwd URG Flags</th>\n",
              "      <th>Bwd URG Flags</th>\n",
              "      <th>Fwd Header Length</th>\n",
              "      <th>Bwd Header Length</th>\n",
              "      <th>Fwd Packets/s</th>\n",
              "      <th>...</th>\n",
              "      <th>Max Packet Length</th>\n",
              "      <th>Packet Length Mean</th>\n",
              "      <th>Packet Length Std</th>\n",
              "      <th>Packet Length Variance</th>\n",
              "      <th>FIN Flag Count</th>\n",
              "      <th>SYN Flag Count</th>\n",
              "      <th>RST Flag Count</th>\n",
              "      <th>PSH Flag Count</th>\n",
              "      <th>ACK Flag Count</th>\n",
              "      <th>URG Flag Count</th>\n",
              "      <th>CWE Flag Count</th>\n",
              "      <th>ECE Flag Count</th>\n",
              "      <th>Down/Up Ratio</th>\n",
              "      <th>Average Packet Size</th>\n",
              "      <th>Avg Fwd Segment Size</th>\n",
              "      <th>Avg Bwd Segment Size</th>\n",
              "      <th>Fwd Header Length.1</th>\n",
              "      <th>Fwd Avg Bytes/Bulk</th>\n",
              "      <th>Fwd Avg Packets/Bulk</th>\n",
              "      <th>Fwd Avg Bulk Rate</th>\n",
              "      <th>Bwd Avg Bytes/Bulk</th>\n",
              "      <th>Bwd Avg Packets/Bulk</th>\n",
              "      <th>Bwd Avg Bulk Rate</th>\n",
              "      <th>Subflow Fwd Packets</th>\n",
              "      <th>Subflow Fwd Bytes</th>\n",
              "      <th>Subflow Bwd Packets</th>\n",
              "      <th>Subflow Bwd Bytes</th>\n",
              "      <th>Init_Win_bytes_forward</th>\n",
              "      <th>Init_Win_bytes_backward</th>\n",
              "      <th>act_data_pkt_fwd</th>\n",
              "      <th>min_seg_size_forward</th>\n",
              "      <th>Active Mean</th>\n",
              "      <th>Active Std</th>\n",
              "      <th>Active Max</th>\n",
              "      <th>Active Min</th>\n",
              "      <th>Idle Mean</th>\n",
              "      <th>Idle Std</th>\n",
              "      <th>Idle Max</th>\n",
              "      <th>Idle Min</th>\n",
              "      <th>Inbound</th>\n",
              "    </tr>\n",
              "  </thead>\n",
              "  <tbody>\n",
              "    <tr>\n",
              "      <th>count</th>\n",
              "      <td>725165.000000</td>\n",
              "      <td>725165.000000</td>\n",
              "      <td>725165.000000</td>\n",
              "      <td>725165.000000</td>\n",
              "      <td>7.251650e+05</td>\n",
              "      <td>725165.000000</td>\n",
              "      <td>725165.000000</td>\n",
              "      <td>725165.000000</td>\n",
              "      <td>7.251650e+05</td>\n",
              "      <td>725165.000000</td>\n",
              "      <td>725165.000000</td>\n",
              "      <td>725165.000000</td>\n",
              "      <td>725165.000000</td>\n",
              "      <td>725165.000000</td>\n",
              "      <td>725165.000000</td>\n",
              "      <td>725165.000000</td>\n",
              "      <td>725165.000000</td>\n",
              "      <td>7.251620e+05</td>\n",
              "      <td>7.251650e+05</td>\n",
              "      <td>7.251650e+05</td>\n",
              "      <td>7.251650e+05</td>\n",
              "      <td>7.251650e+05</td>\n",
              "      <td>7.251650e+05</td>\n",
              "      <td>7.251650e+05</td>\n",
              "      <td>7.251650e+05</td>\n",
              "      <td>7.251650e+05</td>\n",
              "      <td>7.251650e+05</td>\n",
              "      <td>7.251650e+05</td>\n",
              "      <td>7.251650e+05</td>\n",
              "      <td>7.251650e+05</td>\n",
              "      <td>7.251650e+05</td>\n",
              "      <td>7.251650e+05</td>\n",
              "      <td>725165.000000</td>\n",
              "      <td>725165.000000</td>\n",
              "      <td>725165.0</td>\n",
              "      <td>725165.0</td>\n",
              "      <td>725165.0</td>\n",
              "      <td>7.251650e+05</td>\n",
              "      <td>725165.000000</td>\n",
              "      <td>7.251650e+05</td>\n",
              "      <td>...</td>\n",
              "      <td>725165.000000</td>\n",
              "      <td>725165.000000</td>\n",
              "      <td>725165.000000</td>\n",
              "      <td>7.251650e+05</td>\n",
              "      <td>725165.0</td>\n",
              "      <td>725165.000000</td>\n",
              "      <td>725165.000000</td>\n",
              "      <td>725165.0</td>\n",
              "      <td>725165.000000</td>\n",
              "      <td>725165.000000</td>\n",
              "      <td>725165.000000</td>\n",
              "      <td>725165.0</td>\n",
              "      <td>725165.000000</td>\n",
              "      <td>725165.000000</td>\n",
              "      <td>725165.000000</td>\n",
              "      <td>725165.000000</td>\n",
              "      <td>7.251650e+05</td>\n",
              "      <td>725165.0</td>\n",
              "      <td>725165.0</td>\n",
              "      <td>725165.0</td>\n",
              "      <td>725165.0</td>\n",
              "      <td>725165.0</td>\n",
              "      <td>725165.0</td>\n",
              "      <td>725165.000000</td>\n",
              "      <td>725165.000000</td>\n",
              "      <td>725165.000000</td>\n",
              "      <td>7.251650e+05</td>\n",
              "      <td>725165.000000</td>\n",
              "      <td>725165.000000</td>\n",
              "      <td>725165.000000</td>\n",
              "      <td>7.251650e+05</td>\n",
              "      <td>7.251650e+05</td>\n",
              "      <td>7.251650e+05</td>\n",
              "      <td>7.251650e+05</td>\n",
              "      <td>7.251650e+05</td>\n",
              "      <td>7.251650e+05</td>\n",
              "      <td>7.251650e+05</td>\n",
              "      <td>7.251650e+05</td>\n",
              "      <td>7.251650e+05</td>\n",
              "      <td>725165.000000</td>\n",
              "    </tr>\n",
              "    <tr>\n",
              "      <th>mean</th>\n",
              "      <td>266311.581819</td>\n",
              "      <td>38398.631405</td>\n",
              "      <td>32759.974706</td>\n",
              "      <td>7.748577</td>\n",
              "      <td>5.041314e+06</td>\n",
              "      <td>3.097776</td>\n",
              "      <td>0.951041</td>\n",
              "      <td>239.598336</td>\n",
              "      <td>3.496710e+01</td>\n",
              "      <td>66.955281</td>\n",
              "      <td>61.424827</td>\n",
              "      <td>63.692614</td>\n",
              "      <td>2.722411</td>\n",
              "      <td>3.823764</td>\n",
              "      <td>2.213360</td>\n",
              "      <td>2.662139</td>\n",
              "      <td>0.493347</td>\n",
              "      <td>inf</td>\n",
              "      <td>inf</td>\n",
              "      <td>4.293790e+05</td>\n",
              "      <td>7.069372e+05</td>\n",
              "      <td>1.889678e+06</td>\n",
              "      <td>7.961752e+02</td>\n",
              "      <td>5.039560e+06</td>\n",
              "      <td>5.737563e+05</td>\n",
              "      <td>7.802952e+05</td>\n",
              "      <td>1.888768e+06</td>\n",
              "      <td>7.967191e+02</td>\n",
              "      <td>1.850179e+06</td>\n",
              "      <td>3.854465e+05</td>\n",
              "      <td>6.608861e+05</td>\n",
              "      <td>1.384752e+06</td>\n",
              "      <td>1.348747</td>\n",
              "      <td>0.001014</td>\n",
              "      <td>0.0</td>\n",
              "      <td>0.0</td>\n",
              "      <td>0.0</td>\n",
              "      <td>-1.019385e+07</td>\n",
              "      <td>19.269711</td>\n",
              "      <td>7.476030e+05</td>\n",
              "      <td>...</td>\n",
              "      <td>67.988463</td>\n",
              "      <td>63.517184</td>\n",
              "      <td>2.906327</td>\n",
              "      <td>4.130730e+02</td>\n",
              "      <td>0.0</td>\n",
              "      <td>0.000123</td>\n",
              "      <td>0.001014</td>\n",
              "      <td>0.0</td>\n",
              "      <td>0.837863</td>\n",
              "      <td>0.003045</td>\n",
              "      <td>0.001551</td>\n",
              "      <td>0.0</td>\n",
              "      <td>0.271364</td>\n",
              "      <td>86.523353</td>\n",
              "      <td>63.692614</td>\n",
              "      <td>2.662139</td>\n",
              "      <td>-1.019385e+07</td>\n",
              "      <td>0.0</td>\n",
              "      <td>0.0</td>\n",
              "      <td>0.0</td>\n",
              "      <td>0.0</td>\n",
              "      <td>0.0</td>\n",
              "      <td>0.0</td>\n",
              "      <td>3.097776</td>\n",
              "      <td>239.598336</td>\n",
              "      <td>0.951041</td>\n",
              "      <td>3.496710e+01</td>\n",
              "      <td>4921.637976</td>\n",
              "      <td>13.845243</td>\n",
              "      <td>2.082279</td>\n",
              "      <td>-3.937739e+06</td>\n",
              "      <td>1.197175e+04</td>\n",
              "      <td>2.000015e+04</td>\n",
              "      <td>3.951283e+04</td>\n",
              "      <td>8.519154e+02</td>\n",
              "      <td>1.363332e+06</td>\n",
              "      <td>4.475341e+05</td>\n",
              "      <td>1.864428e+06</td>\n",
              "      <td>9.333260e+05</td>\n",
              "      <td>0.994196</td>\n",
              "    </tr>\n",
              "    <tr>\n",
              "      <th>std</th>\n",
              "      <td>185887.270504</td>\n",
              "      <td>17816.667587</td>\n",
              "      <td>18951.167183</td>\n",
              "      <td>4.023059</td>\n",
              "      <td>1.604375e+07</td>\n",
              "      <td>3.688811</td>\n",
              "      <td>2.914997</td>\n",
              "      <td>740.604532</td>\n",
              "      <td>3.473314e+03</td>\n",
              "      <td>142.799501</td>\n",
              "      <td>128.903995</td>\n",
              "      <td>133.406723</td>\n",
              "      <td>14.245101</td>\n",
              "      <td>60.960116</td>\n",
              "      <td>5.678325</td>\n",
              "      <td>20.631325</td>\n",
              "      <td>18.271778</td>\n",
              "      <td>NaN</td>\n",
              "      <td>NaN</td>\n",
              "      <td>1.419367e+06</td>\n",
              "      <td>2.293001e+06</td>\n",
              "      <td>6.143752e+06</td>\n",
              "      <td>1.408448e+05</td>\n",
              "      <td>1.604336e+07</td>\n",
              "      <td>1.836058e+06</td>\n",
              "      <td>2.528582e+06</td>\n",
              "      <td>6.143822e+06</td>\n",
              "      <td>1.408863e+05</td>\n",
              "      <td>8.985035e+06</td>\n",
              "      <td>1.904178e+06</td>\n",
              "      <td>3.295961e+06</td>\n",
              "      <td>6.743861e+06</td>\n",
              "      <td>6.914364</td>\n",
              "      <td>0.031820</td>\n",
              "      <td>0.0</td>\n",
              "      <td>0.0</td>\n",
              "      <td>0.0</td>\n",
              "      <td>1.899001e+08</td>\n",
              "      <td>76.088411</td>\n",
              "      <td>9.314984e+05</td>\n",
              "      <td>...</td>\n",
              "      <td>152.381820</td>\n",
              "      <td>132.816851</td>\n",
              "      <td>20.115337</td>\n",
              "      <td>1.406317e+04</td>\n",
              "      <td>0.0</td>\n",
              "      <td>0.011078</td>\n",
              "      <td>0.031820</td>\n",
              "      <td>0.0</td>\n",
              "      <td>0.368577</td>\n",
              "      <td>0.055096</td>\n",
              "      <td>0.039357</td>\n",
              "      <td>0.0</td>\n",
              "      <td>0.452326</td>\n",
              "      <td>183.262920</td>\n",
              "      <td>133.406723</td>\n",
              "      <td>20.631325</td>\n",
              "      <td>1.899001e+08</td>\n",
              "      <td>0.0</td>\n",
              "      <td>0.0</td>\n",
              "      <td>0.0</td>\n",
              "      <td>0.0</td>\n",
              "      <td>0.0</td>\n",
              "      <td>0.0</td>\n",
              "      <td>3.688811</td>\n",
              "      <td>740.604532</td>\n",
              "      <td>2.914997</td>\n",
              "      <td>3.473314e+03</td>\n",
              "      <td>2296.404679</td>\n",
              "      <td>691.629287</td>\n",
              "      <td>3.078366</td>\n",
              "      <td>6.456959e+07</td>\n",
              "      <td>1.266190e+05</td>\n",
              "      <td>1.934049e+05</td>\n",
              "      <td>3.745246e+05</td>\n",
              "      <td>5.602347e+04</td>\n",
              "      <td>4.498567e+06</td>\n",
              "      <td>1.732831e+06</td>\n",
              "      <td>6.145649e+06</td>\n",
              "      <td>3.280335e+06</td>\n",
              "      <td>0.075964</td>\n",
              "    </tr>\n",
              "    <tr>\n",
              "      <th>min</th>\n",
              "      <td>0.000000</td>\n",
              "      <td>0.000000</td>\n",
              "      <td>0.000000</td>\n",
              "      <td>0.000000</td>\n",
              "      <td>0.000000e+00</td>\n",
              "      <td>1.000000</td>\n",
              "      <td>0.000000</td>\n",
              "      <td>0.000000</td>\n",
              "      <td>0.000000e+00</td>\n",
              "      <td>0.000000</td>\n",
              "      <td>0.000000</td>\n",
              "      <td>0.000000</td>\n",
              "      <td>0.000000</td>\n",
              "      <td>0.000000</td>\n",
              "      <td>0.000000</td>\n",
              "      <td>0.000000</td>\n",
              "      <td>0.000000</td>\n",
              "      <td>0.000000e+00</td>\n",
              "      <td>4.069000e-02</td>\n",
              "      <td>0.000000e+00</td>\n",
              "      <td>0.000000e+00</td>\n",
              "      <td>0.000000e+00</td>\n",
              "      <td>0.000000e+00</td>\n",
              "      <td>0.000000e+00</td>\n",
              "      <td>0.000000e+00</td>\n",
              "      <td>0.000000e+00</td>\n",
              "      <td>0.000000e+00</td>\n",
              "      <td>0.000000e+00</td>\n",
              "      <td>0.000000e+00</td>\n",
              "      <td>0.000000e+00</td>\n",
              "      <td>0.000000e+00</td>\n",
              "      <td>0.000000e+00</td>\n",
              "      <td>0.000000</td>\n",
              "      <td>0.000000</td>\n",
              "      <td>0.0</td>\n",
              "      <td>0.0</td>\n",
              "      <td>0.0</td>\n",
              "      <td>-1.487807e+10</td>\n",
              "      <td>0.000000</td>\n",
              "      <td>0.000000e+00</td>\n",
              "      <td>...</td>\n",
              "      <td>0.000000</td>\n",
              "      <td>0.000000</td>\n",
              "      <td>0.000000</td>\n",
              "      <td>0.000000e+00</td>\n",
              "      <td>0.0</td>\n",
              "      <td>0.000000</td>\n",
              "      <td>0.000000</td>\n",
              "      <td>0.0</td>\n",
              "      <td>0.000000</td>\n",
              "      <td>0.000000</td>\n",
              "      <td>0.000000</td>\n",
              "      <td>0.0</td>\n",
              "      <td>0.000000</td>\n",
              "      <td>0.000000</td>\n",
              "      <td>0.000000</td>\n",
              "      <td>0.000000</td>\n",
              "      <td>-1.487807e+10</td>\n",
              "      <td>0.0</td>\n",
              "      <td>0.0</td>\n",
              "      <td>0.0</td>\n",
              "      <td>0.0</td>\n",
              "      <td>0.0</td>\n",
              "      <td>0.0</td>\n",
              "      <td>1.000000</td>\n",
              "      <td>0.000000</td>\n",
              "      <td>0.000000</td>\n",
              "      <td>0.000000e+00</td>\n",
              "      <td>-1.000000</td>\n",
              "      <td>-1.000000</td>\n",
              "      <td>0.000000</td>\n",
              "      <td>-1.062719e+09</td>\n",
              "      <td>0.000000e+00</td>\n",
              "      <td>0.000000e+00</td>\n",
              "      <td>0.000000e+00</td>\n",
              "      <td>0.000000e+00</td>\n",
              "      <td>0.000000e+00</td>\n",
              "      <td>0.000000e+00</td>\n",
              "      <td>0.000000e+00</td>\n",
              "      <td>0.000000e+00</td>\n",
              "      <td>0.000000</td>\n",
              "    </tr>\n",
              "    <tr>\n",
              "      <th>25%</th>\n",
              "      <td>90645.000000</td>\n",
              "      <td>24047.000000</td>\n",
              "      <td>16373.000000</td>\n",
              "      <td>6.000000</td>\n",
              "      <td>1.000000e+00</td>\n",
              "      <td>2.000000</td>\n",
              "      <td>0.000000</td>\n",
              "      <td>12.000000</td>\n",
              "      <td>0.000000e+00</td>\n",
              "      <td>6.000000</td>\n",
              "      <td>6.000000</td>\n",
              "      <td>6.000000</td>\n",
              "      <td>0.000000</td>\n",
              "      <td>0.000000</td>\n",
              "      <td>0.000000</td>\n",
              "      <td>0.000000</td>\n",
              "      <td>0.000000</td>\n",
              "      <td>2.181818e+05</td>\n",
              "      <td>3.636364e+04</td>\n",
              "      <td>1.000000e+00</td>\n",
              "      <td>0.000000e+00</td>\n",
              "      <td>1.000000e+00</td>\n",
              "      <td>1.000000e+00</td>\n",
              "      <td>1.000000e+00</td>\n",
              "      <td>1.000000e+00</td>\n",
              "      <td>0.000000e+00</td>\n",
              "      <td>1.000000e+00</td>\n",
              "      <td>1.000000e+00</td>\n",
              "      <td>0.000000e+00</td>\n",
              "      <td>0.000000e+00</td>\n",
              "      <td>0.000000e+00</td>\n",
              "      <td>0.000000e+00</td>\n",
              "      <td>0.000000</td>\n",
              "      <td>0.000000</td>\n",
              "      <td>0.0</td>\n",
              "      <td>0.0</td>\n",
              "      <td>0.0</td>\n",
              "      <td>4.000000e+01</td>\n",
              "      <td>0.000000</td>\n",
              "      <td>9.577627e+01</td>\n",
              "      <td>...</td>\n",
              "      <td>6.000000</td>\n",
              "      <td>6.000000</td>\n",
              "      <td>0.000000</td>\n",
              "      <td>0.000000e+00</td>\n",
              "      <td>0.0</td>\n",
              "      <td>0.000000</td>\n",
              "      <td>0.000000</td>\n",
              "      <td>0.0</td>\n",
              "      <td>1.000000</td>\n",
              "      <td>0.000000</td>\n",
              "      <td>0.000000</td>\n",
              "      <td>0.0</td>\n",
              "      <td>0.000000</td>\n",
              "      <td>7.500000</td>\n",
              "      <td>6.000000</td>\n",
              "      <td>0.000000</td>\n",
              "      <td>4.000000e+01</td>\n",
              "      <td>0.0</td>\n",
              "      <td>0.0</td>\n",
              "      <td>0.0</td>\n",
              "      <td>0.0</td>\n",
              "      <td>0.0</td>\n",
              "      <td>0.0</td>\n",
              "      <td>2.000000</td>\n",
              "      <td>12.000000</td>\n",
              "      <td>0.000000</td>\n",
              "      <td>0.000000e+00</td>\n",
              "      <td>5840.000000</td>\n",
              "      <td>-1.000000</td>\n",
              "      <td>1.000000</td>\n",
              "      <td>2.000000e+01</td>\n",
              "      <td>0.000000e+00</td>\n",
              "      <td>0.000000e+00</td>\n",
              "      <td>0.000000e+00</td>\n",
              "      <td>0.000000e+00</td>\n",
              "      <td>0.000000e+00</td>\n",
              "      <td>0.000000e+00</td>\n",
              "      <td>0.000000e+00</td>\n",
              "      <td>0.000000e+00</td>\n",
              "      <td>1.000000</td>\n",
              "    </tr>\n",
              "    <tr>\n",
              "      <th>50%</th>\n",
              "      <td>248302.000000</td>\n",
              "      <td>39873.000000</td>\n",
              "      <td>32765.000000</td>\n",
              "      <td>6.000000</td>\n",
              "      <td>4.800000e+01</td>\n",
              "      <td>2.000000</td>\n",
              "      <td>0.000000</td>\n",
              "      <td>12.000000</td>\n",
              "      <td>0.000000e+00</td>\n",
              "      <td>6.000000</td>\n",
              "      <td>6.000000</td>\n",
              "      <td>6.000000</td>\n",
              "      <td>0.000000</td>\n",
              "      <td>0.000000</td>\n",
              "      <td>0.000000</td>\n",
              "      <td>0.000000</td>\n",
              "      <td>0.000000</td>\n",
              "      <td>4.528302e+05</td>\n",
              "      <td>7.272727e+04</td>\n",
              "      <td>1.833333e+01</td>\n",
              "      <td>0.000000e+00</td>\n",
              "      <td>4.800000e+01</td>\n",
              "      <td>1.000000e+00</td>\n",
              "      <td>1.000000e+00</td>\n",
              "      <td>1.000000e+00</td>\n",
              "      <td>0.000000e+00</td>\n",
              "      <td>1.000000e+00</td>\n",
              "      <td>1.000000e+00</td>\n",
              "      <td>0.000000e+00</td>\n",
              "      <td>0.000000e+00</td>\n",
              "      <td>0.000000e+00</td>\n",
              "      <td>0.000000e+00</td>\n",
              "      <td>0.000000</td>\n",
              "      <td>0.000000</td>\n",
              "      <td>0.0</td>\n",
              "      <td>0.0</td>\n",
              "      <td>0.0</td>\n",
              "      <td>4.000000e+01</td>\n",
              "      <td>0.000000</td>\n",
              "      <td>3.773585e+04</td>\n",
              "      <td>...</td>\n",
              "      <td>6.000000</td>\n",
              "      <td>6.000000</td>\n",
              "      <td>0.000000</td>\n",
              "      <td>0.000000e+00</td>\n",
              "      <td>0.0</td>\n",
              "      <td>0.000000</td>\n",
              "      <td>0.000000</td>\n",
              "      <td>0.0</td>\n",
              "      <td>1.000000</td>\n",
              "      <td>0.000000</td>\n",
              "      <td>0.000000</td>\n",
              "      <td>0.0</td>\n",
              "      <td>0.000000</td>\n",
              "      <td>9.000000</td>\n",
              "      <td>6.000000</td>\n",
              "      <td>0.000000</td>\n",
              "      <td>4.000000e+01</td>\n",
              "      <td>0.0</td>\n",
              "      <td>0.0</td>\n",
              "      <td>0.0</td>\n",
              "      <td>0.0</td>\n",
              "      <td>0.0</td>\n",
              "      <td>0.0</td>\n",
              "      <td>2.000000</td>\n",
              "      <td>12.000000</td>\n",
              "      <td>0.000000</td>\n",
              "      <td>0.000000e+00</td>\n",
              "      <td>5840.000000</td>\n",
              "      <td>-1.000000</td>\n",
              "      <td>1.000000</td>\n",
              "      <td>2.000000e+01</td>\n",
              "      <td>0.000000e+00</td>\n",
              "      <td>0.000000e+00</td>\n",
              "      <td>0.000000e+00</td>\n",
              "      <td>0.000000e+00</td>\n",
              "      <td>0.000000e+00</td>\n",
              "      <td>0.000000e+00</td>\n",
              "      <td>0.000000e+00</td>\n",
              "      <td>0.000000e+00</td>\n",
              "      <td>1.000000</td>\n",
              "    </tr>\n",
              "    <tr>\n",
              "      <th>75%</th>\n",
              "      <td>429593.000000</td>\n",
              "      <td>53748.000000</td>\n",
              "      <td>49174.000000</td>\n",
              "      <td>6.000000</td>\n",
              "      <td>1.090000e+02</td>\n",
              "      <td>2.000000</td>\n",
              "      <td>2.000000</td>\n",
              "      <td>36.000000</td>\n",
              "      <td>1.200000e+01</td>\n",
              "      <td>6.000000</td>\n",
              "      <td>6.000000</td>\n",
              "      <td>6.000000</td>\n",
              "      <td>0.000000</td>\n",
              "      <td>6.000000</td>\n",
              "      <td>6.000000</td>\n",
              "      <td>6.000000</td>\n",
              "      <td>0.000000</td>\n",
              "      <td>1.200000e+07</td>\n",
              "      <td>2.000000e+06</td>\n",
              "      <td>4.700000e+01</td>\n",
              "      <td>5.947549e+01</td>\n",
              "      <td>1.050000e+02</td>\n",
              "      <td>1.000000e+00</td>\n",
              "      <td>4.800000e+01</td>\n",
              "      <td>4.800000e+01</td>\n",
              "      <td>0.000000e+00</td>\n",
              "      <td>4.800000e+01</td>\n",
              "      <td>1.000000e+00</td>\n",
              "      <td>1.000000e+00</td>\n",
              "      <td>1.000000e+00</td>\n",
              "      <td>0.000000e+00</td>\n",
              "      <td>1.000000e+00</td>\n",
              "      <td>1.000000</td>\n",
              "      <td>0.000000</td>\n",
              "      <td>0.0</td>\n",
              "      <td>0.0</td>\n",
              "      <td>0.0</td>\n",
              "      <td>4.000000e+01</td>\n",
              "      <td>40.000000</td>\n",
              "      <td>2.000000e+06</td>\n",
              "      <td>...</td>\n",
              "      <td>6.000000</td>\n",
              "      <td>6.000000</td>\n",
              "      <td>0.000000</td>\n",
              "      <td>0.000000e+00</td>\n",
              "      <td>0.0</td>\n",
              "      <td>0.000000</td>\n",
              "      <td>0.000000</td>\n",
              "      <td>0.0</td>\n",
              "      <td>1.000000</td>\n",
              "      <td>0.000000</td>\n",
              "      <td>0.000000</td>\n",
              "      <td>0.0</td>\n",
              "      <td>1.000000</td>\n",
              "      <td>9.000000</td>\n",
              "      <td>6.000000</td>\n",
              "      <td>6.000000</td>\n",
              "      <td>4.000000e+01</td>\n",
              "      <td>0.0</td>\n",
              "      <td>0.0</td>\n",
              "      <td>0.0</td>\n",
              "      <td>0.0</td>\n",
              "      <td>0.0</td>\n",
              "      <td>0.0</td>\n",
              "      <td>2.000000</td>\n",
              "      <td>36.000000</td>\n",
              "      <td>2.000000</td>\n",
              "      <td>1.200000e+01</td>\n",
              "      <td>5840.000000</td>\n",
              "      <td>0.000000</td>\n",
              "      <td>1.000000</td>\n",
              "      <td>2.000000e+01</td>\n",
              "      <td>0.000000e+00</td>\n",
              "      <td>0.000000e+00</td>\n",
              "      <td>0.000000e+00</td>\n",
              "      <td>0.000000e+00</td>\n",
              "      <td>0.000000e+00</td>\n",
              "      <td>0.000000e+00</td>\n",
              "      <td>0.000000e+00</td>\n",
              "      <td>0.000000e+00</td>\n",
              "      <td>1.000000</td>\n",
              "    </tr>\n",
              "    <tr>\n",
              "      <th>max</th>\n",
              "      <td>610884.000000</td>\n",
              "      <td>65532.000000</td>\n",
              "      <td>65535.000000</td>\n",
              "      <td>17.000000</td>\n",
              "      <td>1.199975e+08</td>\n",
              "      <td>1294.000000</td>\n",
              "      <td>789.000000</td>\n",
              "      <td>66195.000000</td>\n",
              "      <td>1.406368e+06</td>\n",
              "      <td>3617.000000</td>\n",
              "      <td>2131.000000</td>\n",
              "      <td>2131.000000</td>\n",
              "      <td>1236.729760</td>\n",
              "      <td>3605.000000</td>\n",
              "      <td>1460.000000</td>\n",
              "      <td>1820.600000</td>\n",
              "      <td>1126.772126</td>\n",
              "      <td>inf</td>\n",
              "      <td>inf</td>\n",
              "      <td>4.915212e+07</td>\n",
              "      <td>3.695145e+07</td>\n",
              "      <td>9.485548e+07</td>\n",
              "      <td>4.915212e+07</td>\n",
              "      <td>1.199975e+08</td>\n",
              "      <td>4.915212e+07</td>\n",
              "      <td>3.773632e+07</td>\n",
              "      <td>9.485548e+07</td>\n",
              "      <td>4.915212e+07</td>\n",
              "      <td>1.199437e+08</td>\n",
              "      <td>2.250581e+07</td>\n",
              "      <td>3.898117e+07</td>\n",
              "      <td>6.898329e+07</td>\n",
              "      <td>200.000000</td>\n",
              "      <td>1.000000</td>\n",
              "      <td>0.0</td>\n",
              "      <td>0.0</td>\n",
              "      <td>0.0</td>\n",
              "      <td>1.715200e+04</td>\n",
              "      <td>25264.000000</td>\n",
              "      <td>3.000000e+06</td>\n",
              "      <td>...</td>\n",
              "      <td>3617.000000</td>\n",
              "      <td>1384.105263</td>\n",
              "      <td>1163.910435</td>\n",
              "      <td>1.354688e+06</td>\n",
              "      <td>0.0</td>\n",
              "      <td>1.000000</td>\n",
              "      <td>1.000000</td>\n",
              "      <td>0.0</td>\n",
              "      <td>1.000000</td>\n",
              "      <td>1.000000</td>\n",
              "      <td>1.000000</td>\n",
              "      <td>0.0</td>\n",
              "      <td>15.000000</td>\n",
              "      <td>1849.500000</td>\n",
              "      <td>2131.000000</td>\n",
              "      <td>1820.600000</td>\n",
              "      <td>1.715200e+04</td>\n",
              "      <td>0.0</td>\n",
              "      <td>0.0</td>\n",
              "      <td>0.0</td>\n",
              "      <td>0.0</td>\n",
              "      <td>0.0</td>\n",
              "      <td>0.0</td>\n",
              "      <td>1294.000000</td>\n",
              "      <td>66195.000000</td>\n",
              "      <td>789.000000</td>\n",
              "      <td>1.406368e+06</td>\n",
              "      <td>65535.000000</td>\n",
              "      <td>65323.000000</td>\n",
              "      <td>329.000000</td>\n",
              "      <td>4.010000e+02</td>\n",
              "      <td>1.231520e+07</td>\n",
              "      <td>6.485520e+06</td>\n",
              "      <td>1.441092e+07</td>\n",
              "      <td>1.231520e+07</td>\n",
              "      <td>9.485548e+07</td>\n",
              "      <td>3.418691e+07</td>\n",
              "      <td>9.485548e+07</td>\n",
              "      <td>9.485548e+07</td>\n",
              "      <td>1.000000</td>\n",
              "    </tr>\n",
              "  </tbody>\n",
              "</table>\n",
              "<p>8 rows × 82 columns</p>\n",
              "</div>"
            ],
            "text/plain": [
              "          Unnamed: 0    Source Port  ...      Idle Min        Inbound\n",
              "count  725165.000000  725165.000000  ...  7.251650e+05  725165.000000\n",
              "mean   266311.581819   38398.631405  ...  9.333260e+05       0.994196\n",
              "std    185887.270504   17816.667587  ...  3.280335e+06       0.075964\n",
              "min         0.000000       0.000000  ...  0.000000e+00       0.000000\n",
              "25%     90645.000000   24047.000000  ...  0.000000e+00       1.000000\n",
              "50%    248302.000000   39873.000000  ...  0.000000e+00       1.000000\n",
              "75%    429593.000000   53748.000000  ...  0.000000e+00       1.000000\n",
              "max    610884.000000   65532.000000  ...  9.485548e+07       1.000000\n",
              "\n",
              "[8 rows x 82 columns]"
            ]
          },
          "metadata": {
            "tags": []
          },
          "execution_count": 5
        }
      ]
    },
    {
      "cell_type": "markdown",
      "metadata": {
        "id": "cG_D78jkl97s",
        "colab_type": "text"
      },
      "source": [
        "**Make the List of the Relevant Columns of Dataset**\n",
        "\n",
        "It can be analysis by the CICFlowMeter\n",
        "this the URL of the CICFlowMeter\n",
        "\n",
        "http://netflowmeter.ca/"
      ]
    },
    {
      "cell_type": "code",
      "metadata": {
        "id": "u_dDfctSDxXK",
        "colab_type": "code",
        "colab": {}
      },
      "source": [
        "irr = [' Fwd Packet Length Max',\n",
        "    ' Fwd Packet Length Min',\n",
        "    ' Min Packet Length',\n",
        "    ' Max Packet Length',\n",
        "    ' Average Packet Size',\n",
        "    'Fwd Packets/s',\n",
        "    ' Fwd Header Length',\n",
        "    ' Fwd Header Length.1',\n",
        "    ' min_seg_size_forward',\n",
        "    'Total Length of Fwd Packets',\n",
        "    ' Fwd Packet Length Std',\n",
        "    ' Flow IAT Min',\n",
        "    ' Subflow Fwd Bytes',\n",
        "    ' Destination Port',\n",
        "    ' Protocol',\n",
        "    ' Packet Length Std',\n",
        "    ' Flow Duration',\n",
        "    'Fwd IAT Total',\n",
        "    ' ACK Flag Count',\n",
        "    'Init_Win_bytes_forward',\n",
        "    ' Flow IAT Mean',\n",
        "    ' Flow IAT Max',\n",
        "    ' Fwd IAT Mean',\n",
        "    ' Fwd IAT Max']"
      ],
      "execution_count": 0,
      "outputs": []
    },
    {
      "cell_type": "code",
      "metadata": {
        "id": "sXBiY22hLX2V",
        "colab_type": "code",
        "colab": {
          "base_uri": "https://localhost:8080/",
          "height": 34
        },
        "outputId": "03feb654-eff3-4958-ff30-b49a8eff34d2"
      },
      "source": [
        "print(len(irr))"
      ],
      "execution_count": 7,
      "outputs": [
        {
          "output_type": "stream",
          "text": [
            "24\n"
          ],
          "name": "stdout"
        }
      ]
    },
    {
      "cell_type": "markdown",
      "metadata": {
        "id": "3v2VWaAbmHVh",
        "colab_type": "text"
      },
      "source": [
        "**Here we remove the Irrevelent Columns except Revelent Column List which is defined above**"
      ]
    },
    {
      "cell_type": "code",
      "metadata": {
        "id": "K03LClpSEfUX",
        "colab_type": "code",
        "colab": {}
      },
      "source": [
        "remove_col = []\n",
        "for mycol in data.columns:\n",
        "    if all (x not in mycol for x in irr):\n",
        "        remove_col.append(mycol)"
      ],
      "execution_count": 0,
      "outputs": []
    },
    {
      "cell_type": "code",
      "metadata": {
        "id": "JIn0hfd3LPep",
        "colab_type": "code",
        "colab": {
          "base_uri": "https://localhost:8080/",
          "height": 71
        },
        "outputId": "15893253-ef23-4ff2-9de2-75139f822126"
      },
      "source": [
        "print(remove_col)\n",
        "print(len(remove_col))"
      ],
      "execution_count": 9,
      "outputs": [
        {
          "output_type": "stream",
          "text": [
            "['Unnamed: 0', 'Flow ID', ' Source IP', ' Source Port', ' Destination IP', ' Timestamp', ' Total Fwd Packets', ' Total Backward Packets', ' Total Length of Bwd Packets', ' Fwd Packet Length Mean', 'Bwd Packet Length Max', ' Bwd Packet Length Min', ' Bwd Packet Length Mean', 'Flow Bytes/s', ' Flow Packets/s', ' Flow IAT Std', ' Fwd IAT Std', ' Fwd IAT Min', 'Bwd IAT Total', ' Bwd IAT Mean', ' Bwd IAT Std', ' Bwd IAT Max', ' Bwd IAT Min', 'Fwd PSH Flags', ' Bwd PSH Flags', ' Fwd URG Flags', ' Bwd URG Flags', ' Bwd Header Length', ' Bwd Packets/s', ' Packet Length Mean', ' Packet Length Variance', 'FIN Flag Count', ' SYN Flag Count', ' RST Flag Count', ' PSH Flag Count', ' URG Flag Count', ' CWE Flag Count', ' ECE Flag Count', ' Down/Up Ratio', ' Avg Fwd Segment Size', ' Avg Bwd Segment Size', 'Fwd Avg Bytes/Bulk', ' Fwd Avg Packets/Bulk', ' Fwd Avg Bulk Rate', ' Bwd Avg Bytes/Bulk', ' Bwd Avg Packets/Bulk', 'Bwd Avg Bulk Rate', 'Subflow Fwd Packets', ' Subflow Bwd Packets', ' Subflow Bwd Bytes', ' Init_Win_bytes_backward', ' act_data_pkt_fwd', 'Active Mean', ' Active Std', ' Active Max', ' Active Min', 'Idle Mean', ' Idle Std', ' Idle Max', ' Idle Min', 'SimillarHTTP', ' Inbound', ' Label']\n",
            "63\n"
          ],
          "name": "stdout"
        }
      ]
    },
    {
      "cell_type": "code",
      "metadata": {
        "id": "WzKzq8SbUSCe",
        "colab_type": "code",
        "colab": {
          "base_uri": "https://localhost:8080/",
          "height": 275
        },
        "outputId": "20cf0505-25d0-4fd5-9b16-f1bbf25724fc"
      },
      "source": [
        "data = data.drop(['Unnamed: 0',\n",
        "'Flow ID',\n",
        "' Source IP',\n",
        "' Source Port',\n",
        "' Destination IP',\n",
        "' Timestamp',\n",
        "' Total Fwd Packets',\n",
        "' Total Backward Packets',\n",
        "' Total Length of Bwd Packets',\n",
        "' Fwd Packet Length Mean',\n",
        "'Bwd Packet Length Max',\n",
        "' Bwd Packet Length Min',\n",
        "' Bwd Packet Length Mean',\n",
        "'Flow Bytes/s',\n",
        "' Flow Packets/s',\n",
        "' Flow IAT Std',\n",
        "' Fwd IAT Std',\n",
        "' Fwd IAT Min',\n",
        "'Bwd IAT Total',\n",
        "' Bwd IAT Mean',\n",
        "' Bwd IAT Std',\n",
        "' Bwd IAT Max',\n",
        "' Bwd IAT Min',\n",
        "'Fwd PSH Flags',\n",
        "' Bwd PSH Flags',\n",
        "' Fwd URG Flags',\n",
        "' Bwd URG Flags',\n",
        "' Bwd Header Length',\n",
        "' Bwd Packets/s',\n",
        "' Packet Length Mean',\n",
        "' Packet Length Variance',\n",
        "'FIN Flag Count',\n",
        "' SYN Flag Count',\n",
        "' RST Flag Count',\n",
        "' PSH Flag Count',\n",
        "' URG Flag Count',\n",
        "' CWE Flag Count',\n",
        "' ECE Flag Count',\n",
        "' Down/Up Ratio',\n",
        "' Avg Fwd Segment Size',\n",
        "' Avg Bwd Segment Size',\n",
        "'Fwd Avg Bytes/Bulk',\n",
        "' Fwd Avg Packets/Bulk',\n",
        "' Fwd Avg Bulk Rate',\n",
        "' Bwd Avg Bytes/Bulk',\n",
        "' Bwd Avg Packets/Bulk',\n",
        "'Bwd Avg Bulk Rate',\n",
        "'Subflow Fwd Packets',\n",
        "' Subflow Bwd Packets',\n",
        "' Subflow Bwd Bytes',\n",
        "' Init_Win_bytes_backward',\n",
        "' act_data_pkt_fwd',\n",
        "'Active Mean',\n",
        "' Active Std',\n",
        "' Active Max',\n",
        "' Active Min',\n",
        "'Idle Mean',\n",
        "' Idle Std',\n",
        "' Idle Max',\n",
        "' Idle Min',\n",
        "'SimillarHTTP',\n",
        "' Inbound'],axis=1)\n",
        "data.head()"
      ],
      "execution_count": 10,
      "outputs": [
        {
          "output_type": "execute_result",
          "data": {
            "text/html": [
              "<div>\n",
              "<style scoped>\n",
              "    .dataframe tbody tr th:only-of-type {\n",
              "        vertical-align: middle;\n",
              "    }\n",
              "\n",
              "    .dataframe tbody tr th {\n",
              "        vertical-align: top;\n",
              "    }\n",
              "\n",
              "    .dataframe thead th {\n",
              "        text-align: right;\n",
              "    }\n",
              "</style>\n",
              "<table border=\"1\" class=\"dataframe\">\n",
              "  <thead>\n",
              "    <tr style=\"text-align: right;\">\n",
              "      <th></th>\n",
              "      <th>Destination Port</th>\n",
              "      <th>Protocol</th>\n",
              "      <th>Flow Duration</th>\n",
              "      <th>Total Length of Fwd Packets</th>\n",
              "      <th>Fwd Packet Length Max</th>\n",
              "      <th>Fwd Packet Length Min</th>\n",
              "      <th>Fwd Packet Length Std</th>\n",
              "      <th>Bwd Packet Length Std</th>\n",
              "      <th>Flow IAT Mean</th>\n",
              "      <th>Flow IAT Max</th>\n",
              "      <th>Flow IAT Min</th>\n",
              "      <th>Fwd IAT Total</th>\n",
              "      <th>Fwd IAT Mean</th>\n",
              "      <th>Fwd IAT Max</th>\n",
              "      <th>Fwd Header Length</th>\n",
              "      <th>Fwd Packets/s</th>\n",
              "      <th>Min Packet Length</th>\n",
              "      <th>Max Packet Length</th>\n",
              "      <th>Packet Length Std</th>\n",
              "      <th>ACK Flag Count</th>\n",
              "      <th>Average Packet Size</th>\n",
              "      <th>Fwd Header Length.1</th>\n",
              "      <th>Subflow Fwd Bytes</th>\n",
              "      <th>Init_Win_bytes_forward</th>\n",
              "      <th>min_seg_size_forward</th>\n",
              "      <th>Label</th>\n",
              "    </tr>\n",
              "  </thead>\n",
              "  <tbody>\n",
              "    <tr>\n",
              "      <th>0</th>\n",
              "      <td>49856</td>\n",
              "      <td>17</td>\n",
              "      <td>47</td>\n",
              "      <td>778.0</td>\n",
              "      <td>389.0</td>\n",
              "      <td>389.0</td>\n",
              "      <td>0.000000</td>\n",
              "      <td>0.0</td>\n",
              "      <td>47.000000</td>\n",
              "      <td>47.0</td>\n",
              "      <td>47.0</td>\n",
              "      <td>47.0</td>\n",
              "      <td>47.000000</td>\n",
              "      <td>47.0</td>\n",
              "      <td>-2</td>\n",
              "      <td>42553.191489</td>\n",
              "      <td>389.0</td>\n",
              "      <td>389.0</td>\n",
              "      <td>0.000000</td>\n",
              "      <td>0</td>\n",
              "      <td>583.5</td>\n",
              "      <td>-2</td>\n",
              "      <td>778</td>\n",
              "      <td>-1</td>\n",
              "      <td>-1</td>\n",
              "      <td>UDP</td>\n",
              "    </tr>\n",
              "    <tr>\n",
              "      <th>1</th>\n",
              "      <td>44225</td>\n",
              "      <td>17</td>\n",
              "      <td>2</td>\n",
              "      <td>786.0</td>\n",
              "      <td>393.0</td>\n",
              "      <td>393.0</td>\n",
              "      <td>0.000000</td>\n",
              "      <td>0.0</td>\n",
              "      <td>2.000000</td>\n",
              "      <td>2.0</td>\n",
              "      <td>2.0</td>\n",
              "      <td>2.0</td>\n",
              "      <td>2.000000</td>\n",
              "      <td>2.0</td>\n",
              "      <td>-2</td>\n",
              "      <td>1000000.000000</td>\n",
              "      <td>393.0</td>\n",
              "      <td>393.0</td>\n",
              "      <td>0.000000</td>\n",
              "      <td>0</td>\n",
              "      <td>589.5</td>\n",
              "      <td>-2</td>\n",
              "      <td>786</td>\n",
              "      <td>-1</td>\n",
              "      <td>-1</td>\n",
              "      <td>UDP</td>\n",
              "    </tr>\n",
              "    <tr>\n",
              "      <th>2</th>\n",
              "      <td>28771</td>\n",
              "      <td>17</td>\n",
              "      <td>2</td>\n",
              "      <td>748.0</td>\n",
              "      <td>374.0</td>\n",
              "      <td>374.0</td>\n",
              "      <td>0.000000</td>\n",
              "      <td>0.0</td>\n",
              "      <td>2.000000</td>\n",
              "      <td>2.0</td>\n",
              "      <td>2.0</td>\n",
              "      <td>2.0</td>\n",
              "      <td>2.000000</td>\n",
              "      <td>2.0</td>\n",
              "      <td>-2</td>\n",
              "      <td>1000000.000000</td>\n",
              "      <td>374.0</td>\n",
              "      <td>374.0</td>\n",
              "      <td>0.000000</td>\n",
              "      <td>0</td>\n",
              "      <td>561.0</td>\n",
              "      <td>-2</td>\n",
              "      <td>748</td>\n",
              "      <td>-1</td>\n",
              "      <td>-1</td>\n",
              "      <td>UDP</td>\n",
              "    </tr>\n",
              "    <tr>\n",
              "      <th>3</th>\n",
              "      <td>43679</td>\n",
              "      <td>17</td>\n",
              "      <td>2</td>\n",
              "      <td>786.0</td>\n",
              "      <td>393.0</td>\n",
              "      <td>393.0</td>\n",
              "      <td>0.000000</td>\n",
              "      <td>0.0</td>\n",
              "      <td>2.000000</td>\n",
              "      <td>2.0</td>\n",
              "      <td>2.0</td>\n",
              "      <td>2.0</td>\n",
              "      <td>2.000000</td>\n",
              "      <td>2.0</td>\n",
              "      <td>-2</td>\n",
              "      <td>1000000.000000</td>\n",
              "      <td>393.0</td>\n",
              "      <td>393.0</td>\n",
              "      <td>0.000000</td>\n",
              "      <td>0</td>\n",
              "      <td>589.5</td>\n",
              "      <td>-2</td>\n",
              "      <td>786</td>\n",
              "      <td>-1</td>\n",
              "      <td>-1</td>\n",
              "      <td>UDP</td>\n",
              "    </tr>\n",
              "    <tr>\n",
              "      <th>4</th>\n",
              "      <td>44960</td>\n",
              "      <td>17</td>\n",
              "      <td>880701</td>\n",
              "      <td>6600.0</td>\n",
              "      <td>401.0</td>\n",
              "      <td>330.0</td>\n",
              "      <td>28.171742</td>\n",
              "      <td>0.0</td>\n",
              "      <td>51805.941176</td>\n",
              "      <td>111083.0</td>\n",
              "      <td>1.0</td>\n",
              "      <td>880701.0</td>\n",
              "      <td>51805.941176</td>\n",
              "      <td>111083.0</td>\n",
              "      <td>96</td>\n",
              "      <td>20.438265</td>\n",
              "      <td>330.0</td>\n",
              "      <td>401.0</td>\n",
              "      <td>28.641156</td>\n",
              "      <td>0</td>\n",
              "      <td>385.0</td>\n",
              "      <td>96</td>\n",
              "      <td>6600</td>\n",
              "      <td>-1</td>\n",
              "      <td>-1</td>\n",
              "      <td>UDP</td>\n",
              "    </tr>\n",
              "  </tbody>\n",
              "</table>\n",
              "</div>"
            ],
            "text/plain": [
              "    Destination Port   Protocol  ...   min_seg_size_forward   Label\n",
              "0              49856         17  ...                     -1     UDP\n",
              "1              44225         17  ...                     -1     UDP\n",
              "2              28771         17  ...                     -1     UDP\n",
              "3              43679         17  ...                     -1     UDP\n",
              "4              44960         17  ...                     -1     UDP\n",
              "\n",
              "[5 rows x 26 columns]"
            ]
          },
          "metadata": {
            "tags": []
          },
          "execution_count": 10
        }
      ]
    },
    {
      "cell_type": "markdown",
      "metadata": {
        "id": "vDq-EP9vmLdd",
        "colab_type": "text"
      },
      "source": [
        "**Shape of the Clean Dataset**"
      ]
    },
    {
      "cell_type": "code",
      "metadata": {
        "id": "l6FKV5IkW9rP",
        "colab_type": "code",
        "colab": {
          "base_uri": "https://localhost:8080/",
          "height": 34
        },
        "outputId": "054205f8-32c7-4865-947b-414db7adf75b"
      },
      "source": [
        "data.shape"
      ],
      "execution_count": 11,
      "outputs": [
        {
          "output_type": "execute_result",
          "data": {
            "text/plain": [
              "(725165, 26)"
            ]
          },
          "metadata": {
            "tags": []
          },
          "execution_count": 11
        }
      ]
    },
    {
      "cell_type": "markdown",
      "metadata": {
        "id": "gjY4saNpmTd7",
        "colab_type": "text"
      },
      "source": [
        "**Check any Column have empty space**"
      ]
    },
    {
      "cell_type": "code",
      "metadata": {
        "id": "efcN8lUCXgmu",
        "colab_type": "code",
        "colab": {
          "base_uri": "https://localhost:8080/",
          "height": 476
        },
        "outputId": "57a96bd2-a668-47ba-a72f-c638f5ebed25"
      },
      "source": [
        "data.isnull().sum()"
      ],
      "execution_count": 12,
      "outputs": [
        {
          "output_type": "execute_result",
          "data": {
            "text/plain": [
              " Destination Port              0\n",
              " Protocol                      0\n",
              " Flow Duration                 0\n",
              "Total Length of Fwd Packets    0\n",
              " Fwd Packet Length Max         0\n",
              " Fwd Packet Length Min         0\n",
              " Fwd Packet Length Std         0\n",
              " Bwd Packet Length Std         0\n",
              " Flow IAT Mean                 0\n",
              " Flow IAT Max                  0\n",
              " Flow IAT Min                  0\n",
              "Fwd IAT Total                  0\n",
              " Fwd IAT Mean                  0\n",
              " Fwd IAT Max                   0\n",
              " Fwd Header Length             0\n",
              "Fwd Packets/s                  0\n",
              " Min Packet Length             0\n",
              " Max Packet Length             0\n",
              " Packet Length Std             0\n",
              " ACK Flag Count                0\n",
              " Average Packet Size           0\n",
              " Fwd Header Length.1           0\n",
              " Subflow Fwd Bytes             0\n",
              "Init_Win_bytes_forward         0\n",
              " min_seg_size_forward          0\n",
              " Label                         0\n",
              "dtype: int64"
            ]
          },
          "metadata": {
            "tags": []
          },
          "execution_count": 12
        }
      ]
    },
    {
      "cell_type": "markdown",
      "metadata": {
        "id": "rWuDzmGdmX7R",
        "colab_type": "text"
      },
      "source": [
        "**Here no column have the empty space of NULL values all columns are the full**"
      ]
    },
    {
      "cell_type": "markdown",
      "metadata": {
        "id": "lmZpUm2pmX5C",
        "colab_type": "text"
      },
      "source": [
        "**This we check the Object datatype column in the dataset**"
      ]
    },
    {
      "cell_type": "code",
      "metadata": {
        "id": "Ouej7mvTXoeb",
        "colab_type": "code",
        "colab": {
          "base_uri": "https://localhost:8080/",
          "height": 34
        },
        "outputId": "eda8e6c3-de01-48a6-da0e-270fb86574ac"
      },
      "source": [
        "for i in data.columns:\n",
        "    if(data[i].dtype == np.object):\n",
        "        print(i)"
      ],
      "execution_count": 13,
      "outputs": [
        {
          "output_type": "stream",
          "text": [
            " Label\n"
          ],
          "name": "stdout"
        }
      ]
    },
    {
      "cell_type": "markdown",
      "metadata": {
        "id": "UEe02utDmlhJ",
        "colab_type": "text"
      },
      "source": [
        "**Divide the data into two parts in X and Y**"
      ]
    },
    {
      "cell_type": "code",
      "metadata": {
        "id": "OWQMSwkcXvU-",
        "colab_type": "code",
        "colab": {
          "base_uri": "https://localhost:8080/",
          "height": 527
        },
        "outputId": "6e4b55e2-d007-465b-e584-410750942293"
      },
      "source": [
        "y = data[' Label']\n",
        "x = data.drop([' Label'],axis=1)\n",
        "\n",
        "print(\"\\n<<====================== X ================================>>\\n\",x)\n",
        "print(\"\\n<<====================== Y ================================>>\\n\",y)"
      ],
      "execution_count": 14,
      "outputs": [
        {
          "output_type": "stream",
          "text": [
            "\n",
            "<<====================== X ================================>>\n",
            "          Destination Port  ...   min_seg_size_forward\n",
            "0                   49856  ...                     -1\n",
            "1                   44225  ...                     -1\n",
            "2                   28771  ...                     -1\n",
            "3                   43679  ...                     -1\n",
            "4                   44960  ...                     -1\n",
            "...                   ...  ...                    ...\n",
            "725160              51501  ...                     20\n",
            "725161              22514  ...                     20\n",
            "725162              54928  ...                     20\n",
            "725163              50486  ...                     20\n",
            "725164              40037  ...                     20\n",
            "\n",
            "[725165 rows x 25 columns]\n",
            "\n",
            "<<====================== Y ================================>>\n",
            " 0         UDP\n",
            "1         UDP\n",
            "2         UDP\n",
            "3         UDP\n",
            "4         UDP\n",
            "         ... \n",
            "725160    Syn\n",
            "725161    Syn\n",
            "725162    Syn\n",
            "725163    Syn\n",
            "725164    Syn\n",
            "Name:  Label, Length: 725165, dtype: object\n"
          ],
          "name": "stdout"
        }
      ]
    },
    {
      "cell_type": "markdown",
      "metadata": {
        "id": "SU1XPiQQmoa5",
        "colab_type": "text"
      },
      "source": [
        "**Split the dataset into the x_train, x_test, y_train, y_test**\n",
        "\n",
        "**Split Ratio into Test and train is 30:70 means that 30% of the total data is goes for the test and 70% of the total data is goes for the training.**"
      ]
    },
    {
      "cell_type": "code",
      "metadata": {
        "id": "oNCg4zlnDAe9",
        "colab_type": "code",
        "colab": {
          "base_uri": "https://localhost:8080/",
          "height": 221
        },
        "outputId": "4f8fc82f-8729-4d07-f857-26f8d6afad6e"
      },
      "source": [
        "#split data into training and testing\n",
        "from sklearn.model_selection import train_test_split\n",
        "x_train,x_test,y_train,y_test=train_test_split(x,y,\n",
        "                                               test_size=0.30,\n",
        "                                               random_state=42)\n",
        "print(\"\\n<<======== X_Train ========>>\\n\",x_train.shape)\n",
        "print(\"\\n<<======== X_Train ========>>\\n\",y_train.shape)\n",
        "print(\"\\n<<======== X_Test ========>>\\n\",x_test.shape)\n",
        "print(\"\\n<<======== Y_Test ========>>\\n\",y_test.shape)"
      ],
      "execution_count": 15,
      "outputs": [
        {
          "output_type": "stream",
          "text": [
            "\n",
            "<<======== X_Train ========>>\n",
            " (507615, 25)\n",
            "\n",
            "<<======== X_Train ========>>\n",
            " (507615,)\n",
            "\n",
            "<<======== X_Test ========>>\n",
            " (217550, 25)\n",
            "\n",
            "<<======== Y_Test ========>>\n",
            " (217550,)\n"
          ],
          "name": "stdout"
        }
      ]
    },
    {
      "cell_type": "markdown",
      "metadata": {
        "id": "agKxJi3wDG1d",
        "colab_type": "text"
      },
      "source": [
        "#**LOGISTIC REGRESSION**"
      ]
    },
    {
      "cell_type": "markdown",
      "metadata": {
        "id": "tsEoH7Tmmt8g",
        "colab_type": "text"
      },
      "source": [
        "**Fiting the model in the Logistic Regression Algorithm**"
      ]
    },
    {
      "cell_type": "code",
      "metadata": {
        "id": "-lVRHpsrDGOH",
        "colab_type": "code",
        "colab": {
          "base_uri": "https://localhost:8080/",
          "height": 258
        },
        "outputId": "95cf5f3c-69f3-4893-f407-c6361aac4097"
      },
      "source": [
        "#fitting the logistic regression model\n",
        "from sklearn.linear_model import LogisticRegression\n",
        "classifier = LogisticRegression( random_state = 0)\n",
        "classifier.fit(x_train, y_train)"
      ],
      "execution_count": 16,
      "outputs": [
        {
          "output_type": "stream",
          "text": [
            "/usr/local/lib/python3.6/dist-packages/sklearn/linear_model/_logistic.py:940: ConvergenceWarning: lbfgs failed to converge (status=1):\n",
            "STOP: TOTAL NO. of ITERATIONS REACHED LIMIT.\n",
            "\n",
            "Increase the number of iterations (max_iter) or scale the data as shown in:\n",
            "    https://scikit-learn.org/stable/modules/preprocessing.html\n",
            "Please also refer to the documentation for alternative solver options:\n",
            "    https://scikit-learn.org/stable/modules/linear_model.html#logistic-regression\n",
            "  extra_warning_msg=_LOGISTIC_SOLVER_CONVERGENCE_MSG)\n"
          ],
          "name": "stderr"
        },
        {
          "output_type": "execute_result",
          "data": {
            "text/plain": [
              "LogisticRegression(C=1.0, class_weight=None, dual=False, fit_intercept=True,\n",
              "                   intercept_scaling=1, l1_ratio=None, max_iter=100,\n",
              "                   multi_class='auto', n_jobs=None, penalty='l2',\n",
              "                   random_state=0, solver='lbfgs', tol=0.0001, verbose=0,\n",
              "                   warm_start=False)"
            ]
          },
          "metadata": {
            "tags": []
          },
          "execution_count": 16
        }
      ]
    },
    {
      "cell_type": "code",
      "metadata": {
        "id": "kWvDIHgEDRLO",
        "colab_type": "code",
        "colab": {
          "base_uri": "https://localhost:8080/",
          "height": 34
        },
        "outputId": "e66d97ed-e003-4cc4-84bf-3c0ad4cc79e7"
      },
      "source": [
        "#predicting the test result\n",
        "y_pred = classifier.predict(x_test)\n",
        "print(y_pred)"
      ],
      "execution_count": 17,
      "outputs": [
        {
          "output_type": "stream",
          "text": [
            "['Syn' 'Syn' 'Syn' ... 'Syn' 'Syn' 'Syn']\n"
          ],
          "name": "stdout"
        }
      ]
    },
    {
      "cell_type": "markdown",
      "metadata": {
        "id": "XT-v1n7OmwTl",
        "colab_type": "text"
      },
      "source": [
        "**Confusion Matrix of the Logisitic Regression**"
      ]
    },
    {
      "cell_type": "code",
      "metadata": {
        "id": "01Jjgn-PDU8O",
        "colab_type": "code",
        "colab": {
          "base_uri": "https://localhost:8080/",
          "height": 119
        },
        "outputId": "5688869d-05e1-4079-ccd1-8cec7591411e"
      },
      "source": [
        "#checking the accuracy of model\n",
        "\n",
        "from sklearn.metrics import confusion_matrix, accuracy_score, classification_report\n",
        "cfm = confusion_matrix(y_test, y_pred)\n",
        "print(\"\\n<<================= Confusion Matrix ======================>> \\n\",cfm)"
      ],
      "execution_count": 18,
      "outputs": [
        {
          "output_type": "stream",
          "text": [
            "\n",
            "<<================= Confusion Matrix ======================>> \n",
            " [[   621    595      1      0]\n",
            " [     9 182181     34      0]\n",
            " [     6  32765    781      0]\n",
            " [     8    549      0      0]]\n"
          ],
          "name": "stdout"
        }
      ]
    },
    {
      "cell_type": "markdown",
      "metadata": {
        "id": "AScVAN_nm3az",
        "colab_type": "text"
      },
      "source": [
        "**Classification Report of the Logistic Regeression**"
      ]
    },
    {
      "cell_type": "code",
      "metadata": {
        "id": "sbYRSIZTDdHT",
        "colab_type": "code",
        "colab": {
          "base_uri": "https://localhost:8080/",
          "height": 309
        },
        "outputId": "a7c6bb0c-e3a6-44c5-b53d-2975bc53821a"
      },
      "source": [
        "## Classification Report\n",
        "\n",
        "print(\"\\n<<==================== Calssification Report ====================>>\\n\")\n",
        "\n",
        "print (classification_report(y_test, y_pred))"
      ],
      "execution_count": 19,
      "outputs": [
        {
          "output_type": "stream",
          "text": [
            "\n",
            "<<==================== Calssification Report ====================>>\n",
            "\n"
          ],
          "name": "stdout"
        },
        {
          "output_type": "stream",
          "text": [
            "/usr/local/lib/python3.6/dist-packages/sklearn/metrics/_classification.py:1272: UndefinedMetricWarning: Precision and F-score are ill-defined and being set to 0.0 in labels with no predicted samples. Use `zero_division` parameter to control this behavior.\n",
            "  _warn_prf(average, modifier, msg_start, len(result))\n"
          ],
          "name": "stderr"
        },
        {
          "output_type": "stream",
          "text": [
            "              precision    recall  f1-score   support\n",
            "\n",
            "      BENIGN       0.96      0.51      0.67      1217\n",
            "         Syn       0.84      1.00      0.91    182224\n",
            "         UDP       0.96      0.02      0.05     33552\n",
            "      UDPLag       0.00      0.00      0.00       557\n",
            "\n",
            "    accuracy                           0.84    217550\n",
            "   macro avg       0.69      0.38      0.41    217550\n",
            "weighted avg       0.86      0.84      0.78    217550\n",
            "\n"
          ],
          "name": "stdout"
        }
      ]
    },
    {
      "cell_type": "markdown",
      "metadata": {
        "id": "OeaHx7thm6Bw",
        "colab_type": "text"
      },
      "source": [
        "**Accuracy of the Logistic Regression**"
      ]
    },
    {
      "cell_type": "code",
      "metadata": {
        "id": "CE1l2kRcD08-",
        "colab_type": "code",
        "colab": {
          "base_uri": "https://localhost:8080/",
          "height": 88
        },
        "outputId": "7cd2c457-7084-475a-a7c4-25398fde114a"
      },
      "source": [
        "## Accuracy Of The Model In the Linear Regression Algo\n",
        "acc = accuracy_score(y_test, y_pred)\n",
        "print ('\\n<<================================ Accuracy Of the Model in LR Algo ================================>>\\n', acc*100)"
      ],
      "execution_count": 20,
      "outputs": [
        {
          "output_type": "stream",
          "text": [
            "\n",
            "<<================================ Accuracy Of the Model in LR Algo ================================>>\n",
            " 84.38657779820731\n"
          ],
          "name": "stdout"
        }
      ]
    },
    {
      "cell_type": "code",
      "metadata": {
        "id": "--7iGT4sWGAc",
        "colab_type": "code",
        "colab": {
          "base_uri": "https://localhost:8080/",
          "height": 51
        },
        "outputId": "8a8b4d0b-f0f2-4066-bf83-819a6ad60502"
      },
      "source": [
        "############ \n",
        "from sklearn.metrics import accuracy_score\n",
        "print(\"Model Accuracy is : \\n \",accuracy_score(y_test,y_pred))"
      ],
      "execution_count": 21,
      "outputs": [
        {
          "output_type": "stream",
          "text": [
            "Model Accuracy is : \n",
            "  0.8438657779820731\n"
          ],
          "name": "stdout"
        }
      ]
    },
    {
      "cell_type": "code",
      "metadata": {
        "id": "0HVKEZw6WQAK",
        "colab_type": "code",
        "colab": {
          "base_uri": "https://localhost:8080/",
          "height": 411
        },
        "outputId": "3a001006-0f5c-48de-efd4-0ae2643bde20"
      },
      "source": [
        "from sklearn.metrics import classification_report\n",
        "from sklearn.metrics import confusion_matrix\n",
        "\n",
        "print(classification_report(y_test,y_pred))\n",
        "print(\"\\n\\n <<===================================>> \\n\\n\")\n",
        "print(confusion_matrix(y_test,y_pred))"
      ],
      "execution_count": 22,
      "outputs": [
        {
          "output_type": "stream",
          "text": [
            "/usr/local/lib/python3.6/dist-packages/sklearn/metrics/_classification.py:1272: UndefinedMetricWarning: Precision and F-score are ill-defined and being set to 0.0 in labels with no predicted samples. Use `zero_division` parameter to control this behavior.\n",
            "  _warn_prf(average, modifier, msg_start, len(result))\n"
          ],
          "name": "stderr"
        },
        {
          "output_type": "stream",
          "text": [
            "              precision    recall  f1-score   support\n",
            "\n",
            "      BENIGN       0.96      0.51      0.67      1217\n",
            "         Syn       0.84      1.00      0.91    182224\n",
            "         UDP       0.96      0.02      0.05     33552\n",
            "      UDPLag       0.00      0.00      0.00       557\n",
            "\n",
            "    accuracy                           0.84    217550\n",
            "   macro avg       0.69      0.38      0.41    217550\n",
            "weighted avg       0.86      0.84      0.78    217550\n",
            "\n",
            "\n",
            "\n",
            " <<===================================>> \n",
            "\n",
            "\n",
            "[[   621    595      1      0]\n",
            " [     9 182181     34      0]\n",
            " [     6  32765    781      0]\n",
            " [     8    549      0      0]]\n"
          ],
          "name": "stdout"
        }
      ]
    },
    {
      "cell_type": "markdown",
      "metadata": {
        "id": "b7UNTsIrPIJ-",
        "colab_type": "text"
      },
      "source": [
        "#**NAIVE BAYES ALGORITHM**"
      ]
    },
    {
      "cell_type": "markdown",
      "metadata": {
        "id": "FeVVSnlPnBf1",
        "colab_type": "text"
      },
      "source": [
        "**Fiting the Model into the Navie Bayes Algorithm**"
      ]
    },
    {
      "cell_type": "code",
      "metadata": {
        "id": "ClfId6FCW1k9",
        "colab_type": "code",
        "colab": {
          "base_uri": "https://localhost:8080/",
          "height": 34
        },
        "outputId": "3387e2bd-2229-4244-f165-7bbf8234e7f6"
      },
      "source": [
        "############ now we solve naive Bayes algo\n",
        "from sklearn.naive_bayes import GaussianNB\n",
        "classifier = GaussianNB()\n",
        "## model fit on x,y data\n",
        "classifier.fit(x,y)"
      ],
      "execution_count": 23,
      "outputs": [
        {
          "output_type": "execute_result",
          "data": {
            "text/plain": [
              "GaussianNB(priors=None, var_smoothing=1e-09)"
            ]
          },
          "metadata": {
            "tags": []
          },
          "execution_count": 23
        }
      ]
    },
    {
      "cell_type": "code",
      "metadata": {
        "id": "Zuh3qsosXfBZ",
        "colab_type": "code",
        "colab": {
          "base_uri": "https://localhost:8080/",
          "height": 34
        },
        "outputId": "81d4cd08-9760-4fbf-ed59-6bac4fc5cb29"
      },
      "source": [
        "#predicting the test result\n",
        "y_pred = classifier.predict(x)\n",
        "print(y_pred)"
      ],
      "execution_count": 24,
      "outputs": [
        {
          "output_type": "stream",
          "text": [
            "['UDPLag' 'UDPLag' 'UDPLag' ... 'UDPLag' 'Syn' 'UDPLag']\n"
          ],
          "name": "stdout"
        }
      ]
    },
    {
      "cell_type": "markdown",
      "metadata": {
        "id": "q35txfUTnFHg",
        "colab_type": "text"
      },
      "source": [
        "**Confusion Matrix of the Naive Bayes Algorithm**"
      ]
    },
    {
      "cell_type": "code",
      "metadata": {
        "id": "3b6ZLYpkXiZk",
        "colab_type": "code",
        "colab": {
          "base_uri": "https://localhost:8080/",
          "height": 119
        },
        "outputId": "07d6774e-596b-4dc5-e49c-9cc4b8e0f1b4"
      },
      "source": [
        "#checking the accuracy of model\n",
        "\n",
        "from sklearn.metrics import confusion_matrix, accuracy_score, classification_report\n",
        "cfm = confusion_matrix(y, y_pred)\n",
        "print(\"\\n<<================= Confusion Matrix ======================>> \\n\",cfm)"
      ],
      "execution_count": 25,
      "outputs": [
        {
          "output_type": "stream",
          "text": [
            "\n",
            "<<================= Confusion Matrix ======================>> \n",
            " [[   535    734      0   2799]\n",
            " [ 30664 261195      0 314890]\n",
            " [    18  29141   2687  80629]\n",
            " [    19     52      0   1802]]\n"
          ],
          "name": "stdout"
        }
      ]
    },
    {
      "cell_type": "markdown",
      "metadata": {
        "id": "moU4J9g9nK_8",
        "colab_type": "text"
      },
      "source": [
        "**Classification Report of the Naive Bayes Algorithm**"
      ]
    },
    {
      "cell_type": "code",
      "metadata": {
        "id": "LjZFRBupXl0R",
        "colab_type": "code",
        "colab": {
          "base_uri": "https://localhost:8080/",
          "height": 255
        },
        "outputId": "540357ca-db6d-4f51-9621-2828693a06c3"
      },
      "source": [
        "## Classification Report\n",
        "\n",
        "print(\"\\n<<==================== Calssification Report ====================>>\\n\")\n",
        "\n",
        "print (classification_report(y, y_pred))"
      ],
      "execution_count": 26,
      "outputs": [
        {
          "output_type": "stream",
          "text": [
            "\n",
            "<<==================== Calssification Report ====================>>\n",
            "\n",
            "              precision    recall  f1-score   support\n",
            "\n",
            "      BENIGN       0.02      0.13      0.03      4068\n",
            "         Syn       0.90      0.43      0.58    606749\n",
            "         UDP       1.00      0.02      0.05    112475\n",
            "      UDPLag       0.00      0.96      0.01      1873\n",
            "\n",
            "    accuracy                           0.37    725165\n",
            "   macro avg       0.48      0.39      0.17    725165\n",
            "weighted avg       0.91      0.37      0.49    725165\n",
            "\n"
          ],
          "name": "stdout"
        }
      ]
    },
    {
      "cell_type": "markdown",
      "metadata": {
        "id": "20AyXFsbnNvN",
        "colab_type": "text"
      },
      "source": [
        "**Accuracy of the Naive Bayes Algorithm**"
      ]
    },
    {
      "cell_type": "code",
      "metadata": {
        "id": "HO-EsUOTXpeE",
        "colab_type": "code",
        "colab": {
          "base_uri": "https://localhost:8080/",
          "height": 88
        },
        "outputId": "d489ef9e-71b6-40a7-ff81-97708add9284"
      },
      "source": [
        "## Accuracy Of The Model In the Linear Regression Algo\n",
        "acc = accuracy_score(y, y_pred)\n",
        "print ('\\n<<================================ Accuracy Of the Model in LR Algo ================================>>\\n', acc)"
      ],
      "execution_count": 27,
      "outputs": [
        {
          "output_type": "stream",
          "text": [
            "\n",
            "<<================================ Accuracy Of the Model in LR Algo ================================>>\n",
            " 0.3671150703632966\n"
          ],
          "name": "stdout"
        }
      ]
    },
    {
      "cell_type": "markdown",
      "metadata": {
        "id": "x-9VaiYaiRoR",
        "colab_type": "text"
      },
      "source": [
        "#**KNN ALGORITHM**"
      ]
    },
    {
      "cell_type": "markdown",
      "metadata": {
        "id": "YmsdO5_EnSc7",
        "colab_type": "text"
      },
      "source": [
        "**Label Encoding of the Label Column in the Dataset becasuse its dtype is Object**"
      ]
    },
    {
      "cell_type": "code",
      "metadata": {
        "id": "xxDpweR5mlch",
        "colab_type": "code",
        "colab": {}
      },
      "source": [
        "## Label Encoding\n",
        "from sklearn.preprocessing import LabelEncoder\n",
        "le = LabelEncoder()\n",
        "y_train= le.fit_transform(y_train)\n",
        "y_test= le.fit_transform(y_test)"
      ],
      "execution_count": 0,
      "outputs": []
    },
    {
      "cell_type": "markdown",
      "metadata": {
        "id": "eEByaMcfnXph",
        "colab_type": "text"
      },
      "source": [
        "**Fiting the Model in the KNN Algorithm**"
      ]
    },
    {
      "cell_type": "code",
      "metadata": {
        "id": "OuNHehZYdfL7",
        "colab_type": "code",
        "colab": {
          "base_uri": "https://localhost:8080/",
          "height": 88
        },
        "outputId": "19b3d3d8-e1d3-4ecb-d5d1-0581cc43e5c5"
      },
      "source": [
        "from sklearn.neighbors import  KNeighborsClassifier\n",
        "model = KNeighborsClassifier(n_neighbors=100)\n",
        "\n",
        "model.fit(x_train,y_train)"
      ],
      "execution_count": 31,
      "outputs": [
        {
          "output_type": "execute_result",
          "data": {
            "text/plain": [
              "KNeighborsClassifier(algorithm='auto', leaf_size=30, metric='minkowski',\n",
              "                     metric_params=None, n_jobs=None, n_neighbors=100, p=2,\n",
              "                     weights='uniform')"
            ]
          },
          "metadata": {
            "tags": []
          },
          "execution_count": 31
        }
      ]
    },
    {
      "cell_type": "code",
      "metadata": {
        "id": "hg-_qQKthhXV",
        "colab_type": "code",
        "colab": {
          "base_uri": "https://localhost:8080/",
          "height": 34
        },
        "outputId": "461157c9-7911-46a8-e6e9-6afbbc437826"
      },
      "source": [
        "THRESHOLD = 0.67\n",
        "\n",
        "import numpy as np\n",
        "\n",
        "y_pred = np.where(model.predict_proba(x_test)[:,1] > THRESHOLD, 1,0)\n",
        "\n",
        "#Print(model.predict_proba(x_test))\n",
        "#model test and take y_pred value\n",
        "\n",
        "print(y_pred)"
      ],
      "execution_count": 33,
      "outputs": [
        {
          "output_type": "stream",
          "text": [
            "[1 1 0 ... 1 1 1]\n"
          ],
          "name": "stdout"
        }
      ]
    },
    {
      "cell_type": "markdown",
      "metadata": {
        "id": "d21ZwzcMnbPk",
        "colab_type": "text"
      },
      "source": [
        "**Accuracy and Classification Report of the KNN Algorithn**"
      ]
    },
    {
      "cell_type": "code",
      "metadata": {
        "id": "UPuzBJNJkEJ_",
        "colab_type": "code",
        "colab": {
          "base_uri": "https://localhost:8080/",
          "height": 598
        },
        "outputId": "1c1e6bc1-7faf-40c7-83b7-9e2c243fd181"
      },
      "source": [
        "##################\n",
        "\n",
        "from sklearn.metrics import accuracy_score\n",
        "print(\"Model Accuracy is : \\n \", accuracy_score(y_test,y_pred))\n",
        "\n",
        "from sklearn.metrics import classification_report\n",
        "from sklearn.metrics import confusion_matrix\n",
        "print(\"\\n\\n <<===================================>> \\n\\n\")\n",
        "print(\"\\t CLASSIFICATION REPORT \\n\")\n",
        "print(classification_report(y_test,y_pred))\n",
        "print(\"\\n\\n <<===================================>> \\n\\n\")\n",
        "print(\"Confusion Matrix \\n \")\n",
        "print(confusion_matrix(y_test,y_pred))"
      ],
      "execution_count": 34,
      "outputs": [
        {
          "output_type": "stream",
          "text": [
            "Model Accuracy is : \n",
            "  0.8410940013789934\n",
            "\n",
            "\n",
            " <<===================================>> \n",
            "\n",
            "\n",
            "\t CLASSIFICATION REPORT \n",
            "\n"
          ],
          "name": "stdout"
        },
        {
          "output_type": "stream",
          "text": [
            "/usr/local/lib/python3.6/dist-packages/sklearn/metrics/_classification.py:1272: UndefinedMetricWarning: Precision and F-score are ill-defined and being set to 0.0 in labels with no predicted samples. Use `zero_division` parameter to control this behavior.\n",
            "  _warn_prf(average, modifier, msg_start, len(result))\n"
          ],
          "name": "stderr"
        },
        {
          "output_type": "stream",
          "text": [
            "              precision    recall  f1-score   support\n",
            "\n",
            "           0       0.03      0.84      0.06      1217\n",
            "           1       1.00      1.00      1.00    182224\n",
            "           2       0.00      0.00      0.00     33552\n",
            "           3       0.00      0.00      0.00       557\n",
            "\n",
            "    accuracy                           0.84    217550\n",
            "   macro avg       0.26      0.46      0.26    217550\n",
            "weighted avg       0.84      0.84      0.84    217550\n",
            "\n",
            "\n",
            "\n",
            " <<===================================>> \n",
            "\n",
            "\n",
            "Confusion Matrix \n",
            " \n",
            "[[  1025    192      0      0]\n",
            " [   269 181955      0      0]\n",
            " [ 33436    116      0      0]\n",
            " [   546     11      0      0]]\n"
          ],
          "name": "stdout"
        }
      ]
    },
    {
      "cell_type": "markdown",
      "metadata": {
        "id": "ITS4PRkhnhcy",
        "colab_type": "text"
      },
      "source": [
        "**Comparision of the Accuracies of the**\n",
        "\n",
        "**1.   Logistic Regression**\n",
        "\n",
        "**2.   KNN Algorithm**\n",
        "\n",
        "**3.   Naive Bayes Algorithm**\n"
      ]
    },
    {
      "cell_type": "code",
      "metadata": {
        "id": "A6aJ4lP6oki2",
        "colab_type": "code",
        "colab": {
          "base_uri": "https://localhost:8080/",
          "height": 319
        },
        "outputId": "f64f85e3-a5ff-425e-983b-fad1020dacda"
      },
      "source": [
        "accu_LR = 0.8438657779820731*100\n",
        "accu_KNN =   0.8410940013789934*100\n",
        "accu_NB =  0.3671150703632966*100\n",
        "\n",
        "import matplotlib.pyplot as plt\n",
        "import matplotlib as pl\n",
        "import seaborn as sns\n",
        "y=[accu_LR,accu_KNN,accu_NB]\n",
        "x=[\"Logistic\",\"KNN\",\"NB\"]\n",
        "c=[\"red\",\"blue\",\"green\"]\n",
        "plt.bar(x,y,color=c)\n",
        "plt.show()"
      ],
      "execution_count": 1,
      "outputs": [
        {
          "output_type": "stream",
          "text": [
            "/usr/local/lib/python3.6/dist-packages/statsmodels/tools/_testing.py:19: FutureWarning: pandas.util.testing is deprecated. Use the functions in the public API at pandas.testing instead.\n",
            "  import pandas.util.testing as tm\n"
          ],
          "name": "stderr"
        },
        {
          "output_type": "display_data",
          "data": {
            "image/png": "[encoded data removed]",
            "text/plain": [
              "<Figure size 432x288 with 1 Axes>"
            ]
          },
          "metadata": {
            "tags": [],
            "needs_background": "light"
          }
        }
      ]
    }
  ]
}