{
  "nbformat": 4,
  "nbformat_minor": 0,
  "metadata": {
    "colab": {
      "name": "Conclusion_DDos_Attack.ipynb",
      "provenance": [],
      "authorship_tag": "ABX9TyOIdxJZZEmt0Xe+sO5P1aQn",
      "include_colab_link": true
    },
    "kernelspec": {
      "name": "python3",
      "display_name": "Python 3"
    }
  },
  "cells": [
    {
      "cell_type": "markdown",
      "metadata": {
        "id": "view-in-github",
        "colab_type": "text"
      },
      "source": [
        "<a href=\"https://colab.research.google.com/github/khagendra1998/A-rule-based-expert-system-to-identify-the-type-of-cybercrime/blob/master/Conclusion_DDos_Attack.ipynb\" target=\"_parent\"><img src=\"https://colab.research.google.com/assets/colab-badge.svg\" alt=\"Open In Colab\"/></a>"
      ]
    },
    {
      "cell_type": "markdown",
      "metadata": {
        "id": "GWNTfiM_3L_I",
        "colab_type": "text"
      },
      "source": [
        "#**CONCLUSION**"
      ]
    },
    {
      "cell_type": "markdown",
      "metadata": {
        "id": "H5KIcrNi5pHo",
        "colab_type": "text"
      },
      "source": [
        "#**LOGISTIC REGRESSION ALGORITHM**"
      ]
    },
    {
      "cell_type": "markdown",
      "metadata": {
        "id": "PK_JTd3v3Qdz",
        "colab_type": "text"
      },
      "source": [
        "**Comparision of the Logisitc Regression with all dataset of the DDos Attack**"
      ]
    },
    {
      "cell_type": "code",
      "metadata": {
        "id": "ilN4FQB23C6m",
        "colab_type": "code",
        "colab": {
          "base_uri": "https://localhost:8080/",
          "height": 295
        },
        "outputId": "43ce6859-f890-402f-e08e-0237c3eafff6"
      },
      "source": [
        "accu_LDAP    = 0.9030775855677942*100\n",
        "accu_NETBios = 0.9997675472862834*100\n",
        "accu_Portmap = 0.9914622059155959*100\n",
        "accu_Syn     = 0.9956448378791865*100\n",
        "accu_UDP     = 0.8438657779820731*100\n",
        "accu_UDPLag  = 0.992832226689534*100\n",
        "\n",
        "\n",
        "import matplotlib.pyplot as plt\n",
        "import matplotlib as pl\n",
        "import seaborn as sns\n",
        "y=[accu_LDAP,accu_NETBios,accu_Portmap,accu_Syn,accu_UDP,accu_UDPLag]\n",
        "x=[\"LDAP\", \"NETBios\", \"Portmap\", \"Syn\", \"UDP\", \"UDPLag\"]\n",
        "c=[\"red\",\"blue\",\"green\",\"yellow\",\"pink\", \"orange\"]\n",
        "plt.bar(x,y,color=c)\n",
        "plt.xlabel(\"Name of the Dataset\")\n",
        "plt.ylabel(\"Accuracy of LR\")\n",
        "plt.title(\"Releation of all Accuaracies in LR\")\n",
        "plt.show()"
      ],
      "execution_count": 3,
      "outputs": [
        {
          "output_type": "display_data",
          "data": {
            "image/png": "[encoded data removed]",
            "text/plain": [
              "<Figure size 432x288 with 1 Axes>"
            ]
          },
          "metadata": {
            "tags": [],
            "needs_background": "light"
          }
        }
      ]
    },
    {
      "cell_type": "markdown",
      "metadata": {
        "id": "gLznwn-Q5y1V",
        "colab_type": "text"
      },
      "source": [
        "#**KNN ALGORITHM**"
      ]
    },
    {
      "cell_type": "markdown",
      "metadata": {
        "id": "eZ5Wn6aS54xZ",
        "colab_type": "text"
      },
      "source": [
        "**Comparision of the KNN Algorithm with all dataset of the DDos Attack**"
      ]
    },
    {
      "cell_type": "code",
      "metadata": {
        "id": "SrBMGz7653Aw",
        "colab_type": "code",
        "colab": {
          "base_uri": "https://localhost:8080/",
          "height": 295
        },
        "outputId": "66ec1436-33e1-490d-d6b6-fe300285e696"
      },
      "source": [
        "accu_LDAP    = 0.9032999932173553 *100\n",
        "accu_NETBios = 0.9998504972173192 *100\n",
        "accu_Portmap = 0.9968178893738371*100\n",
        "accu_Syn     = 0.9990649324197651 *100\n",
        "accu_UDP     = 0.0011809684293648682*100\n",
        "accu_UDPLag  = 0.8410940013789934*100\n",
        "\n",
        "\n",
        "import matplotlib.pyplot as plt\n",
        "import matplotlib as pl\n",
        "import seaborn as sns\n",
        "y=[accu_LDAP,accu_NETBios,accu_Portmap,accu_Syn,accu_UDP,accu_UDPLag]\n",
        "x=[\"LDAP\", \"NETBios\", \"Portmap\", \"Syn\", \"UDP\", \"UDPLag\"]\n",
        "c=[\"red\",\"blue\",\"green\",\"yellow\",\"pink\", \"orange\"]\n",
        "plt.bar(x,y,color=c)\n",
        "plt.xlabel(\"Name of the Dataset\")\n",
        "plt.ylabel(\"Accuracy of KNN\")\n",
        "plt.title(\"Releation of all Accuaracies in KNN\")\n",
        "plt.show()"
      ],
      "execution_count": 4,
      "outputs": [
        {
          "output_type": "display_data",
          "data": {
            "image/png": "[encoded data removed]",
            "text/plain": [
              "<Figure size 432x288 with 1 Axes>"
            ]
          },
          "metadata": {
            "tags": [],
            "needs_background": "light"
          }
        }
      ]
    },
    {
      "cell_type": "markdown",
      "metadata": {
        "id": "qEt6j5R16ofZ",
        "colab_type": "text"
      },
      "source": [
        "#**NAIVE BAYES ALGORITHM**"
      ]
    },
    {
      "cell_type": "markdown",
      "metadata": {
        "id": "2J24bypu6trV",
        "colab_type": "text"
      },
      "source": [
        "**Comparision of the Naive Bayes Algorithm with all dataset of the DDos Attack**"
      ]
    },
    {
      "cell_type": "code",
      "metadata": {
        "id": "g4mrin6Z60rH",
        "colab_type": "code",
        "colab": {
          "base_uri": "https://localhost:8080/",
          "height": 295
        },
        "outputId": "35b976b8-4546-4b66-915a-44e3244488be"
      },
      "source": [
        "accu_LDAP    = 90.20444152808251\n",
        "accu_NETBios = 99.86014255813728\n",
        "accu_Portmap = 0.03399689087817042*100\n",
        "accu_Syn     = 98.44109112819915\n",
        "accu_UDP     = 0.9761551856244742*100\n",
        "accu_UDPLag  = 0.3671150703632966*100\n",
        "\n",
        "\n",
        "import matplotlib.pyplot as plt\n",
        "import matplotlib as pl\n",
        "import seaborn as sns\n",
        "y=[accu_LDAP,accu_NETBios,accu_Portmap,accu_Syn,accu_UDP,accu_UDPLag]\n",
        "x=[\"LDAP\", \"NETBios\", \"Portmap\", \"Syn\", \"UDP\", \"UDPLag\"]\n",
        "c=[\"red\",\"blue\",\"green\",\"yellow\",\"pink\", \"orange\"]\n",
        "plt.bar(x,y,color=c)\n",
        "plt.xlabel(\"Name of the Dataset\")\n",
        "plt.ylabel(\"Accuracy of Naive Bayes\")\n",
        "plt.title(\"Releation of all Accuaracies in Naive Bayes\")\n",
        "plt.show()"
      ],
      "execution_count": 6,
      "outputs": [
        {
          "output_type": "display_data",
          "data": {
            "image/png": "[encoded data removed]",
            "text/plain": [
              "<Figure size 432x288 with 1 Axes>"
            ]
          },
          "metadata": {
            "tags": [],
            "needs_background": "light"
          }
        }
      ]
    }
  ]
}