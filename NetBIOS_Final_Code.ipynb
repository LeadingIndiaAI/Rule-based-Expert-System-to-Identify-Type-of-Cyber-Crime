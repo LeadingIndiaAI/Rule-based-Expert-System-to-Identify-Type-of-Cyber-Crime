{
  "nbformat": 4,
  "nbformat_minor": 0,
  "metadata": {
    "colab": {
      "name": "NetBIOS_Final_Code.ipynb",
      "provenance": [],
      "collapsed_sections": [],
      "toc_visible": true,
      "mount_file_id": "1_3CJZFedCrQGXKP-RZRHgfePFF780337",
      "authorship_tag": "ABX9TyP+yWu4IDgHcAAtn9KYf1uz",
      "include_colab_link": true
    },
    "kernelspec": {
      "name": "python3",
      "display_name": "Python 3"
    }
  },
  "cells": [
    {
      "cell_type": "markdown",
      "metadata": {
        "id": "view-in-github",
        "colab_type": "text"
      },
      "source": [
        "<a href=\"https://colab.research.google.com/github/khagendra1998/A-rule-based-expert-system-to-identify-the-type-of-cybercrime/blob/master/NetBIOS_Final_Code.ipynb\" target=\"_parent\"><img src=\"https://colab.research.google.com/assets/colab-badge.svg\" alt=\"Open In Colab\"/></a>"
      ]
    },
    {
      "cell_type": "markdown",
      "metadata": {
        "id": "WLprYqMGigKa",
        "colab_type": "text"
      },
      "source": [
        "#**NetBIOS DATASET**"
      ]
    },
    {
      "cell_type": "markdown",
      "metadata": {
        "id": "nevN-hXJfmM0",
        "colab_type": "text"
      },
      "source": [
        "**Load the data from the google drive**"
      ]
    },
    {
      "cell_type": "code",
      "metadata": {
        "id": "Bbtik3o3C88e",
        "colab_type": "code",
        "outputId": "ae319cff-f944-449b-a981-163d1ea7c153",
        "colab": {
          "base_uri": "https://localhost:8080/",
          "height": 71
        }
      },
      "source": [
        "import pandas as pd\n",
        "import numpy as np\n",
        "import matplotlib.pyplot as plt\n",
        "\n",
        "#Load the Data from CSV file\n",
        "\n",
        "data = pd.read_csv(\"/content/drive/My Drive/Datasets/NetBIOS.csv\")"
      ],
      "execution_count": 1,
      "outputs": [
        {
          "output_type": "stream",
          "text": [
            "/usr/local/lib/python3.6/dist-packages/IPython/core/interactiveshell.py:2718: DtypeWarning: Columns (85) have mixed types.Specify dtype option on import or set low_memory=False.\n",
            "  interactivity=interactivity, compiler=compiler, result=result)\n"
          ],
          "name": "stderr"
        }
      ]
    },
    {
      "cell_type": "markdown",
      "metadata": {
        "id": "Zb0zIWHzfrdj",
        "colab_type": "text"
      },
      "source": [
        "**Show the First Five rows of the Dataset**"
      ]
    },
    {
      "cell_type": "code",
      "metadata": {
        "id": "J3XSj4zBDjIO",
        "colab_type": "code",
        "outputId": "23b5742c-2346-4b98-a136-e613b0c0a5db",
        "colab": {
          "base_uri": "https://localhost:8080/",
          "height": 525
        }
      },
      "source": [
        "data.head()"
      ],
      "execution_count": 2,
      "outputs": [
        {
          "output_type": "execute_result",
          "data": {
            "text/html": [
              "<div>\n",
              "<style scoped>\n",
              "    .dataframe tbody tr th:only-of-type {\n",
              "        vertical-align: middle;\n",
              "    }\n",
              "\n",
              "    .dataframe tbody tr th {\n",
              "        vertical-align: top;\n",
              "    }\n",
              "\n",
              "    .dataframe thead th {\n",
              "        text-align: right;\n",
              "    }\n",
              "</style>\n",
              "<table border=\"1\" class=\"dataframe\">\n",
              "  <thead>\n",
              "    <tr style=\"text-align: right;\">\n",
              "      <th></th>\n",
              "      <th>Unnamed: 0</th>\n",
              "      <th>Flow ID</th>\n",
              "      <th>Source IP</th>\n",
              "      <th>Source Port</th>\n",
              "      <th>Destination IP</th>\n",
              "      <th>Destination Port</th>\n",
              "      <th>Protocol</th>\n",
              "      <th>Timestamp</th>\n",
              "      <th>Flow Duration</th>\n",
              "      <th>Total Fwd Packets</th>\n",
              "      <th>Total Backward Packets</th>\n",
              "      <th>Total Length of Fwd Packets</th>\n",
              "      <th>Total Length of Bwd Packets</th>\n",
              "      <th>Fwd Packet Length Max</th>\n",
              "      <th>Fwd Packet Length Min</th>\n",
              "      <th>Fwd Packet Length Mean</th>\n",
              "      <th>Fwd Packet Length Std</th>\n",
              "      <th>Bwd Packet Length Max</th>\n",
              "      <th>Bwd Packet Length Min</th>\n",
              "      <th>Bwd Packet Length Mean</th>\n",
              "      <th>Bwd Packet Length Std</th>\n",
              "      <th>Flow Bytes/s</th>\n",
              "      <th>Flow Packets/s</th>\n",
              "      <th>Flow IAT Mean</th>\n",
              "      <th>Flow IAT Std</th>\n",
              "      <th>Flow IAT Max</th>\n",
              "      <th>Flow IAT Min</th>\n",
              "      <th>Fwd IAT Total</th>\n",
              "      <th>Fwd IAT Mean</th>\n",
              "      <th>Fwd IAT Std</th>\n",
              "      <th>Fwd IAT Max</th>\n",
              "      <th>Fwd IAT Min</th>\n",
              "      <th>Bwd IAT Total</th>\n",
              "      <th>Bwd IAT Mean</th>\n",
              "      <th>Bwd IAT Std</th>\n",
              "      <th>Bwd IAT Max</th>\n",
              "      <th>Bwd IAT Min</th>\n",
              "      <th>Fwd PSH Flags</th>\n",
              "      <th>Bwd PSH Flags</th>\n",
              "      <th>Fwd URG Flags</th>\n",
              "      <th>...</th>\n",
              "      <th>Packet Length Std</th>\n",
              "      <th>Packet Length Variance</th>\n",
              "      <th>FIN Flag Count</th>\n",
              "      <th>SYN Flag Count</th>\n",
              "      <th>RST Flag Count</th>\n",
              "      <th>PSH Flag Count</th>\n",
              "      <th>ACK Flag Count</th>\n",
              "      <th>URG Flag Count</th>\n",
              "      <th>CWE Flag Count</th>\n",
              "      <th>ECE Flag Count</th>\n",
              "      <th>Down/Up Ratio</th>\n",
              "      <th>Average Packet Size</th>\n",
              "      <th>Avg Fwd Segment Size</th>\n",
              "      <th>Avg Bwd Segment Size</th>\n",
              "      <th>Fwd Header Length.1</th>\n",
              "      <th>Fwd Avg Bytes/Bulk</th>\n",
              "      <th>Fwd Avg Packets/Bulk</th>\n",
              "      <th>Fwd Avg Bulk Rate</th>\n",
              "      <th>Bwd Avg Bytes/Bulk</th>\n",
              "      <th>Bwd Avg Packets/Bulk</th>\n",
              "      <th>Bwd Avg Bulk Rate</th>\n",
              "      <th>Subflow Fwd Packets</th>\n",
              "      <th>Subflow Fwd Bytes</th>\n",
              "      <th>Subflow Bwd Packets</th>\n",
              "      <th>Subflow Bwd Bytes</th>\n",
              "      <th>Init_Win_bytes_forward</th>\n",
              "      <th>Init_Win_bytes_backward</th>\n",
              "      <th>act_data_pkt_fwd</th>\n",
              "      <th>min_seg_size_forward</th>\n",
              "      <th>Active Mean</th>\n",
              "      <th>Active Std</th>\n",
              "      <th>Active Max</th>\n",
              "      <th>Active Min</th>\n",
              "      <th>Idle Mean</th>\n",
              "      <th>Idle Std</th>\n",
              "      <th>Idle Max</th>\n",
              "      <th>Idle Min</th>\n",
              "      <th>SimillarHTTP</th>\n",
              "      <th>Inbound</th>\n",
              "      <th>Label</th>\n",
              "    </tr>\n",
              "  </thead>\n",
              "  <tbody>\n",
              "    <tr>\n",
              "      <th>0</th>\n",
              "      <td>302291</td>\n",
              "      <td>172.16.0.5-192.168.50.4-648-16174-17</td>\n",
              "      <td>172.16.0.5</td>\n",
              "      <td>648</td>\n",
              "      <td>192.168.50.4</td>\n",
              "      <td>16174</td>\n",
              "      <td>17</td>\n",
              "      <td>2018-11-03 10:01:48.920574</td>\n",
              "      <td>1</td>\n",
              "      <td>2</td>\n",
              "      <td>0</td>\n",
              "      <td>458.0</td>\n",
              "      <td>0.0</td>\n",
              "      <td>229.0</td>\n",
              "      <td>229.0</td>\n",
              "      <td>229.0</td>\n",
              "      <td>0.0</td>\n",
              "      <td>0.0</td>\n",
              "      <td>0.0</td>\n",
              "      <td>0.0</td>\n",
              "      <td>0.0</td>\n",
              "      <td>4.580000e+08</td>\n",
              "      <td>2.000000e+06</td>\n",
              "      <td>1.0</td>\n",
              "      <td>0.0</td>\n",
              "      <td>1.0</td>\n",
              "      <td>1.0</td>\n",
              "      <td>1.0</td>\n",
              "      <td>1.0</td>\n",
              "      <td>0.0</td>\n",
              "      <td>1.0</td>\n",
              "      <td>1.0</td>\n",
              "      <td>0.0</td>\n",
              "      <td>0.0</td>\n",
              "      <td>0.0</td>\n",
              "      <td>0.0</td>\n",
              "      <td>0.0</td>\n",
              "      <td>0</td>\n",
              "      <td>0</td>\n",
              "      <td>0</td>\n",
              "      <td>...</td>\n",
              "      <td>0.0</td>\n",
              "      <td>0.0</td>\n",
              "      <td>0</td>\n",
              "      <td>0</td>\n",
              "      <td>0</td>\n",
              "      <td>0</td>\n",
              "      <td>0</td>\n",
              "      <td>0</td>\n",
              "      <td>0</td>\n",
              "      <td>0</td>\n",
              "      <td>0.0</td>\n",
              "      <td>343.5</td>\n",
              "      <td>229.0</td>\n",
              "      <td>0.0</td>\n",
              "      <td>-2</td>\n",
              "      <td>0</td>\n",
              "      <td>0</td>\n",
              "      <td>0</td>\n",
              "      <td>0</td>\n",
              "      <td>0</td>\n",
              "      <td>0</td>\n",
              "      <td>2</td>\n",
              "      <td>458</td>\n",
              "      <td>0</td>\n",
              "      <td>0</td>\n",
              "      <td>-1</td>\n",
              "      <td>-1</td>\n",
              "      <td>1</td>\n",
              "      <td>-1</td>\n",
              "      <td>0.0</td>\n",
              "      <td>0.0</td>\n",
              "      <td>0.0</td>\n",
              "      <td>0.0</td>\n",
              "      <td>0.0</td>\n",
              "      <td>0.0</td>\n",
              "      <td>0.0</td>\n",
              "      <td>0.0</td>\n",
              "      <td>0</td>\n",
              "      <td>1</td>\n",
              "      <td>NetBIOS</td>\n",
              "    </tr>\n",
              "    <tr>\n",
              "      <th>1</th>\n",
              "      <td>341625</td>\n",
              "      <td>172.16.0.5-192.168.50.4-861-34200-17</td>\n",
              "      <td>172.16.0.5</td>\n",
              "      <td>861</td>\n",
              "      <td>192.168.50.4</td>\n",
              "      <td>34200</td>\n",
              "      <td>17</td>\n",
              "      <td>2018-11-03 10:01:48.920625</td>\n",
              "      <td>1</td>\n",
              "      <td>2</td>\n",
              "      <td>0</td>\n",
              "      <td>458.0</td>\n",
              "      <td>0.0</td>\n",
              "      <td>229.0</td>\n",
              "      <td>229.0</td>\n",
              "      <td>229.0</td>\n",
              "      <td>0.0</td>\n",
              "      <td>0.0</td>\n",
              "      <td>0.0</td>\n",
              "      <td>0.0</td>\n",
              "      <td>0.0</td>\n",
              "      <td>4.580000e+08</td>\n",
              "      <td>2.000000e+06</td>\n",
              "      <td>1.0</td>\n",
              "      <td>0.0</td>\n",
              "      <td>1.0</td>\n",
              "      <td>1.0</td>\n",
              "      <td>1.0</td>\n",
              "      <td>1.0</td>\n",
              "      <td>0.0</td>\n",
              "      <td>1.0</td>\n",
              "      <td>1.0</td>\n",
              "      <td>0.0</td>\n",
              "      <td>0.0</td>\n",
              "      <td>0.0</td>\n",
              "      <td>0.0</td>\n",
              "      <td>0.0</td>\n",
              "      <td>0</td>\n",
              "      <td>0</td>\n",
              "      <td>0</td>\n",
              "      <td>...</td>\n",
              "      <td>0.0</td>\n",
              "      <td>0.0</td>\n",
              "      <td>0</td>\n",
              "      <td>0</td>\n",
              "      <td>0</td>\n",
              "      <td>0</td>\n",
              "      <td>0</td>\n",
              "      <td>0</td>\n",
              "      <td>0</td>\n",
              "      <td>0</td>\n",
              "      <td>0.0</td>\n",
              "      <td>343.5</td>\n",
              "      <td>229.0</td>\n",
              "      <td>0.0</td>\n",
              "      <td>-2</td>\n",
              "      <td>0</td>\n",
              "      <td>0</td>\n",
              "      <td>0</td>\n",
              "      <td>0</td>\n",
              "      <td>0</td>\n",
              "      <td>0</td>\n",
              "      <td>2</td>\n",
              "      <td>458</td>\n",
              "      <td>0</td>\n",
              "      <td>0</td>\n",
              "      <td>-1</td>\n",
              "      <td>-1</td>\n",
              "      <td>1</td>\n",
              "      <td>-1</td>\n",
              "      <td>0.0</td>\n",
              "      <td>0.0</td>\n",
              "      <td>0.0</td>\n",
              "      <td>0.0</td>\n",
              "      <td>0.0</td>\n",
              "      <td>0.0</td>\n",
              "      <td>0.0</td>\n",
              "      <td>0.0</td>\n",
              "      <td>0</td>\n",
              "      <td>1</td>\n",
              "      <td>NetBIOS</td>\n",
              "    </tr>\n",
              "    <tr>\n",
              "      <th>2</th>\n",
              "      <td>245313</td>\n",
              "      <td>172.16.0.5-192.168.50.4-862-4750-17</td>\n",
              "      <td>172.16.0.5</td>\n",
              "      <td>862</td>\n",
              "      <td>192.168.50.4</td>\n",
              "      <td>4750</td>\n",
              "      <td>17</td>\n",
              "      <td>2018-11-03 10:01:48.920685</td>\n",
              "      <td>1</td>\n",
              "      <td>2</td>\n",
              "      <td>0</td>\n",
              "      <td>458.0</td>\n",
              "      <td>0.0</td>\n",
              "      <td>229.0</td>\n",
              "      <td>229.0</td>\n",
              "      <td>229.0</td>\n",
              "      <td>0.0</td>\n",
              "      <td>0.0</td>\n",
              "      <td>0.0</td>\n",
              "      <td>0.0</td>\n",
              "      <td>0.0</td>\n",
              "      <td>4.580000e+08</td>\n",
              "      <td>2.000000e+06</td>\n",
              "      <td>1.0</td>\n",
              "      <td>0.0</td>\n",
              "      <td>1.0</td>\n",
              "      <td>1.0</td>\n",
              "      <td>1.0</td>\n",
              "      <td>1.0</td>\n",
              "      <td>0.0</td>\n",
              "      <td>1.0</td>\n",
              "      <td>1.0</td>\n",
              "      <td>0.0</td>\n",
              "      <td>0.0</td>\n",
              "      <td>0.0</td>\n",
              "      <td>0.0</td>\n",
              "      <td>0.0</td>\n",
              "      <td>0</td>\n",
              "      <td>0</td>\n",
              "      <td>0</td>\n",
              "      <td>...</td>\n",
              "      <td>0.0</td>\n",
              "      <td>0.0</td>\n",
              "      <td>0</td>\n",
              "      <td>0</td>\n",
              "      <td>0</td>\n",
              "      <td>0</td>\n",
              "      <td>0</td>\n",
              "      <td>0</td>\n",
              "      <td>0</td>\n",
              "      <td>0</td>\n",
              "      <td>0.0</td>\n",
              "      <td>343.5</td>\n",
              "      <td>229.0</td>\n",
              "      <td>0.0</td>\n",
              "      <td>-2</td>\n",
              "      <td>0</td>\n",
              "      <td>0</td>\n",
              "      <td>0</td>\n",
              "      <td>0</td>\n",
              "      <td>0</td>\n",
              "      <td>0</td>\n",
              "      <td>2</td>\n",
              "      <td>458</td>\n",
              "      <td>0</td>\n",
              "      <td>0</td>\n",
              "      <td>-1</td>\n",
              "      <td>-1</td>\n",
              "      <td>1</td>\n",
              "      <td>-1</td>\n",
              "      <td>0.0</td>\n",
              "      <td>0.0</td>\n",
              "      <td>0.0</td>\n",
              "      <td>0.0</td>\n",
              "      <td>0.0</td>\n",
              "      <td>0.0</td>\n",
              "      <td>0.0</td>\n",
              "      <td>0.0</td>\n",
              "      <td>0</td>\n",
              "      <td>1</td>\n",
              "      <td>NetBIOS</td>\n",
              "    </tr>\n",
              "    <tr>\n",
              "      <th>3</th>\n",
              "      <td>266106</td>\n",
              "      <td>172.16.0.5-192.168.50.4-863-4443-17</td>\n",
              "      <td>172.16.0.5</td>\n",
              "      <td>863</td>\n",
              "      <td>192.168.50.4</td>\n",
              "      <td>4443</td>\n",
              "      <td>17</td>\n",
              "      <td>2018-11-03 10:01:48.921008</td>\n",
              "      <td>1</td>\n",
              "      <td>2</td>\n",
              "      <td>0</td>\n",
              "      <td>458.0</td>\n",
              "      <td>0.0</td>\n",
              "      <td>229.0</td>\n",
              "      <td>229.0</td>\n",
              "      <td>229.0</td>\n",
              "      <td>0.0</td>\n",
              "      <td>0.0</td>\n",
              "      <td>0.0</td>\n",
              "      <td>0.0</td>\n",
              "      <td>0.0</td>\n",
              "      <td>4.580000e+08</td>\n",
              "      <td>2.000000e+06</td>\n",
              "      <td>1.0</td>\n",
              "      <td>0.0</td>\n",
              "      <td>1.0</td>\n",
              "      <td>1.0</td>\n",
              "      <td>1.0</td>\n",
              "      <td>1.0</td>\n",
              "      <td>0.0</td>\n",
              "      <td>1.0</td>\n",
              "      <td>1.0</td>\n",
              "      <td>0.0</td>\n",
              "      <td>0.0</td>\n",
              "      <td>0.0</td>\n",
              "      <td>0.0</td>\n",
              "      <td>0.0</td>\n",
              "      <td>0</td>\n",
              "      <td>0</td>\n",
              "      <td>0</td>\n",
              "      <td>...</td>\n",
              "      <td>0.0</td>\n",
              "      <td>0.0</td>\n",
              "      <td>0</td>\n",
              "      <td>0</td>\n",
              "      <td>0</td>\n",
              "      <td>0</td>\n",
              "      <td>0</td>\n",
              "      <td>0</td>\n",
              "      <td>0</td>\n",
              "      <td>0</td>\n",
              "      <td>0.0</td>\n",
              "      <td>343.5</td>\n",
              "      <td>229.0</td>\n",
              "      <td>0.0</td>\n",
              "      <td>-2</td>\n",
              "      <td>0</td>\n",
              "      <td>0</td>\n",
              "      <td>0</td>\n",
              "      <td>0</td>\n",
              "      <td>0</td>\n",
              "      <td>0</td>\n",
              "      <td>2</td>\n",
              "      <td>458</td>\n",
              "      <td>0</td>\n",
              "      <td>0</td>\n",
              "      <td>-1</td>\n",
              "      <td>-1</td>\n",
              "      <td>1</td>\n",
              "      <td>-1</td>\n",
              "      <td>0.0</td>\n",
              "      <td>0.0</td>\n",
              "      <td>0.0</td>\n",
              "      <td>0.0</td>\n",
              "      <td>0.0</td>\n",
              "      <td>0.0</td>\n",
              "      <td>0.0</td>\n",
              "      <td>0.0</td>\n",
              "      <td>0</td>\n",
              "      <td>1</td>\n",
              "      <td>NetBIOS</td>\n",
              "    </tr>\n",
              "    <tr>\n",
              "      <th>4</th>\n",
              "      <td>47182</td>\n",
              "      <td>172.16.0.5-192.168.50.4-864-48627-17</td>\n",
              "      <td>172.16.0.5</td>\n",
              "      <td>864</td>\n",
              "      <td>192.168.50.4</td>\n",
              "      <td>48627</td>\n",
              "      <td>17</td>\n",
              "      <td>2018-11-03 10:01:48.921010</td>\n",
              "      <td>48</td>\n",
              "      <td>2</td>\n",
              "      <td>0</td>\n",
              "      <td>458.0</td>\n",
              "      <td>0.0</td>\n",
              "      <td>229.0</td>\n",
              "      <td>229.0</td>\n",
              "      <td>229.0</td>\n",
              "      <td>0.0</td>\n",
              "      <td>0.0</td>\n",
              "      <td>0.0</td>\n",
              "      <td>0.0</td>\n",
              "      <td>0.0</td>\n",
              "      <td>9.541667e+06</td>\n",
              "      <td>4.166667e+04</td>\n",
              "      <td>48.0</td>\n",
              "      <td>0.0</td>\n",
              "      <td>48.0</td>\n",
              "      <td>48.0</td>\n",
              "      <td>48.0</td>\n",
              "      <td>48.0</td>\n",
              "      <td>0.0</td>\n",
              "      <td>48.0</td>\n",
              "      <td>48.0</td>\n",
              "      <td>0.0</td>\n",
              "      <td>0.0</td>\n",
              "      <td>0.0</td>\n",
              "      <td>0.0</td>\n",
              "      <td>0.0</td>\n",
              "      <td>0</td>\n",
              "      <td>0</td>\n",
              "      <td>0</td>\n",
              "      <td>...</td>\n",
              "      <td>0.0</td>\n",
              "      <td>0.0</td>\n",
              "      <td>0</td>\n",
              "      <td>0</td>\n",
              "      <td>0</td>\n",
              "      <td>0</td>\n",
              "      <td>0</td>\n",
              "      <td>0</td>\n",
              "      <td>0</td>\n",
              "      <td>0</td>\n",
              "      <td>0.0</td>\n",
              "      <td>343.5</td>\n",
              "      <td>229.0</td>\n",
              "      <td>0.0</td>\n",
              "      <td>-2</td>\n",
              "      <td>0</td>\n",
              "      <td>0</td>\n",
              "      <td>0</td>\n",
              "      <td>0</td>\n",
              "      <td>0</td>\n",
              "      <td>0</td>\n",
              "      <td>2</td>\n",
              "      <td>458</td>\n",
              "      <td>0</td>\n",
              "      <td>0</td>\n",
              "      <td>-1</td>\n",
              "      <td>-1</td>\n",
              "      <td>1</td>\n",
              "      <td>-1</td>\n",
              "      <td>0.0</td>\n",
              "      <td>0.0</td>\n",
              "      <td>0.0</td>\n",
              "      <td>0.0</td>\n",
              "      <td>0.0</td>\n",
              "      <td>0.0</td>\n",
              "      <td>0.0</td>\n",
              "      <td>0.0</td>\n",
              "      <td>0</td>\n",
              "      <td>1</td>\n",
              "      <td>NetBIOS</td>\n",
              "    </tr>\n",
              "  </tbody>\n",
              "</table>\n",
              "<p>5 rows × 88 columns</p>\n",
              "</div>"
            ],
            "text/plain": [
              "   Unnamed: 0                               Flow ID  ...  Inbound    Label\n",
              "0      302291  172.16.0.5-192.168.50.4-648-16174-17  ...        1  NetBIOS\n",
              "1      341625  172.16.0.5-192.168.50.4-861-34200-17  ...        1  NetBIOS\n",
              "2      245313   172.16.0.5-192.168.50.4-862-4750-17  ...        1  NetBIOS\n",
              "3      266106   172.16.0.5-192.168.50.4-863-4443-17  ...        1  NetBIOS\n",
              "4       47182  172.16.0.5-192.168.50.4-864-48627-17  ...        1  NetBIOS\n",
              "\n",
              "[5 rows x 88 columns]"
            ]
          },
          "metadata": {
            "tags": []
          },
          "execution_count": 2
        }
      ]
    },
    {
      "cell_type": "markdown",
      "metadata": {
        "id": "3k4yZelPfuqV",
        "colab_type": "text"
      },
      "source": [
        "**Description of the dataset**"
      ]
    },
    {
      "cell_type": "code",
      "metadata": {
        "id": "oXDmeElqDlQz",
        "colab_type": "code",
        "outputId": "ca31b32e-6ac3-4cf2-8e8d-b3f425de1836",
        "colab": {
          "base_uri": "https://localhost:8080/",
          "height": 397
        }
      },
      "source": [
        "data.describe()"
      ],
      "execution_count": 3,
      "outputs": [
        {
          "output_type": "execute_result",
          "data": {
            "text/html": [
              "<div>\n",
              "<style scoped>\n",
              "    .dataframe tbody tr th:only-of-type {\n",
              "        vertical-align: middle;\n",
              "    }\n",
              "\n",
              "    .dataframe tbody tr th {\n",
              "        vertical-align: top;\n",
              "    }\n",
              "\n",
              "    .dataframe thead th {\n",
              "        text-align: right;\n",
              "    }\n",
              "</style>\n",
              "<table border=\"1\" class=\"dataframe\">\n",
              "  <thead>\n",
              "    <tr style=\"text-align: right;\">\n",
              "      <th></th>\n",
              "      <th>Unnamed: 0</th>\n",
              "      <th>Source Port</th>\n",
              "      <th>Destination Port</th>\n",
              "      <th>Protocol</th>\n",
              "      <th>Flow Duration</th>\n",
              "      <th>Total Fwd Packets</th>\n",
              "      <th>Total Backward Packets</th>\n",
              "      <th>Total Length of Fwd Packets</th>\n",
              "      <th>Total Length of Bwd Packets</th>\n",
              "      <th>Fwd Packet Length Max</th>\n",
              "      <th>Fwd Packet Length Min</th>\n",
              "      <th>Fwd Packet Length Mean</th>\n",
              "      <th>Fwd Packet Length Std</th>\n",
              "      <th>Bwd Packet Length Max</th>\n",
              "      <th>Bwd Packet Length Min</th>\n",
              "      <th>Bwd Packet Length Mean</th>\n",
              "      <th>Bwd Packet Length Std</th>\n",
              "      <th>Flow Bytes/s</th>\n",
              "      <th>Flow Packets/s</th>\n",
              "      <th>Flow IAT Mean</th>\n",
              "      <th>Flow IAT Std</th>\n",
              "      <th>Flow IAT Max</th>\n",
              "      <th>Flow IAT Min</th>\n",
              "      <th>Fwd IAT Total</th>\n",
              "      <th>Fwd IAT Mean</th>\n",
              "      <th>Fwd IAT Std</th>\n",
              "      <th>Fwd IAT Max</th>\n",
              "      <th>Fwd IAT Min</th>\n",
              "      <th>Bwd IAT Total</th>\n",
              "      <th>Bwd IAT Mean</th>\n",
              "      <th>Bwd IAT Std</th>\n",
              "      <th>Bwd IAT Max</th>\n",
              "      <th>Bwd IAT Min</th>\n",
              "      <th>Fwd PSH Flags</th>\n",
              "      <th>Bwd PSH Flags</th>\n",
              "      <th>Fwd URG Flags</th>\n",
              "      <th>Bwd URG Flags</th>\n",
              "      <th>Fwd Header Length</th>\n",
              "      <th>Bwd Header Length</th>\n",
              "      <th>Fwd Packets/s</th>\n",
              "      <th>...</th>\n",
              "      <th>Max Packet Length</th>\n",
              "      <th>Packet Length Mean</th>\n",
              "      <th>Packet Length Std</th>\n",
              "      <th>Packet Length Variance</th>\n",
              "      <th>FIN Flag Count</th>\n",
              "      <th>SYN Flag Count</th>\n",
              "      <th>RST Flag Count</th>\n",
              "      <th>PSH Flag Count</th>\n",
              "      <th>ACK Flag Count</th>\n",
              "      <th>URG Flag Count</th>\n",
              "      <th>CWE Flag Count</th>\n",
              "      <th>ECE Flag Count</th>\n",
              "      <th>Down/Up Ratio</th>\n",
              "      <th>Average Packet Size</th>\n",
              "      <th>Avg Fwd Segment Size</th>\n",
              "      <th>Avg Bwd Segment Size</th>\n",
              "      <th>Fwd Header Length.1</th>\n",
              "      <th>Fwd Avg Bytes/Bulk</th>\n",
              "      <th>Fwd Avg Packets/Bulk</th>\n",
              "      <th>Fwd Avg Bulk Rate</th>\n",
              "      <th>Bwd Avg Bytes/Bulk</th>\n",
              "      <th>Bwd Avg Packets/Bulk</th>\n",
              "      <th>Bwd Avg Bulk Rate</th>\n",
              "      <th>Subflow Fwd Packets</th>\n",
              "      <th>Subflow Fwd Bytes</th>\n",
              "      <th>Subflow Bwd Packets</th>\n",
              "      <th>Subflow Bwd Bytes</th>\n",
              "      <th>Init_Win_bytes_forward</th>\n",
              "      <th>Init_Win_bytes_backward</th>\n",
              "      <th>act_data_pkt_fwd</th>\n",
              "      <th>min_seg_size_forward</th>\n",
              "      <th>Active Mean</th>\n",
              "      <th>Active Std</th>\n",
              "      <th>Active Max</th>\n",
              "      <th>Active Min</th>\n",
              "      <th>Idle Mean</th>\n",
              "      <th>Idle Std</th>\n",
              "      <th>Idle Max</th>\n",
              "      <th>Idle Min</th>\n",
              "      <th>Inbound</th>\n",
              "    </tr>\n",
              "  </thead>\n",
              "  <tbody>\n",
              "    <tr>\n",
              "      <th>count</th>\n",
              "      <td>3.455899e+06</td>\n",
              "      <td>3.455899e+06</td>\n",
              "      <td>3.455899e+06</td>\n",
              "      <td>3.455899e+06</td>\n",
              "      <td>3.455899e+06</td>\n",
              "      <td>3.455899e+06</td>\n",
              "      <td>3.455899e+06</td>\n",
              "      <td>3.455899e+06</td>\n",
              "      <td>3.455899e+06</td>\n",
              "      <td>3.455899e+06</td>\n",
              "      <td>3.455899e+06</td>\n",
              "      <td>3.455899e+06</td>\n",
              "      <td>3.455899e+06</td>\n",
              "      <td>3.455899e+06</td>\n",
              "      <td>3.455899e+06</td>\n",
              "      <td>3.455899e+06</td>\n",
              "      <td>3.455899e+06</td>\n",
              "      <td>3455893.0</td>\n",
              "      <td>3.455899e+06</td>\n",
              "      <td>3.455899e+06</td>\n",
              "      <td>3.455899e+06</td>\n",
              "      <td>3.455899e+06</td>\n",
              "      <td>3.455899e+06</td>\n",
              "      <td>3.455899e+06</td>\n",
              "      <td>3.455899e+06</td>\n",
              "      <td>3.455899e+06</td>\n",
              "      <td>3.455899e+06</td>\n",
              "      <td>3.455899e+06</td>\n",
              "      <td>3.455899e+06</td>\n",
              "      <td>3.455899e+06</td>\n",
              "      <td>3.455899e+06</td>\n",
              "      <td>3.455899e+06</td>\n",
              "      <td>3.455899e+06</td>\n",
              "      <td>3.455899e+06</td>\n",
              "      <td>3455899.0</td>\n",
              "      <td>3455899.0</td>\n",
              "      <td>3455899.0</td>\n",
              "      <td>3.455899e+06</td>\n",
              "      <td>3.455899e+06</td>\n",
              "      <td>3.455899e+06</td>\n",
              "      <td>...</td>\n",
              "      <td>3.455899e+06</td>\n",
              "      <td>3.455899e+06</td>\n",
              "      <td>3.455899e+06</td>\n",
              "      <td>3.455899e+06</td>\n",
              "      <td>3455899.0</td>\n",
              "      <td>3.455899e+06</td>\n",
              "      <td>3.455899e+06</td>\n",
              "      <td>3455899.0</td>\n",
              "      <td>3.455899e+06</td>\n",
              "      <td>3.455899e+06</td>\n",
              "      <td>3.455899e+06</td>\n",
              "      <td>3455899.0</td>\n",
              "      <td>3.455899e+06</td>\n",
              "      <td>3.455899e+06</td>\n",
              "      <td>3.455899e+06</td>\n",
              "      <td>3.455899e+06</td>\n",
              "      <td>3.455899e+06</td>\n",
              "      <td>3455899.0</td>\n",
              "      <td>3455899.0</td>\n",
              "      <td>3455899.0</td>\n",
              "      <td>3455899.0</td>\n",
              "      <td>3455899.0</td>\n",
              "      <td>3455899.0</td>\n",
              "      <td>3.455899e+06</td>\n",
              "      <td>3.455899e+06</td>\n",
              "      <td>3.455899e+06</td>\n",
              "      <td>3.455899e+06</td>\n",
              "      <td>3.455899e+06</td>\n",
              "      <td>3.455899e+06</td>\n",
              "      <td>3.455899e+06</td>\n",
              "      <td>3.455899e+06</td>\n",
              "      <td>3.455899e+06</td>\n",
              "      <td>3.455899e+06</td>\n",
              "      <td>3.455899e+06</td>\n",
              "      <td>3.455899e+06</td>\n",
              "      <td>3.455899e+06</td>\n",
              "      <td>3.455899e+06</td>\n",
              "      <td>3.455899e+06</td>\n",
              "      <td>3.455899e+06</td>\n",
              "      <td>3.455899e+06</td>\n",
              "    </tr>\n",
              "    <tr>\n",
              "      <th>mean</th>\n",
              "      <td>1.728110e+05</td>\n",
              "      <td>7.763060e+02</td>\n",
              "      <td>3.280407e+04</td>\n",
              "      <td>1.699579e+01</td>\n",
              "      <td>4.801868e+04</td>\n",
              "      <td>2.008762e+00</td>\n",
              "      <td>4.209614e-03</td>\n",
              "      <td>4.593605e+02</td>\n",
              "      <td>2.428768e+00</td>\n",
              "      <td>2.288984e+02</td>\n",
              "      <td>2.287999e+02</td>\n",
              "      <td>2.288244e+02</td>\n",
              "      <td>3.623629e-02</td>\n",
              "      <td>1.750309e-01</td>\n",
              "      <td>8.582137e-03</td>\n",
              "      <td>5.308399e-02</td>\n",
              "      <td>5.113500e-02</td>\n",
              "      <td>inf</td>\n",
              "      <td>inf</td>\n",
              "      <td>1.552742e+04</td>\n",
              "      <td>2.694020e+04</td>\n",
              "      <td>4.710237e+04</td>\n",
              "      <td>1.396336e+01</td>\n",
              "      <td>4.793223e+04</td>\n",
              "      <td>1.558573e+04</td>\n",
              "      <td>2.697590e+04</td>\n",
              "      <td>4.704504e+04</td>\n",
              "      <td>1.381382e+01</td>\n",
              "      <td>1.212433e+03</td>\n",
              "      <td>1.314965e+02</td>\n",
              "      <td>2.106203e+02</td>\n",
              "      <td>5.604714e+02</td>\n",
              "      <td>1.108250e-03</td>\n",
              "      <td>8.825489e-05</td>\n",
              "      <td>0.0</td>\n",
              "      <td>0.0</td>\n",
              "      <td>0.0</td>\n",
              "      <td>-4.999604e+07</td>\n",
              "      <td>1.150769e-01</td>\n",
              "      <td>1.456024e+06</td>\n",
              "      <td>...</td>\n",
              "      <td>2.290023e+02</td>\n",
              "      <td>2.288400e+02</td>\n",
              "      <td>5.804092e-02</td>\n",
              "      <td>3.187824e+01</td>\n",
              "      <td>0.0</td>\n",
              "      <td>4.919125e-06</td>\n",
              "      <td>8.825489e-05</td>\n",
              "      <td>0.0</td>\n",
              "      <td>1.617524e-04</td>\n",
              "      <td>2.045777e-04</td>\n",
              "      <td>6.655287e-05</td>\n",
              "      <td>0.0</td>\n",
              "      <td>3.877428e-04</td>\n",
              "      <td>3.431292e+02</td>\n",
              "      <td>2.288244e+02</td>\n",
              "      <td>5.308399e-02</td>\n",
              "      <td>-4.999604e+07</td>\n",
              "      <td>0.0</td>\n",
              "      <td>0.0</td>\n",
              "      <td>0.0</td>\n",
              "      <td>0.0</td>\n",
              "      <td>0.0</td>\n",
              "      <td>0.0</td>\n",
              "      <td>2.008762e+00</td>\n",
              "      <td>4.593605e+02</td>\n",
              "      <td>4.209614e-03</td>\n",
              "      <td>2.428768e+00</td>\n",
              "      <td>3.761101e+00</td>\n",
              "      <td>1.821355e-01</td>\n",
              "      <td>1.007300e+00</td>\n",
              "      <td>-2.484474e+07</td>\n",
              "      <td>4.830855e+01</td>\n",
              "      <td>1.344811e+01</td>\n",
              "      <td>6.119667e+01</td>\n",
              "      <td>3.949511e+01</td>\n",
              "      <td>4.693703e+04</td>\n",
              "      <td>5.502280e+01</td>\n",
              "      <td>4.698562e+04</td>\n",
              "      <td>4.689622e+04</td>\n",
              "      <td>9.995396e-01</td>\n",
              "    </tr>\n",
              "    <tr>\n",
              "      <th>std</th>\n",
              "      <td>9.979139e+04</td>\n",
              "      <td>1.129055e+03</td>\n",
              "      <td>1.891803e+04</td>\n",
              "      <td>2.177521e-01</td>\n",
              "      <td>1.402572e+06</td>\n",
              "      <td>6.220993e-01</td>\n",
              "      <td>7.225205e-01</td>\n",
              "      <td>1.165926e+02</td>\n",
              "      <td>8.062723e+02</td>\n",
              "      <td>1.555883e+01</td>\n",
              "      <td>1.219080e+01</td>\n",
              "      <td>1.210353e+01</td>\n",
              "      <td>3.941777e+00</td>\n",
              "      <td>2.025218e+01</td>\n",
              "      <td>8.964653e-01</td>\n",
              "      <td>5.925404e+00</td>\n",
              "      <td>6.050070e+00</td>\n",
              "      <td>NaN</td>\n",
              "      <td>NaN</td>\n",
              "      <td>4.619285e+05</td>\n",
              "      <td>8.002907e+05</td>\n",
              "      <td>1.389049e+06</td>\n",
              "      <td>3.217692e+03</td>\n",
              "      <td>1.402276e+06</td>\n",
              "      <td>4.623066e+05</td>\n",
              "      <td>8.005257e+05</td>\n",
              "      <td>1.388915e+06</td>\n",
              "      <td>3.216865e+03</td>\n",
              "      <td>1.801643e+05</td>\n",
              "      <td>2.164209e+04</td>\n",
              "      <td>3.089930e+04</td>\n",
              "      <td>7.934444e+04</td>\n",
              "      <td>1.967676e-01</td>\n",
              "      <td>9.393994e-03</td>\n",
              "      <td>0.0</td>\n",
              "      <td>0.0</td>\n",
              "      <td>0.0</td>\n",
              "      <td>3.983337e+08</td>\n",
              "      <td>2.110137e+01</td>\n",
              "      <td>8.353130e+05</td>\n",
              "      <td>...</td>\n",
              "      <td>2.288899e+01</td>\n",
              "      <td>1.214394e+01</td>\n",
              "      <td>5.645785e+00</td>\n",
              "      <td>4.188926e+03</td>\n",
              "      <td>0.0</td>\n",
              "      <td>2.217905e-03</td>\n",
              "      <td>9.393994e-03</td>\n",
              "      <td>0.0</td>\n",
              "      <td>1.271717e-02</td>\n",
              "      <td>1.430161e-02</td>\n",
              "      <td>8.157724e-03</td>\n",
              "      <td>0.0</td>\n",
              "      <td>2.598493e-02</td>\n",
              "      <td>1.824980e+01</td>\n",
              "      <td>1.210353e+01</td>\n",
              "      <td>5.925404e+00</td>\n",
              "      <td>3.983337e+08</td>\n",
              "      <td>0.0</td>\n",
              "      <td>0.0</td>\n",
              "      <td>0.0</td>\n",
              "      <td>0.0</td>\n",
              "      <td>0.0</td>\n",
              "      <td>0.0</td>\n",
              "      <td>6.220993e-01</td>\n",
              "      <td>1.165926e+02</td>\n",
              "      <td>7.225205e-01</td>\n",
              "      <td>8.062723e+02</td>\n",
              "      <td>3.800046e+02</td>\n",
              "      <td>2.256571e+02</td>\n",
              "      <td>4.990368e-01</td>\n",
              "      <td>1.605819e+08</td>\n",
              "      <td>1.624791e+04</td>\n",
              "      <td>7.129189e+03</td>\n",
              "      <td>1.934522e+04</td>\n",
              "      <td>1.552746e+04</td>\n",
              "      <td>1.388425e+06</td>\n",
              "      <td>1.882982e+04</td>\n",
              "      <td>1.388940e+06</td>\n",
              "      <td>1.388142e+06</td>\n",
              "      <td>2.145135e-02</td>\n",
              "    </tr>\n",
              "    <tr>\n",
              "      <th>min</th>\n",
              "      <td>0.000000e+00</td>\n",
              "      <td>0.000000e+00</td>\n",
              "      <td>0.000000e+00</td>\n",
              "      <td>0.000000e+00</td>\n",
              "      <td>0.000000e+00</td>\n",
              "      <td>1.000000e+00</td>\n",
              "      <td>0.000000e+00</td>\n",
              "      <td>0.000000e+00</td>\n",
              "      <td>0.000000e+00</td>\n",
              "      <td>0.000000e+00</td>\n",
              "      <td>0.000000e+00</td>\n",
              "      <td>0.000000e+00</td>\n",
              "      <td>0.000000e+00</td>\n",
              "      <td>0.000000e+00</td>\n",
              "      <td>0.000000e+00</td>\n",
              "      <td>0.000000e+00</td>\n",
              "      <td>0.000000e+00</td>\n",
              "      <td>0.0</td>\n",
              "      <td>9.152319e-02</td>\n",
              "      <td>0.000000e+00</td>\n",
              "      <td>0.000000e+00</td>\n",
              "      <td>0.000000e+00</td>\n",
              "      <td>0.000000e+00</td>\n",
              "      <td>0.000000e+00</td>\n",
              "      <td>0.000000e+00</td>\n",
              "      <td>0.000000e+00</td>\n",
              "      <td>0.000000e+00</td>\n",
              "      <td>0.000000e+00</td>\n",
              "      <td>0.000000e+00</td>\n",
              "      <td>0.000000e+00</td>\n",
              "      <td>0.000000e+00</td>\n",
              "      <td>0.000000e+00</td>\n",
              "      <td>0.000000e+00</td>\n",
              "      <td>0.000000e+00</td>\n",
              "      <td>0.0</td>\n",
              "      <td>0.0</td>\n",
              "      <td>0.0</td>\n",
              "      <td>-2.465508e+11</td>\n",
              "      <td>0.000000e+00</td>\n",
              "      <td>0.000000e+00</td>\n",
              "      <td>...</td>\n",
              "      <td>0.000000e+00</td>\n",
              "      <td>0.000000e+00</td>\n",
              "      <td>0.000000e+00</td>\n",
              "      <td>0.000000e+00</td>\n",
              "      <td>0.0</td>\n",
              "      <td>0.000000e+00</td>\n",
              "      <td>0.000000e+00</td>\n",
              "      <td>0.0</td>\n",
              "      <td>0.000000e+00</td>\n",
              "      <td>0.000000e+00</td>\n",
              "      <td>0.000000e+00</td>\n",
              "      <td>0.0</td>\n",
              "      <td>0.000000e+00</td>\n",
              "      <td>0.000000e+00</td>\n",
              "      <td>0.000000e+00</td>\n",
              "      <td>0.000000e+00</td>\n",
              "      <td>-2.465508e+11</td>\n",
              "      <td>0.0</td>\n",
              "      <td>0.0</td>\n",
              "      <td>0.0</td>\n",
              "      <td>0.0</td>\n",
              "      <td>0.0</td>\n",
              "      <td>0.0</td>\n",
              "      <td>1.000000e+00</td>\n",
              "      <td>0.000000e+00</td>\n",
              "      <td>0.000000e+00</td>\n",
              "      <td>0.000000e+00</td>\n",
              "      <td>-1.000000e+00</td>\n",
              "      <td>-1.000000e+00</td>\n",
              "      <td>0.000000e+00</td>\n",
              "      <td>-1.062719e+09</td>\n",
              "      <td>0.000000e+00</td>\n",
              "      <td>0.000000e+00</td>\n",
              "      <td>0.000000e+00</td>\n",
              "      <td>0.000000e+00</td>\n",
              "      <td>0.000000e+00</td>\n",
              "      <td>0.000000e+00</td>\n",
              "      <td>0.000000e+00</td>\n",
              "      <td>0.000000e+00</td>\n",
              "      <td>0.000000e+00</td>\n",
              "    </tr>\n",
              "    <tr>\n",
              "      <th>25%</th>\n",
              "      <td>8.639700e+04</td>\n",
              "      <td>6.480000e+02</td>\n",
              "      <td>1.646000e+04</td>\n",
              "      <td>1.700000e+01</td>\n",
              "      <td>1.000000e+00</td>\n",
              "      <td>2.000000e+00</td>\n",
              "      <td>0.000000e+00</td>\n",
              "      <td>4.580000e+02</td>\n",
              "      <td>0.000000e+00</td>\n",
              "      <td>2.290000e+02</td>\n",
              "      <td>2.290000e+02</td>\n",
              "      <td>2.290000e+02</td>\n",
              "      <td>0.000000e+00</td>\n",
              "      <td>0.000000e+00</td>\n",
              "      <td>0.000000e+00</td>\n",
              "      <td>0.000000e+00</td>\n",
              "      <td>0.000000e+00</td>\n",
              "      <td>229000000.0</td>\n",
              "      <td>1.000000e+06</td>\n",
              "      <td>1.000000e+00</td>\n",
              "      <td>0.000000e+00</td>\n",
              "      <td>1.000000e+00</td>\n",
              "      <td>1.000000e+00</td>\n",
              "      <td>1.000000e+00</td>\n",
              "      <td>1.000000e+00</td>\n",
              "      <td>0.000000e+00</td>\n",
              "      <td>1.000000e+00</td>\n",
              "      <td>1.000000e+00</td>\n",
              "      <td>0.000000e+00</td>\n",
              "      <td>0.000000e+00</td>\n",
              "      <td>0.000000e+00</td>\n",
              "      <td>0.000000e+00</td>\n",
              "      <td>0.000000e+00</td>\n",
              "      <td>0.000000e+00</td>\n",
              "      <td>0.0</td>\n",
              "      <td>0.0</td>\n",
              "      <td>0.0</td>\n",
              "      <td>1.600000e+01</td>\n",
              "      <td>0.000000e+00</td>\n",
              "      <td>1.000000e+06</td>\n",
              "      <td>...</td>\n",
              "      <td>2.290000e+02</td>\n",
              "      <td>2.290000e+02</td>\n",
              "      <td>0.000000e+00</td>\n",
              "      <td>0.000000e+00</td>\n",
              "      <td>0.0</td>\n",
              "      <td>0.000000e+00</td>\n",
              "      <td>0.000000e+00</td>\n",
              "      <td>0.0</td>\n",
              "      <td>0.000000e+00</td>\n",
              "      <td>0.000000e+00</td>\n",
              "      <td>0.000000e+00</td>\n",
              "      <td>0.0</td>\n",
              "      <td>0.000000e+00</td>\n",
              "      <td>3.435000e+02</td>\n",
              "      <td>2.290000e+02</td>\n",
              "      <td>0.000000e+00</td>\n",
              "      <td>1.600000e+01</td>\n",
              "      <td>0.0</td>\n",
              "      <td>0.0</td>\n",
              "      <td>0.0</td>\n",
              "      <td>0.0</td>\n",
              "      <td>0.0</td>\n",
              "      <td>0.0</td>\n",
              "      <td>2.000000e+00</td>\n",
              "      <td>4.580000e+02</td>\n",
              "      <td>0.000000e+00</td>\n",
              "      <td>0.000000e+00</td>\n",
              "      <td>-1.000000e+00</td>\n",
              "      <td>-1.000000e+00</td>\n",
              "      <td>1.000000e+00</td>\n",
              "      <td>8.000000e+00</td>\n",
              "      <td>0.000000e+00</td>\n",
              "      <td>0.000000e+00</td>\n",
              "      <td>0.000000e+00</td>\n",
              "      <td>0.000000e+00</td>\n",
              "      <td>0.000000e+00</td>\n",
              "      <td>0.000000e+00</td>\n",
              "      <td>0.000000e+00</td>\n",
              "      <td>0.000000e+00</td>\n",
              "      <td>1.000000e+00</td>\n",
              "    </tr>\n",
              "    <tr>\n",
              "      <th>50%</th>\n",
              "      <td>1.727940e+05</td>\n",
              "      <td>7.350000e+02</td>\n",
              "      <td>3.280300e+04</td>\n",
              "      <td>1.700000e+01</td>\n",
              "      <td>1.000000e+00</td>\n",
              "      <td>2.000000e+00</td>\n",
              "      <td>0.000000e+00</td>\n",
              "      <td>4.580000e+02</td>\n",
              "      <td>0.000000e+00</td>\n",
              "      <td>2.290000e+02</td>\n",
              "      <td>2.290000e+02</td>\n",
              "      <td>2.290000e+02</td>\n",
              "      <td>0.000000e+00</td>\n",
              "      <td>0.000000e+00</td>\n",
              "      <td>0.000000e+00</td>\n",
              "      <td>0.000000e+00</td>\n",
              "      <td>0.000000e+00</td>\n",
              "      <td>458000000.0</td>\n",
              "      <td>2.000000e+06</td>\n",
              "      <td>1.000000e+00</td>\n",
              "      <td>0.000000e+00</td>\n",
              "      <td>1.000000e+00</td>\n",
              "      <td>1.000000e+00</td>\n",
              "      <td>1.000000e+00</td>\n",
              "      <td>1.000000e+00</td>\n",
              "      <td>0.000000e+00</td>\n",
              "      <td>1.000000e+00</td>\n",
              "      <td>1.000000e+00</td>\n",
              "      <td>0.000000e+00</td>\n",
              "      <td>0.000000e+00</td>\n",
              "      <td>0.000000e+00</td>\n",
              "      <td>0.000000e+00</td>\n",
              "      <td>0.000000e+00</td>\n",
              "      <td>0.000000e+00</td>\n",
              "      <td>0.0</td>\n",
              "      <td>0.0</td>\n",
              "      <td>0.0</td>\n",
              "      <td>1.600000e+01</td>\n",
              "      <td>0.000000e+00</td>\n",
              "      <td>2.000000e+06</td>\n",
              "      <td>...</td>\n",
              "      <td>2.290000e+02</td>\n",
              "      <td>2.290000e+02</td>\n",
              "      <td>0.000000e+00</td>\n",
              "      <td>0.000000e+00</td>\n",
              "      <td>0.0</td>\n",
              "      <td>0.000000e+00</td>\n",
              "      <td>0.000000e+00</td>\n",
              "      <td>0.0</td>\n",
              "      <td>0.000000e+00</td>\n",
              "      <td>0.000000e+00</td>\n",
              "      <td>0.000000e+00</td>\n",
              "      <td>0.0</td>\n",
              "      <td>0.000000e+00</td>\n",
              "      <td>3.435000e+02</td>\n",
              "      <td>2.290000e+02</td>\n",
              "      <td>0.000000e+00</td>\n",
              "      <td>1.600000e+01</td>\n",
              "      <td>0.0</td>\n",
              "      <td>0.0</td>\n",
              "      <td>0.0</td>\n",
              "      <td>0.0</td>\n",
              "      <td>0.0</td>\n",
              "      <td>0.0</td>\n",
              "      <td>2.000000e+00</td>\n",
              "      <td>4.580000e+02</td>\n",
              "      <td>0.000000e+00</td>\n",
              "      <td>0.000000e+00</td>\n",
              "      <td>-1.000000e+00</td>\n",
              "      <td>-1.000000e+00</td>\n",
              "      <td>1.000000e+00</td>\n",
              "      <td>8.000000e+00</td>\n",
              "      <td>0.000000e+00</td>\n",
              "      <td>0.000000e+00</td>\n",
              "      <td>0.000000e+00</td>\n",
              "      <td>0.000000e+00</td>\n",
              "      <td>0.000000e+00</td>\n",
              "      <td>0.000000e+00</td>\n",
              "      <td>0.000000e+00</td>\n",
              "      <td>0.000000e+00</td>\n",
              "      <td>1.000000e+00</td>\n",
              "    </tr>\n",
              "    <tr>\n",
              "      <th>75%</th>\n",
              "      <td>2.591920e+05</td>\n",
              "      <td>8.790000e+02</td>\n",
              "      <td>4.919300e+04</td>\n",
              "      <td>1.700000e+01</td>\n",
              "      <td>2.000000e+00</td>\n",
              "      <td>2.000000e+00</td>\n",
              "      <td>0.000000e+00</td>\n",
              "      <td>4.580000e+02</td>\n",
              "      <td>0.000000e+00</td>\n",
              "      <td>2.290000e+02</td>\n",
              "      <td>2.290000e+02</td>\n",
              "      <td>2.290000e+02</td>\n",
              "      <td>0.000000e+00</td>\n",
              "      <td>0.000000e+00</td>\n",
              "      <td>0.000000e+00</td>\n",
              "      <td>0.000000e+00</td>\n",
              "      <td>0.000000e+00</td>\n",
              "      <td>458000000.0</td>\n",
              "      <td>2.000000e+06</td>\n",
              "      <td>2.000000e+00</td>\n",
              "      <td>0.000000e+00</td>\n",
              "      <td>2.000000e+00</td>\n",
              "      <td>2.000000e+00</td>\n",
              "      <td>2.000000e+00</td>\n",
              "      <td>2.000000e+00</td>\n",
              "      <td>0.000000e+00</td>\n",
              "      <td>2.000000e+00</td>\n",
              "      <td>2.000000e+00</td>\n",
              "      <td>0.000000e+00</td>\n",
              "      <td>0.000000e+00</td>\n",
              "      <td>0.000000e+00</td>\n",
              "      <td>0.000000e+00</td>\n",
              "      <td>0.000000e+00</td>\n",
              "      <td>0.000000e+00</td>\n",
              "      <td>0.0</td>\n",
              "      <td>0.0</td>\n",
              "      <td>0.0</td>\n",
              "      <td>4.000000e+01</td>\n",
              "      <td>0.000000e+00</td>\n",
              "      <td>2.000000e+06</td>\n",
              "      <td>...</td>\n",
              "      <td>2.290000e+02</td>\n",
              "      <td>2.290000e+02</td>\n",
              "      <td>0.000000e+00</td>\n",
              "      <td>0.000000e+00</td>\n",
              "      <td>0.0</td>\n",
              "      <td>0.000000e+00</td>\n",
              "      <td>0.000000e+00</td>\n",
              "      <td>0.0</td>\n",
              "      <td>0.000000e+00</td>\n",
              "      <td>0.000000e+00</td>\n",
              "      <td>0.000000e+00</td>\n",
              "      <td>0.0</td>\n",
              "      <td>0.000000e+00</td>\n",
              "      <td>3.435000e+02</td>\n",
              "      <td>2.290000e+02</td>\n",
              "      <td>0.000000e+00</td>\n",
              "      <td>4.000000e+01</td>\n",
              "      <td>0.0</td>\n",
              "      <td>0.0</td>\n",
              "      <td>0.0</td>\n",
              "      <td>0.0</td>\n",
              "      <td>0.0</td>\n",
              "      <td>0.0</td>\n",
              "      <td>2.000000e+00</td>\n",
              "      <td>4.580000e+02</td>\n",
              "      <td>0.000000e+00</td>\n",
              "      <td>0.000000e+00</td>\n",
              "      <td>-1.000000e+00</td>\n",
              "      <td>-1.000000e+00</td>\n",
              "      <td>1.000000e+00</td>\n",
              "      <td>2.000000e+01</td>\n",
              "      <td>0.000000e+00</td>\n",
              "      <td>0.000000e+00</td>\n",
              "      <td>0.000000e+00</td>\n",
              "      <td>0.000000e+00</td>\n",
              "      <td>0.000000e+00</td>\n",
              "      <td>0.000000e+00</td>\n",
              "      <td>0.000000e+00</td>\n",
              "      <td>0.000000e+00</td>\n",
              "      <td>1.000000e+00</td>\n",
              "    </tr>\n",
              "    <tr>\n",
              "      <th>max</th>\n",
              "      <td>3.479650e+05</td>\n",
              "      <td>6.544000e+04</td>\n",
              "      <td>6.553500e+04</td>\n",
              "      <td>1.700000e+01</td>\n",
              "      <td>4.370477e+07</td>\n",
              "      <td>4.380000e+02</td>\n",
              "      <td>5.560000e+02</td>\n",
              "      <td>7.833000e+04</td>\n",
              "      <td>9.022720e+05</td>\n",
              "      <td>3.493000e+03</td>\n",
              "      <td>1.717000e+03</td>\n",
              "      <td>1.717000e+03</td>\n",
              "      <td>1.273989e+03</td>\n",
              "      <td>3.413000e+03</td>\n",
              "      <td>3.270000e+02</td>\n",
              "      <td>1.850769e+03</td>\n",
              "      <td>1.374429e+03</td>\n",
              "      <td>inf</td>\n",
              "      <td>inf</td>\n",
              "      <td>1.456826e+07</td>\n",
              "      <td>2.523296e+07</td>\n",
              "      <td>4.370477e+07</td>\n",
              "      <td>3.067769e+06</td>\n",
              "      <td>4.370477e+07</td>\n",
              "      <td>1.456826e+07</td>\n",
              "      <td>2.523296e+07</td>\n",
              "      <td>4.370477e+07</td>\n",
              "      <td>3.067769e+06</td>\n",
              "      <td>4.161559e+07</td>\n",
              "      <td>4.554671e+06</td>\n",
              "      <td>9.463663e+06</td>\n",
              "      <td>3.412846e+07</td>\n",
              "      <td>5.200000e+01</td>\n",
              "      <td>1.000000e+00</td>\n",
              "      <td>0.0</td>\n",
              "      <td>0.0</td>\n",
              "      <td>0.0</td>\n",
              "      <td>1.344809e+08</td>\n",
              "      <td>1.408000e+04</td>\n",
              "      <td>3.000000e+06</td>\n",
              "      <td>...</td>\n",
              "      <td>3.493000e+03</td>\n",
              "      <td>1.424000e+03</td>\n",
              "      <td>1.293907e+03</td>\n",
              "      <td>1.674194e+06</td>\n",
              "      <td>0.0</td>\n",
              "      <td>1.000000e+00</td>\n",
              "      <td>1.000000e+00</td>\n",
              "      <td>0.0</td>\n",
              "      <td>1.000000e+00</td>\n",
              "      <td>1.000000e+00</td>\n",
              "      <td>1.000000e+00</td>\n",
              "      <td>0.0</td>\n",
              "      <td>7.000000e+00</td>\n",
              "      <td>2.136000e+03</td>\n",
              "      <td>1.717000e+03</td>\n",
              "      <td>1.850769e+03</td>\n",
              "      <td>1.344809e+08</td>\n",
              "      <td>0.0</td>\n",
              "      <td>0.0</td>\n",
              "      <td>0.0</td>\n",
              "      <td>0.0</td>\n",
              "      <td>0.0</td>\n",
              "      <td>0.0</td>\n",
              "      <td>4.380000e+02</td>\n",
              "      <td>7.833000e+04</td>\n",
              "      <td>5.560000e+02</td>\n",
              "      <td>9.022720e+05</td>\n",
              "      <td>6.553500e+04</td>\n",
              "      <td>6.553500e+04</td>\n",
              "      <td>4.370000e+02</td>\n",
              "      <td>6.724045e+07</td>\n",
              "      <td>1.254400e+07</td>\n",
              "      <td>7.851994e+06</td>\n",
              "      <td>1.396196e+07</td>\n",
              "      <td>1.254400e+07</td>\n",
              "      <td>4.370477e+07</td>\n",
              "      <td>1.318920e+07</td>\n",
              "      <td>4.370477e+07</td>\n",
              "      <td>4.370477e+07</td>\n",
              "      <td>1.000000e+00</td>\n",
              "    </tr>\n",
              "  </tbody>\n",
              "</table>\n",
              "<p>8 rows × 82 columns</p>\n",
              "</div>"
            ],
            "text/plain": [
              "         Unnamed: 0   Source Port  ...      Idle Min       Inbound\n",
              "count  3.455899e+06  3.455899e+06  ...  3.455899e+06  3.455899e+06\n",
              "mean   1.728110e+05  7.763060e+02  ...  4.689622e+04  9.995396e-01\n",
              "std    9.979139e+04  1.129055e+03  ...  1.388142e+06  2.145135e-02\n",
              "min    0.000000e+00  0.000000e+00  ...  0.000000e+00  0.000000e+00\n",
              "25%    8.639700e+04  6.480000e+02  ...  0.000000e+00  1.000000e+00\n",
              "50%    1.727940e+05  7.350000e+02  ...  0.000000e+00  1.000000e+00\n",
              "75%    2.591920e+05  8.790000e+02  ...  0.000000e+00  1.000000e+00\n",
              "max    3.479650e+05  6.544000e+04  ...  4.370477e+07  1.000000e+00\n",
              "\n",
              "[8 rows x 82 columns]"
            ]
          },
          "metadata": {
            "tags": []
          },
          "execution_count": 3
        }
      ]
    },
    {
      "cell_type": "markdown",
      "metadata": {
        "id": "lHWAII79f1aV",
        "colab_type": "text"
      },
      "source": [
        "**Make the List of the Relevant Columns of Dataset**\n",
        "\n",
        "It can be analysis by the CICFlowMeter\n",
        "this the URL of the CICFlowMeter\n",
        "\n",
        "http://netflowmeter.ca/"
      ]
    },
    {
      "cell_type": "code",
      "metadata": {
        "id": "u_dDfctSDxXK",
        "colab_type": "code",
        "colab": {}
      },
      "source": [
        "irr = [' Fwd Packet Length Max',\n",
        "    ' Fwd Packet Length Min',\n",
        "    ' Min Packet Length',\n",
        "    ' Max Packet Length',\n",
        "    ' Average Packet Size',\n",
        "    'Fwd Packets/s',\n",
        "    ' Fwd Header Length',\n",
        "    ' Fwd Header Length.1',\n",
        "    ' min_seg_size_forward',\n",
        "    'Total Length of Fwd Packets',\n",
        "    ' Fwd Packet Length Std',\n",
        "    ' Flow IAT Min',\n",
        "    ' Subflow Fwd Bytes',\n",
        "    ' Destination Port',\n",
        "    ' Protocol',\n",
        "    ' Packet Length Std',\n",
        "    ' Flow Duration',\n",
        "    'Fwd IAT Total',\n",
        "    ' ACK Flag Count',\n",
        "    'Init_Win_bytes_forward',\n",
        "    ' Flow IAT Mean',\n",
        "    ' Flow IAT Max',\n",
        "    ' Fwd IAT Mean',\n",
        "    ' Fwd IAT Max']"
      ],
      "execution_count": 0,
      "outputs": []
    },
    {
      "cell_type": "code",
      "metadata": {
        "id": "sXBiY22hLX2V",
        "colab_type": "code",
        "outputId": "b02208f9-c239-4b53-b6fd-0066d03c9e78",
        "colab": {
          "base_uri": "https://localhost:8080/",
          "height": 34
        }
      },
      "source": [
        "print(len(irr))"
      ],
      "execution_count": 5,
      "outputs": [
        {
          "output_type": "stream",
          "text": [
            "24\n"
          ],
          "name": "stdout"
        }
      ]
    },
    {
      "cell_type": "markdown",
      "metadata": {
        "id": "lSx6Yz15f20S",
        "colab_type": "text"
      },
      "source": [
        "**Here we remove the Irrevelent Columns except Revelent Column List which is defined above**"
      ]
    },
    {
      "cell_type": "code",
      "metadata": {
        "id": "K03LClpSEfUX",
        "colab_type": "code",
        "colab": {}
      },
      "source": [
        "remove_col = []\n",
        "for mycol in data.columns:\n",
        "    if all (x not in mycol for x in irr):\n",
        "        remove_col.append(mycol)"
      ],
      "execution_count": 0,
      "outputs": []
    },
    {
      "cell_type": "code",
      "metadata": {
        "id": "JIn0hfd3LPep",
        "colab_type": "code",
        "outputId": "440594cd-13a8-4de8-8a72-924a13bb9d7c",
        "colab": {
          "base_uri": "https://localhost:8080/",
          "height": 71
        }
      },
      "source": [
        "print(remove_col)\n",
        "print(len(remove_col))"
      ],
      "execution_count": 7,
      "outputs": [
        {
          "output_type": "stream",
          "text": [
            "['Unnamed: 0', 'Flow ID', ' Source IP', ' Source Port', ' Destination IP', ' Timestamp', ' Total Fwd Packets', ' Total Backward Packets', ' Total Length of Bwd Packets', ' Fwd Packet Length Mean', 'Bwd Packet Length Max', ' Bwd Packet Length Min', ' Bwd Packet Length Mean', 'Flow Bytes/s', ' Flow Packets/s', ' Flow IAT Std', ' Fwd IAT Std', ' Fwd IAT Min', 'Bwd IAT Total', ' Bwd IAT Mean', ' Bwd IAT Std', ' Bwd IAT Max', ' Bwd IAT Min', 'Fwd PSH Flags', ' Bwd PSH Flags', ' Fwd URG Flags', ' Bwd URG Flags', ' Bwd Header Length', ' Bwd Packets/s', ' Packet Length Mean', ' Packet Length Variance', 'FIN Flag Count', ' SYN Flag Count', ' RST Flag Count', ' PSH Flag Count', ' URG Flag Count', ' CWE Flag Count', ' ECE Flag Count', ' Down/Up Ratio', ' Avg Fwd Segment Size', ' Avg Bwd Segment Size', 'Fwd Avg Bytes/Bulk', ' Fwd Avg Packets/Bulk', ' Fwd Avg Bulk Rate', ' Bwd Avg Bytes/Bulk', ' Bwd Avg Packets/Bulk', 'Bwd Avg Bulk Rate', 'Subflow Fwd Packets', ' Subflow Bwd Packets', ' Subflow Bwd Bytes', ' Init_Win_bytes_backward', ' act_data_pkt_fwd', 'Active Mean', ' Active Std', ' Active Max', ' Active Min', 'Idle Mean', ' Idle Std', ' Idle Max', ' Idle Min', 'SimillarHTTP', ' Inbound', ' Label']\n",
            "63\n"
          ],
          "name": "stdout"
        }
      ]
    },
    {
      "cell_type": "code",
      "metadata": {
        "id": "WzKzq8SbUSCe",
        "colab_type": "code",
        "outputId": "0875646f-8089-4733-aaa3-713c9e49b159",
        "colab": {
          "base_uri": "https://localhost:8080/",
          "height": 275
        }
      },
      "source": [
        "data = data.drop(['Unnamed: 0',\n",
        "'Flow ID',\n",
        "' Source IP',\n",
        "' Source Port',\n",
        "' Destination IP',\n",
        "' Timestamp',\n",
        "' Total Fwd Packets',\n",
        "' Total Backward Packets',\n",
        "' Total Length of Bwd Packets',\n",
        "' Fwd Packet Length Mean',\n",
        "'Bwd Packet Length Max',\n",
        "' Bwd Packet Length Min',\n",
        "' Bwd Packet Length Mean',\n",
        "'Flow Bytes/s',\n",
        "' Flow Packets/s',\n",
        "' Flow IAT Std',\n",
        "' Fwd IAT Std',\n",
        "' Fwd IAT Min',\n",
        "'Bwd IAT Total',\n",
        "' Bwd IAT Mean',\n",
        "' Bwd IAT Std',\n",
        "' Bwd IAT Max',\n",
        "' Bwd IAT Min',\n",
        "'Fwd PSH Flags',\n",
        "' Bwd PSH Flags',\n",
        "' Fwd URG Flags',\n",
        "' Bwd URG Flags',\n",
        "' Bwd Header Length',\n",
        "' Bwd Packets/s',\n",
        "' Packet Length Mean',\n",
        "' Packet Length Variance',\n",
        "'FIN Flag Count',\n",
        "' SYN Flag Count',\n",
        "' RST Flag Count',\n",
        "' PSH Flag Count',\n",
        "' URG Flag Count',\n",
        "' CWE Flag Count',\n",
        "' ECE Flag Count',\n",
        "' Down/Up Ratio',\n",
        "' Avg Fwd Segment Size',\n",
        "' Avg Bwd Segment Size',\n",
        "'Fwd Avg Bytes/Bulk',\n",
        "' Fwd Avg Packets/Bulk',\n",
        "' Fwd Avg Bulk Rate',\n",
        "' Bwd Avg Bytes/Bulk',\n",
        "' Bwd Avg Packets/Bulk',\n",
        "'Bwd Avg Bulk Rate',\n",
        "'Subflow Fwd Packets',\n",
        "' Subflow Bwd Packets',\n",
        "' Subflow Bwd Bytes',\n",
        "' Init_Win_bytes_backward',\n",
        "' act_data_pkt_fwd',\n",
        "'Active Mean',\n",
        "' Active Std',\n",
        "' Active Max',\n",
        "' Active Min',\n",
        "'Idle Mean',\n",
        "' Idle Std',\n",
        "' Idle Max',\n",
        "' Idle Min',\n",
        "'SimillarHTTP',\n",
        "' Inbound'],axis=1)\n",
        "data.head()"
      ],
      "execution_count": 8,
      "outputs": [
        {
          "output_type": "execute_result",
          "data": {
            "text/html": [
              "<div>\n",
              "<style scoped>\n",
              "    .dataframe tbody tr th:only-of-type {\n",
              "        vertical-align: middle;\n",
              "    }\n",
              "\n",
              "    .dataframe tbody tr th {\n",
              "        vertical-align: top;\n",
              "    }\n",
              "\n",
              "    .dataframe thead th {\n",
              "        text-align: right;\n",
              "    }\n",
              "</style>\n",
              "<table border=\"1\" class=\"dataframe\">\n",
              "  <thead>\n",
              "    <tr style=\"text-align: right;\">\n",
              "      <th></th>\n",
              "      <th>Destination Port</th>\n",
              "      <th>Protocol</th>\n",
              "      <th>Flow Duration</th>\n",
              "      <th>Total Length of Fwd Packets</th>\n",
              "      <th>Fwd Packet Length Max</th>\n",
              "      <th>Fwd Packet Length Min</th>\n",
              "      <th>Fwd Packet Length Std</th>\n",
              "      <th>Bwd Packet Length Std</th>\n",
              "      <th>Flow IAT Mean</th>\n",
              "      <th>Flow IAT Max</th>\n",
              "      <th>Flow IAT Min</th>\n",
              "      <th>Fwd IAT Total</th>\n",
              "      <th>Fwd IAT Mean</th>\n",
              "      <th>Fwd IAT Max</th>\n",
              "      <th>Fwd Header Length</th>\n",
              "      <th>Fwd Packets/s</th>\n",
              "      <th>Min Packet Length</th>\n",
              "      <th>Max Packet Length</th>\n",
              "      <th>Packet Length Std</th>\n",
              "      <th>ACK Flag Count</th>\n",
              "      <th>Average Packet Size</th>\n",
              "      <th>Fwd Header Length.1</th>\n",
              "      <th>Subflow Fwd Bytes</th>\n",
              "      <th>Init_Win_bytes_forward</th>\n",
              "      <th>min_seg_size_forward</th>\n",
              "      <th>Label</th>\n",
              "    </tr>\n",
              "  </thead>\n",
              "  <tbody>\n",
              "    <tr>\n",
              "      <th>0</th>\n",
              "      <td>16174</td>\n",
              "      <td>17</td>\n",
              "      <td>1</td>\n",
              "      <td>458.0</td>\n",
              "      <td>229.0</td>\n",
              "      <td>229.0</td>\n",
              "      <td>0.0</td>\n",
              "      <td>0.0</td>\n",
              "      <td>1.0</td>\n",
              "      <td>1.0</td>\n",
              "      <td>1.0</td>\n",
              "      <td>1.0</td>\n",
              "      <td>1.0</td>\n",
              "      <td>1.0</td>\n",
              "      <td>-2</td>\n",
              "      <td>2.000000e+06</td>\n",
              "      <td>229.0</td>\n",
              "      <td>229.0</td>\n",
              "      <td>0.0</td>\n",
              "      <td>0</td>\n",
              "      <td>343.5</td>\n",
              "      <td>-2</td>\n",
              "      <td>458</td>\n",
              "      <td>-1</td>\n",
              "      <td>-1</td>\n",
              "      <td>NetBIOS</td>\n",
              "    </tr>\n",
              "    <tr>\n",
              "      <th>1</th>\n",
              "      <td>34200</td>\n",
              "      <td>17</td>\n",
              "      <td>1</td>\n",
              "      <td>458.0</td>\n",
              "      <td>229.0</td>\n",
              "      <td>229.0</td>\n",
              "      <td>0.0</td>\n",
              "      <td>0.0</td>\n",
              "      <td>1.0</td>\n",
              "      <td>1.0</td>\n",
              "      <td>1.0</td>\n",
              "      <td>1.0</td>\n",
              "      <td>1.0</td>\n",
              "      <td>1.0</td>\n",
              "      <td>-2</td>\n",
              "      <td>2.000000e+06</td>\n",
              "      <td>229.0</td>\n",
              "      <td>229.0</td>\n",
              "      <td>0.0</td>\n",
              "      <td>0</td>\n",
              "      <td>343.5</td>\n",
              "      <td>-2</td>\n",
              "      <td>458</td>\n",
              "      <td>-1</td>\n",
              "      <td>-1</td>\n",
              "      <td>NetBIOS</td>\n",
              "    </tr>\n",
              "    <tr>\n",
              "      <th>2</th>\n",
              "      <td>4750</td>\n",
              "      <td>17</td>\n",
              "      <td>1</td>\n",
              "      <td>458.0</td>\n",
              "      <td>229.0</td>\n",
              "      <td>229.0</td>\n",
              "      <td>0.0</td>\n",
              "      <td>0.0</td>\n",
              "      <td>1.0</td>\n",
              "      <td>1.0</td>\n",
              "      <td>1.0</td>\n",
              "      <td>1.0</td>\n",
              "      <td>1.0</td>\n",
              "      <td>1.0</td>\n",
              "      <td>-2</td>\n",
              "      <td>2.000000e+06</td>\n",
              "      <td>229.0</td>\n",
              "      <td>229.0</td>\n",
              "      <td>0.0</td>\n",
              "      <td>0</td>\n",
              "      <td>343.5</td>\n",
              "      <td>-2</td>\n",
              "      <td>458</td>\n",
              "      <td>-1</td>\n",
              "      <td>-1</td>\n",
              "      <td>NetBIOS</td>\n",
              "    </tr>\n",
              "    <tr>\n",
              "      <th>3</th>\n",
              "      <td>4443</td>\n",
              "      <td>17</td>\n",
              "      <td>1</td>\n",
              "      <td>458.0</td>\n",
              "      <td>229.0</td>\n",
              "      <td>229.0</td>\n",
              "      <td>0.0</td>\n",
              "      <td>0.0</td>\n",
              "      <td>1.0</td>\n",
              "      <td>1.0</td>\n",
              "      <td>1.0</td>\n",
              "      <td>1.0</td>\n",
              "      <td>1.0</td>\n",
              "      <td>1.0</td>\n",
              "      <td>-2</td>\n",
              "      <td>2.000000e+06</td>\n",
              "      <td>229.0</td>\n",
              "      <td>229.0</td>\n",
              "      <td>0.0</td>\n",
              "      <td>0</td>\n",
              "      <td>343.5</td>\n",
              "      <td>-2</td>\n",
              "      <td>458</td>\n",
              "      <td>-1</td>\n",
              "      <td>-1</td>\n",
              "      <td>NetBIOS</td>\n",
              "    </tr>\n",
              "    <tr>\n",
              "      <th>4</th>\n",
              "      <td>48627</td>\n",
              "      <td>17</td>\n",
              "      <td>48</td>\n",
              "      <td>458.0</td>\n",
              "      <td>229.0</td>\n",
              "      <td>229.0</td>\n",
              "      <td>0.0</td>\n",
              "      <td>0.0</td>\n",
              "      <td>48.0</td>\n",
              "      <td>48.0</td>\n",
              "      <td>48.0</td>\n",
              "      <td>48.0</td>\n",
              "      <td>48.0</td>\n",
              "      <td>48.0</td>\n",
              "      <td>-2</td>\n",
              "      <td>4.166667e+04</td>\n",
              "      <td>229.0</td>\n",
              "      <td>229.0</td>\n",
              "      <td>0.0</td>\n",
              "      <td>0</td>\n",
              "      <td>343.5</td>\n",
              "      <td>-2</td>\n",
              "      <td>458</td>\n",
              "      <td>-1</td>\n",
              "      <td>-1</td>\n",
              "      <td>NetBIOS</td>\n",
              "    </tr>\n",
              "  </tbody>\n",
              "</table>\n",
              "</div>"
            ],
            "text/plain": [
              "    Destination Port   Protocol  ...   min_seg_size_forward    Label\n",
              "0              16174         17  ...                     -1  NetBIOS\n",
              "1              34200         17  ...                     -1  NetBIOS\n",
              "2               4750         17  ...                     -1  NetBIOS\n",
              "3               4443         17  ...                     -1  NetBIOS\n",
              "4              48627         17  ...                     -1  NetBIOS\n",
              "\n",
              "[5 rows x 26 columns]"
            ]
          },
          "metadata": {
            "tags": []
          },
          "execution_count": 8
        }
      ]
    },
    {
      "cell_type": "markdown",
      "metadata": {
        "id": "r8VJgvasf-qA",
        "colab_type": "text"
      },
      "source": [
        "**Shape of the Clean Dataset**"
      ]
    },
    {
      "cell_type": "code",
      "metadata": {
        "id": "l6FKV5IkW9rP",
        "colab_type": "code",
        "outputId": "7339acc7-2f14-41be-e517-88816676fd7a",
        "colab": {
          "base_uri": "https://localhost:8080/",
          "height": 34
        }
      },
      "source": [
        "data.shape"
      ],
      "execution_count": 9,
      "outputs": [
        {
          "output_type": "execute_result",
          "data": {
            "text/plain": [
              "(3455899, 26)"
            ]
          },
          "metadata": {
            "tags": []
          },
          "execution_count": 9
        }
      ]
    },
    {
      "cell_type": "markdown",
      "metadata": {
        "id": "SUuxqcDuf_hP",
        "colab_type": "text"
      },
      "source": [
        "**Check any Column have empty space**"
      ]
    },
    {
      "cell_type": "code",
      "metadata": {
        "id": "efcN8lUCXgmu",
        "colab_type": "code",
        "outputId": "0fa353fe-21d6-4728-c04f-186848446f03",
        "colab": {
          "base_uri": "https://localhost:8080/",
          "height": 476
        }
      },
      "source": [
        "data.isnull().sum()"
      ],
      "execution_count": 10,
      "outputs": [
        {
          "output_type": "execute_result",
          "data": {
            "text/plain": [
              " Destination Port              0\n",
              " Protocol                      0\n",
              " Flow Duration                 0\n",
              "Total Length of Fwd Packets    0\n",
              " Fwd Packet Length Max         0\n",
              " Fwd Packet Length Min         0\n",
              " Fwd Packet Length Std         0\n",
              " Bwd Packet Length Std         0\n",
              " Flow IAT Mean                 0\n",
              " Flow IAT Max                  0\n",
              " Flow IAT Min                  0\n",
              "Fwd IAT Total                  0\n",
              " Fwd IAT Mean                  0\n",
              " Fwd IAT Max                   0\n",
              " Fwd Header Length             0\n",
              "Fwd Packets/s                  0\n",
              " Min Packet Length             0\n",
              " Max Packet Length             0\n",
              " Packet Length Std             0\n",
              " ACK Flag Count                0\n",
              " Average Packet Size           0\n",
              " Fwd Header Length.1           0\n",
              " Subflow Fwd Bytes             0\n",
              "Init_Win_bytes_forward         0\n",
              " min_seg_size_forward          0\n",
              " Label                         0\n",
              "dtype: int64"
            ]
          },
          "metadata": {
            "tags": []
          },
          "execution_count": 10
        }
      ]
    },
    {
      "cell_type": "markdown",
      "metadata": {
        "id": "2ss7X1y8gG2L",
        "colab_type": "text"
      },
      "source": [
        "**Here no column have the empty space of NULL values all columns are the full**"
      ]
    },
    {
      "cell_type": "markdown",
      "metadata": {
        "id": "Nzumys0kgGtx",
        "colab_type": "text"
      },
      "source": [
        "**This we check the Object datatype column in the dataset**"
      ]
    },
    {
      "cell_type": "code",
      "metadata": {
        "id": "Ouej7mvTXoeb",
        "colab_type": "code",
        "outputId": "ac03437c-1338-49f4-be8a-f34516d6fdd8",
        "colab": {
          "base_uri": "https://localhost:8080/",
          "height": 34
        }
      },
      "source": [
        "for i in data.columns:\n",
        "    if(data[i].dtype == np.object):\n",
        "        print(i)"
      ],
      "execution_count": 11,
      "outputs": [
        {
          "output_type": "stream",
          "text": [
            " Label\n"
          ],
          "name": "stdout"
        }
      ]
    },
    {
      "cell_type": "markdown",
      "metadata": {
        "id": "uFX3yAe3gP5G",
        "colab_type": "text"
      },
      "source": [
        "**Divide the data into two parts in X and Y**"
      ]
    },
    {
      "cell_type": "code",
      "metadata": {
        "id": "OWQMSwkcXvU-",
        "colab_type": "code",
        "outputId": "efff1c7d-48cd-4cbd-9ab0-362d4c9823f2",
        "colab": {
          "base_uri": "https://localhost:8080/",
          "height": 527
        }
      },
      "source": [
        "y = data[' Label']\n",
        "x = data.drop([' Label'],axis=1)\n",
        "\n",
        "print(\"\\n<<====================== X ================================>>\\n\",x)\n",
        "print(\"\\n<<====================== Y ================================>>\\n\",y)"
      ],
      "execution_count": 12,
      "outputs": [
        {
          "output_type": "stream",
          "text": [
            "\n",
            "<<====================== X ================================>>\n",
            "           Destination Port  ...   min_seg_size_forward\n",
            "0                    16174  ...                     -1\n",
            "1                    34200  ...                     -1\n",
            "2                     4750  ...                     -1\n",
            "3                     4443  ...                     -1\n",
            "4                    48627  ...                     -1\n",
            "...                    ...  ...                    ...\n",
            "3455894              13711  ...                      0\n",
            "3455895              65260  ...                      0\n",
            "3455896              48342  ...                      0\n",
            "3455897              64931  ...                      0\n",
            "3455898              38749  ...                      0\n",
            "\n",
            "[3455899 rows x 25 columns]\n",
            "\n",
            "<<====================== Y ================================>>\n",
            " 0          NetBIOS\n",
            "1          NetBIOS\n",
            "2          NetBIOS\n",
            "3          NetBIOS\n",
            "4          NetBIOS\n",
            "            ...   \n",
            "3455894    NetBIOS\n",
            "3455895    NetBIOS\n",
            "3455896    NetBIOS\n",
            "3455897    NetBIOS\n",
            "3455898    NetBIOS\n",
            "Name:  Label, Length: 3455899, dtype: object\n"
          ],
          "name": "stdout"
        }
      ]
    },
    {
      "cell_type": "markdown",
      "metadata": {
        "id": "ah9TzwiZgRzX",
        "colab_type": "text"
      },
      "source": [
        "**Split the dataset into the x_train, x_test, y_train, y_test**\n",
        "\n",
        "**Split Ratio into Test and train is 30:70 means that 30% of the total data is goes for the test and 70% of the total data is goes for the training.**"
      ]
    },
    {
      "cell_type": "code",
      "metadata": {
        "id": "oNCg4zlnDAe9",
        "colab_type": "code",
        "outputId": "90130946-ec02-46da-d1bd-8161f2cd13a7",
        "colab": {
          "base_uri": "https://localhost:8080/",
          "height": 221
        }
      },
      "source": [
        "#split data into training and testing\n",
        "from sklearn.model_selection import train_test_split\n",
        "x_train,x_test,y_train,y_test=train_test_split(x,y,\n",
        "                                               test_size=0.30,\n",
        "                                               random_state=42)\n",
        "print(\"\\n<<======== X_Train ========>>\\n\",x_train.shape)\n",
        "print(\"\\n<<======== X_Train ========>>\\n\",y_train.shape)\n",
        "print(\"\\n<<======== X_Test ========>>\\n\",x_test.shape)\n",
        "print(\"\\n<<======== Y_Test ========>>\\n\",y_test.shape)"
      ],
      "execution_count": 13,
      "outputs": [
        {
          "output_type": "stream",
          "text": [
            "\n",
            "<<======== X_Train ========>>\n",
            " (2419129, 25)\n",
            "\n",
            "<<======== X_Train ========>>\n",
            " (2419129,)\n",
            "\n",
            "<<======== X_Test ========>>\n",
            " (1036770, 25)\n",
            "\n",
            "<<======== Y_Test ========>>\n",
            " (1036770,)\n"
          ],
          "name": "stdout"
        }
      ]
    },
    {
      "cell_type": "markdown",
      "metadata": {
        "id": "agKxJi3wDG1d",
        "colab_type": "text"
      },
      "source": [
        "#**LOGISTIC REGRESSION**"
      ]
    },
    {
      "cell_type": "markdown",
      "metadata": {
        "id": "efzR2WokgV-_",
        "colab_type": "text"
      },
      "source": [
        "**Fiting the model in the Logistic Regression Algorithm**"
      ]
    },
    {
      "cell_type": "code",
      "metadata": {
        "id": "-lVRHpsrDGOH",
        "colab_type": "code",
        "outputId": "dfe42411-a74c-4813-848a-4ae6c83c968d",
        "colab": {
          "base_uri": "https://localhost:8080/",
          "height": 258
        }
      },
      "source": [
        "#fitting the logistic regression model\n",
        "from sklearn.linear_model import LogisticRegression\n",
        "classifier = LogisticRegression( random_state = 0)\n",
        "classifier.fit(x_train, y_train)"
      ],
      "execution_count": 14,
      "outputs": [
        {
          "output_type": "stream",
          "text": [
            "/usr/local/lib/python3.6/dist-packages/sklearn/linear_model/_logistic.py:940: ConvergenceWarning: lbfgs failed to converge (status=2):\n",
            "ABNORMAL_TERMINATION_IN_LNSRCH.\n",
            "\n",
            "Increase the number of iterations (max_iter) or scale the data as shown in:\n",
            "    https://scikit-learn.org/stable/modules/preprocessing.html\n",
            "Please also refer to the documentation for alternative solver options:\n",
            "    https://scikit-learn.org/stable/modules/linear_model.html#logistic-regression\n",
            "  extra_warning_msg=_LOGISTIC_SOLVER_CONVERGENCE_MSG)\n"
          ],
          "name": "stderr"
        },
        {
          "output_type": "execute_result",
          "data": {
            "text/plain": [
              "LogisticRegression(C=1.0, class_weight=None, dual=False, fit_intercept=True,\n",
              "                   intercept_scaling=1, l1_ratio=None, max_iter=100,\n",
              "                   multi_class='auto', n_jobs=None, penalty='l2',\n",
              "                   random_state=0, solver='lbfgs', tol=0.0001, verbose=0,\n",
              "                   warm_start=False)"
            ]
          },
          "metadata": {
            "tags": []
          },
          "execution_count": 14
        }
      ]
    },
    {
      "cell_type": "code",
      "metadata": {
        "id": "kWvDIHgEDRLO",
        "colab_type": "code",
        "outputId": "c8b730d6-1d94-46c5-d7dc-3e770467073a",
        "colab": {
          "base_uri": "https://localhost:8080/",
          "height": 34
        }
      },
      "source": [
        "#predicting the test result\n",
        "y_pred = classifier.predict(x_test)\n",
        "print(y_pred)"
      ],
      "execution_count": 15,
      "outputs": [
        {
          "output_type": "stream",
          "text": [
            "['NetBIOS' 'NetBIOS' 'NetBIOS' ... 'NetBIOS' 'NetBIOS' 'NetBIOS']\n"
          ],
          "name": "stdout"
        }
      ]
    },
    {
      "cell_type": "markdown",
      "metadata": {
        "id": "x5VwBomFgbUw",
        "colab_type": "text"
      },
      "source": [
        "**Confusion Matrix of the Logisitic Regression**"
      ]
    },
    {
      "cell_type": "code",
      "metadata": {
        "id": "01Jjgn-PDU8O",
        "colab_type": "code",
        "outputId": "d12110da-cbd0-4d16-94cf-cb3f5e446396",
        "colab": {
          "base_uri": "https://localhost:8080/",
          "height": 85
        }
      },
      "source": [
        "#checking the accuracy of model\n",
        "\n",
        "from sklearn.metrics import confusion_matrix, accuracy_score, classification_report\n",
        "cfm = confusion_matrix(y_test, y_pred)\n",
        "print(\"\\n<<================= Confusion Matrix ======================>> \\n\",cfm)"
      ],
      "execution_count": 16,
      "outputs": [
        {
          "output_type": "stream",
          "text": [
            "\n",
            "<<================= Confusion Matrix ======================>> \n",
            " [[    139     220]\n",
            " [     21 1036390]]\n"
          ],
          "name": "stdout"
        }
      ]
    },
    {
      "cell_type": "markdown",
      "metadata": {
        "id": "sfJ8s9Vbgwel",
        "colab_type": "text"
      },
      "source": [
        "**Classification Report of the Logistic Regeression**"
      ]
    },
    {
      "cell_type": "code",
      "metadata": {
        "id": "sbYRSIZTDdHT",
        "colab_type": "code",
        "outputId": "32316054-702c-42fa-fd1c-91e4460b72ac",
        "colab": {
          "base_uri": "https://localhost:8080/",
          "height": 221
        }
      },
      "source": [
        "## Classification Report\n",
        "\n",
        "print(\"\\n<<==================== Calssification Report ====================>>\\n\")\n",
        "\n",
        "print (classification_report(y_test, y_pred))"
      ],
      "execution_count": 17,
      "outputs": [
        {
          "output_type": "stream",
          "text": [
            "\n",
            "<<==================== Calssification Report ====================>>\n",
            "\n",
            "              precision    recall  f1-score   support\n",
            "\n",
            "      BENIGN       0.87      0.39      0.54       359\n",
            "     NetBIOS       1.00      1.00      1.00   1036411\n",
            "\n",
            "    accuracy                           1.00   1036770\n",
            "   macro avg       0.93      0.69      0.77   1036770\n",
            "weighted avg       1.00      1.00      1.00   1036770\n",
            "\n"
          ],
          "name": "stdout"
        }
      ]
    },
    {
      "cell_type": "markdown",
      "metadata": {
        "id": "3G7m_XbogjdM",
        "colab_type": "text"
      },
      "source": [
        "**Accuracy of the Logistic Regression**"
      ]
    },
    {
      "cell_type": "code",
      "metadata": {
        "id": "CE1l2kRcD08-",
        "colab_type": "code",
        "outputId": "f656c4dd-27b0-42eb-a5e5-e704fd99b3d2",
        "colab": {
          "base_uri": "https://localhost:8080/",
          "height": 68
        }
      },
      "source": [
        "## Accuracy Of The Model In the Linear Regression Algo\n",
        "acc = accuracy_score(y_test, y_pred)\n",
        "print ('\\n<<================================ Accuracy Of the Model in LR Algo ================================>>\\n', acc*100)"
      ],
      "execution_count": 18,
      "outputs": [
        {
          "output_type": "stream",
          "text": [
            "\n",
            "<<================================ Accuracy Of the Model in LR Algo ================================>>\n",
            " 99.97675472862834\n"
          ],
          "name": "stdout"
        }
      ]
    },
    {
      "cell_type": "code",
      "metadata": {
        "id": "--7iGT4sWGAc",
        "colab_type": "code",
        "outputId": "aec44a03-2eaf-416f-e9c6-635c99982b3a",
        "colab": {
          "base_uri": "https://localhost:8080/",
          "height": 51
        }
      },
      "source": [
        "############ \n",
        "from sklearn.metrics import accuracy_score\n",
        "print(\"Model Accuracy is : \\n \",accuracy_score(y_test,y_pred))"
      ],
      "execution_count": 19,
      "outputs": [
        {
          "output_type": "stream",
          "text": [
            "Model Accuracy is : \n",
            "  0.9997675472862834\n"
          ],
          "name": "stdout"
        }
      ]
    },
    {
      "cell_type": "code",
      "metadata": {
        "id": "0HVKEZw6WQAK",
        "colab_type": "code",
        "outputId": "4a2d1e49-137a-491a-8985-b6b2fc2622a8",
        "colab": {
          "base_uri": "https://localhost:8080/",
          "height": 289
        }
      },
      "source": [
        "from sklearn.metrics import classification_report\n",
        "from sklearn.metrics import confusion_matrix\n",
        "\n",
        "print(classification_report(y_test,y_pred))\n",
        "print(\"\\n\\n <<===================================>> \\n\\n\")\n",
        "print(confusion_matrix(y_test,y_pred))"
      ],
      "execution_count": 20,
      "outputs": [
        {
          "output_type": "stream",
          "text": [
            "              precision    recall  f1-score   support\n",
            "\n",
            "      BENIGN       0.87      0.39      0.54       359\n",
            "     NetBIOS       1.00      1.00      1.00   1036411\n",
            "\n",
            "    accuracy                           1.00   1036770\n",
            "   macro avg       0.93      0.69      0.77   1036770\n",
            "weighted avg       1.00      1.00      1.00   1036770\n",
            "\n",
            "\n",
            "\n",
            " <<===================================>> \n",
            "\n",
            "\n",
            "[[    139     220]\n",
            " [     21 1036390]]\n"
          ],
          "name": "stdout"
        }
      ]
    },
    {
      "cell_type": "markdown",
      "metadata": {
        "id": "b7UNTsIrPIJ-",
        "colab_type": "text"
      },
      "source": [
        "#**NAIVE BAYES ALGORITHM**"
      ]
    },
    {
      "cell_type": "markdown",
      "metadata": {
        "id": "SDWTaJ6Wg4Z1",
        "colab_type": "text"
      },
      "source": [
        "**Fiting the Model into the Navie Bayes Algorithm**"
      ]
    },
    {
      "cell_type": "code",
      "metadata": {
        "id": "ClfId6FCW1k9",
        "colab_type": "code",
        "outputId": "7b933d90-1547-4a7d-b375-55764954fd1e",
        "colab": {
          "base_uri": "https://localhost:8080/",
          "height": 34
        }
      },
      "source": [
        "############ now we solve naive Bayes algo\n",
        "from sklearn.naive_bayes import GaussianNB\n",
        "classifier = GaussianNB()\n",
        "## model fit on x,y data\n",
        "classifier.fit(x_train,y_train)"
      ],
      "execution_count": 21,
      "outputs": [
        {
          "output_type": "execute_result",
          "data": {
            "text/plain": [
              "GaussianNB(priors=None, var_smoothing=1e-09)"
            ]
          },
          "metadata": {
            "tags": []
          },
          "execution_count": 21
        }
      ]
    },
    {
      "cell_type": "code",
      "metadata": {
        "id": "Zuh3qsosXfBZ",
        "colab_type": "code",
        "outputId": "b490e9cd-94a2-4d46-9fec-9baf55160f4d",
        "colab": {
          "base_uri": "https://localhost:8080/",
          "height": 34
        }
      },
      "source": [
        "#predicting the test result\n",
        "y_pred = classifier.predict(x_test)\n",
        "print(y_pred)"
      ],
      "execution_count": 22,
      "outputs": [
        {
          "output_type": "stream",
          "text": [
            "['NetBIOS' 'NetBIOS' 'NetBIOS' ... 'NetBIOS' 'NetBIOS' 'NetBIOS']\n"
          ],
          "name": "stdout"
        }
      ]
    },
    {
      "cell_type": "markdown",
      "metadata": {
        "id": "T__R4x9ag_W6",
        "colab_type": "text"
      },
      "source": [
        "**Confusion Matrix of the Naive Bayes Algorithm**"
      ]
    },
    {
      "cell_type": "code",
      "metadata": {
        "id": "3b6ZLYpkXiZk",
        "colab_type": "code",
        "outputId": "fdaf21c9-2749-4496-9f4e-b12b5dd678be",
        "colab": {
          "base_uri": "https://localhost:8080/",
          "height": 85
        }
      },
      "source": [
        "#checking the accuracy of model\n",
        "\n",
        "from sklearn.metrics import confusion_matrix, accuracy_score, classification_report\n",
        "cfm = confusion_matrix(y_test, y_pred)\n",
        "print(\"\\n<<================= Confusion Matrix ======================>> \\n\",cfm)"
      ],
      "execution_count": 23,
      "outputs": [
        {
          "output_type": "stream",
          "text": [
            "\n",
            "<<================= Confusion Matrix ======================>> \n",
            " [[     67     292]\n",
            " [   1158 1035253]]\n"
          ],
          "name": "stdout"
        }
      ]
    },
    {
      "cell_type": "markdown",
      "metadata": {
        "id": "CIkXE-CvhCng",
        "colab_type": "text"
      },
      "source": [
        "**Classification Report of the Naive Bayes Algorithm**"
      ]
    },
    {
      "cell_type": "code",
      "metadata": {
        "id": "LjZFRBupXl0R",
        "colab_type": "code",
        "outputId": "f0cb2a8f-bdf4-4486-9e69-9b3d958c557b",
        "colab": {
          "base_uri": "https://localhost:8080/",
          "height": 221
        }
      },
      "source": [
        "## Classification Report\n",
        "\n",
        "print(\"\\n<<==================== Calssification Report ====================>>\\n\")\n",
        "\n",
        "print (classification_report(y_test, y_pred))"
      ],
      "execution_count": 24,
      "outputs": [
        {
          "output_type": "stream",
          "text": [
            "\n",
            "<<==================== Calssification Report ====================>>\n",
            "\n",
            "              precision    recall  f1-score   support\n",
            "\n",
            "      BENIGN       0.05      0.19      0.08       359\n",
            "     NetBIOS       1.00      1.00      1.00   1036411\n",
            "\n",
            "    accuracy                           1.00   1036770\n",
            "   macro avg       0.53      0.59      0.54   1036770\n",
            "weighted avg       1.00      1.00      1.00   1036770\n",
            "\n"
          ],
          "name": "stdout"
        }
      ]
    },
    {
      "cell_type": "markdown",
      "metadata": {
        "id": "mxzj9NMchIh5",
        "colab_type": "text"
      },
      "source": [
        "**Accuracy of the Naive Bayes Algorithm**"
      ]
    },
    {
      "cell_type": "code",
      "metadata": {
        "id": "HO-EsUOTXpeE",
        "colab_type": "code",
        "outputId": "cd7c4cc4-0278-4a20-b76c-c12dc0bd778c",
        "colab": {
          "base_uri": "https://localhost:8080/",
          "height": 68
        }
      },
      "source": [
        "## Accuracy Of The Model In the Linear Regression Algo\n",
        "acc = accuracy_score(y_test, y_pred)\n",
        "print ('\\n<<================================ Accuracy Of the Model in LR Algo ================================>>\\n', acc*100)"
      ],
      "execution_count": 25,
      "outputs": [
        {
          "output_type": "stream",
          "text": [
            "\n",
            "<<================================ Accuracy Of the Model in LR Algo ================================>>\n",
            " 99.86014255813728\n"
          ],
          "name": "stdout"
        }
      ]
    },
    {
      "cell_type": "code",
      "metadata": {
        "id": "BEYtcJQmXuMr",
        "colab_type": "code",
        "outputId": "d2adc850-e316-45f5-b640-349d74488c20",
        "colab": {
          "base_uri": "https://localhost:8080/",
          "height": 289
        }
      },
      "source": [
        "from sklearn.metrics import classification_report\n",
        "from sklearn.metrics import confusion_matrix\n",
        "\n",
        "print(classification_report(y_test,y_pred))\n",
        "print(\"\\n\\n <<===================================>> \\n\\n\")\n",
        "print(confusion_matrix(y_test,y_pred))"
      ],
      "execution_count": 26,
      "outputs": [
        {
          "output_type": "stream",
          "text": [
            "              precision    recall  f1-score   support\n",
            "\n",
            "      BENIGN       0.05      0.19      0.08       359\n",
            "     NetBIOS       1.00      1.00      1.00   1036411\n",
            "\n",
            "    accuracy                           1.00   1036770\n",
            "   macro avg       0.53      0.59      0.54   1036770\n",
            "weighted avg       1.00      1.00      1.00   1036770\n",
            "\n",
            "\n",
            "\n",
            " <<===================================>> \n",
            "\n",
            "\n",
            "[[     67     292]\n",
            " [   1158 1035253]]\n"
          ],
          "name": "stdout"
        }
      ]
    },
    {
      "cell_type": "markdown",
      "metadata": {
        "id": "x-9VaiYaiRoR",
        "colab_type": "text"
      },
      "source": [
        "#**KNN ALGORITHM**"
      ]
    },
    {
      "cell_type": "markdown",
      "metadata": {
        "id": "Y-6U55wuhMhF",
        "colab_type": "text"
      },
      "source": [
        "**Label Encoding of the Label Column in the Dataset becasuse its dtype is Object**"
      ]
    },
    {
      "cell_type": "code",
      "metadata": {
        "id": "KJNL82UXoLD9",
        "colab_type": "code",
        "colab": {}
      },
      "source": [
        "## Label Encoding\n",
        "from sklearn.preprocessing import LabelEncoder\n",
        "le = LabelEncoder()\n",
        "y_train= le.fit_transform(y_train)\n",
        "y_test= le.fit_transform(y_test)"
      ],
      "execution_count": 0,
      "outputs": []
    },
    {
      "cell_type": "markdown",
      "metadata": {
        "id": "nUUaVBzGhNO6",
        "colab_type": "text"
      },
      "source": [
        "**Fiting the Model in the KNN Algorithm**"
      ]
    },
    {
      "cell_type": "code",
      "metadata": {
        "id": "OuNHehZYdfL7",
        "colab_type": "code",
        "colab": {
          "base_uri": "https://localhost:8080/",
          "height": 68
        },
        "outputId": "f098815f-f4b7-4777-8ea3-577162916293"
      },
      "source": [
        "from sklearn.neighbors import  KNeighborsClassifier\n",
        "model = KNeighborsClassifier(n_neighbors=100)\n",
        "\n",
        "model.fit(x_train,y_train)"
      ],
      "execution_count": 28,
      "outputs": [
        {
          "output_type": "execute_result",
          "data": {
            "text/plain": [
              "KNeighborsClassifier(algorithm='auto', leaf_size=30, metric='minkowski',\n",
              "                     metric_params=None, n_jobs=None, n_neighbors=100, p=2,\n",
              "                     weights='uniform')"
            ]
          },
          "metadata": {
            "tags": []
          },
          "execution_count": 28
        }
      ]
    },
    {
      "cell_type": "code",
      "metadata": {
        "id": "hg-_qQKthhXV",
        "colab_type": "code",
        "colab": {
          "base_uri": "https://localhost:8080/",
          "height": 34
        },
        "outputId": "64197080-0159-45c7-aff4-4a7446836b0d"
      },
      "source": [
        "THRESHOLD = 0.67\n",
        "\n",
        "import numpy as np\n",
        "\n",
        "y_pred = np.where(model.predict_proba(x_test)[:,1] > THRESHOLD, 1,0)\n",
        "\n",
        "#Print(model.predict_proba(x_test))\n",
        "#model test and take y_pred value\n",
        "\n",
        "print(y_pred)"
      ],
      "execution_count": 29,
      "outputs": [
        {
          "output_type": "stream",
          "text": [
            "[1 1 1 ... 1 1 1]\n"
          ],
          "name": "stdout"
        }
      ]
    },
    {
      "cell_type": "markdown",
      "metadata": {
        "id": "-Z2C_pPqhTwX",
        "colab_type": "text"
      },
      "source": [
        "**Accuracy and Classification Report of the KNN Algorithn**"
      ]
    },
    {
      "cell_type": "code",
      "metadata": {
        "id": "UPuzBJNJkEJ_",
        "colab_type": "code",
        "colab": {
          "base_uri": "https://localhost:8080/",
          "height": 476
        },
        "outputId": "4b078a01-8890-481d-e810-9ecec0547875"
      },
      "source": [
        "##################\n",
        "\n",
        "from sklearn.metrics import accuracy_score\n",
        "print(\"Model Accuracy is : \\n \", accuracy_score(y_test,y_pred))\n",
        "\n",
        "from sklearn.metrics import classification_report\n",
        "from sklearn.metrics import confusion_matrix\n",
        "print(\"\\n\\n <<===================================>> \\n\\n\")\n",
        "print(\"\\t CLASSIFICATION REPORT \\n\")\n",
        "print(classification_report(y_test,y_pred))\n",
        "print(\"\\n\\n <<===================================>> \\n\\n\")\n",
        "print(\"Confusion Matrix \\n \")\n",
        "print(confusion_matrix(y_test,y_pred))"
      ],
      "execution_count": 30,
      "outputs": [
        {
          "output_type": "stream",
          "text": [
            "Model Accuracy is : \n",
            "  0.9998504972173192\n",
            "\n",
            "\n",
            " <<===================================>> \n",
            "\n",
            "\n",
            "\t CLASSIFICATION REPORT \n",
            "\n",
            "              precision    recall  f1-score   support\n",
            "\n",
            "           0       0.76      0.83      0.79       359\n",
            "           1       1.00      1.00      1.00   1036411\n",
            "\n",
            "    accuracy                           1.00   1036770\n",
            "   macro avg       0.88      0.91      0.90   1036770\n",
            "weighted avg       1.00      1.00      1.00   1036770\n",
            "\n",
            "\n",
            "\n",
            " <<===================================>> \n",
            "\n",
            "\n",
            "Confusion Matrix \n",
            " \n",
            "[[    298      61]\n",
            " [     94 1036317]]\n"
          ],
          "name": "stdout"
        }
      ]
    },
    {
      "cell_type": "markdown",
      "metadata": {
        "id": "yOVSbwoZhVLx",
        "colab_type": "text"
      },
      "source": [
        "**Comparision of the Accuracies of the**\n",
        "\n",
        "**1.   Logistic Regression**\n",
        "\n",
        "**2.   KNN Algorithm**\n",
        "\n",
        "**3.   Naive Bayes Algorithm**\n"
      ]
    },
    {
      "cell_type": "code",
      "metadata": {
        "id": "U1emnNniV-9-",
        "colab_type": "code",
        "colab": {
          "base_uri": "https://localhost:8080/",
          "height": 319
        },
        "outputId": "9230002e-1d1a-4ad4-f230-dd46ea7ce5ab"
      },
      "source": [
        "accu_LR =  0.9997675472862834*100\n",
        "accu_KNN =  0.9998504972173192 *100\n",
        "accu_NB = 99.86014255813728\n",
        "\n",
        "import matplotlib.pyplot as plt\n",
        "import matplotlib as pl\n",
        "import seaborn as sns\n",
        "y=[accu_LR,accu_KNN,accu_NB]\n",
        "x=[\"Logistic\",\"KNN\",\"NB\"]\n",
        "c=[\"red\",\"blue\",\"green\"]\n",
        "plt.bar(x,y,color=c)\n",
        "plt.show()"
      ],
      "execution_count": 31,
      "outputs": [
        {
          "output_type": "stream",
          "text": [
            "/usr/local/lib/python3.6/dist-packages/statsmodels/tools/_testing.py:19: FutureWarning: pandas.util.testing is deprecated. Use the functions in the public API at pandas.testing instead.\n",
            "  import pandas.util.testing as tm\n"
          ],
          "name": "stderr"
        },
        {
          "output_type": "display_data",
          "data": {
            "image/png": "[encoded data removed]",
            "text/plain": [
              "<Figure size 432x288 with 1 Axes>"
            ]
          },
          "metadata": {
            "tags": [],
            "needs_background": "light"
          }
        }
      ]
    }
  ]
}