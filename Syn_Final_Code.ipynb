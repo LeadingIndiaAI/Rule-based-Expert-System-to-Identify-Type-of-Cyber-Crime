{
  "nbformat": 4,
  "nbformat_minor": 0,
  "metadata": {
    "colab": {
      "name": "Syn_Final_Code.ipynb",
      "provenance": [],
      "collapsed_sections": [],
      "mount_file_id": "1o1H4DfTPCE11USQFTZUZIBavQKmzBepl",
      "authorship_tag": "ABX9TyO2MK8L2dO7agoTNdiO3h1s",
      "include_colab_link": true
    },
    "kernelspec": {
      "name": "python3",
      "display_name": "Python 3"
    }
  },
  "cells": [
    {
      "cell_type": "markdown",
      "metadata": {
        "id": "view-in-github",
        "colab_type": "text"
      },
      "source": [
        "<a href=\"https://colab.research.google.com/github/khagendra1998/A-rule-based-expert-system-to-identify-the-type-of-cybercrime/blob/master/Syn_Final_Code.ipynb\" target=\"_parent\"><img src=\"https://colab.research.google.com/assets/colab-badge.svg\" alt=\"Open In Colab\"/></a>"
      ]
    },
    {
      "cell_type": "markdown",
      "metadata": {
        "id": "WLprYqMGigKa",
        "colab_type": "text"
      },
      "source": [
        "#**Syn DATASET**"
      ]
    },
    {
      "cell_type": "markdown",
      "metadata": {
        "id": "zXc85mbIh0ob",
        "colab_type": "text"
      },
      "source": [
        "**Load the data from the google drive**"
      ]
    },
    {
      "cell_type": "code",
      "metadata": {
        "id": "Bbtik3o3C88e",
        "colab_type": "code",
        "outputId": "2172d247-24a1-470b-a205-9e93ab7c3c3a",
        "colab": {
          "base_uri": "https://localhost:8080/",
          "height": 71
        }
      },
      "source": [
        "import pandas as pd\n",
        "import numpy as np\n",
        "import matplotlib.pyplot as plt\n",
        "\n",
        "#Load the Data from CSV file\n",
        "\n",
        "data = pd.read_csv(\"/content/drive/My Drive/Datasets/Syn.csv\")"
      ],
      "execution_count": 1,
      "outputs": [
        {
          "output_type": "stream",
          "text": [
            "/usr/local/lib/python3.6/dist-packages/IPython/core/interactiveshell.py:2718: DtypeWarning: Columns (85) have mixed types.Specify dtype option on import or set low_memory=False.\n",
            "  interactivity=interactivity, compiler=compiler, result=result)\n"
          ],
          "name": "stderr"
        }
      ]
    },
    {
      "cell_type": "markdown",
      "metadata": {
        "id": "uvB5g9zzh4-k",
        "colab_type": "text"
      },
      "source": [
        "**Show the First Five rows of the Dataset**"
      ]
    },
    {
      "cell_type": "code",
      "metadata": {
        "id": "J3XSj4zBDjIO",
        "colab_type": "code",
        "outputId": "673df64e-021d-4943-9892-19c3b726b72c",
        "colab": {
          "base_uri": "https://localhost:8080/",
          "height": 525
        }
      },
      "source": [
        "data.head()"
      ],
      "execution_count": 2,
      "outputs": [
        {
          "output_type": "execute_result",
          "data": {
            "text/html": [
              "<div>\n",
              "<style scoped>\n",
              "    .dataframe tbody tr th:only-of-type {\n",
              "        vertical-align: middle;\n",
              "    }\n",
              "\n",
              "    .dataframe tbody tr th {\n",
              "        vertical-align: top;\n",
              "    }\n",
              "\n",
              "    .dataframe thead th {\n",
              "        text-align: right;\n",
              "    }\n",
              "</style>\n",
              "<table border=\"1\" class=\"dataframe\">\n",
              "  <thead>\n",
              "    <tr style=\"text-align: right;\">\n",
              "      <th></th>\n",
              "      <th>Unnamed: 0</th>\n",
              "      <th>Flow ID</th>\n",
              "      <th>Source IP</th>\n",
              "      <th>Source Port</th>\n",
              "      <th>Destination IP</th>\n",
              "      <th>Destination Port</th>\n",
              "      <th>Protocol</th>\n",
              "      <th>Timestamp</th>\n",
              "      <th>Flow Duration</th>\n",
              "      <th>Total Fwd Packets</th>\n",
              "      <th>Total Backward Packets</th>\n",
              "      <th>Total Length of Fwd Packets</th>\n",
              "      <th>Total Length of Bwd Packets</th>\n",
              "      <th>Fwd Packet Length Max</th>\n",
              "      <th>Fwd Packet Length Min</th>\n",
              "      <th>Fwd Packet Length Mean</th>\n",
              "      <th>Fwd Packet Length Std</th>\n",
              "      <th>Bwd Packet Length Max</th>\n",
              "      <th>Bwd Packet Length Min</th>\n",
              "      <th>Bwd Packet Length Mean</th>\n",
              "      <th>Bwd Packet Length Std</th>\n",
              "      <th>Flow Bytes/s</th>\n",
              "      <th>Flow Packets/s</th>\n",
              "      <th>Flow IAT Mean</th>\n",
              "      <th>Flow IAT Std</th>\n",
              "      <th>Flow IAT Max</th>\n",
              "      <th>Flow IAT Min</th>\n",
              "      <th>Fwd IAT Total</th>\n",
              "      <th>Fwd IAT Mean</th>\n",
              "      <th>Fwd IAT Std</th>\n",
              "      <th>Fwd IAT Max</th>\n",
              "      <th>Fwd IAT Min</th>\n",
              "      <th>Bwd IAT Total</th>\n",
              "      <th>Bwd IAT Mean</th>\n",
              "      <th>Bwd IAT Std</th>\n",
              "      <th>Bwd IAT Max</th>\n",
              "      <th>Bwd IAT Min</th>\n",
              "      <th>Fwd PSH Flags</th>\n",
              "      <th>Bwd PSH Flags</th>\n",
              "      <th>Fwd URG Flags</th>\n",
              "      <th>...</th>\n",
              "      <th>Packet Length Std</th>\n",
              "      <th>Packet Length Variance</th>\n",
              "      <th>FIN Flag Count</th>\n",
              "      <th>SYN Flag Count</th>\n",
              "      <th>RST Flag Count</th>\n",
              "      <th>PSH Flag Count</th>\n",
              "      <th>ACK Flag Count</th>\n",
              "      <th>URG Flag Count</th>\n",
              "      <th>CWE Flag Count</th>\n",
              "      <th>ECE Flag Count</th>\n",
              "      <th>Down/Up Ratio</th>\n",
              "      <th>Average Packet Size</th>\n",
              "      <th>Avg Fwd Segment Size</th>\n",
              "      <th>Avg Bwd Segment Size</th>\n",
              "      <th>Fwd Header Length.1</th>\n",
              "      <th>Fwd Avg Bytes/Bulk</th>\n",
              "      <th>Fwd Avg Packets/Bulk</th>\n",
              "      <th>Fwd Avg Bulk Rate</th>\n",
              "      <th>Bwd Avg Bytes/Bulk</th>\n",
              "      <th>Bwd Avg Packets/Bulk</th>\n",
              "      <th>Bwd Avg Bulk Rate</th>\n",
              "      <th>Subflow Fwd Packets</th>\n",
              "      <th>Subflow Fwd Bytes</th>\n",
              "      <th>Subflow Bwd Packets</th>\n",
              "      <th>Subflow Bwd Bytes</th>\n",
              "      <th>Init_Win_bytes_forward</th>\n",
              "      <th>Init_Win_bytes_backward</th>\n",
              "      <th>act_data_pkt_fwd</th>\n",
              "      <th>min_seg_size_forward</th>\n",
              "      <th>Active Mean</th>\n",
              "      <th>Active Std</th>\n",
              "      <th>Active Max</th>\n",
              "      <th>Active Min</th>\n",
              "      <th>Idle Mean</th>\n",
              "      <th>Idle Std</th>\n",
              "      <th>Idle Max</th>\n",
              "      <th>Idle Min</th>\n",
              "      <th>SimillarHTTP</th>\n",
              "      <th>Inbound</th>\n",
              "      <th>Label</th>\n",
              "    </tr>\n",
              "  </thead>\n",
              "  <tbody>\n",
              "    <tr>\n",
              "      <th>0</th>\n",
              "      <td>445444</td>\n",
              "      <td>172.16.0.5-192.168.50.4-9429-9429-6</td>\n",
              "      <td>172.16.0.5</td>\n",
              "      <td>9429</td>\n",
              "      <td>192.168.50.4</td>\n",
              "      <td>9429</td>\n",
              "      <td>6</td>\n",
              "      <td>2018-11-03 11:36:28.607338</td>\n",
              "      <td>36063894</td>\n",
              "      <td>7</td>\n",
              "      <td>2</td>\n",
              "      <td>42.0</td>\n",
              "      <td>12.0</td>\n",
              "      <td>6.0</td>\n",
              "      <td>6.0</td>\n",
              "      <td>6.0</td>\n",
              "      <td>0.0</td>\n",
              "      <td>6.0</td>\n",
              "      <td>6.0</td>\n",
              "      <td>6.0</td>\n",
              "      <td>0.0</td>\n",
              "      <td>1.497342e+00</td>\n",
              "      <td>2.495571e-01</td>\n",
              "      <td>4.507987e+06</td>\n",
              "      <td>7.062714e+06</td>\n",
              "      <td>18628035.0</td>\n",
              "      <td>1.0</td>\n",
              "      <td>36063894.0</td>\n",
              "      <td>6.010649e+06</td>\n",
              "      <td>7.680923e+06</td>\n",
              "      <td>18628035.0</td>\n",
              "      <td>1.0</td>\n",
              "      <td>2.0</td>\n",
              "      <td>2.000000e+00</td>\n",
              "      <td>0.000000e+00</td>\n",
              "      <td>2.0</td>\n",
              "      <td>2.0</td>\n",
              "      <td>0</td>\n",
              "      <td>0</td>\n",
              "      <td>0</td>\n",
              "      <td>...</td>\n",
              "      <td>0.0</td>\n",
              "      <td>0.0</td>\n",
              "      <td>0</td>\n",
              "      <td>0</td>\n",
              "      <td>0</td>\n",
              "      <td>0</td>\n",
              "      <td>1</td>\n",
              "      <td>0</td>\n",
              "      <td>0</td>\n",
              "      <td>0</td>\n",
              "      <td>0.0</td>\n",
              "      <td>6.666667</td>\n",
              "      <td>6.0</td>\n",
              "      <td>6.0</td>\n",
              "      <td>140</td>\n",
              "      <td>0</td>\n",
              "      <td>0</td>\n",
              "      <td>0</td>\n",
              "      <td>0</td>\n",
              "      <td>0</td>\n",
              "      <td>0</td>\n",
              "      <td>7</td>\n",
              "      <td>42</td>\n",
              "      <td>2</td>\n",
              "      <td>12</td>\n",
              "      <td>5840</td>\n",
              "      <td>0</td>\n",
              "      <td>6</td>\n",
              "      <td>20</td>\n",
              "      <td>18.0</td>\n",
              "      <td>29.444864</td>\n",
              "      <td>52.0</td>\n",
              "      <td>1.0</td>\n",
              "      <td>1.202128e+07</td>\n",
              "      <td>6.253623e+06</td>\n",
              "      <td>18628035.0</td>\n",
              "      <td>6193840.0</td>\n",
              "      <td>0</td>\n",
              "      <td>1</td>\n",
              "      <td>Syn</td>\n",
              "    </tr>\n",
              "    <tr>\n",
              "      <th>1</th>\n",
              "      <td>113842</td>\n",
              "      <td>172.16.0.5-192.168.50.4-60224-60224-6</td>\n",
              "      <td>172.16.0.5</td>\n",
              "      <td>60224</td>\n",
              "      <td>192.168.50.4</td>\n",
              "      <td>60224</td>\n",
              "      <td>6</td>\n",
              "      <td>2018-11-03 11:36:28.607339</td>\n",
              "      <td>44851366</td>\n",
              "      <td>8</td>\n",
              "      <td>4</td>\n",
              "      <td>48.0</td>\n",
              "      <td>24.0</td>\n",
              "      <td>6.0</td>\n",
              "      <td>6.0</td>\n",
              "      <td>6.0</td>\n",
              "      <td>0.0</td>\n",
              "      <td>6.0</td>\n",
              "      <td>6.0</td>\n",
              "      <td>6.0</td>\n",
              "      <td>0.0</td>\n",
              "      <td>1.605302e+00</td>\n",
              "      <td>2.675504e-01</td>\n",
              "      <td>4.077397e+06</td>\n",
              "      <td>9.056967e+06</td>\n",
              "      <td>28934293.0</td>\n",
              "      <td>1.0</td>\n",
              "      <td>44851314.0</td>\n",
              "      <td>6.407331e+06</td>\n",
              "      <td>1.092235e+07</td>\n",
              "      <td>28934293.0</td>\n",
              "      <td>1.0</td>\n",
              "      <td>3525902.0</td>\n",
              "      <td>1.175301e+06</td>\n",
              "      <td>2.035679e+06</td>\n",
              "      <td>3525900.0</td>\n",
              "      <td>1.0</td>\n",
              "      <td>0</td>\n",
              "      <td>0</td>\n",
              "      <td>0</td>\n",
              "      <td>...</td>\n",
              "      <td>0.0</td>\n",
              "      <td>0.0</td>\n",
              "      <td>0</td>\n",
              "      <td>0</td>\n",
              "      <td>0</td>\n",
              "      <td>0</td>\n",
              "      <td>1</td>\n",
              "      <td>0</td>\n",
              "      <td>0</td>\n",
              "      <td>0</td>\n",
              "      <td>0.0</td>\n",
              "      <td>6.500000</td>\n",
              "      <td>6.0</td>\n",
              "      <td>6.0</td>\n",
              "      <td>160</td>\n",
              "      <td>0</td>\n",
              "      <td>0</td>\n",
              "      <td>0</td>\n",
              "      <td>0</td>\n",
              "      <td>0</td>\n",
              "      <td>0</td>\n",
              "      <td>8</td>\n",
              "      <td>48</td>\n",
              "      <td>4</td>\n",
              "      <td>24</td>\n",
              "      <td>5840</td>\n",
              "      <td>0</td>\n",
              "      <td>7</td>\n",
              "      <td>20</td>\n",
              "      <td>1.0</td>\n",
              "      <td>0.000000</td>\n",
              "      <td>1.0</td>\n",
              "      <td>1.0</td>\n",
              "      <td>2.066268e+07</td>\n",
              "      <td>1.169783e+07</td>\n",
              "      <td>28934293.0</td>\n",
              "      <td>12391060.0</td>\n",
              "      <td>0</td>\n",
              "      <td>1</td>\n",
              "      <td>Syn</td>\n",
              "    </tr>\n",
              "    <tr>\n",
              "      <th>2</th>\n",
              "      <td>176377</td>\n",
              "      <td>172.16.0.5-192.168.50.4-33827-11746-6</td>\n",
              "      <td>192.168.50.4</td>\n",
              "      <td>11746</td>\n",
              "      <td>172.16.0.5</td>\n",
              "      <td>33827</td>\n",
              "      <td>6</td>\n",
              "      <td>2018-11-03 11:36:28.607388</td>\n",
              "      <td>1</td>\n",
              "      <td>2</td>\n",
              "      <td>0</td>\n",
              "      <td>12.0</td>\n",
              "      <td>0.0</td>\n",
              "      <td>6.0</td>\n",
              "      <td>6.0</td>\n",
              "      <td>6.0</td>\n",
              "      <td>0.0</td>\n",
              "      <td>0.0</td>\n",
              "      <td>0.0</td>\n",
              "      <td>0.0</td>\n",
              "      <td>0.0</td>\n",
              "      <td>1.200000e+07</td>\n",
              "      <td>2.000000e+06</td>\n",
              "      <td>1.000000e+00</td>\n",
              "      <td>0.000000e+00</td>\n",
              "      <td>1.0</td>\n",
              "      <td>1.0</td>\n",
              "      <td>1.0</td>\n",
              "      <td>1.000000e+00</td>\n",
              "      <td>0.000000e+00</td>\n",
              "      <td>1.0</td>\n",
              "      <td>1.0</td>\n",
              "      <td>0.0</td>\n",
              "      <td>0.000000e+00</td>\n",
              "      <td>0.000000e+00</td>\n",
              "      <td>0.0</td>\n",
              "      <td>0.0</td>\n",
              "      <td>0</td>\n",
              "      <td>0</td>\n",
              "      <td>0</td>\n",
              "      <td>...</td>\n",
              "      <td>0.0</td>\n",
              "      <td>0.0</td>\n",
              "      <td>0</td>\n",
              "      <td>1</td>\n",
              "      <td>0</td>\n",
              "      <td>0</td>\n",
              "      <td>0</td>\n",
              "      <td>1</td>\n",
              "      <td>0</td>\n",
              "      <td>0</td>\n",
              "      <td>0.0</td>\n",
              "      <td>9.000000</td>\n",
              "      <td>6.0</td>\n",
              "      <td>0.0</td>\n",
              "      <td>40</td>\n",
              "      <td>0</td>\n",
              "      <td>0</td>\n",
              "      <td>0</td>\n",
              "      <td>0</td>\n",
              "      <td>0</td>\n",
              "      <td>0</td>\n",
              "      <td>2</td>\n",
              "      <td>12</td>\n",
              "      <td>0</td>\n",
              "      <td>0</td>\n",
              "      <td>0</td>\n",
              "      <td>-1</td>\n",
              "      <td>1</td>\n",
              "      <td>20</td>\n",
              "      <td>0.0</td>\n",
              "      <td>0.000000</td>\n",
              "      <td>0.0</td>\n",
              "      <td>0.0</td>\n",
              "      <td>0.000000e+00</td>\n",
              "      <td>0.000000e+00</td>\n",
              "      <td>0.0</td>\n",
              "      <td>0.0</td>\n",
              "      <td>0</td>\n",
              "      <td>0</td>\n",
              "      <td>Syn</td>\n",
              "    </tr>\n",
              "    <tr>\n",
              "      <th>3</th>\n",
              "      <td>24777</td>\n",
              "      <td>172.16.0.5-192.168.50.4-33828-1431-6</td>\n",
              "      <td>172.16.0.5</td>\n",
              "      <td>33828</td>\n",
              "      <td>192.168.50.4</td>\n",
              "      <td>1431</td>\n",
              "      <td>6</td>\n",
              "      <td>2018-11-03 11:36:28.607391</td>\n",
              "      <td>0</td>\n",
              "      <td>2</td>\n",
              "      <td>0</td>\n",
              "      <td>12.0</td>\n",
              "      <td>0.0</td>\n",
              "      <td>6.0</td>\n",
              "      <td>6.0</td>\n",
              "      <td>6.0</td>\n",
              "      <td>0.0</td>\n",
              "      <td>0.0</td>\n",
              "      <td>0.0</td>\n",
              "      <td>0.0</td>\n",
              "      <td>0.0</td>\n",
              "      <td>inf</td>\n",
              "      <td>inf</td>\n",
              "      <td>0.000000e+00</td>\n",
              "      <td>0.000000e+00</td>\n",
              "      <td>0.0</td>\n",
              "      <td>0.0</td>\n",
              "      <td>0.0</td>\n",
              "      <td>0.000000e+00</td>\n",
              "      <td>0.000000e+00</td>\n",
              "      <td>0.0</td>\n",
              "      <td>0.0</td>\n",
              "      <td>0.0</td>\n",
              "      <td>0.000000e+00</td>\n",
              "      <td>0.000000e+00</td>\n",
              "      <td>0.0</td>\n",
              "      <td>0.0</td>\n",
              "      <td>0</td>\n",
              "      <td>0</td>\n",
              "      <td>0</td>\n",
              "      <td>...</td>\n",
              "      <td>0.0</td>\n",
              "      <td>0.0</td>\n",
              "      <td>0</td>\n",
              "      <td>0</td>\n",
              "      <td>0</td>\n",
              "      <td>0</td>\n",
              "      <td>1</td>\n",
              "      <td>0</td>\n",
              "      <td>0</td>\n",
              "      <td>0</td>\n",
              "      <td>0.0</td>\n",
              "      <td>9.000000</td>\n",
              "      <td>6.0</td>\n",
              "      <td>0.0</td>\n",
              "      <td>40</td>\n",
              "      <td>0</td>\n",
              "      <td>0</td>\n",
              "      <td>0</td>\n",
              "      <td>0</td>\n",
              "      <td>0</td>\n",
              "      <td>0</td>\n",
              "      <td>2</td>\n",
              "      <td>12</td>\n",
              "      <td>0</td>\n",
              "      <td>0</td>\n",
              "      <td>5840</td>\n",
              "      <td>-1</td>\n",
              "      <td>1</td>\n",
              "      <td>20</td>\n",
              "      <td>0.0</td>\n",
              "      <td>0.000000</td>\n",
              "      <td>0.0</td>\n",
              "      <td>0.0</td>\n",
              "      <td>0.000000e+00</td>\n",
              "      <td>0.000000e+00</td>\n",
              "      <td>0.0</td>\n",
              "      <td>0.0</td>\n",
              "      <td>0</td>\n",
              "      <td>1</td>\n",
              "      <td>Syn</td>\n",
              "    </tr>\n",
              "    <tr>\n",
              "      <th>4</th>\n",
              "      <td>85100</td>\n",
              "      <td>172.16.0.5-192.168.50.4-5311-5311-6</td>\n",
              "      <td>172.16.0.5</td>\n",
              "      <td>5311</td>\n",
              "      <td>192.168.50.4</td>\n",
              "      <td>5311</td>\n",
              "      <td>6</td>\n",
              "      <td>2018-11-03 11:36:28.607442</td>\n",
              "      <td>35731470</td>\n",
              "      <td>8</td>\n",
              "      <td>2</td>\n",
              "      <td>48.0</td>\n",
              "      <td>12.0</td>\n",
              "      <td>6.0</td>\n",
              "      <td>6.0</td>\n",
              "      <td>6.0</td>\n",
              "      <td>0.0</td>\n",
              "      <td>6.0</td>\n",
              "      <td>6.0</td>\n",
              "      <td>6.0</td>\n",
              "      <td>0.0</td>\n",
              "      <td>1.679192e+00</td>\n",
              "      <td>2.798653e-01</td>\n",
              "      <td>3.970163e+06</td>\n",
              "      <td>6.026604e+06</td>\n",
              "      <td>13693985.0</td>\n",
              "      <td>0.0</td>\n",
              "      <td>35731470.0</td>\n",
              "      <td>5.104496e+06</td>\n",
              "      <td>6.455349e+06</td>\n",
              "      <td>13693985.0</td>\n",
              "      <td>0.0</td>\n",
              "      <td>1.0</td>\n",
              "      <td>1.000000e+00</td>\n",
              "      <td>0.000000e+00</td>\n",
              "      <td>1.0</td>\n",
              "      <td>1.0</td>\n",
              "      <td>0</td>\n",
              "      <td>0</td>\n",
              "      <td>0</td>\n",
              "      <td>...</td>\n",
              "      <td>0.0</td>\n",
              "      <td>0.0</td>\n",
              "      <td>0</td>\n",
              "      <td>0</td>\n",
              "      <td>0</td>\n",
              "      <td>0</td>\n",
              "      <td>1</td>\n",
              "      <td>0</td>\n",
              "      <td>0</td>\n",
              "      <td>0</td>\n",
              "      <td>0.0</td>\n",
              "      <td>6.600000</td>\n",
              "      <td>6.0</td>\n",
              "      <td>6.0</td>\n",
              "      <td>160</td>\n",
              "      <td>0</td>\n",
              "      <td>0</td>\n",
              "      <td>0</td>\n",
              "      <td>0</td>\n",
              "      <td>0</td>\n",
              "      <td>0</td>\n",
              "      <td>8</td>\n",
              "      <td>48</td>\n",
              "      <td>2</td>\n",
              "      <td>12</td>\n",
              "      <td>5840</td>\n",
              "      <td>0</td>\n",
              "      <td>7</td>\n",
              "      <td>20</td>\n",
              "      <td>24.5</td>\n",
              "      <td>33.234019</td>\n",
              "      <td>48.0</td>\n",
              "      <td>1.0</td>\n",
              "      <td>1.191047e+07</td>\n",
              "      <td>1.849493e+06</td>\n",
              "      <td>13693985.0</td>\n",
              "      <td>10001398.0</td>\n",
              "      <td>0</td>\n",
              "      <td>1</td>\n",
              "      <td>Syn</td>\n",
              "    </tr>\n",
              "  </tbody>\n",
              "</table>\n",
              "<p>5 rows × 88 columns</p>\n",
              "</div>"
            ],
            "text/plain": [
              "   Unnamed: 0                                Flow ID  ...  Inbound   Label\n",
              "0      445444    172.16.0.5-192.168.50.4-9429-9429-6  ...        1     Syn\n",
              "1      113842  172.16.0.5-192.168.50.4-60224-60224-6  ...        1     Syn\n",
              "2      176377  172.16.0.5-192.168.50.4-33827-11746-6  ...        0     Syn\n",
              "3       24777   172.16.0.5-192.168.50.4-33828-1431-6  ...        1     Syn\n",
              "4       85100    172.16.0.5-192.168.50.4-5311-5311-6  ...        1     Syn\n",
              "\n",
              "[5 rows x 88 columns]"
            ]
          },
          "metadata": {
            "tags": []
          },
          "execution_count": 2
        }
      ]
    },
    {
      "cell_type": "markdown",
      "metadata": {
        "id": "RWswXqp9h9rc",
        "colab_type": "text"
      },
      "source": [
        "**Description of the dataset**"
      ]
    },
    {
      "cell_type": "code",
      "metadata": {
        "id": "oXDmeElqDlQz",
        "colab_type": "code",
        "outputId": "b45c4c78-13bc-4439-e71f-245f77fe6c1c",
        "colab": {
          "base_uri": "https://localhost:8080/",
          "height": 397
        }
      },
      "source": [
        "data.describe()"
      ],
      "execution_count": 3,
      "outputs": [
        {
          "output_type": "execute_result",
          "data": {
            "text/html": [
              "<div>\n",
              "<style scoped>\n",
              "    .dataframe tbody tr th:only-of-type {\n",
              "        vertical-align: middle;\n",
              "    }\n",
              "\n",
              "    .dataframe tbody tr th {\n",
              "        vertical-align: top;\n",
              "    }\n",
              "\n",
              "    .dataframe thead th {\n",
              "        text-align: right;\n",
              "    }\n",
              "</style>\n",
              "<table border=\"1\" class=\"dataframe\">\n",
              "  <thead>\n",
              "    <tr style=\"text-align: right;\">\n",
              "      <th></th>\n",
              "      <th>Unnamed: 0</th>\n",
              "      <th>Source Port</th>\n",
              "      <th>Destination Port</th>\n",
              "      <th>Protocol</th>\n",
              "      <th>Flow Duration</th>\n",
              "      <th>Total Fwd Packets</th>\n",
              "      <th>Total Backward Packets</th>\n",
              "      <th>Total Length of Fwd Packets</th>\n",
              "      <th>Total Length of Bwd Packets</th>\n",
              "      <th>Fwd Packet Length Max</th>\n",
              "      <th>Fwd Packet Length Min</th>\n",
              "      <th>Fwd Packet Length Mean</th>\n",
              "      <th>Fwd Packet Length Std</th>\n",
              "      <th>Bwd Packet Length Max</th>\n",
              "      <th>Bwd Packet Length Min</th>\n",
              "      <th>Bwd Packet Length Mean</th>\n",
              "      <th>Bwd Packet Length Std</th>\n",
              "      <th>Flow Bytes/s</th>\n",
              "      <th>Flow Packets/s</th>\n",
              "      <th>Flow IAT Mean</th>\n",
              "      <th>Flow IAT Std</th>\n",
              "      <th>Flow IAT Max</th>\n",
              "      <th>Flow IAT Min</th>\n",
              "      <th>Fwd IAT Total</th>\n",
              "      <th>Fwd IAT Mean</th>\n",
              "      <th>Fwd IAT Std</th>\n",
              "      <th>Fwd IAT Max</th>\n",
              "      <th>Fwd IAT Min</th>\n",
              "      <th>Bwd IAT Total</th>\n",
              "      <th>Bwd IAT Mean</th>\n",
              "      <th>Bwd IAT Std</th>\n",
              "      <th>Bwd IAT Max</th>\n",
              "      <th>Bwd IAT Min</th>\n",
              "      <th>Fwd PSH Flags</th>\n",
              "      <th>Bwd PSH Flags</th>\n",
              "      <th>Fwd URG Flags</th>\n",
              "      <th>Bwd URG Flags</th>\n",
              "      <th>Fwd Header Length</th>\n",
              "      <th>Bwd Header Length</th>\n",
              "      <th>Fwd Packets/s</th>\n",
              "      <th>...</th>\n",
              "      <th>Max Packet Length</th>\n",
              "      <th>Packet Length Mean</th>\n",
              "      <th>Packet Length Std</th>\n",
              "      <th>Packet Length Variance</th>\n",
              "      <th>FIN Flag Count</th>\n",
              "      <th>SYN Flag Count</th>\n",
              "      <th>RST Flag Count</th>\n",
              "      <th>PSH Flag Count</th>\n",
              "      <th>ACK Flag Count</th>\n",
              "      <th>URG Flag Count</th>\n",
              "      <th>CWE Flag Count</th>\n",
              "      <th>ECE Flag Count</th>\n",
              "      <th>Down/Up Ratio</th>\n",
              "      <th>Average Packet Size</th>\n",
              "      <th>Avg Fwd Segment Size</th>\n",
              "      <th>Avg Bwd Segment Size</th>\n",
              "      <th>Fwd Header Length.1</th>\n",
              "      <th>Fwd Avg Bytes/Bulk</th>\n",
              "      <th>Fwd Avg Packets/Bulk</th>\n",
              "      <th>Fwd Avg Bulk Rate</th>\n",
              "      <th>Bwd Avg Bytes/Bulk</th>\n",
              "      <th>Bwd Avg Packets/Bulk</th>\n",
              "      <th>Bwd Avg Bulk Rate</th>\n",
              "      <th>Subflow Fwd Packets</th>\n",
              "      <th>Subflow Fwd Bytes</th>\n",
              "      <th>Subflow Bwd Packets</th>\n",
              "      <th>Subflow Bwd Bytes</th>\n",
              "      <th>Init_Win_bytes_forward</th>\n",
              "      <th>Init_Win_bytes_backward</th>\n",
              "      <th>act_data_pkt_fwd</th>\n",
              "      <th>min_seg_size_forward</th>\n",
              "      <th>Active Mean</th>\n",
              "      <th>Active Std</th>\n",
              "      <th>Active Max</th>\n",
              "      <th>Active Min</th>\n",
              "      <th>Idle Mean</th>\n",
              "      <th>Idle Std</th>\n",
              "      <th>Idle Max</th>\n",
              "      <th>Idle Min</th>\n",
              "      <th>Inbound</th>\n",
              "    </tr>\n",
              "  </thead>\n",
              "  <tbody>\n",
              "    <tr>\n",
              "      <th>count</th>\n",
              "      <td>4.320541e+06</td>\n",
              "      <td>4.320541e+06</td>\n",
              "      <td>4.320541e+06</td>\n",
              "      <td>4.320541e+06</td>\n",
              "      <td>4.320541e+06</td>\n",
              "      <td>4.320541e+06</td>\n",
              "      <td>4.320541e+06</td>\n",
              "      <td>4.320541e+06</td>\n",
              "      <td>4.320541e+06</td>\n",
              "      <td>4.320541e+06</td>\n",
              "      <td>4.320541e+06</td>\n",
              "      <td>4.320541e+06</td>\n",
              "      <td>4.320541e+06</td>\n",
              "      <td>4.320541e+06</td>\n",
              "      <td>4.320541e+06</td>\n",
              "      <td>4.320541e+06</td>\n",
              "      <td>4.320541e+06</td>\n",
              "      <td>4.320447e+06</td>\n",
              "      <td>4.320541e+06</td>\n",
              "      <td>4.320541e+06</td>\n",
              "      <td>4.320541e+06</td>\n",
              "      <td>4.320541e+06</td>\n",
              "      <td>4.320541e+06</td>\n",
              "      <td>4.320541e+06</td>\n",
              "      <td>4.320541e+06</td>\n",
              "      <td>4.320541e+06</td>\n",
              "      <td>4.320541e+06</td>\n",
              "      <td>4.320541e+06</td>\n",
              "      <td>4.320541e+06</td>\n",
              "      <td>4.320541e+06</td>\n",
              "      <td>4.320541e+06</td>\n",
              "      <td>4.320541e+06</td>\n",
              "      <td>4.320541e+06</td>\n",
              "      <td>4.320541e+06</td>\n",
              "      <td>4320541.0</td>\n",
              "      <td>4320541.0</td>\n",
              "      <td>4320541.0</td>\n",
              "      <td>4.320541e+06</td>\n",
              "      <td>4.320541e+06</td>\n",
              "      <td>4.320541e+06</td>\n",
              "      <td>...</td>\n",
              "      <td>4.320541e+06</td>\n",
              "      <td>4.320541e+06</td>\n",
              "      <td>4.320541e+06</td>\n",
              "      <td>4.320541e+06</td>\n",
              "      <td>4320541.0</td>\n",
              "      <td>4.320541e+06</td>\n",
              "      <td>4.320541e+06</td>\n",
              "      <td>4320541.0</td>\n",
              "      <td>4.320541e+06</td>\n",
              "      <td>4.320541e+06</td>\n",
              "      <td>4.320541e+06</td>\n",
              "      <td>4320541.0</td>\n",
              "      <td>4.320541e+06</td>\n",
              "      <td>4.320541e+06</td>\n",
              "      <td>4.320541e+06</td>\n",
              "      <td>4.320541e+06</td>\n",
              "      <td>4.320541e+06</td>\n",
              "      <td>4320541.0</td>\n",
              "      <td>4320541.0</td>\n",
              "      <td>4320541.0</td>\n",
              "      <td>4320541.0</td>\n",
              "      <td>4320541.0</td>\n",
              "      <td>4320541.0</td>\n",
              "      <td>4.320541e+06</td>\n",
              "      <td>4.320541e+06</td>\n",
              "      <td>4.320541e+06</td>\n",
              "      <td>4.320541e+06</td>\n",
              "      <td>4.320541e+06</td>\n",
              "      <td>4.320541e+06</td>\n",
              "      <td>4.320541e+06</td>\n",
              "      <td>4.320541e+06</td>\n",
              "      <td>4.320541e+06</td>\n",
              "      <td>4.320541e+06</td>\n",
              "      <td>4.320541e+06</td>\n",
              "      <td>4.320541e+06</td>\n",
              "      <td>4.320541e+06</td>\n",
              "      <td>4.320541e+06</td>\n",
              "      <td>4.320541e+06</td>\n",
              "      <td>4.320541e+06</td>\n",
              "      <td>4.320541e+06</td>\n",
              "    </tr>\n",
              "    <tr>\n",
              "      <th>mean</th>\n",
              "      <td>3.099163e+05</td>\n",
              "      <td>3.693873e+04</td>\n",
              "      <td>3.261617e+04</td>\n",
              "      <td>6.038986e+00</td>\n",
              "      <td>5.375630e+06</td>\n",
              "      <td>2.903221e+00</td>\n",
              "      <td>1.150095e+00</td>\n",
              "      <td>2.573356e+01</td>\n",
              "      <td>7.487082e+01</td>\n",
              "      <td>8.004748e+00</td>\n",
              "      <td>6.631217e+00</td>\n",
              "      <td>6.870794e+00</td>\n",
              "      <td>4.212168e-01</td>\n",
              "      <td>5.360123e+00</td>\n",
              "      <td>2.684560e+00</td>\n",
              "      <td>3.358340e+00</td>\n",
              "      <td>8.056995e-01</td>\n",
              "      <td>inf</td>\n",
              "      <td>inf</td>\n",
              "      <td>4.837270e+05</td>\n",
              "      <td>8.115524e+05</td>\n",
              "      <td>2.136962e+06</td>\n",
              "      <td>5.625968e+02</td>\n",
              "      <td>5.372803e+06</td>\n",
              "      <td>6.498468e+05</td>\n",
              "      <td>9.014117e+05</td>\n",
              "      <td>2.135578e+06</td>\n",
              "      <td>5.532523e+02</td>\n",
              "      <td>1.970215e+06</td>\n",
              "      <td>4.070227e+05</td>\n",
              "      <td>6.970573e+05</td>\n",
              "      <td>1.459795e+06</td>\n",
              "      <td>1.654467e+00</td>\n",
              "      <td>1.445421e-03</td>\n",
              "      <td>0.0</td>\n",
              "      <td>0.0</td>\n",
              "      <td>0.0</td>\n",
              "      <td>5.834120e+01</td>\n",
              "      <td>2.362013e+01</td>\n",
              "      <td>7.843840e+05</td>\n",
              "      <td>...</td>\n",
              "      <td>9.722053e+00</td>\n",
              "      <td>7.171361e+00</td>\n",
              "      <td>8.487942e-01</td>\n",
              "      <td>4.401158e+02</td>\n",
              "      <td>0.0</td>\n",
              "      <td>2.330727e-04</td>\n",
              "      <td>1.445421e-03</td>\n",
              "      <td>0.0</td>\n",
              "      <td>9.915490e-01</td>\n",
              "      <td>4.602896e-03</td>\n",
              "      <td>2.329338e-03</td>\n",
              "      <td>0.0</td>\n",
              "      <td>3.294955e-01</td>\n",
              "      <td>9.738825e+00</td>\n",
              "      <td>6.870794e+00</td>\n",
              "      <td>3.358340e+00</td>\n",
              "      <td>5.834120e+01</td>\n",
              "      <td>0.0</td>\n",
              "      <td>0.0</td>\n",
              "      <td>0.0</td>\n",
              "      <td>0.0</td>\n",
              "      <td>0.0</td>\n",
              "      <td>0.0</td>\n",
              "      <td>2.903221e+00</td>\n",
              "      <td>2.573356e+01</td>\n",
              "      <td>1.150095e+00</td>\n",
              "      <td>7.487082e+01</td>\n",
              "      <td>5.833251e+03</td>\n",
              "      <td>2.289876e+01</td>\n",
              "      <td>1.861677e+00</td>\n",
              "      <td>2.004996e+01</td>\n",
              "      <td>1.377186e+04</td>\n",
              "      <td>2.116954e+04</td>\n",
              "      <td>4.182313e+04</td>\n",
              "      <td>1.745919e+03</td>\n",
              "      <td>1.594314e+06</td>\n",
              "      <td>4.868127e+05</td>\n",
              "      <td>2.117735e+06</td>\n",
              "      <td>1.139510e+06</td>\n",
              "      <td>9.926512e-01</td>\n",
              "    </tr>\n",
              "    <tr>\n",
              "      <th>std</th>\n",
              "      <td>1.865014e+05</td>\n",
              "      <td>1.876766e+04</td>\n",
              "      <td>1.905148e+04</td>\n",
              "      <td>6.682769e-01</td>\n",
              "      <td>1.618365e+07</td>\n",
              "      <td>1.079579e+01</td>\n",
              "      <td>7.724044e+00</td>\n",
              "      <td>3.765292e+02</td>\n",
              "      <td>1.202927e+04</td>\n",
              "      <td>4.496313e+01</td>\n",
              "      <td>1.674066e+01</td>\n",
              "      <td>1.832276e+01</td>\n",
              "      <td>1.252082e+01</td>\n",
              "      <td>7.705930e+01</td>\n",
              "      <td>5.888551e+00</td>\n",
              "      <td>2.367843e+01</td>\n",
              "      <td>2.280777e+01</td>\n",
              "      <td>NaN</td>\n",
              "      <td>NaN</td>\n",
              "      <td>1.484737e+06</td>\n",
              "      <td>2.440436e+06</td>\n",
              "      <td>6.446082e+06</td>\n",
              "      <td>1.141262e+05</td>\n",
              "      <td>1.618269e+07</td>\n",
              "      <td>1.920820e+06</td>\n",
              "      <td>2.704003e+06</td>\n",
              "      <td>6.445699e+06</td>\n",
              "      <td>1.141871e+05</td>\n",
              "      <td>9.243158e+06</td>\n",
              "      <td>1.919505e+06</td>\n",
              "      <td>3.319238e+06</td>\n",
              "      <td>6.809550e+06</td>\n",
              "      <td>7.536330e+00</td>\n",
              "      <td>3.799121e-02</td>\n",
              "      <td>0.0</td>\n",
              "      <td>0.0</td>\n",
              "      <td>0.0</td>\n",
              "      <td>1.354715e+02</td>\n",
              "      <td>2.117739e+02</td>\n",
              "      <td>9.467344e+05</td>\n",
              "      <td>...</td>\n",
              "      <td>8.225198e+01</td>\n",
              "      <td>2.223118e+01</td>\n",
              "      <td>2.096176e+01</td>\n",
              "      <td>1.480103e+04</td>\n",
              "      <td>0.0</td>\n",
              "      <td>1.526494e-02</td>\n",
              "      <td>3.799121e-02</td>\n",
              "      <td>0.0</td>\n",
              "      <td>9.154019e-02</td>\n",
              "      <td>6.768833e-02</td>\n",
              "      <td>4.820698e-02</td>\n",
              "      <td>0.0</td>\n",
              "      <td>4.791064e-01</td>\n",
              "      <td>2.921650e+01</td>\n",
              "      <td>1.832276e+01</td>\n",
              "      <td>2.367843e+01</td>\n",
              "      <td>1.354715e+02</td>\n",
              "      <td>0.0</td>\n",
              "      <td>0.0</td>\n",
              "      <td>0.0</td>\n",
              "      <td>0.0</td>\n",
              "      <td>0.0</td>\n",
              "      <td>0.0</td>\n",
              "      <td>1.079579e+01</td>\n",
              "      <td>3.765292e+02</td>\n",
              "      <td>7.724044e+00</td>\n",
              "      <td>1.202927e+04</td>\n",
              "      <td>1.120658e+03</td>\n",
              "      <td>9.298767e+02</td>\n",
              "      <td>3.935409e+00</td>\n",
              "      <td>8.608115e-01</td>\n",
              "      <td>1.488036e+05</td>\n",
              "      <td>1.993497e+05</td>\n",
              "      <td>3.837539e+05</td>\n",
              "      <td>8.645533e+04</td>\n",
              "      <td>4.878726e+06</td>\n",
              "      <td>1.784867e+06</td>\n",
              "      <td>6.445937e+06</td>\n",
              "      <td>3.750333e+06</td>\n",
              "      <td>8.540986e-02</td>\n",
              "    </tr>\n",
              "    <tr>\n",
              "      <th>min</th>\n",
              "      <td>0.000000e+00</td>\n",
              "      <td>0.000000e+00</td>\n",
              "      <td>0.000000e+00</td>\n",
              "      <td>0.000000e+00</td>\n",
              "      <td>0.000000e+00</td>\n",
              "      <td>1.000000e+00</td>\n",
              "      <td>0.000000e+00</td>\n",
              "      <td>0.000000e+00</td>\n",
              "      <td>0.000000e+00</td>\n",
              "      <td>0.000000e+00</td>\n",
              "      <td>0.000000e+00</td>\n",
              "      <td>0.000000e+00</td>\n",
              "      <td>0.000000e+00</td>\n",
              "      <td>0.000000e+00</td>\n",
              "      <td>0.000000e+00</td>\n",
              "      <td>0.000000e+00</td>\n",
              "      <td>0.000000e+00</td>\n",
              "      <td>0.000000e+00</td>\n",
              "      <td>3.571637e-02</td>\n",
              "      <td>0.000000e+00</td>\n",
              "      <td>0.000000e+00</td>\n",
              "      <td>0.000000e+00</td>\n",
              "      <td>0.000000e+00</td>\n",
              "      <td>0.000000e+00</td>\n",
              "      <td>0.000000e+00</td>\n",
              "      <td>0.000000e+00</td>\n",
              "      <td>0.000000e+00</td>\n",
              "      <td>0.000000e+00</td>\n",
              "      <td>0.000000e+00</td>\n",
              "      <td>0.000000e+00</td>\n",
              "      <td>0.000000e+00</td>\n",
              "      <td>0.000000e+00</td>\n",
              "      <td>0.000000e+00</td>\n",
              "      <td>0.000000e+00</td>\n",
              "      <td>0.0</td>\n",
              "      <td>0.0</td>\n",
              "      <td>0.0</td>\n",
              "      <td>0.000000e+00</td>\n",
              "      <td>0.000000e+00</td>\n",
              "      <td>0.000000e+00</td>\n",
              "      <td>...</td>\n",
              "      <td>0.000000e+00</td>\n",
              "      <td>0.000000e+00</td>\n",
              "      <td>0.000000e+00</td>\n",
              "      <td>0.000000e+00</td>\n",
              "      <td>0.0</td>\n",
              "      <td>0.000000e+00</td>\n",
              "      <td>0.000000e+00</td>\n",
              "      <td>0.0</td>\n",
              "      <td>0.000000e+00</td>\n",
              "      <td>0.000000e+00</td>\n",
              "      <td>0.000000e+00</td>\n",
              "      <td>0.0</td>\n",
              "      <td>0.000000e+00</td>\n",
              "      <td>0.000000e+00</td>\n",
              "      <td>0.000000e+00</td>\n",
              "      <td>0.000000e+00</td>\n",
              "      <td>0.000000e+00</td>\n",
              "      <td>0.0</td>\n",
              "      <td>0.0</td>\n",
              "      <td>0.0</td>\n",
              "      <td>0.0</td>\n",
              "      <td>0.0</td>\n",
              "      <td>0.0</td>\n",
              "      <td>1.000000e+00</td>\n",
              "      <td>0.000000e+00</td>\n",
              "      <td>0.000000e+00</td>\n",
              "      <td>0.000000e+00</td>\n",
              "      <td>-1.000000e+00</td>\n",
              "      <td>-1.000000e+00</td>\n",
              "      <td>0.000000e+00</td>\n",
              "      <td>0.000000e+00</td>\n",
              "      <td>0.000000e+00</td>\n",
              "      <td>0.000000e+00</td>\n",
              "      <td>0.000000e+00</td>\n",
              "      <td>0.000000e+00</td>\n",
              "      <td>0.000000e+00</td>\n",
              "      <td>0.000000e+00</td>\n",
              "      <td>0.000000e+00</td>\n",
              "      <td>0.000000e+00</td>\n",
              "      <td>0.000000e+00</td>\n",
              "    </tr>\n",
              "    <tr>\n",
              "      <th>25%</th>\n",
              "      <td>1.500500e+05</td>\n",
              "      <td>2.076700e+04</td>\n",
              "      <td>1.612100e+04</td>\n",
              "      <td>6.000000e+00</td>\n",
              "      <td>1.000000e+00</td>\n",
              "      <td>2.000000e+00</td>\n",
              "      <td>0.000000e+00</td>\n",
              "      <td>1.200000e+01</td>\n",
              "      <td>0.000000e+00</td>\n",
              "      <td>6.000000e+00</td>\n",
              "      <td>6.000000e+00</td>\n",
              "      <td>6.000000e+00</td>\n",
              "      <td>0.000000e+00</td>\n",
              "      <td>0.000000e+00</td>\n",
              "      <td>0.000000e+00</td>\n",
              "      <td>0.000000e+00</td>\n",
              "      <td>0.000000e+00</td>\n",
              "      <td>2.285714e+05</td>\n",
              "      <td>3.809524e+04</td>\n",
              "      <td>1.000000e+00</td>\n",
              "      <td>0.000000e+00</td>\n",
              "      <td>1.000000e+00</td>\n",
              "      <td>1.000000e+00</td>\n",
              "      <td>1.000000e+00</td>\n",
              "      <td>1.000000e+00</td>\n",
              "      <td>0.000000e+00</td>\n",
              "      <td>1.000000e+00</td>\n",
              "      <td>1.000000e+00</td>\n",
              "      <td>0.000000e+00</td>\n",
              "      <td>0.000000e+00</td>\n",
              "      <td>0.000000e+00</td>\n",
              "      <td>0.000000e+00</td>\n",
              "      <td>0.000000e+00</td>\n",
              "      <td>0.000000e+00</td>\n",
              "      <td>0.0</td>\n",
              "      <td>0.0</td>\n",
              "      <td>0.0</td>\n",
              "      <td>4.000000e+01</td>\n",
              "      <td>0.000000e+00</td>\n",
              "      <td>1.785714e+04</td>\n",
              "      <td>...</td>\n",
              "      <td>6.000000e+00</td>\n",
              "      <td>6.000000e+00</td>\n",
              "      <td>0.000000e+00</td>\n",
              "      <td>0.000000e+00</td>\n",
              "      <td>0.0</td>\n",
              "      <td>0.000000e+00</td>\n",
              "      <td>0.000000e+00</td>\n",
              "      <td>0.0</td>\n",
              "      <td>1.000000e+00</td>\n",
              "      <td>0.000000e+00</td>\n",
              "      <td>0.000000e+00</td>\n",
              "      <td>0.0</td>\n",
              "      <td>0.000000e+00</td>\n",
              "      <td>7.500000e+00</td>\n",
              "      <td>6.000000e+00</td>\n",
              "      <td>0.000000e+00</td>\n",
              "      <td>4.000000e+01</td>\n",
              "      <td>0.0</td>\n",
              "      <td>0.0</td>\n",
              "      <td>0.0</td>\n",
              "      <td>0.0</td>\n",
              "      <td>0.0</td>\n",
              "      <td>0.0</td>\n",
              "      <td>2.000000e+00</td>\n",
              "      <td>1.200000e+01</td>\n",
              "      <td>0.000000e+00</td>\n",
              "      <td>0.000000e+00</td>\n",
              "      <td>5.840000e+03</td>\n",
              "      <td>-1.000000e+00</td>\n",
              "      <td>1.000000e+00</td>\n",
              "      <td>2.000000e+01</td>\n",
              "      <td>0.000000e+00</td>\n",
              "      <td>0.000000e+00</td>\n",
              "      <td>0.000000e+00</td>\n",
              "      <td>0.000000e+00</td>\n",
              "      <td>0.000000e+00</td>\n",
              "      <td>0.000000e+00</td>\n",
              "      <td>0.000000e+00</td>\n",
              "      <td>0.000000e+00</td>\n",
              "      <td>1.000000e+00</td>\n",
              "    </tr>\n",
              "    <tr>\n",
              "      <th>50%</th>\n",
              "      <td>3.043550e+05</td>\n",
              "      <td>3.753200e+04</td>\n",
              "      <td>3.264100e+04</td>\n",
              "      <td>6.000000e+00</td>\n",
              "      <td>4.700000e+01</td>\n",
              "      <td>2.000000e+00</td>\n",
              "      <td>0.000000e+00</td>\n",
              "      <td>1.200000e+01</td>\n",
              "      <td>0.000000e+00</td>\n",
              "      <td>6.000000e+00</td>\n",
              "      <td>6.000000e+00</td>\n",
              "      <td>6.000000e+00</td>\n",
              "      <td>0.000000e+00</td>\n",
              "      <td>0.000000e+00</td>\n",
              "      <td>0.000000e+00</td>\n",
              "      <td>0.000000e+00</td>\n",
              "      <td>0.000000e+00</td>\n",
              "      <td>4.528302e+05</td>\n",
              "      <td>7.547170e+04</td>\n",
              "      <td>1.766667e+01</td>\n",
              "      <td>0.000000e+00</td>\n",
              "      <td>4.700000e+01</td>\n",
              "      <td>1.000000e+00</td>\n",
              "      <td>1.000000e+00</td>\n",
              "      <td>1.000000e+00</td>\n",
              "      <td>0.000000e+00</td>\n",
              "      <td>1.000000e+00</td>\n",
              "      <td>1.000000e+00</td>\n",
              "      <td>0.000000e+00</td>\n",
              "      <td>0.000000e+00</td>\n",
              "      <td>0.000000e+00</td>\n",
              "      <td>0.000000e+00</td>\n",
              "      <td>0.000000e+00</td>\n",
              "      <td>0.000000e+00</td>\n",
              "      <td>0.0</td>\n",
              "      <td>0.0</td>\n",
              "      <td>0.0</td>\n",
              "      <td>4.000000e+01</td>\n",
              "      <td>0.000000e+00</td>\n",
              "      <td>3.846154e+04</td>\n",
              "      <td>...</td>\n",
              "      <td>6.000000e+00</td>\n",
              "      <td>6.000000e+00</td>\n",
              "      <td>0.000000e+00</td>\n",
              "      <td>0.000000e+00</td>\n",
              "      <td>0.0</td>\n",
              "      <td>0.000000e+00</td>\n",
              "      <td>0.000000e+00</td>\n",
              "      <td>0.0</td>\n",
              "      <td>1.000000e+00</td>\n",
              "      <td>0.000000e+00</td>\n",
              "      <td>0.000000e+00</td>\n",
              "      <td>0.0</td>\n",
              "      <td>0.000000e+00</td>\n",
              "      <td>9.000000e+00</td>\n",
              "      <td>6.000000e+00</td>\n",
              "      <td>0.000000e+00</td>\n",
              "      <td>4.000000e+01</td>\n",
              "      <td>0.0</td>\n",
              "      <td>0.0</td>\n",
              "      <td>0.0</td>\n",
              "      <td>0.0</td>\n",
              "      <td>0.0</td>\n",
              "      <td>0.0</td>\n",
              "      <td>2.000000e+00</td>\n",
              "      <td>1.200000e+01</td>\n",
              "      <td>0.000000e+00</td>\n",
              "      <td>0.000000e+00</td>\n",
              "      <td>5.840000e+03</td>\n",
              "      <td>-1.000000e+00</td>\n",
              "      <td>1.000000e+00</td>\n",
              "      <td>2.000000e+01</td>\n",
              "      <td>0.000000e+00</td>\n",
              "      <td>0.000000e+00</td>\n",
              "      <td>0.000000e+00</td>\n",
              "      <td>0.000000e+00</td>\n",
              "      <td>0.000000e+00</td>\n",
              "      <td>0.000000e+00</td>\n",
              "      <td>0.000000e+00</td>\n",
              "      <td>0.000000e+00</td>\n",
              "      <td>1.000000e+00</td>\n",
              "    </tr>\n",
              "    <tr>\n",
              "      <th>75%</th>\n",
              "      <td>4.586600e+05</td>\n",
              "      <td>5.405500e+04</td>\n",
              "      <td>4.913700e+04</td>\n",
              "      <td>6.000000e+00</td>\n",
              "      <td>1.050000e+02</td>\n",
              "      <td>2.000000e+00</td>\n",
              "      <td>2.000000e+00</td>\n",
              "      <td>1.200000e+01</td>\n",
              "      <td>1.200000e+01</td>\n",
              "      <td>6.000000e+00</td>\n",
              "      <td>6.000000e+00</td>\n",
              "      <td>6.000000e+00</td>\n",
              "      <td>0.000000e+00</td>\n",
              "      <td>6.000000e+00</td>\n",
              "      <td>6.000000e+00</td>\n",
              "      <td>6.000000e+00</td>\n",
              "      <td>0.000000e+00</td>\n",
              "      <td>1.200000e+07</td>\n",
              "      <td>2.000000e+06</td>\n",
              "      <td>3.866667e+01</td>\n",
              "      <td>5.715768e+01</td>\n",
              "      <td>1.000000e+02</td>\n",
              "      <td>1.000000e+00</td>\n",
              "      <td>4.500000e+01</td>\n",
              "      <td>4.500000e+01</td>\n",
              "      <td>0.000000e+00</td>\n",
              "      <td>4.500000e+01</td>\n",
              "      <td>1.000000e+00</td>\n",
              "      <td>1.000000e+00</td>\n",
              "      <td>1.000000e+00</td>\n",
              "      <td>0.000000e+00</td>\n",
              "      <td>1.000000e+00</td>\n",
              "      <td>1.000000e+00</td>\n",
              "      <td>0.000000e+00</td>\n",
              "      <td>0.0</td>\n",
              "      <td>0.0</td>\n",
              "      <td>0.0</td>\n",
              "      <td>4.000000e+01</td>\n",
              "      <td>4.000000e+01</td>\n",
              "      <td>2.000000e+06</td>\n",
              "      <td>...</td>\n",
              "      <td>6.000000e+00</td>\n",
              "      <td>6.000000e+00</td>\n",
              "      <td>0.000000e+00</td>\n",
              "      <td>0.000000e+00</td>\n",
              "      <td>0.0</td>\n",
              "      <td>0.000000e+00</td>\n",
              "      <td>0.000000e+00</td>\n",
              "      <td>0.0</td>\n",
              "      <td>1.000000e+00</td>\n",
              "      <td>0.000000e+00</td>\n",
              "      <td>0.000000e+00</td>\n",
              "      <td>0.0</td>\n",
              "      <td>1.000000e+00</td>\n",
              "      <td>9.000000e+00</td>\n",
              "      <td>6.000000e+00</td>\n",
              "      <td>6.000000e+00</td>\n",
              "      <td>4.000000e+01</td>\n",
              "      <td>0.0</td>\n",
              "      <td>0.0</td>\n",
              "      <td>0.0</td>\n",
              "      <td>0.0</td>\n",
              "      <td>0.0</td>\n",
              "      <td>0.0</td>\n",
              "      <td>2.000000e+00</td>\n",
              "      <td>1.200000e+01</td>\n",
              "      <td>2.000000e+00</td>\n",
              "      <td>1.200000e+01</td>\n",
              "      <td>5.840000e+03</td>\n",
              "      <td>0.000000e+00</td>\n",
              "      <td>1.000000e+00</td>\n",
              "      <td>2.000000e+01</td>\n",
              "      <td>0.000000e+00</td>\n",
              "      <td>0.000000e+00</td>\n",
              "      <td>0.000000e+00</td>\n",
              "      <td>0.000000e+00</td>\n",
              "      <td>0.000000e+00</td>\n",
              "      <td>0.000000e+00</td>\n",
              "      <td>0.000000e+00</td>\n",
              "      <td>0.000000e+00</td>\n",
              "      <td>1.000000e+00</td>\n",
              "    </tr>\n",
              "    <tr>\n",
              "      <th>max</th>\n",
              "      <td>6.706430e+05</td>\n",
              "      <td>6.553400e+04</td>\n",
              "      <td>6.553500e+04</td>\n",
              "      <td>1.700000e+01</td>\n",
              "      <td>1.199929e+08</td>\n",
              "      <td>1.561400e+04</td>\n",
              "      <td>8.029000e+03</td>\n",
              "      <td>2.085240e+05</td>\n",
              "      <td>1.289243e+07</td>\n",
              "      <td>3.625000e+03</td>\n",
              "      <td>2.033000e+03</td>\n",
              "      <td>2.033000e+03</td>\n",
              "      <td>1.386636e+03</td>\n",
              "      <td>3.627000e+03</td>\n",
              "      <td>1.460000e+03</td>\n",
              "      <td>1.848789e+03</td>\n",
              "      <td>1.166263e+03</td>\n",
              "      <td>inf</td>\n",
              "      <td>inf</td>\n",
              "      <td>5.120002e+07</td>\n",
              "      <td>6.465944e+07</td>\n",
              "      <td>1.175692e+08</td>\n",
              "      <td>5.120002e+07</td>\n",
              "      <td>1.199929e+08</td>\n",
              "      <td>5.120002e+07</td>\n",
              "      <td>6.790582e+07</td>\n",
              "      <td>1.176163e+08</td>\n",
              "      <td>5.120002e+07</td>\n",
              "      <td>1.199410e+08</td>\n",
              "      <td>5.018679e+07</td>\n",
              "      <td>7.097484e+07</td>\n",
              "      <td>1.176334e+08</td>\n",
              "      <td>2.580000e+02</td>\n",
              "      <td>1.000000e+00</td>\n",
              "      <td>0.0</td>\n",
              "      <td>0.0</td>\n",
              "      <td>0.0</td>\n",
              "      <td>1.487520e+05</td>\n",
              "      <td>2.569440e+05</td>\n",
              "      <td>3.000000e+06</td>\n",
              "      <td>...</td>\n",
              "      <td>3.627000e+03</td>\n",
              "      <td>1.721143e+03</td>\n",
              "      <td>1.200549e+03</td>\n",
              "      <td>1.441317e+06</td>\n",
              "      <td>0.0</td>\n",
              "      <td>1.000000e+00</td>\n",
              "      <td>1.000000e+00</td>\n",
              "      <td>0.0</td>\n",
              "      <td>1.000000e+00</td>\n",
              "      <td>1.000000e+00</td>\n",
              "      <td>1.000000e+00</td>\n",
              "      <td>0.0</td>\n",
              "      <td>1.500000e+01</td>\n",
              "      <td>2.007500e+03</td>\n",
              "      <td>2.033000e+03</td>\n",
              "      <td>1.848789e+03</td>\n",
              "      <td>1.487520e+05</td>\n",
              "      <td>0.0</td>\n",
              "      <td>0.0</td>\n",
              "      <td>0.0</td>\n",
              "      <td>0.0</td>\n",
              "      <td>0.0</td>\n",
              "      <td>0.0</td>\n",
              "      <td>1.561400e+04</td>\n",
              "      <td>2.085240e+05</td>\n",
              "      <td>8.029000e+03</td>\n",
              "      <td>1.289243e+07</td>\n",
              "      <td>6.553500e+04</td>\n",
              "      <td>6.553500e+04</td>\n",
              "      <td>3.888000e+03</td>\n",
              "      <td>4.400000e+01</td>\n",
              "      <td>4.078915e+07</td>\n",
              "      <td>1.450852e+07</td>\n",
              "      <td>4.078915e+07</td>\n",
              "      <td>4.078915e+07</td>\n",
              "      <td>1.175692e+08</td>\n",
              "      <td>6.961402e+07</td>\n",
              "      <td>1.175692e+08</td>\n",
              "      <td>1.175692e+08</td>\n",
              "      <td>1.000000e+00</td>\n",
              "    </tr>\n",
              "  </tbody>\n",
              "</table>\n",
              "<p>8 rows × 82 columns</p>\n",
              "</div>"
            ],
            "text/plain": [
              "         Unnamed: 0   Source Port  ...      Idle Min       Inbound\n",
              "count  4.320541e+06  4.320541e+06  ...  4.320541e+06  4.320541e+06\n",
              "mean   3.099163e+05  3.693873e+04  ...  1.139510e+06  9.926512e-01\n",
              "std    1.865014e+05  1.876766e+04  ...  3.750333e+06  8.540986e-02\n",
              "min    0.000000e+00  0.000000e+00  ...  0.000000e+00  0.000000e+00\n",
              "25%    1.500500e+05  2.076700e+04  ...  0.000000e+00  1.000000e+00\n",
              "50%    3.043550e+05  3.753200e+04  ...  0.000000e+00  1.000000e+00\n",
              "75%    4.586600e+05  5.405500e+04  ...  0.000000e+00  1.000000e+00\n",
              "max    6.706430e+05  6.553400e+04  ...  1.175692e+08  1.000000e+00\n",
              "\n",
              "[8 rows x 82 columns]"
            ]
          },
          "metadata": {
            "tags": []
          },
          "execution_count": 3
        }
      ]
    },
    {
      "cell_type": "markdown",
      "metadata": {
        "id": "B-S3B6iTiDCD",
        "colab_type": "text"
      },
      "source": [
        "**Make the List of the Relevant Columns of Dataset**\n",
        "\n",
        "It can be analysis by the CICFlowMeter\n",
        "this the URL of the CICFlowMeter\n",
        "\n",
        "http://netflowmeter.ca/"
      ]
    },
    {
      "cell_type": "code",
      "metadata": {
        "id": "u_dDfctSDxXK",
        "colab_type": "code",
        "colab": {}
      },
      "source": [
        "irr = [' Fwd Packet Length Max',\n",
        "    ' Fwd Packet Length Min',\n",
        "    ' Min Packet Length',\n",
        "    ' Max Packet Length',\n",
        "    ' Average Packet Size',\n",
        "    'Fwd Packets/s',\n",
        "    ' Fwd Header Length',\n",
        "    ' Fwd Header Length.1',\n",
        "    ' min_seg_size_forward',\n",
        "    'Total Length of Fwd Packets',\n",
        "    ' Fwd Packet Length Std',\n",
        "    ' Flow IAT Min',\n",
        "    ' Subflow Fwd Bytes',\n",
        "    ' Destination Port',\n",
        "    ' Protocol',\n",
        "    ' Packet Length Std',\n",
        "    ' Flow Duration',\n",
        "    'Fwd IAT Total',\n",
        "    ' ACK Flag Count',\n",
        "    'Init_Win_bytes_forward',\n",
        "    ' Flow IAT Mean',\n",
        "    ' Flow IAT Max',\n",
        "    ' Fwd IAT Mean',\n",
        "    ' Fwd IAT Max']"
      ],
      "execution_count": 0,
      "outputs": []
    },
    {
      "cell_type": "code",
      "metadata": {
        "id": "sXBiY22hLX2V",
        "colab_type": "code",
        "outputId": "6b2c1aea-2f02-4587-8964-58b0246b8276",
        "colab": {
          "base_uri": "https://localhost:8080/",
          "height": 34
        }
      },
      "source": [
        "print(len(irr))"
      ],
      "execution_count": 5,
      "outputs": [
        {
          "output_type": "stream",
          "text": [
            "24\n"
          ],
          "name": "stdout"
        }
      ]
    },
    {
      "cell_type": "markdown",
      "metadata": {
        "id": "g3FN-WP5iTle",
        "colab_type": "text"
      },
      "source": [
        "**Here we remove the Irrevelent Columns except Revelent Column List which is defined above**"
      ]
    },
    {
      "cell_type": "code",
      "metadata": {
        "id": "K03LClpSEfUX",
        "colab_type": "code",
        "colab": {}
      },
      "source": [
        "remove_col = []\n",
        "for mycol in data.columns:\n",
        "    if all (x not in mycol for x in irr):\n",
        "        remove_col.append(mycol)"
      ],
      "execution_count": 0,
      "outputs": []
    },
    {
      "cell_type": "code",
      "metadata": {
        "id": "JIn0hfd3LPep",
        "colab_type": "code",
        "outputId": "cfde3f1d-d6cc-47c4-a87a-12f9e20956ca",
        "colab": {
          "base_uri": "https://localhost:8080/",
          "height": 71
        }
      },
      "source": [
        "print(remove_col)\n",
        "print(len(remove_col))"
      ],
      "execution_count": 7,
      "outputs": [
        {
          "output_type": "stream",
          "text": [
            "['Unnamed: 0', 'Flow ID', ' Source IP', ' Source Port', ' Destination IP', ' Timestamp', ' Total Fwd Packets', ' Total Backward Packets', ' Total Length of Bwd Packets', ' Fwd Packet Length Mean', 'Bwd Packet Length Max', ' Bwd Packet Length Min', ' Bwd Packet Length Mean', 'Flow Bytes/s', ' Flow Packets/s', ' Flow IAT Std', ' Fwd IAT Std', ' Fwd IAT Min', 'Bwd IAT Total', ' Bwd IAT Mean', ' Bwd IAT Std', ' Bwd IAT Max', ' Bwd IAT Min', 'Fwd PSH Flags', ' Bwd PSH Flags', ' Fwd URG Flags', ' Bwd URG Flags', ' Bwd Header Length', ' Bwd Packets/s', ' Packet Length Mean', ' Packet Length Variance', 'FIN Flag Count', ' SYN Flag Count', ' RST Flag Count', ' PSH Flag Count', ' URG Flag Count', ' CWE Flag Count', ' ECE Flag Count', ' Down/Up Ratio', ' Avg Fwd Segment Size', ' Avg Bwd Segment Size', 'Fwd Avg Bytes/Bulk', ' Fwd Avg Packets/Bulk', ' Fwd Avg Bulk Rate', ' Bwd Avg Bytes/Bulk', ' Bwd Avg Packets/Bulk', 'Bwd Avg Bulk Rate', 'Subflow Fwd Packets', ' Subflow Bwd Packets', ' Subflow Bwd Bytes', ' Init_Win_bytes_backward', ' act_data_pkt_fwd', 'Active Mean', ' Active Std', ' Active Max', ' Active Min', 'Idle Mean', ' Idle Std', ' Idle Max', ' Idle Min', 'SimillarHTTP', ' Inbound', ' Label']\n",
            "63\n"
          ],
          "name": "stdout"
        }
      ]
    },
    {
      "cell_type": "code",
      "metadata": {
        "id": "WzKzq8SbUSCe",
        "colab_type": "code",
        "outputId": "9c7a1634-f5bc-413b-e3f0-57980023d8fc",
        "colab": {
          "base_uri": "https://localhost:8080/",
          "height": 275
        }
      },
      "source": [
        "data = data.drop(['Unnamed: 0',\n",
        "'Flow ID',\n",
        "' Source IP',\n",
        "' Source Port',\n",
        "' Destination IP',\n",
        "' Timestamp',\n",
        "' Total Fwd Packets',\n",
        "' Total Backward Packets',\n",
        "' Total Length of Bwd Packets',\n",
        "' Fwd Packet Length Mean',\n",
        "'Bwd Packet Length Max',\n",
        "' Bwd Packet Length Min',\n",
        "' Bwd Packet Length Mean',\n",
        "'Flow Bytes/s',\n",
        "' Flow Packets/s',\n",
        "' Flow IAT Std',\n",
        "' Fwd IAT Std',\n",
        "' Fwd IAT Min',\n",
        "'Bwd IAT Total',\n",
        "' Bwd IAT Mean',\n",
        "' Bwd IAT Std',\n",
        "' Bwd IAT Max',\n",
        "' Bwd IAT Min',\n",
        "'Fwd PSH Flags',\n",
        "' Bwd PSH Flags',\n",
        "' Fwd URG Flags',\n",
        "' Bwd URG Flags',\n",
        "' Bwd Header Length',\n",
        "' Bwd Packets/s',\n",
        "' Packet Length Mean',\n",
        "' Packet Length Variance',\n",
        "'FIN Flag Count',\n",
        "' SYN Flag Count',\n",
        "' RST Flag Count',\n",
        "' PSH Flag Count',\n",
        "' URG Flag Count',\n",
        "' CWE Flag Count',\n",
        "' ECE Flag Count',\n",
        "' Down/Up Ratio',\n",
        "' Avg Fwd Segment Size',\n",
        "' Avg Bwd Segment Size',\n",
        "'Fwd Avg Bytes/Bulk',\n",
        "' Fwd Avg Packets/Bulk',\n",
        "' Fwd Avg Bulk Rate',\n",
        "' Bwd Avg Bytes/Bulk',\n",
        "' Bwd Avg Packets/Bulk',\n",
        "'Bwd Avg Bulk Rate',\n",
        "'Subflow Fwd Packets',\n",
        "' Subflow Bwd Packets',\n",
        "' Subflow Bwd Bytes',\n",
        "' Init_Win_bytes_backward',\n",
        "' act_data_pkt_fwd',\n",
        "'Active Mean',\n",
        "' Active Std',\n",
        "' Active Max',\n",
        "' Active Min',\n",
        "'Idle Mean',\n",
        "' Idle Std',\n",
        "' Idle Max',\n",
        "' Idle Min',\n",
        "'SimillarHTTP',\n",
        "' Inbound'],axis=1)\n",
        "data.head()"
      ],
      "execution_count": 8,
      "outputs": [
        {
          "output_type": "execute_result",
          "data": {
            "text/html": [
              "<div>\n",
              "<style scoped>\n",
              "    .dataframe tbody tr th:only-of-type {\n",
              "        vertical-align: middle;\n",
              "    }\n",
              "\n",
              "    .dataframe tbody tr th {\n",
              "        vertical-align: top;\n",
              "    }\n",
              "\n",
              "    .dataframe thead th {\n",
              "        text-align: right;\n",
              "    }\n",
              "</style>\n",
              "<table border=\"1\" class=\"dataframe\">\n",
              "  <thead>\n",
              "    <tr style=\"text-align: right;\">\n",
              "      <th></th>\n",
              "      <th>Destination Port</th>\n",
              "      <th>Protocol</th>\n",
              "      <th>Flow Duration</th>\n",
              "      <th>Total Length of Fwd Packets</th>\n",
              "      <th>Fwd Packet Length Max</th>\n",
              "      <th>Fwd Packet Length Min</th>\n",
              "      <th>Fwd Packet Length Std</th>\n",
              "      <th>Bwd Packet Length Std</th>\n",
              "      <th>Flow IAT Mean</th>\n",
              "      <th>Flow IAT Max</th>\n",
              "      <th>Flow IAT Min</th>\n",
              "      <th>Fwd IAT Total</th>\n",
              "      <th>Fwd IAT Mean</th>\n",
              "      <th>Fwd IAT Max</th>\n",
              "      <th>Fwd Header Length</th>\n",
              "      <th>Fwd Packets/s</th>\n",
              "      <th>Min Packet Length</th>\n",
              "      <th>Max Packet Length</th>\n",
              "      <th>Packet Length Std</th>\n",
              "      <th>ACK Flag Count</th>\n",
              "      <th>Average Packet Size</th>\n",
              "      <th>Fwd Header Length.1</th>\n",
              "      <th>Subflow Fwd Bytes</th>\n",
              "      <th>Init_Win_bytes_forward</th>\n",
              "      <th>min_seg_size_forward</th>\n",
              "      <th>Label</th>\n",
              "    </tr>\n",
              "  </thead>\n",
              "  <tbody>\n",
              "    <tr>\n",
              "      <th>0</th>\n",
              "      <td>9429</td>\n",
              "      <td>6</td>\n",
              "      <td>36063894</td>\n",
              "      <td>42.0</td>\n",
              "      <td>6.0</td>\n",
              "      <td>6.0</td>\n",
              "      <td>0.0</td>\n",
              "      <td>0.0</td>\n",
              "      <td>4.507987e+06</td>\n",
              "      <td>18628035.0</td>\n",
              "      <td>1.0</td>\n",
              "      <td>36063894.0</td>\n",
              "      <td>6.010649e+06</td>\n",
              "      <td>18628035.0</td>\n",
              "      <td>140</td>\n",
              "      <td>1.940999e-01</td>\n",
              "      <td>6.0</td>\n",
              "      <td>6.0</td>\n",
              "      <td>0.0</td>\n",
              "      <td>1</td>\n",
              "      <td>6.666667</td>\n",
              "      <td>140</td>\n",
              "      <td>42</td>\n",
              "      <td>5840</td>\n",
              "      <td>20</td>\n",
              "      <td>Syn</td>\n",
              "    </tr>\n",
              "    <tr>\n",
              "      <th>1</th>\n",
              "      <td>60224</td>\n",
              "      <td>6</td>\n",
              "      <td>44851366</td>\n",
              "      <td>48.0</td>\n",
              "      <td>6.0</td>\n",
              "      <td>6.0</td>\n",
              "      <td>0.0</td>\n",
              "      <td>0.0</td>\n",
              "      <td>4.077397e+06</td>\n",
              "      <td>28934293.0</td>\n",
              "      <td>1.0</td>\n",
              "      <td>44851314.0</td>\n",
              "      <td>6.407331e+06</td>\n",
              "      <td>28934293.0</td>\n",
              "      <td>160</td>\n",
              "      <td>1.783669e-01</td>\n",
              "      <td>6.0</td>\n",
              "      <td>6.0</td>\n",
              "      <td>0.0</td>\n",
              "      <td>1</td>\n",
              "      <td>6.500000</td>\n",
              "      <td>160</td>\n",
              "      <td>48</td>\n",
              "      <td>5840</td>\n",
              "      <td>20</td>\n",
              "      <td>Syn</td>\n",
              "    </tr>\n",
              "    <tr>\n",
              "      <th>2</th>\n",
              "      <td>33827</td>\n",
              "      <td>6</td>\n",
              "      <td>1</td>\n",
              "      <td>12.0</td>\n",
              "      <td>6.0</td>\n",
              "      <td>6.0</td>\n",
              "      <td>0.0</td>\n",
              "      <td>0.0</td>\n",
              "      <td>1.000000e+00</td>\n",
              "      <td>1.0</td>\n",
              "      <td>1.0</td>\n",
              "      <td>1.0</td>\n",
              "      <td>1.000000e+00</td>\n",
              "      <td>1.0</td>\n",
              "      <td>40</td>\n",
              "      <td>2.000000e+06</td>\n",
              "      <td>6.0</td>\n",
              "      <td>6.0</td>\n",
              "      <td>0.0</td>\n",
              "      <td>0</td>\n",
              "      <td>9.000000</td>\n",
              "      <td>40</td>\n",
              "      <td>12</td>\n",
              "      <td>0</td>\n",
              "      <td>20</td>\n",
              "      <td>Syn</td>\n",
              "    </tr>\n",
              "    <tr>\n",
              "      <th>3</th>\n",
              "      <td>1431</td>\n",
              "      <td>6</td>\n",
              "      <td>0</td>\n",
              "      <td>12.0</td>\n",
              "      <td>6.0</td>\n",
              "      <td>6.0</td>\n",
              "      <td>0.0</td>\n",
              "      <td>0.0</td>\n",
              "      <td>0.000000e+00</td>\n",
              "      <td>0.0</td>\n",
              "      <td>0.0</td>\n",
              "      <td>0.0</td>\n",
              "      <td>0.000000e+00</td>\n",
              "      <td>0.0</td>\n",
              "      <td>40</td>\n",
              "      <td>0.000000e+00</td>\n",
              "      <td>6.0</td>\n",
              "      <td>6.0</td>\n",
              "      <td>0.0</td>\n",
              "      <td>1</td>\n",
              "      <td>9.000000</td>\n",
              "      <td>40</td>\n",
              "      <td>12</td>\n",
              "      <td>5840</td>\n",
              "      <td>20</td>\n",
              "      <td>Syn</td>\n",
              "    </tr>\n",
              "    <tr>\n",
              "      <th>4</th>\n",
              "      <td>5311</td>\n",
              "      <td>6</td>\n",
              "      <td>35731470</td>\n",
              "      <td>48.0</td>\n",
              "      <td>6.0</td>\n",
              "      <td>6.0</td>\n",
              "      <td>0.0</td>\n",
              "      <td>0.0</td>\n",
              "      <td>3.970163e+06</td>\n",
              "      <td>13693985.0</td>\n",
              "      <td>0.0</td>\n",
              "      <td>35731470.0</td>\n",
              "      <td>5.104496e+06</td>\n",
              "      <td>13693985.0</td>\n",
              "      <td>160</td>\n",
              "      <td>2.238923e-01</td>\n",
              "      <td>6.0</td>\n",
              "      <td>6.0</td>\n",
              "      <td>0.0</td>\n",
              "      <td>1</td>\n",
              "      <td>6.600000</td>\n",
              "      <td>160</td>\n",
              "      <td>48</td>\n",
              "      <td>5840</td>\n",
              "      <td>20</td>\n",
              "      <td>Syn</td>\n",
              "    </tr>\n",
              "  </tbody>\n",
              "</table>\n",
              "</div>"
            ],
            "text/plain": [
              "    Destination Port   Protocol  ...   min_seg_size_forward   Label\n",
              "0               9429          6  ...                     20     Syn\n",
              "1              60224          6  ...                     20     Syn\n",
              "2              33827          6  ...                     20     Syn\n",
              "3               1431          6  ...                     20     Syn\n",
              "4               5311          6  ...                     20     Syn\n",
              "\n",
              "[5 rows x 26 columns]"
            ]
          },
          "metadata": {
            "tags": []
          },
          "execution_count": 8
        }
      ]
    },
    {
      "cell_type": "markdown",
      "metadata": {
        "id": "Z-iJNNddibzm",
        "colab_type": "text"
      },
      "source": [
        "**Shape of the Clean Dataset**"
      ]
    },
    {
      "cell_type": "code",
      "metadata": {
        "id": "l6FKV5IkW9rP",
        "colab_type": "code",
        "outputId": "3f8c3f9e-828c-438b-9dd5-d5ab64f9de71",
        "colab": {
          "base_uri": "https://localhost:8080/",
          "height": 34
        }
      },
      "source": [
        "data.shape"
      ],
      "execution_count": 9,
      "outputs": [
        {
          "output_type": "execute_result",
          "data": {
            "text/plain": [
              "(4320541, 26)"
            ]
          },
          "metadata": {
            "tags": []
          },
          "execution_count": 9
        }
      ]
    },
    {
      "cell_type": "markdown",
      "metadata": {
        "id": "Z3XdS3fmig4n",
        "colab_type": "text"
      },
      "source": [
        "**Check any Column have empty space**"
      ]
    },
    {
      "cell_type": "code",
      "metadata": {
        "id": "efcN8lUCXgmu",
        "colab_type": "code",
        "outputId": "75e51f42-c3ec-4d1b-939f-504963ad6cd6",
        "colab": {
          "base_uri": "https://localhost:8080/",
          "height": 476
        }
      },
      "source": [
        "data.isnull().sum()"
      ],
      "execution_count": 10,
      "outputs": [
        {
          "output_type": "execute_result",
          "data": {
            "text/plain": [
              " Destination Port              0\n",
              " Protocol                      0\n",
              " Flow Duration                 0\n",
              "Total Length of Fwd Packets    0\n",
              " Fwd Packet Length Max         0\n",
              " Fwd Packet Length Min         0\n",
              " Fwd Packet Length Std         0\n",
              " Bwd Packet Length Std         0\n",
              " Flow IAT Mean                 0\n",
              " Flow IAT Max                  0\n",
              " Flow IAT Min                  0\n",
              "Fwd IAT Total                  0\n",
              " Fwd IAT Mean                  0\n",
              " Fwd IAT Max                   0\n",
              " Fwd Header Length             0\n",
              "Fwd Packets/s                  0\n",
              " Min Packet Length             0\n",
              " Max Packet Length             0\n",
              " Packet Length Std             0\n",
              " ACK Flag Count                0\n",
              " Average Packet Size           0\n",
              " Fwd Header Length.1           0\n",
              " Subflow Fwd Bytes             0\n",
              "Init_Win_bytes_forward         0\n",
              " min_seg_size_forward          0\n",
              " Label                         0\n",
              "dtype: int64"
            ]
          },
          "metadata": {
            "tags": []
          },
          "execution_count": 10
        }
      ]
    },
    {
      "cell_type": "markdown",
      "metadata": {
        "id": "4AWVp34himD8",
        "colab_type": "text"
      },
      "source": [
        "**Here no column have the empty space of NULL values all columns are the full**"
      ]
    },
    {
      "cell_type": "markdown",
      "metadata": {
        "id": "uUiwRnQ4imA8",
        "colab_type": "text"
      },
      "source": [
        "**This we check the Object datatype column in the dataset**"
      ]
    },
    {
      "cell_type": "code",
      "metadata": {
        "id": "Ouej7mvTXoeb",
        "colab_type": "code",
        "outputId": "53a25382-22e4-4a13-e051-86179c954d11",
        "colab": {
          "base_uri": "https://localhost:8080/",
          "height": 34
        }
      },
      "source": [
        "for i in data.columns:\n",
        "    if(data[i].dtype == np.object):\n",
        "        print(i)"
      ],
      "execution_count": 11,
      "outputs": [
        {
          "output_type": "stream",
          "text": [
            " Label\n"
          ],
          "name": "stdout"
        }
      ]
    },
    {
      "cell_type": "markdown",
      "metadata": {
        "id": "KBllt36qivcC",
        "colab_type": "text"
      },
      "source": [
        "**Divide the data into two parts in X and Y**"
      ]
    },
    {
      "cell_type": "code",
      "metadata": {
        "id": "OWQMSwkcXvU-",
        "colab_type": "code",
        "outputId": "15eb81b0-39dc-4d16-bffb-710c34493ff5",
        "colab": {
          "base_uri": "https://localhost:8080/",
          "height": 527
        }
      },
      "source": [
        "y = data[' Label']\n",
        "x = data.drop([' Label'],axis=1)\n",
        "\n",
        "print(\"\\n<<====================== X ================================>>\\n\",x)\n",
        "print(\"\\n<<====================== Y ================================>>\\n\",y)"
      ],
      "execution_count": 12,
      "outputs": [
        {
          "output_type": "stream",
          "text": [
            "\n",
            "<<====================== X ================================>>\n",
            "           Destination Port  ...   min_seg_size_forward\n",
            "0                     9429  ...                     20\n",
            "1                    60224  ...                     20\n",
            "2                    33827  ...                     20\n",
            "3                     1431  ...                     20\n",
            "4                     5311  ...                     20\n",
            "...                    ...  ...                    ...\n",
            "4320536                443  ...                     32\n",
            "4320537                 53  ...                     40\n",
            "4320538              46518  ...                     32\n",
            "4320539                443  ...                     32\n",
            "4320540              46518  ...                     20\n",
            "\n",
            "[4320541 rows x 25 columns]\n",
            "\n",
            "<<====================== Y ================================>>\n",
            " 0             Syn\n",
            "1             Syn\n",
            "2             Syn\n",
            "3             Syn\n",
            "4             Syn\n",
            "            ...  \n",
            "4320536    BENIGN\n",
            "4320537    BENIGN\n",
            "4320538    BENIGN\n",
            "4320539    BENIGN\n",
            "4320540    BENIGN\n",
            "Name:  Label, Length: 4320541, dtype: object\n"
          ],
          "name": "stdout"
        }
      ]
    },
    {
      "cell_type": "markdown",
      "metadata": {
        "id": "uOEhH3gji0RR",
        "colab_type": "text"
      },
      "source": [
        "**Split the dataset into the x_train, x_test, y_train, y_test**\n",
        "\n",
        "**Split Ratio into Test and train is 30:70 means that 30% of the total data is goes for the test and 70% of the total data is goes for the training.**"
      ]
    },
    {
      "cell_type": "code",
      "metadata": {
        "id": "oNCg4zlnDAe9",
        "colab_type": "code",
        "outputId": "aa592c14-784b-4f6c-eb21-fd4373b1fe5e",
        "colab": {
          "base_uri": "https://localhost:8080/",
          "height": 221
        }
      },
      "source": [
        "#split data into training and testing\n",
        "from sklearn.model_selection import train_test_split\n",
        "x_train,x_test,y_train,y_test=train_test_split(x,y,\n",
        "                                               test_size=0.30,\n",
        "                                               random_state=42)\n",
        "print(\"\\n<<======== X_Train ========>>\\n\",x_train.shape)\n",
        "print(\"\\n<<======== X_Train ========>>\\n\",y_train.shape)\n",
        "print(\"\\n<<======== X_Test ========>>\\n\",x_test.shape)\n",
        "print(\"\\n<<======== Y_Test ========>>\\n\",y_test.shape)"
      ],
      "execution_count": 13,
      "outputs": [
        {
          "output_type": "stream",
          "text": [
            "\n",
            "<<======== X_Train ========>>\n",
            " (3024378, 25)\n",
            "\n",
            "<<======== X_Train ========>>\n",
            " (3024378,)\n",
            "\n",
            "<<======== X_Test ========>>\n",
            " (1296163, 25)\n",
            "\n",
            "<<======== Y_Test ========>>\n",
            " (1296163,)\n"
          ],
          "name": "stdout"
        }
      ]
    },
    {
      "cell_type": "markdown",
      "metadata": {
        "id": "agKxJi3wDG1d",
        "colab_type": "text"
      },
      "source": [
        "#**LOGISTIC REGRESSION**"
      ]
    },
    {
      "cell_type": "markdown",
      "metadata": {
        "id": "igdWA8_9i433",
        "colab_type": "text"
      },
      "source": [
        "**Fiting the model in the Logistic Regression Algorithm**"
      ]
    },
    {
      "cell_type": "code",
      "metadata": {
        "id": "-lVRHpsrDGOH",
        "colab_type": "code",
        "outputId": "14d28bd2-0581-4c11-9d43-a277ac8bdff7",
        "colab": {
          "base_uri": "https://localhost:8080/",
          "height": 238
        }
      },
      "source": [
        "#fitting the logistic regression model\n",
        "from sklearn.linear_model import LogisticRegression\n",
        "classifier = LogisticRegression( random_state = 0)\n",
        "classifier.fit(x_train, y_train)"
      ],
      "execution_count": 14,
      "outputs": [
        {
          "output_type": "stream",
          "text": [
            "/usr/local/lib/python3.6/dist-packages/sklearn/linear_model/_logistic.py:940: ConvergenceWarning: lbfgs failed to converge (status=1):\n",
            "STOP: TOTAL NO. of ITERATIONS REACHED LIMIT.\n",
            "\n",
            "Increase the number of iterations (max_iter) or scale the data as shown in:\n",
            "    https://scikit-learn.org/stable/modules/preprocessing.html\n",
            "Please also refer to the documentation for alternative solver options:\n",
            "    https://scikit-learn.org/stable/modules/linear_model.html#logistic-regression\n",
            "  extra_warning_msg=_LOGISTIC_SOLVER_CONVERGENCE_MSG)\n"
          ],
          "name": "stderr"
        },
        {
          "output_type": "execute_result",
          "data": {
            "text/plain": [
              "LogisticRegression(C=1.0, class_weight=None, dual=False, fit_intercept=True,\n",
              "                   intercept_scaling=1, l1_ratio=None, max_iter=100,\n",
              "                   multi_class='auto', n_jobs=None, penalty='l2',\n",
              "                   random_state=0, solver='lbfgs', tol=0.0001, verbose=0,\n",
              "                   warm_start=False)"
            ]
          },
          "metadata": {
            "tags": []
          },
          "execution_count": 14
        }
      ]
    },
    {
      "cell_type": "code",
      "metadata": {
        "id": "kWvDIHgEDRLO",
        "colab_type": "code",
        "outputId": "08fe2ac3-f99b-4ffc-817c-f59347b8ff31",
        "colab": {
          "base_uri": "https://localhost:8080/",
          "height": 34
        }
      },
      "source": [
        "#predicting the test result\n",
        "y_pred = classifier.predict(x_test)\n",
        "print(y_pred)"
      ],
      "execution_count": 15,
      "outputs": [
        {
          "output_type": "stream",
          "text": [
            "['Syn' 'Syn' 'Syn' ... 'Syn' 'Syn' 'Syn']\n"
          ],
          "name": "stdout"
        }
      ]
    },
    {
      "cell_type": "markdown",
      "metadata": {
        "id": "KrX7O0f8j2lh",
        "colab_type": "text"
      },
      "source": [
        "**Confusion Matrix of the Logisitic Regression**"
      ]
    },
    {
      "cell_type": "code",
      "metadata": {
        "id": "01Jjgn-PDU8O",
        "colab_type": "code",
        "outputId": "5a703b70-859c-43a0-b2d8-43eaa5514b5a",
        "colab": {
          "base_uri": "https://localhost:8080/",
          "height": 85
        }
      },
      "source": [
        "#checking the accuracy of model\n",
        "\n",
        "from sklearn.metrics import confusion_matrix, accuracy_score, classification_report\n",
        "cfm = confusion_matrix(y_test, y_pred)\n",
        "print(\"\\n<<================= Confusion Matrix ======================>> \\n\",cfm)"
      ],
      "execution_count": 16,
      "outputs": [
        {
          "output_type": "stream",
          "text": [
            "\n",
            "<<================= Confusion Matrix ======================>> \n",
            " [[   5199    5551]\n",
            " [     94 1285319]]\n"
          ],
          "name": "stdout"
        }
      ]
    },
    {
      "cell_type": "markdown",
      "metadata": {
        "id": "essAYL0ekMzI",
        "colab_type": "text"
      },
      "source": [
        "**Classification Report of the Logistic Regeression**"
      ]
    },
    {
      "cell_type": "code",
      "metadata": {
        "id": "sbYRSIZTDdHT",
        "colab_type": "code",
        "outputId": "bbfd79de-b923-45d9-bcc0-60b10e8d60aa",
        "colab": {
          "base_uri": "https://localhost:8080/",
          "height": 221
        }
      },
      "source": [
        "## Classification Report\n",
        "\n",
        "print(\"\\n<<==================== Calssification Report ====================>>\\n\")\n",
        "\n",
        "print (classification_report(y_test, y_pred))"
      ],
      "execution_count": 17,
      "outputs": [
        {
          "output_type": "stream",
          "text": [
            "\n",
            "<<==================== Calssification Report ====================>>\n",
            "\n",
            "              precision    recall  f1-score   support\n",
            "\n",
            "      BENIGN       0.98      0.48      0.65     10750\n",
            "         Syn       1.00      1.00      1.00   1285413\n",
            "\n",
            "    accuracy                           1.00   1296163\n",
            "   macro avg       0.99      0.74      0.82   1296163\n",
            "weighted avg       1.00      1.00      0.99   1296163\n",
            "\n"
          ],
          "name": "stdout"
        }
      ]
    },
    {
      "cell_type": "markdown",
      "metadata": {
        "id": "3djw74sSkS-c",
        "colab_type": "text"
      },
      "source": [
        "**Accuracy of the Logistic Regression**"
      ]
    },
    {
      "cell_type": "code",
      "metadata": {
        "id": "CE1l2kRcD08-",
        "colab_type": "code",
        "outputId": "aca2b4f0-2a92-40d2-96f2-2bb4d48401f6",
        "colab": {
          "base_uri": "https://localhost:8080/",
          "height": 68
        }
      },
      "source": [
        "## Accuracy Of The Model In the Linear Regression Algo\n",
        "acc = accuracy_score(y_test, y_pred)\n",
        "print ('\\n<<================================ Accuracy Of the Model in LR Algo ================================>>\\n', acc*100)"
      ],
      "execution_count": 18,
      "outputs": [
        {
          "output_type": "stream",
          "text": [
            "\n",
            "<<================================ Accuracy Of the Model in LR Algo ================================>>\n",
            " 99.56448378791865\n"
          ],
          "name": "stdout"
        }
      ]
    },
    {
      "cell_type": "code",
      "metadata": {
        "id": "--7iGT4sWGAc",
        "colab_type": "code",
        "outputId": "fdd22f5a-19f5-4bbc-cbc5-213b050967f7",
        "colab": {
          "base_uri": "https://localhost:8080/",
          "height": 51
        }
      },
      "source": [
        "############ \n",
        "from sklearn.metrics import accuracy_score\n",
        "print(\"Model Accuracy is : \\n \",accuracy_score(y_test,y_pred))"
      ],
      "execution_count": 19,
      "outputs": [
        {
          "output_type": "stream",
          "text": [
            "Model Accuracy is : \n",
            "  0.9956448378791865\n"
          ],
          "name": "stdout"
        }
      ]
    },
    {
      "cell_type": "code",
      "metadata": {
        "id": "0HVKEZw6WQAK",
        "colab_type": "code",
        "outputId": "ef817a46-b770-4443-db03-d1c217497031",
        "colab": {
          "base_uri": "https://localhost:8080/",
          "height": 289
        }
      },
      "source": [
        "from sklearn.metrics import classification_report\n",
        "from sklearn.metrics import confusion_matrix\n",
        "\n",
        "print(classification_report(y_test,y_pred))\n",
        "print(\"\\n\\n <<===================================>> \\n\\n\")\n",
        "print(confusion_matrix(y_test,y_pred))"
      ],
      "execution_count": 20,
      "outputs": [
        {
          "output_type": "stream",
          "text": [
            "              precision    recall  f1-score   support\n",
            "\n",
            "      BENIGN       0.98      0.48      0.65     10750\n",
            "         Syn       1.00      1.00      1.00   1285413\n",
            "\n",
            "    accuracy                           1.00   1296163\n",
            "   macro avg       0.99      0.74      0.82   1296163\n",
            "weighted avg       1.00      1.00      0.99   1296163\n",
            "\n",
            "\n",
            "\n",
            " <<===================================>> \n",
            "\n",
            "\n",
            "[[   5199    5551]\n",
            " [     94 1285319]]\n"
          ],
          "name": "stdout"
        }
      ]
    },
    {
      "cell_type": "markdown",
      "metadata": {
        "id": "b7UNTsIrPIJ-",
        "colab_type": "text"
      },
      "source": [
        "#**NAIVE BAYES ALGORITHM**"
      ]
    },
    {
      "cell_type": "markdown",
      "metadata": {
        "id": "upQNFa2BkaGA",
        "colab_type": "text"
      },
      "source": [
        "**Fiting the Model into the Navie Bayes Algorithm**"
      ]
    },
    {
      "cell_type": "code",
      "metadata": {
        "id": "ClfId6FCW1k9",
        "colab_type": "code",
        "outputId": "4dd46d05-1cad-473d-900d-c4821ddaa6d6",
        "colab": {
          "base_uri": "https://localhost:8080/",
          "height": 34
        }
      },
      "source": [
        "############ now we solve naive Bayes algo\n",
        "from sklearn.naive_bayes import GaussianNB\n",
        "classifier = GaussianNB()\n",
        "## model fit on x,y data\n",
        "classifier.fit(x_train,y_train)"
      ],
      "execution_count": 21,
      "outputs": [
        {
          "output_type": "execute_result",
          "data": {
            "text/plain": [
              "GaussianNB(priors=None, var_smoothing=1e-09)"
            ]
          },
          "metadata": {
            "tags": []
          },
          "execution_count": 21
        }
      ]
    },
    {
      "cell_type": "code",
      "metadata": {
        "id": "Zuh3qsosXfBZ",
        "colab_type": "code",
        "outputId": "24be8409-42d9-4b6f-d92d-d547d3621e82",
        "colab": {
          "base_uri": "https://localhost:8080/",
          "height": 34
        }
      },
      "source": [
        "#predicting the test result\n",
        "y_pred = classifier.predict(x_test)\n",
        "print(y_pred)"
      ],
      "execution_count": 22,
      "outputs": [
        {
          "output_type": "stream",
          "text": [
            "['Syn' 'Syn' 'Syn' ... 'Syn' 'Syn' 'Syn']\n"
          ],
          "name": "stdout"
        }
      ]
    },
    {
      "cell_type": "markdown",
      "metadata": {
        "id": "i-hEf60tkgX2",
        "colab_type": "text"
      },
      "source": [
        "**Confusion Matrix of the Naive Bayes Algorithm**"
      ]
    },
    {
      "cell_type": "code",
      "metadata": {
        "id": "3b6ZLYpkXiZk",
        "colab_type": "code",
        "outputId": "3af1acf9-41ca-49ff-cbfc-031f35d0e50b",
        "colab": {
          "base_uri": "https://localhost:8080/",
          "height": 85
        }
      },
      "source": [
        "#checking the accuracy of model\n",
        "\n",
        "from sklearn.metrics import confusion_matrix, accuracy_score, classification_report\n",
        "cfm = confusion_matrix(y_test, y_pred)\n",
        "print(\"\\n<<================= Confusion Matrix ======================>> \\n\",cfm)"
      ],
      "execution_count": 23,
      "outputs": [
        {
          "output_type": "stream",
          "text": [
            "\n",
            "<<================= Confusion Matrix ======================>> \n",
            " [[   9796     954]\n",
            " [  19252 1266161]]\n"
          ],
          "name": "stdout"
        }
      ]
    },
    {
      "cell_type": "markdown",
      "metadata": {
        "id": "EEHUocbYklkn",
        "colab_type": "text"
      },
      "source": [
        "**Classification Report of the Naive Bayes Algorithm**"
      ]
    },
    {
      "cell_type": "code",
      "metadata": {
        "id": "LjZFRBupXl0R",
        "colab_type": "code",
        "outputId": "bfaf009b-93b2-43c4-d687-f54be712a89e",
        "colab": {
          "base_uri": "https://localhost:8080/",
          "height": 221
        }
      },
      "source": [
        "## Classification Report\n",
        "\n",
        "print(\"\\n<<==================== Calssification Report ====================>>\\n\")\n",
        "\n",
        "print (classification_report(y_test, y_pred))"
      ],
      "execution_count": 24,
      "outputs": [
        {
          "output_type": "stream",
          "text": [
            "\n",
            "<<==================== Calssification Report ====================>>\n",
            "\n",
            "              precision    recall  f1-score   support\n",
            "\n",
            "      BENIGN       0.34      0.91      0.49     10750\n",
            "         Syn       1.00      0.99      0.99   1285413\n",
            "\n",
            "    accuracy                           0.98   1296163\n",
            "   macro avg       0.67      0.95      0.74   1296163\n",
            "weighted avg       0.99      0.98      0.99   1296163\n",
            "\n"
          ],
          "name": "stdout"
        }
      ]
    },
    {
      "cell_type": "markdown",
      "metadata": {
        "id": "P52MMSa7kyyP",
        "colab_type": "text"
      },
      "source": [
        "**Accuracy of the Naive Bayes Algorithm**"
      ]
    },
    {
      "cell_type": "code",
      "metadata": {
        "id": "HO-EsUOTXpeE",
        "colab_type": "code",
        "outputId": "d465f7f3-59bd-4d28-d881-60c89275a72e",
        "colab": {
          "base_uri": "https://localhost:8080/",
          "height": 68
        }
      },
      "source": [
        "## Accuracy Of The Model In the Linear Regression Algo\n",
        "acc = accuracy_score(y_test, y_pred)\n",
        "print ('\\n<<================================ Accuracy Of the Model in LR Algo ================================>>\\n', acc*100)"
      ],
      "execution_count": 25,
      "outputs": [
        {
          "output_type": "stream",
          "text": [
            "\n",
            "<<================================ Accuracy Of the Model in LR Algo ================================>>\n",
            " 98.44109112819915\n"
          ],
          "name": "stdout"
        }
      ]
    },
    {
      "cell_type": "code",
      "metadata": {
        "id": "BEYtcJQmXuMr",
        "colab_type": "code",
        "outputId": "3ce98f5b-5cba-4d3b-acf5-910354137689",
        "colab": {
          "base_uri": "https://localhost:8080/",
          "height": 289
        }
      },
      "source": [
        "from sklearn.metrics import classification_report\n",
        "from sklearn.metrics import confusion_matrix\n",
        "\n",
        "print(classification_report(y_test,y_pred))\n",
        "print(\"\\n\\n <<===================================>> \\n\\n\")\n",
        "print(confusion_matrix(y_test,y_pred))"
      ],
      "execution_count": 26,
      "outputs": [
        {
          "output_type": "stream",
          "text": [
            "              precision    recall  f1-score   support\n",
            "\n",
            "      BENIGN       0.34      0.91      0.49     10750\n",
            "         Syn       1.00      0.99      0.99   1285413\n",
            "\n",
            "    accuracy                           0.98   1296163\n",
            "   macro avg       0.67      0.95      0.74   1296163\n",
            "weighted avg       0.99      0.98      0.99   1296163\n",
            "\n",
            "\n",
            "\n",
            " <<===================================>> \n",
            "\n",
            "\n",
            "[[   9796     954]\n",
            " [  19252 1266161]]\n"
          ],
          "name": "stdout"
        }
      ]
    },
    {
      "cell_type": "markdown",
      "metadata": {
        "id": "x-9VaiYaiRoR",
        "colab_type": "text"
      },
      "source": [
        "#**KNN ALGORITHM**"
      ]
    },
    {
      "cell_type": "markdown",
      "metadata": {
        "id": "ZSB2wcNuk5qk",
        "colab_type": "text"
      },
      "source": [
        "**Label Encoding of the Label Column in the Dataset becasuse its dtype is Object**"
      ]
    },
    {
      "cell_type": "code",
      "metadata": {
        "id": "YKUPur2T0Fbl",
        "colab_type": "code",
        "colab": {}
      },
      "source": [
        "## Label Encoding\n",
        "from sklearn.preprocessing import LabelEncoder\n",
        "le = LabelEncoder()\n",
        "y_train= le.fit_transform(y_train)\n",
        "y_test= le.fit_transform(y_test)"
      ],
      "execution_count": 0,
      "outputs": []
    },
    {
      "cell_type": "markdown",
      "metadata": {
        "id": "8Ix_Gk4XlAe1",
        "colab_type": "text"
      },
      "source": [
        "**Fiting the Model in the KNN Algorithm**"
      ]
    },
    {
      "cell_type": "code",
      "metadata": {
        "id": "OuNHehZYdfL7",
        "colab_type": "code",
        "colab": {
          "base_uri": "https://localhost:8080/",
          "height": 68
        },
        "outputId": "d5a39055-8bcb-4b8b-a2a9-b1d83f1cb577"
      },
      "source": [
        "from sklearn.neighbors import  KNeighborsClassifier\n",
        "model = KNeighborsClassifier(n_neighbors=100)\n",
        "\n",
        "model.fit(x_train,y_train)"
      ],
      "execution_count": 28,
      "outputs": [
        {
          "output_type": "execute_result",
          "data": {
            "text/plain": [
              "KNeighborsClassifier(algorithm='auto', leaf_size=30, metric='minkowski',\n",
              "                     metric_params=None, n_jobs=None, n_neighbors=100, p=2,\n",
              "                     weights='uniform')"
            ]
          },
          "metadata": {
            "tags": []
          },
          "execution_count": 28
        }
      ]
    },
    {
      "cell_type": "code",
      "metadata": {
        "id": "hg-_qQKthhXV",
        "colab_type": "code",
        "colab": {
          "base_uri": "https://localhost:8080/",
          "height": 34
        },
        "outputId": "c5b3e16d-4314-424b-a238-e7ceee2121cc"
      },
      "source": [
        "THRESHOLD = 0.67\n",
        "\n",
        "import numpy as np\n",
        "\n",
        "y_pred = np.where(model.predict_proba(x_test)[:,1] > THRESHOLD, 1,0)\n",
        "\n",
        "#Print(model.predict_proba(x_test))\n",
        "#model test and take y_pred value\n",
        "\n",
        "print(y_pred)"
      ],
      "execution_count": 29,
      "outputs": [
        {
          "output_type": "stream",
          "text": [
            "[1 1 1 ... 1 1 1]\n"
          ],
          "name": "stdout"
        }
      ]
    },
    {
      "cell_type": "markdown",
      "metadata": {
        "id": "BgTa0ewTlF8n",
        "colab_type": "text"
      },
      "source": [
        "**Accuracy and Classification Report of the KNN Algorithn**"
      ]
    },
    {
      "cell_type": "code",
      "metadata": {
        "id": "UPuzBJNJkEJ_",
        "colab_type": "code",
        "colab": {
          "base_uri": "https://localhost:8080/",
          "height": 476
        },
        "outputId": "39e33a52-47b6-4d0e-cdc3-da4196a5eddf"
      },
      "source": [
        "##################\n",
        "\n",
        "from sklearn.metrics import accuracy_score\n",
        "print(\"Model Accuracy is : \\n \", accuracy_score(y_test,y_pred))\n",
        "\n",
        "from sklearn.metrics import classification_report\n",
        "from sklearn.metrics import confusion_matrix\n",
        "print(\"\\n\\n <<===================================>> \\n\\n\")\n",
        "print(\"\\t CLASSIFICATION REPORT \\n\")\n",
        "print(classification_report(y_test,y_pred))\n",
        "print(\"\\n\\n <<===================================>> \\n\\n\")\n",
        "print(\"Confusion Matrix \\n \")\n",
        "print(confusion_matrix(y_test,y_pred))"
      ],
      "execution_count": 30,
      "outputs": [
        {
          "output_type": "stream",
          "text": [
            "Model Accuracy is : \n",
            "  0.9990649324197651\n",
            "\n",
            "\n",
            " <<===================================>> \n",
            "\n",
            "\n",
            "\t CLASSIFICATION REPORT \n",
            "\n",
            "              precision    recall  f1-score   support\n",
            "\n",
            "           0       0.94      0.94      0.94     10750\n",
            "           1       1.00      1.00      1.00   1285413\n",
            "\n",
            "    accuracy                           1.00   1296163\n",
            "   macro avg       0.97      0.97      0.97   1296163\n",
            "weighted avg       1.00      1.00      1.00   1296163\n",
            "\n",
            "\n",
            "\n",
            " <<===================================>> \n",
            "\n",
            "\n",
            "Confusion Matrix \n",
            " \n",
            "[[  10140     610]\n",
            " [    602 1284811]]\n"
          ],
          "name": "stdout"
        }
      ]
    },
    {
      "cell_type": "markdown",
      "metadata": {
        "id": "5DfB9722lMsZ",
        "colab_type": "text"
      },
      "source": [
        "**Comparision of the Accuracies of the**\n",
        "\n",
        "**1.   Logistic Regression**\n",
        "\n",
        "**2.   KNN Algorithm**\n",
        "\n",
        "**3.   Naive Bayes Algorithm**\n"
      ]
    },
    {
      "cell_type": "code",
      "metadata": {
        "id": "okc1Oe14U3FF",
        "colab_type": "code",
        "colab": {
          "base_uri": "https://localhost:8080/",
          "height": 319
        },
        "outputId": "7ffd90db-3006-4043-cca8-57375ff1c525"
      },
      "source": [
        "accu_LR = 0.9956448378791865*100\n",
        "accu_KNN =  0.9990649324197651 *100\n",
        "accu_NB = 98.44109112819915\n",
        "\n",
        "import matplotlib.pyplot as plt\n",
        "import matplotlib as pl\n",
        "import seaborn as sns\n",
        "y=[accu_LR,accu_KNN,accu_NB]\n",
        "x=[\"Logistic\",\"KNN\",\"NB\"]\n",
        "c=[\"red\",\"blue\",\"green\"]\n",
        "plt.bar(x,y,color=c)\n",
        "plt.show()"
      ],
      "execution_count": 31,
      "outputs": [
        {
          "output_type": "stream",
          "text": [
            "/usr/local/lib/python3.6/dist-packages/statsmodels/tools/_testing.py:19: FutureWarning: pandas.util.testing is deprecated. Use the functions in the public API at pandas.testing instead.\n",
            "  import pandas.util.testing as tm\n"
          ],
          "name": "stderr"
        },
        {
          "output_type": "display_data",
          "data": {
            "image/png": "[encoded data removed]",
            "text/plain": [
              "<Figure size 432x288 with 1 Axes>"
            ]
          },
          "metadata": {
            "tags": [],
            "needs_background": "light"
          }
        }
      ]
    }
  ]
}