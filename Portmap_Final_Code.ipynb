{
  "nbformat": 4,
  "nbformat_minor": 0,
  "metadata": {
    "colab": {
      "name": "Portmap_Final_Code.ipynb",
      "provenance": [],
      "collapsed_sections": [],
      "toc_visible": true,
      "mount_file_id": "1Dmc9sZbY5tzfB7lRatSo1BGsjpBHWEqC",
      "authorship_tag": "ABX9TyNcaTFXx2ANmCbFRLrtna8Z",
      "include_colab_link": true
    },
    "kernelspec": {
      "name": "python3",
      "display_name": "Python 3"
    }
  },
  "cells": [
    {
      "cell_type": "markdown",
      "metadata": {
        "id": "view-in-github",
        "colab_type": "text"
      },
      "source": [
        "<a href=\"https://colab.research.google.com/github/khagendra1998/A-rule-based-expert-system-to-identify-the-type-of-cybercrime/blob/master/Portmap_Final_Code.ipynb\" target=\"_parent\"><img src=\"https://colab.research.google.com/assets/colab-badge.svg\" alt=\"Open In Colab\"/></a>"
      ]
    },
    {
      "cell_type": "markdown",
      "metadata": {
        "id": "WLprYqMGigKa",
        "colab_type": "text"
      },
      "source": [
        "#**PORTMAP DATASET**"
      ]
    },
    {
      "cell_type": "markdown",
      "metadata": {
        "id": "W25IJ3OMhzWb",
        "colab_type": "text"
      },
      "source": [
        "**Load the data from the google drive**"
      ]
    },
    {
      "cell_type": "code",
      "metadata": {
        "id": "Bbtik3o3C88e",
        "colab_type": "code",
        "colab": {
          "base_uri": "https://localhost:8080/",
          "height": 71
        },
        "outputId": "5395e2bc-ad1a-47a9-e71b-0f5225283a17"
      },
      "source": [
        "import pandas as pd\n",
        "import numpy as np\n",
        "import matplotlib.pyplot as plt\n",
        "\n",
        "#Load the Data from CSV file\n",
        "\n",
        "data = pd.read_csv(\"/content/drive/My Drive/Datasets/Portmap.csv\")"
      ],
      "execution_count": 1,
      "outputs": [
        {
          "output_type": "stream",
          "text": [
            "/usr/local/lib/python3.6/dist-packages/IPython/core/interactiveshell.py:2718: DtypeWarning: Columns (85) have mixed types.Specify dtype option on import or set low_memory=False.\n",
            "  interactivity=interactivity, compiler=compiler, result=result)\n"
          ],
          "name": "stderr"
        }
      ]
    },
    {
      "cell_type": "markdown",
      "metadata": {
        "id": "066Czvt1h6Sj",
        "colab_type": "text"
      },
      "source": [
        "**Show the First Five rows of the Dataset**"
      ]
    },
    {
      "cell_type": "code",
      "metadata": {
        "id": "J3XSj4zBDjIO",
        "colab_type": "code",
        "colab": {
          "base_uri": "https://localhost:8080/",
          "height": 440
        },
        "outputId": "40a3f718-f77e-440b-da72-893007b39f9c"
      },
      "source": [
        "data.head()"
      ],
      "execution_count": 2,
      "outputs": [
        {
          "output_type": "execute_result",
          "data": {
            "text/html": [
              "<div>\n",
              "<style scoped>\n",
              "    .dataframe tbody tr th:only-of-type {\n",
              "        vertical-align: middle;\n",
              "    }\n",
              "\n",
              "    .dataframe tbody tr th {\n",
              "        vertical-align: top;\n",
              "    }\n",
              "\n",
              "    .dataframe thead th {\n",
              "        text-align: right;\n",
              "    }\n",
              "</style>\n",
              "<table border=\"1\" class=\"dataframe\">\n",
              "  <thead>\n",
              "    <tr style=\"text-align: right;\">\n",
              "      <th></th>\n",
              "      <th>Unnamed: 0</th>\n",
              "      <th>Flow ID</th>\n",
              "      <th>Source IP</th>\n",
              "      <th>Source Port</th>\n",
              "      <th>Destination IP</th>\n",
              "      <th>Destination Port</th>\n",
              "      <th>Protocol</th>\n",
              "      <th>Timestamp</th>\n",
              "      <th>Flow Duration</th>\n",
              "      <th>Total Fwd Packets</th>\n",
              "      <th>Total Backward Packets</th>\n",
              "      <th>Total Length of Fwd Packets</th>\n",
              "      <th>Total Length of Bwd Packets</th>\n",
              "      <th>Fwd Packet Length Max</th>\n",
              "      <th>Fwd Packet Length Min</th>\n",
              "      <th>Fwd Packet Length Mean</th>\n",
              "      <th>Fwd Packet Length Std</th>\n",
              "      <th>Bwd Packet Length Max</th>\n",
              "      <th>Bwd Packet Length Min</th>\n",
              "      <th>Bwd Packet Length Mean</th>\n",
              "      <th>Bwd Packet Length Std</th>\n",
              "      <th>Flow Bytes/s</th>\n",
              "      <th>Flow Packets/s</th>\n",
              "      <th>Flow IAT Mean</th>\n",
              "      <th>Flow IAT Std</th>\n",
              "      <th>Flow IAT Max</th>\n",
              "      <th>Flow IAT Min</th>\n",
              "      <th>Fwd IAT Total</th>\n",
              "      <th>Fwd IAT Mean</th>\n",
              "      <th>Fwd IAT Std</th>\n",
              "      <th>Fwd IAT Max</th>\n",
              "      <th>Fwd IAT Min</th>\n",
              "      <th>Bwd IAT Total</th>\n",
              "      <th>Bwd IAT Mean</th>\n",
              "      <th>Bwd IAT Std</th>\n",
              "      <th>Bwd IAT Max</th>\n",
              "      <th>Bwd IAT Min</th>\n",
              "      <th>Fwd PSH Flags</th>\n",
              "      <th>Bwd PSH Flags</th>\n",
              "      <th>Fwd URG Flags</th>\n",
              "      <th>...</th>\n",
              "      <th>Packet Length Std</th>\n",
              "      <th>Packet Length Variance</th>\n",
              "      <th>FIN Flag Count</th>\n",
              "      <th>SYN Flag Count</th>\n",
              "      <th>RST Flag Count</th>\n",
              "      <th>PSH Flag Count</th>\n",
              "      <th>ACK Flag Count</th>\n",
              "      <th>URG Flag Count</th>\n",
              "      <th>CWE Flag Count</th>\n",
              "      <th>ECE Flag Count</th>\n",
              "      <th>Down/Up Ratio</th>\n",
              "      <th>Average Packet Size</th>\n",
              "      <th>Avg Fwd Segment Size</th>\n",
              "      <th>Avg Bwd Segment Size</th>\n",
              "      <th>Fwd Header Length.1</th>\n",
              "      <th>Fwd Avg Bytes/Bulk</th>\n",
              "      <th>Fwd Avg Packets/Bulk</th>\n",
              "      <th>Fwd Avg Bulk Rate</th>\n",
              "      <th>Bwd Avg Bytes/Bulk</th>\n",
              "      <th>Bwd Avg Packets/Bulk</th>\n",
              "      <th>Bwd Avg Bulk Rate</th>\n",
              "      <th>Subflow Fwd Packets</th>\n",
              "      <th>Subflow Fwd Bytes</th>\n",
              "      <th>Subflow Bwd Packets</th>\n",
              "      <th>Subflow Bwd Bytes</th>\n",
              "      <th>Init_Win_bytes_forward</th>\n",
              "      <th>Init_Win_bytes_backward</th>\n",
              "      <th>act_data_pkt_fwd</th>\n",
              "      <th>min_seg_size_forward</th>\n",
              "      <th>Active Mean</th>\n",
              "      <th>Active Std</th>\n",
              "      <th>Active Max</th>\n",
              "      <th>Active Min</th>\n",
              "      <th>Idle Mean</th>\n",
              "      <th>Idle Std</th>\n",
              "      <th>Idle Max</th>\n",
              "      <th>Idle Min</th>\n",
              "      <th>SimillarHTTP</th>\n",
              "      <th>Inbound</th>\n",
              "      <th>Label</th>\n",
              "    </tr>\n",
              "  </thead>\n",
              "  <tbody>\n",
              "    <tr>\n",
              "      <th>0</th>\n",
              "      <td>24</td>\n",
              "      <td>192.168.50.254-224.0.0.5-0-0-0</td>\n",
              "      <td>192.168.50.254</td>\n",
              "      <td>0</td>\n",
              "      <td>224.0.0.5</td>\n",
              "      <td>0</td>\n",
              "      <td>0</td>\n",
              "      <td>2018-11-03 09:18:16.964447</td>\n",
              "      <td>114456999</td>\n",
              "      <td>45</td>\n",
              "      <td>0</td>\n",
              "      <td>0.0</td>\n",
              "      <td>0.0</td>\n",
              "      <td>0.0</td>\n",
              "      <td>0.0</td>\n",
              "      <td>0.000000</td>\n",
              "      <td>0.000000</td>\n",
              "      <td>0.0</td>\n",
              "      <td>0.0</td>\n",
              "      <td>0.0</td>\n",
              "      <td>0.0</td>\n",
              "      <td>0.000000</td>\n",
              "      <td>0.393161</td>\n",
              "      <td>2.601295e+06</td>\n",
              "      <td>4.295632e+06</td>\n",
              "      <td>10001143.0</td>\n",
              "      <td>1.0</td>\n",
              "      <td>114456999.0</td>\n",
              "      <td>2.601295e+06</td>\n",
              "      <td>4.295632e+06</td>\n",
              "      <td>10001143.0</td>\n",
              "      <td>1.0</td>\n",
              "      <td>0.0</td>\n",
              "      <td>0.0</td>\n",
              "      <td>0.0</td>\n",
              "      <td>0.0</td>\n",
              "      <td>0.0</td>\n",
              "      <td>0</td>\n",
              "      <td>0</td>\n",
              "      <td>0</td>\n",
              "      <td>...</td>\n",
              "      <td>0.000000</td>\n",
              "      <td>0.000000</td>\n",
              "      <td>0</td>\n",
              "      <td>0</td>\n",
              "      <td>0</td>\n",
              "      <td>0</td>\n",
              "      <td>0</td>\n",
              "      <td>0</td>\n",
              "      <td>0</td>\n",
              "      <td>0</td>\n",
              "      <td>0.0</td>\n",
              "      <td>0.00</td>\n",
              "      <td>0.000000</td>\n",
              "      <td>0.0</td>\n",
              "      <td>0</td>\n",
              "      <td>0</td>\n",
              "      <td>0</td>\n",
              "      <td>0</td>\n",
              "      <td>0</td>\n",
              "      <td>0</td>\n",
              "      <td>0</td>\n",
              "      <td>45</td>\n",
              "      <td>0</td>\n",
              "      <td>0</td>\n",
              "      <td>0</td>\n",
              "      <td>-1</td>\n",
              "      <td>-1</td>\n",
              "      <td>0</td>\n",
              "      <td>0</td>\n",
              "      <td>8185.583333</td>\n",
              "      <td>28337.112288</td>\n",
              "      <td>98168.0</td>\n",
              "      <td>3.0</td>\n",
              "      <td>9529897.25</td>\n",
              "      <td>351582.631269</td>\n",
              "      <td>10001143.0</td>\n",
              "      <td>9048097.0</td>\n",
              "      <td>0</td>\n",
              "      <td>0</td>\n",
              "      <td>BENIGN</td>\n",
              "    </tr>\n",
              "    <tr>\n",
              "      <th>1</th>\n",
              "      <td>26</td>\n",
              "      <td>192.168.50.253-224.0.0.5-0-0-0</td>\n",
              "      <td>192.168.50.253</td>\n",
              "      <td>0</td>\n",
              "      <td>224.0.0.5</td>\n",
              "      <td>0</td>\n",
              "      <td>0</td>\n",
              "      <td>2018-11-03 09:18:18.506537</td>\n",
              "      <td>114347504</td>\n",
              "      <td>56</td>\n",
              "      <td>0</td>\n",
              "      <td>0.0</td>\n",
              "      <td>0.0</td>\n",
              "      <td>0.0</td>\n",
              "      <td>0.0</td>\n",
              "      <td>0.000000</td>\n",
              "      <td>0.000000</td>\n",
              "      <td>0.0</td>\n",
              "      <td>0.0</td>\n",
              "      <td>0.0</td>\n",
              "      <td>0.0</td>\n",
              "      <td>0.000000</td>\n",
              "      <td>0.489735</td>\n",
              "      <td>2.079046e+06</td>\n",
              "      <td>3.956754e+06</td>\n",
              "      <td>9978130.0</td>\n",
              "      <td>0.0</td>\n",
              "      <td>114347504.0</td>\n",
              "      <td>2.079046e+06</td>\n",
              "      <td>3.956754e+06</td>\n",
              "      <td>9978130.0</td>\n",
              "      <td>0.0</td>\n",
              "      <td>0.0</td>\n",
              "      <td>0.0</td>\n",
              "      <td>0.0</td>\n",
              "      <td>0.0</td>\n",
              "      <td>0.0</td>\n",
              "      <td>0</td>\n",
              "      <td>0</td>\n",
              "      <td>0</td>\n",
              "      <td>...</td>\n",
              "      <td>0.000000</td>\n",
              "      <td>0.000000</td>\n",
              "      <td>0</td>\n",
              "      <td>0</td>\n",
              "      <td>0</td>\n",
              "      <td>0</td>\n",
              "      <td>0</td>\n",
              "      <td>0</td>\n",
              "      <td>0</td>\n",
              "      <td>0</td>\n",
              "      <td>0.0</td>\n",
              "      <td>0.00</td>\n",
              "      <td>0.000000</td>\n",
              "      <td>0.0</td>\n",
              "      <td>0</td>\n",
              "      <td>0</td>\n",
              "      <td>0</td>\n",
              "      <td>0</td>\n",
              "      <td>0</td>\n",
              "      <td>0</td>\n",
              "      <td>0</td>\n",
              "      <td>56</td>\n",
              "      <td>0</td>\n",
              "      <td>0</td>\n",
              "      <td>0</td>\n",
              "      <td>-1</td>\n",
              "      <td>-1</td>\n",
              "      <td>0</td>\n",
              "      <td>0</td>\n",
              "      <td>35028.416667</td>\n",
              "      <td>121314.911865</td>\n",
              "      <td>420255.0</td>\n",
              "      <td>4.0</td>\n",
              "      <td>9493929.75</td>\n",
              "      <td>351541.079539</td>\n",
              "      <td>9978130.0</td>\n",
              "      <td>8820294.0</td>\n",
              "      <td>0</td>\n",
              "      <td>0</td>\n",
              "      <td>BENIGN</td>\n",
              "    </tr>\n",
              "    <tr>\n",
              "      <th>2</th>\n",
              "      <td>176563</td>\n",
              "      <td>172.217.10.98-192.168.50.6-443-54799-6</td>\n",
              "      <td>192.168.50.6</td>\n",
              "      <td>54799</td>\n",
              "      <td>172.217.10.98</td>\n",
              "      <td>443</td>\n",
              "      <td>6</td>\n",
              "      <td>2018-11-03 09:18:18.610576</td>\n",
              "      <td>36435473</td>\n",
              "      <td>6</td>\n",
              "      <td>2</td>\n",
              "      <td>116.0</td>\n",
              "      <td>92.0</td>\n",
              "      <td>46.0</td>\n",
              "      <td>6.0</td>\n",
              "      <td>19.333333</td>\n",
              "      <td>20.655911</td>\n",
              "      <td>46.0</td>\n",
              "      <td>46.0</td>\n",
              "      <td>46.0</td>\n",
              "      <td>0.0</td>\n",
              "      <td>5.708722</td>\n",
              "      <td>0.219566</td>\n",
              "      <td>5.205068e+06</td>\n",
              "      <td>1.374380e+07</td>\n",
              "      <td>36373056.0</td>\n",
              "      <td>1.0</td>\n",
              "      <td>36435473.0</td>\n",
              "      <td>7.287095e+06</td>\n",
              "      <td>1.625957e+07</td>\n",
              "      <td>36373056.0</td>\n",
              "      <td>1.0</td>\n",
              "      <td>2.0</td>\n",
              "      <td>2.0</td>\n",
              "      <td>0.0</td>\n",
              "      <td>2.0</td>\n",
              "      <td>2.0</td>\n",
              "      <td>1</td>\n",
              "      <td>0</td>\n",
              "      <td>0</td>\n",
              "      <td>...</td>\n",
              "      <td>21.081851</td>\n",
              "      <td>444.444444</td>\n",
              "      <td>0</td>\n",
              "      <td>0</td>\n",
              "      <td>1</td>\n",
              "      <td>0</td>\n",
              "      <td>0</td>\n",
              "      <td>1</td>\n",
              "      <td>0</td>\n",
              "      <td>0</td>\n",
              "      <td>0.0</td>\n",
              "      <td>31.75</td>\n",
              "      <td>19.333333</td>\n",
              "      <td>46.0</td>\n",
              "      <td>120</td>\n",
              "      <td>0</td>\n",
              "      <td>0</td>\n",
              "      <td>0</td>\n",
              "      <td>0</td>\n",
              "      <td>0</td>\n",
              "      <td>0</td>\n",
              "      <td>6</td>\n",
              "      <td>116</td>\n",
              "      <td>2</td>\n",
              "      <td>92</td>\n",
              "      <td>257</td>\n",
              "      <td>250</td>\n",
              "      <td>5</td>\n",
              "      <td>20</td>\n",
              "      <td>62416.000000</td>\n",
              "      <td>0.000000</td>\n",
              "      <td>62416.0</td>\n",
              "      <td>62416.0</td>\n",
              "      <td>36373056.00</td>\n",
              "      <td>0.000000</td>\n",
              "      <td>36373056.0</td>\n",
              "      <td>36373056.0</td>\n",
              "      <td>0</td>\n",
              "      <td>0</td>\n",
              "      <td>BENIGN</td>\n",
              "    </tr>\n",
              "    <tr>\n",
              "      <th>3</th>\n",
              "      <td>50762</td>\n",
              "      <td>172.217.7.2-192.168.50.6-443-54800-6</td>\n",
              "      <td>192.168.50.6</td>\n",
              "      <td>54800</td>\n",
              "      <td>172.217.7.2</td>\n",
              "      <td>443</td>\n",
              "      <td>6</td>\n",
              "      <td>2018-11-03 09:18:18.610579</td>\n",
              "      <td>36434705</td>\n",
              "      <td>6</td>\n",
              "      <td>2</td>\n",
              "      <td>116.0</td>\n",
              "      <td>92.0</td>\n",
              "      <td>46.0</td>\n",
              "      <td>6.0</td>\n",
              "      <td>19.333333</td>\n",
              "      <td>20.655911</td>\n",
              "      <td>46.0</td>\n",
              "      <td>46.0</td>\n",
              "      <td>46.0</td>\n",
              "      <td>0.0</td>\n",
              "      <td>5.708843</td>\n",
              "      <td>0.219571</td>\n",
              "      <td>5.204958e+06</td>\n",
              "      <td>1.374351e+07</td>\n",
              "      <td>36372291.0</td>\n",
              "      <td>1.0</td>\n",
              "      <td>36434705.0</td>\n",
              "      <td>7.286941e+06</td>\n",
              "      <td>1.625923e+07</td>\n",
              "      <td>36372291.0</td>\n",
              "      <td>1.0</td>\n",
              "      <td>2.0</td>\n",
              "      <td>2.0</td>\n",
              "      <td>0.0</td>\n",
              "      <td>2.0</td>\n",
              "      <td>2.0</td>\n",
              "      <td>1</td>\n",
              "      <td>0</td>\n",
              "      <td>0</td>\n",
              "      <td>...</td>\n",
              "      <td>21.081851</td>\n",
              "      <td>444.444444</td>\n",
              "      <td>0</td>\n",
              "      <td>0</td>\n",
              "      <td>1</td>\n",
              "      <td>0</td>\n",
              "      <td>0</td>\n",
              "      <td>1</td>\n",
              "      <td>0</td>\n",
              "      <td>0</td>\n",
              "      <td>0.0</td>\n",
              "      <td>31.75</td>\n",
              "      <td>19.333333</td>\n",
              "      <td>46.0</td>\n",
              "      <td>120</td>\n",
              "      <td>0</td>\n",
              "      <td>0</td>\n",
              "      <td>0</td>\n",
              "      <td>0</td>\n",
              "      <td>0</td>\n",
              "      <td>0</td>\n",
              "      <td>6</td>\n",
              "      <td>116</td>\n",
              "      <td>2</td>\n",
              "      <td>92</td>\n",
              "      <td>253</td>\n",
              "      <td>252</td>\n",
              "      <td>5</td>\n",
              "      <td>20</td>\n",
              "      <td>62413.000000</td>\n",
              "      <td>0.000000</td>\n",
              "      <td>62413.0</td>\n",
              "      <td>62413.0</td>\n",
              "      <td>36372291.00</td>\n",
              "      <td>0.000000</td>\n",
              "      <td>36372291.0</td>\n",
              "      <td>36372291.0</td>\n",
              "      <td>0</td>\n",
              "      <td>0</td>\n",
              "      <td>BENIGN</td>\n",
              "    </tr>\n",
              "    <tr>\n",
              "      <th>4</th>\n",
              "      <td>87149</td>\n",
              "      <td>172.217.10.98-192.168.50.6-443-54801-6</td>\n",
              "      <td>192.168.50.6</td>\n",
              "      <td>54801</td>\n",
              "      <td>172.217.10.98</td>\n",
              "      <td>443</td>\n",
              "      <td>6</td>\n",
              "      <td>2018-11-03 09:18:18.610581</td>\n",
              "      <td>36434626</td>\n",
              "      <td>6</td>\n",
              "      <td>2</td>\n",
              "      <td>116.0</td>\n",
              "      <td>92.0</td>\n",
              "      <td>46.0</td>\n",
              "      <td>6.0</td>\n",
              "      <td>19.333333</td>\n",
              "      <td>20.655911</td>\n",
              "      <td>46.0</td>\n",
              "      <td>46.0</td>\n",
              "      <td>46.0</td>\n",
              "      <td>0.0</td>\n",
              "      <td>5.708855</td>\n",
              "      <td>0.219571</td>\n",
              "      <td>5.204947e+06</td>\n",
              "      <td>1.374348e+07</td>\n",
              "      <td>36372216.0</td>\n",
              "      <td>1.0</td>\n",
              "      <td>36434626.0</td>\n",
              "      <td>7.286925e+06</td>\n",
              "      <td>1.625919e+07</td>\n",
              "      <td>36372216.0</td>\n",
              "      <td>1.0</td>\n",
              "      <td>2.0</td>\n",
              "      <td>2.0</td>\n",
              "      <td>0.0</td>\n",
              "      <td>2.0</td>\n",
              "      <td>2.0</td>\n",
              "      <td>1</td>\n",
              "      <td>0</td>\n",
              "      <td>0</td>\n",
              "      <td>...</td>\n",
              "      <td>21.081851</td>\n",
              "      <td>444.444444</td>\n",
              "      <td>0</td>\n",
              "      <td>0</td>\n",
              "      <td>1</td>\n",
              "      <td>0</td>\n",
              "      <td>0</td>\n",
              "      <td>1</td>\n",
              "      <td>0</td>\n",
              "      <td>0</td>\n",
              "      <td>0.0</td>\n",
              "      <td>31.75</td>\n",
              "      <td>19.333333</td>\n",
              "      <td>46.0</td>\n",
              "      <td>120</td>\n",
              "      <td>0</td>\n",
              "      <td>0</td>\n",
              "      <td>0</td>\n",
              "      <td>0</td>\n",
              "      <td>0</td>\n",
              "      <td>0</td>\n",
              "      <td>6</td>\n",
              "      <td>116</td>\n",
              "      <td>2</td>\n",
              "      <td>92</td>\n",
              "      <td>257</td>\n",
              "      <td>246</td>\n",
              "      <td>5</td>\n",
              "      <td>20</td>\n",
              "      <td>62409.000000</td>\n",
              "      <td>0.000000</td>\n",
              "      <td>62409.0</td>\n",
              "      <td>62409.0</td>\n",
              "      <td>36372216.00</td>\n",
              "      <td>0.000000</td>\n",
              "      <td>36372216.0</td>\n",
              "      <td>36372216.0</td>\n",
              "      <td>0</td>\n",
              "      <td>0</td>\n",
              "      <td>BENIGN</td>\n",
              "    </tr>\n",
              "  </tbody>\n",
              "</table>\n",
              "<p>5 rows × 88 columns</p>\n",
              "</div>"
            ],
            "text/plain": [
              "   Unnamed: 0                                 Flow ID  ...  Inbound   Label\n",
              "0          24          192.168.50.254-224.0.0.5-0-0-0  ...        0  BENIGN\n",
              "1          26          192.168.50.253-224.0.0.5-0-0-0  ...        0  BENIGN\n",
              "2      176563  172.217.10.98-192.168.50.6-443-54799-6  ...        0  BENIGN\n",
              "3       50762    172.217.7.2-192.168.50.6-443-54800-6  ...        0  BENIGN\n",
              "4       87149  172.217.10.98-192.168.50.6-443-54801-6  ...        0  BENIGN\n",
              "\n",
              "[5 rows x 88 columns]"
            ]
          },
          "metadata": {
            "tags": []
          },
          "execution_count": 2
        }
      ]
    },
    {
      "cell_type": "markdown",
      "metadata": {
        "id": "GhO8R_zPh_J7",
        "colab_type": "text"
      },
      "source": [
        "**Description of the dataset**"
      ]
    },
    {
      "cell_type": "code",
      "metadata": {
        "id": "oXDmeElqDlQz",
        "colab_type": "code",
        "colab": {
          "base_uri": "https://localhost:8080/",
          "height": 397
        },
        "outputId": "84a0cf1d-5fc8-4914-e9ce-52d4361638f4"
      },
      "source": [
        "data.describe()"
      ],
      "execution_count": 3,
      "outputs": [
        {
          "output_type": "execute_result",
          "data": {
            "text/html": [
              "<div>\n",
              "<style scoped>\n",
              "    .dataframe tbody tr th:only-of-type {\n",
              "        vertical-align: middle;\n",
              "    }\n",
              "\n",
              "    .dataframe tbody tr th {\n",
              "        vertical-align: top;\n",
              "    }\n",
              "\n",
              "    .dataframe thead th {\n",
              "        text-align: right;\n",
              "    }\n",
              "</style>\n",
              "<table border=\"1\" class=\"dataframe\">\n",
              "  <thead>\n",
              "    <tr style=\"text-align: right;\">\n",
              "      <th></th>\n",
              "      <th>Unnamed: 0</th>\n",
              "      <th>Source Port</th>\n",
              "      <th>Destination Port</th>\n",
              "      <th>Protocol</th>\n",
              "      <th>Flow Duration</th>\n",
              "      <th>Total Fwd Packets</th>\n",
              "      <th>Total Backward Packets</th>\n",
              "      <th>Total Length of Fwd Packets</th>\n",
              "      <th>Total Length of Bwd Packets</th>\n",
              "      <th>Fwd Packet Length Max</th>\n",
              "      <th>Fwd Packet Length Min</th>\n",
              "      <th>Fwd Packet Length Mean</th>\n",
              "      <th>Fwd Packet Length Std</th>\n",
              "      <th>Bwd Packet Length Max</th>\n",
              "      <th>Bwd Packet Length Min</th>\n",
              "      <th>Bwd Packet Length Mean</th>\n",
              "      <th>Bwd Packet Length Std</th>\n",
              "      <th>Flow Bytes/s</th>\n",
              "      <th>Flow Packets/s</th>\n",
              "      <th>Flow IAT Mean</th>\n",
              "      <th>Flow IAT Std</th>\n",
              "      <th>Flow IAT Max</th>\n",
              "      <th>Flow IAT Min</th>\n",
              "      <th>Fwd IAT Total</th>\n",
              "      <th>Fwd IAT Mean</th>\n",
              "      <th>Fwd IAT Std</th>\n",
              "      <th>Fwd IAT Max</th>\n",
              "      <th>Fwd IAT Min</th>\n",
              "      <th>Bwd IAT Total</th>\n",
              "      <th>Bwd IAT Mean</th>\n",
              "      <th>Bwd IAT Std</th>\n",
              "      <th>Bwd IAT Max</th>\n",
              "      <th>Bwd IAT Min</th>\n",
              "      <th>Fwd PSH Flags</th>\n",
              "      <th>Bwd PSH Flags</th>\n",
              "      <th>Fwd URG Flags</th>\n",
              "      <th>Bwd URG Flags</th>\n",
              "      <th>Fwd Header Length</th>\n",
              "      <th>Bwd Header Length</th>\n",
              "      <th>Fwd Packets/s</th>\n",
              "      <th>...</th>\n",
              "      <th>Max Packet Length</th>\n",
              "      <th>Packet Length Mean</th>\n",
              "      <th>Packet Length Std</th>\n",
              "      <th>Packet Length Variance</th>\n",
              "      <th>FIN Flag Count</th>\n",
              "      <th>SYN Flag Count</th>\n",
              "      <th>RST Flag Count</th>\n",
              "      <th>PSH Flag Count</th>\n",
              "      <th>ACK Flag Count</th>\n",
              "      <th>URG Flag Count</th>\n",
              "      <th>CWE Flag Count</th>\n",
              "      <th>ECE Flag Count</th>\n",
              "      <th>Down/Up Ratio</th>\n",
              "      <th>Average Packet Size</th>\n",
              "      <th>Avg Fwd Segment Size</th>\n",
              "      <th>Avg Bwd Segment Size</th>\n",
              "      <th>Fwd Header Length.1</th>\n",
              "      <th>Fwd Avg Bytes/Bulk</th>\n",
              "      <th>Fwd Avg Packets/Bulk</th>\n",
              "      <th>Fwd Avg Bulk Rate</th>\n",
              "      <th>Bwd Avg Bytes/Bulk</th>\n",
              "      <th>Bwd Avg Packets/Bulk</th>\n",
              "      <th>Bwd Avg Bulk Rate</th>\n",
              "      <th>Subflow Fwd Packets</th>\n",
              "      <th>Subflow Fwd Bytes</th>\n",
              "      <th>Subflow Bwd Packets</th>\n",
              "      <th>Subflow Bwd Bytes</th>\n",
              "      <th>Init_Win_bytes_forward</th>\n",
              "      <th>Init_Win_bytes_backward</th>\n",
              "      <th>act_data_pkt_fwd</th>\n",
              "      <th>min_seg_size_forward</th>\n",
              "      <th>Active Mean</th>\n",
              "      <th>Active Std</th>\n",
              "      <th>Active Max</th>\n",
              "      <th>Active Min</th>\n",
              "      <th>Idle Mean</th>\n",
              "      <th>Idle Std</th>\n",
              "      <th>Idle Max</th>\n",
              "      <th>Idle Min</th>\n",
              "      <th>Inbound</th>\n",
              "    </tr>\n",
              "  </thead>\n",
              "  <tbody>\n",
              "    <tr>\n",
              "      <th>count</th>\n",
              "      <td>191694.000000</td>\n",
              "      <td>191694.000000</td>\n",
              "      <td>191694.000000</td>\n",
              "      <td>191694.000000</td>\n",
              "      <td>1.916940e+05</td>\n",
              "      <td>191694.000000</td>\n",
              "      <td>191694.000000</td>\n",
              "      <td>191694.000000</td>\n",
              "      <td>1.916940e+05</td>\n",
              "      <td>191694.000000</td>\n",
              "      <td>191694.000000</td>\n",
              "      <td>191694.000000</td>\n",
              "      <td>191694.000000</td>\n",
              "      <td>191694.000000</td>\n",
              "      <td>191694.000000</td>\n",
              "      <td>191694.000000</td>\n",
              "      <td>191694.000000</td>\n",
              "      <td>191693.0</td>\n",
              "      <td>1.916940e+05</td>\n",
              "      <td>1.916940e+05</td>\n",
              "      <td>1.916940e+05</td>\n",
              "      <td>1.916940e+05</td>\n",
              "      <td>1.916940e+05</td>\n",
              "      <td>1.916940e+05</td>\n",
              "      <td>1.916940e+05</td>\n",
              "      <td>1.916940e+05</td>\n",
              "      <td>1.916940e+05</td>\n",
              "      <td>1.916940e+05</td>\n",
              "      <td>1.916940e+05</td>\n",
              "      <td>1.916940e+05</td>\n",
              "      <td>1.916940e+05</td>\n",
              "      <td>1.916940e+05</td>\n",
              "      <td>191694.000000</td>\n",
              "      <td>191694.000000</td>\n",
              "      <td>191694.0</td>\n",
              "      <td>191694.0</td>\n",
              "      <td>191694.0</td>\n",
              "      <td>1.916940e+05</td>\n",
              "      <td>191694.000000</td>\n",
              "      <td>1.916940e+05</td>\n",
              "      <td>...</td>\n",
              "      <td>191694.000000</td>\n",
              "      <td>191694.000000</td>\n",
              "      <td>191694.000000</td>\n",
              "      <td>1.916940e+05</td>\n",
              "      <td>191694.0</td>\n",
              "      <td>191694.000000</td>\n",
              "      <td>191694.000000</td>\n",
              "      <td>191694.0</td>\n",
              "      <td>191694.000000</td>\n",
              "      <td>191694.000000</td>\n",
              "      <td>191694.000000</td>\n",
              "      <td>191694.0</td>\n",
              "      <td>191694.000000</td>\n",
              "      <td>191694.000000</td>\n",
              "      <td>191694.000000</td>\n",
              "      <td>191694.000000</td>\n",
              "      <td>1.916940e+05</td>\n",
              "      <td>191694.0</td>\n",
              "      <td>191694.0</td>\n",
              "      <td>191694.0</td>\n",
              "      <td>191694.0</td>\n",
              "      <td>191694.0</td>\n",
              "      <td>191694.0</td>\n",
              "      <td>191694.000000</td>\n",
              "      <td>191694.000000</td>\n",
              "      <td>191694.000000</td>\n",
              "      <td>1.916940e+05</td>\n",
              "      <td>191694.000000</td>\n",
              "      <td>191694.000000</td>\n",
              "      <td>191694.000000</td>\n",
              "      <td>1.916940e+05</td>\n",
              "      <td>1.916940e+05</td>\n",
              "      <td>1.916940e+05</td>\n",
              "      <td>1.916940e+05</td>\n",
              "      <td>1.916940e+05</td>\n",
              "      <td>1.916940e+05</td>\n",
              "      <td>1.916940e+05</td>\n",
              "      <td>1.916940e+05</td>\n",
              "      <td>1.916940e+05</td>\n",
              "      <td>191694.000000</td>\n",
              "    </tr>\n",
              "    <tr>\n",
              "      <th>mean</th>\n",
              "      <td>95846.500000</td>\n",
              "      <td>2088.157068</td>\n",
              "      <td>32152.417843</td>\n",
              "      <td>16.799915</td>\n",
              "      <td>3.429798e+05</td>\n",
              "      <td>2.269868</td>\n",
              "      <td>0.381493</td>\n",
              "      <td>470.704451</td>\n",
              "      <td>4.068446e+02</td>\n",
              "      <td>228.300849</td>\n",
              "      <td>224.591557</td>\n",
              "      <td>225.243832</td>\n",
              "      <td>1.144197</td>\n",
              "      <td>7.475190</td>\n",
              "      <td>0.891332</td>\n",
              "      <td>2.587391</td>\n",
              "      <td>1.992043</td>\n",
              "      <td>inf</td>\n",
              "      <td>inf</td>\n",
              "      <td>1.044460e+04</td>\n",
              "      <td>2.853777e+04</td>\n",
              "      <td>1.336233e+05</td>\n",
              "      <td>1.150827e+03</td>\n",
              "      <td>3.348073e+05</td>\n",
              "      <td>1.483022e+04</td>\n",
              "      <td>3.561602e+04</td>\n",
              "      <td>1.292838e+05</td>\n",
              "      <td>1.095812e+03</td>\n",
              "      <td>2.830445e+05</td>\n",
              "      <td>1.016053e+04</td>\n",
              "      <td>2.799858e+04</td>\n",
              "      <td>1.101753e+05</td>\n",
              "      <td>0.050064</td>\n",
              "      <td>0.003579</td>\n",
              "      <td>0.0</td>\n",
              "      <td>0.0</td>\n",
              "      <td>0.0</td>\n",
              "      <td>-1.974155e+07</td>\n",
              "      <td>8.296514</td>\n",
              "      <td>1.545580e+06</td>\n",
              "      <td>...</td>\n",
              "      <td>232.574134</td>\n",
              "      <td>226.066404</td>\n",
              "      <td>2.241174</td>\n",
              "      <td>1.138540e+03</td>\n",
              "      <td>0.0</td>\n",
              "      <td>0.000099</td>\n",
              "      <td>0.003579</td>\n",
              "      <td>0.0</td>\n",
              "      <td>0.006985</td>\n",
              "      <td>0.010501</td>\n",
              "      <td>0.005420</td>\n",
              "      <td>0.0</td>\n",
              "      <td>0.024967</td>\n",
              "      <td>338.313227</td>\n",
              "      <td>225.243832</td>\n",
              "      <td>2.587391</td>\n",
              "      <td>-1.974155e+07</td>\n",
              "      <td>0.0</td>\n",
              "      <td>0.0</td>\n",
              "      <td>0.0</td>\n",
              "      <td>0.0</td>\n",
              "      <td>0.0</td>\n",
              "      <td>0.0</td>\n",
              "      <td>2.269868</td>\n",
              "      <td>470.704451</td>\n",
              "      <td>0.381493</td>\n",
              "      <td>4.068446e+02</td>\n",
              "      <td>158.514476</td>\n",
              "      <td>75.769977</td>\n",
              "      <td>1.212344</td>\n",
              "      <td>-9.895723e+06</td>\n",
              "      <td>3.125842e+03</td>\n",
              "      <td>1.714300e+03</td>\n",
              "      <td>5.498896e+03</td>\n",
              "      <td>2.033322e+03</td>\n",
              "      <td>1.178584e+05</td>\n",
              "      <td>7.717813e+03</td>\n",
              "      <td>1.256591e+05</td>\n",
              "      <td>1.110960e+05</td>\n",
              "      <td>0.977146</td>\n",
              "    </tr>\n",
              "    <tr>\n",
              "      <th>std</th>\n",
              "      <td>55337.435588</td>\n",
              "      <td>8566.647296</td>\n",
              "      <td>19319.329351</td>\n",
              "      <td>1.485127</td>\n",
              "      <td>5.957307e+06</td>\n",
              "      <td>46.812214</td>\n",
              "      <td>72.545552</td>\n",
              "      <td>684.066594</td>\n",
              "      <td>1.335419e+05</td>\n",
              "      <td>74.193653</td>\n",
              "      <td>44.974246</td>\n",
              "      <td>43.581375</td>\n",
              "      <td>21.387575</td>\n",
              "      <td>121.292776</td>\n",
              "      <td>10.021348</td>\n",
              "      <td>38.105423</td>\n",
              "      <td>36.204818</td>\n",
              "      <td>NaN</td>\n",
              "      <td>NaN</td>\n",
              "      <td>2.785645e+05</td>\n",
              "      <td>5.496378e+05</td>\n",
              "      <td>2.525060e+06</td>\n",
              "      <td>1.714015e+05</td>\n",
              "      <td>5.947151e+06</td>\n",
              "      <td>3.391537e+05</td>\n",
              "      <td>7.018930e+05</td>\n",
              "      <td>2.522004e+06</td>\n",
              "      <td>1.713639e+05</td>\n",
              "      <td>5.472420e+06</td>\n",
              "      <td>2.192997e+05</td>\n",
              "      <td>5.992762e+05</td>\n",
              "      <td>2.360119e+06</td>\n",
              "      <td>0.748235</td>\n",
              "      <td>0.059715</td>\n",
              "      <td>0.0</td>\n",
              "      <td>0.0</td>\n",
              "      <td>0.0</td>\n",
              "      <td>2.037571e+08</td>\n",
              "      <td>1452.203358</td>\n",
              "      <td>7.884703e+05</td>\n",
              "      <td>...</td>\n",
              "      <td>122.137726</td>\n",
              "      <td>44.652561</td>\n",
              "      <td>33.667832</td>\n",
              "      <td>2.403452e+04</td>\n",
              "      <td>0.0</td>\n",
              "      <td>0.009955</td>\n",
              "      <td>0.059715</td>\n",
              "      <td>0.0</td>\n",
              "      <td>0.083285</td>\n",
              "      <td>0.101936</td>\n",
              "      <td>0.073422</td>\n",
              "      <td>0.0</td>\n",
              "      <td>0.217886</td>\n",
              "      <td>65.186554</td>\n",
              "      <td>43.581375</td>\n",
              "      <td>38.105423</td>\n",
              "      <td>2.037571e+08</td>\n",
              "      <td>0.0</td>\n",
              "      <td>0.0</td>\n",
              "      <td>0.0</td>\n",
              "      <td>0.0</td>\n",
              "      <td>0.0</td>\n",
              "      <td>0.0</td>\n",
              "      <td>46.812214</td>\n",
              "      <td>684.066594</td>\n",
              "      <td>72.545552</td>\n",
              "      <td>1.335419e+05</td>\n",
              "      <td>2018.483933</td>\n",
              "      <td>1671.646975</td>\n",
              "      <td>42.941730</td>\n",
              "      <td>1.020711e+08</td>\n",
              "      <td>1.124319e+05</td>\n",
              "      <td>8.231591e+04</td>\n",
              "      <td>2.069510e+05</td>\n",
              "      <td>9.520603e+04</td>\n",
              "      <td>2.384008e+06</td>\n",
              "      <td>3.836531e+05</td>\n",
              "      <td>2.502066e+06</td>\n",
              "      <td>2.326992e+06</td>\n",
              "      <td>0.149439</td>\n",
              "    </tr>\n",
              "    <tr>\n",
              "      <th>min</th>\n",
              "      <td>0.000000</td>\n",
              "      <td>0.000000</td>\n",
              "      <td>0.000000</td>\n",
              "      <td>0.000000</td>\n",
              "      <td>0.000000e+00</td>\n",
              "      <td>1.000000</td>\n",
              "      <td>0.000000</td>\n",
              "      <td>0.000000</td>\n",
              "      <td>0.000000e+00</td>\n",
              "      <td>0.000000</td>\n",
              "      <td>0.000000</td>\n",
              "      <td>0.000000</td>\n",
              "      <td>0.000000</td>\n",
              "      <td>0.000000</td>\n",
              "      <td>0.000000</td>\n",
              "      <td>0.000000</td>\n",
              "      <td>0.000000</td>\n",
              "      <td>0.0</td>\n",
              "      <td>4.245928e-02</td>\n",
              "      <td>0.000000e+00</td>\n",
              "      <td>0.000000e+00</td>\n",
              "      <td>0.000000e+00</td>\n",
              "      <td>0.000000e+00</td>\n",
              "      <td>0.000000e+00</td>\n",
              "      <td>0.000000e+00</td>\n",
              "      <td>0.000000e+00</td>\n",
              "      <td>0.000000e+00</td>\n",
              "      <td>0.000000e+00</td>\n",
              "      <td>0.000000e+00</td>\n",
              "      <td>0.000000e+00</td>\n",
              "      <td>0.000000e+00</td>\n",
              "      <td>0.000000e+00</td>\n",
              "      <td>0.000000</td>\n",
              "      <td>0.000000</td>\n",
              "      <td>0.0</td>\n",
              "      <td>0.0</td>\n",
              "      <td>0.0</td>\n",
              "      <td>-2.125438e+09</td>\n",
              "      <td>0.000000</td>\n",
              "      <td>0.000000e+00</td>\n",
              "      <td>...</td>\n",
              "      <td>0.000000</td>\n",
              "      <td>0.000000</td>\n",
              "      <td>0.000000</td>\n",
              "      <td>0.000000e+00</td>\n",
              "      <td>0.0</td>\n",
              "      <td>0.000000</td>\n",
              "      <td>0.000000</td>\n",
              "      <td>0.0</td>\n",
              "      <td>0.000000</td>\n",
              "      <td>0.000000</td>\n",
              "      <td>0.000000</td>\n",
              "      <td>0.0</td>\n",
              "      <td>0.000000</td>\n",
              "      <td>0.000000</td>\n",
              "      <td>0.000000</td>\n",
              "      <td>0.000000</td>\n",
              "      <td>-2.125438e+09</td>\n",
              "      <td>0.0</td>\n",
              "      <td>0.0</td>\n",
              "      <td>0.0</td>\n",
              "      <td>0.0</td>\n",
              "      <td>0.0</td>\n",
              "      <td>0.0</td>\n",
              "      <td>1.000000</td>\n",
              "      <td>0.000000</td>\n",
              "      <td>0.000000</td>\n",
              "      <td>0.000000e+00</td>\n",
              "      <td>-1.000000</td>\n",
              "      <td>-1.000000</td>\n",
              "      <td>0.000000</td>\n",
              "      <td>-1.062719e+09</td>\n",
              "      <td>0.000000e+00</td>\n",
              "      <td>0.000000e+00</td>\n",
              "      <td>0.000000e+00</td>\n",
              "      <td>0.000000e+00</td>\n",
              "      <td>0.000000e+00</td>\n",
              "      <td>0.000000e+00</td>\n",
              "      <td>0.000000e+00</td>\n",
              "      <td>0.000000e+00</td>\n",
              "      <td>0.000000</td>\n",
              "    </tr>\n",
              "    <tr>\n",
              "      <th>25%</th>\n",
              "      <td>47923.250000</td>\n",
              "      <td>648.000000</td>\n",
              "      <td>15376.500000</td>\n",
              "      <td>17.000000</td>\n",
              "      <td>1.000000e+00</td>\n",
              "      <td>2.000000</td>\n",
              "      <td>0.000000</td>\n",
              "      <td>458.000000</td>\n",
              "      <td>0.000000e+00</td>\n",
              "      <td>229.000000</td>\n",
              "      <td>229.000000</td>\n",
              "      <td>229.000000</td>\n",
              "      <td>0.000000</td>\n",
              "      <td>0.000000</td>\n",
              "      <td>0.000000</td>\n",
              "      <td>0.000000</td>\n",
              "      <td>0.000000</td>\n",
              "      <td>422000000.0</td>\n",
              "      <td>2.000000e+06</td>\n",
              "      <td>1.000000e+00</td>\n",
              "      <td>0.000000e+00</td>\n",
              "      <td>1.000000e+00</td>\n",
              "      <td>1.000000e+00</td>\n",
              "      <td>1.000000e+00</td>\n",
              "      <td>1.000000e+00</td>\n",
              "      <td>0.000000e+00</td>\n",
              "      <td>1.000000e+00</td>\n",
              "      <td>1.000000e+00</td>\n",
              "      <td>0.000000e+00</td>\n",
              "      <td>0.000000e+00</td>\n",
              "      <td>0.000000e+00</td>\n",
              "      <td>0.000000e+00</td>\n",
              "      <td>0.000000</td>\n",
              "      <td>0.000000</td>\n",
              "      <td>0.0</td>\n",
              "      <td>0.0</td>\n",
              "      <td>0.0</td>\n",
              "      <td>1.600000e+01</td>\n",
              "      <td>0.000000</td>\n",
              "      <td>1.000000e+06</td>\n",
              "      <td>...</td>\n",
              "      <td>229.000000</td>\n",
              "      <td>229.000000</td>\n",
              "      <td>0.000000</td>\n",
              "      <td>0.000000e+00</td>\n",
              "      <td>0.0</td>\n",
              "      <td>0.000000</td>\n",
              "      <td>0.000000</td>\n",
              "      <td>0.0</td>\n",
              "      <td>0.000000</td>\n",
              "      <td>0.000000</td>\n",
              "      <td>0.000000</td>\n",
              "      <td>0.0</td>\n",
              "      <td>0.000000</td>\n",
              "      <td>343.500000</td>\n",
              "      <td>229.000000</td>\n",
              "      <td>0.000000</td>\n",
              "      <td>1.600000e+01</td>\n",
              "      <td>0.0</td>\n",
              "      <td>0.0</td>\n",
              "      <td>0.0</td>\n",
              "      <td>0.0</td>\n",
              "      <td>0.0</td>\n",
              "      <td>0.0</td>\n",
              "      <td>2.000000</td>\n",
              "      <td>458.000000</td>\n",
              "      <td>0.000000</td>\n",
              "      <td>0.000000e+00</td>\n",
              "      <td>-1.000000</td>\n",
              "      <td>-1.000000</td>\n",
              "      <td>1.000000</td>\n",
              "      <td>8.000000e+00</td>\n",
              "      <td>0.000000e+00</td>\n",
              "      <td>0.000000e+00</td>\n",
              "      <td>0.000000e+00</td>\n",
              "      <td>0.000000e+00</td>\n",
              "      <td>0.000000e+00</td>\n",
              "      <td>0.000000e+00</td>\n",
              "      <td>0.000000e+00</td>\n",
              "      <td>0.000000e+00</td>\n",
              "      <td>1.000000</td>\n",
              "    </tr>\n",
              "    <tr>\n",
              "      <th>50%</th>\n",
              "      <td>95846.500000</td>\n",
              "      <td>651.000000</td>\n",
              "      <td>32215.000000</td>\n",
              "      <td>17.000000</td>\n",
              "      <td>1.000000e+00</td>\n",
              "      <td>2.000000</td>\n",
              "      <td>0.000000</td>\n",
              "      <td>458.000000</td>\n",
              "      <td>0.000000e+00</td>\n",
              "      <td>229.000000</td>\n",
              "      <td>229.000000</td>\n",
              "      <td>229.000000</td>\n",
              "      <td>0.000000</td>\n",
              "      <td>0.000000</td>\n",
              "      <td>0.000000</td>\n",
              "      <td>0.000000</td>\n",
              "      <td>0.000000</td>\n",
              "      <td>458000000.0</td>\n",
              "      <td>2.000000e+06</td>\n",
              "      <td>1.000000e+00</td>\n",
              "      <td>0.000000e+00</td>\n",
              "      <td>1.000000e+00</td>\n",
              "      <td>1.000000e+00</td>\n",
              "      <td>1.000000e+00</td>\n",
              "      <td>1.000000e+00</td>\n",
              "      <td>0.000000e+00</td>\n",
              "      <td>1.000000e+00</td>\n",
              "      <td>1.000000e+00</td>\n",
              "      <td>0.000000e+00</td>\n",
              "      <td>0.000000e+00</td>\n",
              "      <td>0.000000e+00</td>\n",
              "      <td>0.000000e+00</td>\n",
              "      <td>0.000000</td>\n",
              "      <td>0.000000</td>\n",
              "      <td>0.0</td>\n",
              "      <td>0.0</td>\n",
              "      <td>0.0</td>\n",
              "      <td>1.600000e+01</td>\n",
              "      <td>0.000000</td>\n",
              "      <td>2.000000e+06</td>\n",
              "      <td>...</td>\n",
              "      <td>229.000000</td>\n",
              "      <td>229.000000</td>\n",
              "      <td>0.000000</td>\n",
              "      <td>0.000000e+00</td>\n",
              "      <td>0.0</td>\n",
              "      <td>0.000000</td>\n",
              "      <td>0.000000</td>\n",
              "      <td>0.0</td>\n",
              "      <td>0.000000</td>\n",
              "      <td>0.000000</td>\n",
              "      <td>0.000000</td>\n",
              "      <td>0.0</td>\n",
              "      <td>0.000000</td>\n",
              "      <td>343.500000</td>\n",
              "      <td>229.000000</td>\n",
              "      <td>0.000000</td>\n",
              "      <td>1.600000e+01</td>\n",
              "      <td>0.0</td>\n",
              "      <td>0.0</td>\n",
              "      <td>0.0</td>\n",
              "      <td>0.0</td>\n",
              "      <td>0.0</td>\n",
              "      <td>0.0</td>\n",
              "      <td>2.000000</td>\n",
              "      <td>458.000000</td>\n",
              "      <td>0.000000</td>\n",
              "      <td>0.000000e+00</td>\n",
              "      <td>-1.000000</td>\n",
              "      <td>-1.000000</td>\n",
              "      <td>1.000000</td>\n",
              "      <td>8.000000e+00</td>\n",
              "      <td>0.000000e+00</td>\n",
              "      <td>0.000000e+00</td>\n",
              "      <td>0.000000e+00</td>\n",
              "      <td>0.000000e+00</td>\n",
              "      <td>0.000000e+00</td>\n",
              "      <td>0.000000e+00</td>\n",
              "      <td>0.000000e+00</td>\n",
              "      <td>0.000000e+00</td>\n",
              "      <td>1.000000</td>\n",
              "    </tr>\n",
              "    <tr>\n",
              "      <th>75%</th>\n",
              "      <td>143769.750000</td>\n",
              "      <td>846.000000</td>\n",
              "      <td>48947.000000</td>\n",
              "      <td>17.000000</td>\n",
              "      <td>1.000000e+00</td>\n",
              "      <td>2.000000</td>\n",
              "      <td>0.000000</td>\n",
              "      <td>458.000000</td>\n",
              "      <td>0.000000e+00</td>\n",
              "      <td>229.000000</td>\n",
              "      <td>229.000000</td>\n",
              "      <td>229.000000</td>\n",
              "      <td>0.000000</td>\n",
              "      <td>0.000000</td>\n",
              "      <td>0.000000</td>\n",
              "      <td>0.000000</td>\n",
              "      <td>0.000000</td>\n",
              "      <td>458000000.0</td>\n",
              "      <td>2.000000e+06</td>\n",
              "      <td>1.000000e+00</td>\n",
              "      <td>0.000000e+00</td>\n",
              "      <td>1.000000e+00</td>\n",
              "      <td>1.000000e+00</td>\n",
              "      <td>1.000000e+00</td>\n",
              "      <td>1.000000e+00</td>\n",
              "      <td>0.000000e+00</td>\n",
              "      <td>1.000000e+00</td>\n",
              "      <td>1.000000e+00</td>\n",
              "      <td>0.000000e+00</td>\n",
              "      <td>0.000000e+00</td>\n",
              "      <td>0.000000e+00</td>\n",
              "      <td>0.000000e+00</td>\n",
              "      <td>0.000000</td>\n",
              "      <td>0.000000</td>\n",
              "      <td>0.0</td>\n",
              "      <td>0.0</td>\n",
              "      <td>0.0</td>\n",
              "      <td>4.000000e+01</td>\n",
              "      <td>0.000000</td>\n",
              "      <td>2.000000e+06</td>\n",
              "      <td>...</td>\n",
              "      <td>229.000000</td>\n",
              "      <td>229.000000</td>\n",
              "      <td>0.000000</td>\n",
              "      <td>0.000000e+00</td>\n",
              "      <td>0.0</td>\n",
              "      <td>0.000000</td>\n",
              "      <td>0.000000</td>\n",
              "      <td>0.0</td>\n",
              "      <td>0.000000</td>\n",
              "      <td>0.000000</td>\n",
              "      <td>0.000000</td>\n",
              "      <td>0.0</td>\n",
              "      <td>0.000000</td>\n",
              "      <td>343.500000</td>\n",
              "      <td>229.000000</td>\n",
              "      <td>0.000000</td>\n",
              "      <td>4.000000e+01</td>\n",
              "      <td>0.0</td>\n",
              "      <td>0.0</td>\n",
              "      <td>0.0</td>\n",
              "      <td>0.0</td>\n",
              "      <td>0.0</td>\n",
              "      <td>0.0</td>\n",
              "      <td>2.000000</td>\n",
              "      <td>458.000000</td>\n",
              "      <td>0.000000</td>\n",
              "      <td>0.000000e+00</td>\n",
              "      <td>-1.000000</td>\n",
              "      <td>-1.000000</td>\n",
              "      <td>1.000000</td>\n",
              "      <td>2.000000e+01</td>\n",
              "      <td>0.000000e+00</td>\n",
              "      <td>0.000000e+00</td>\n",
              "      <td>0.000000e+00</td>\n",
              "      <td>0.000000e+00</td>\n",
              "      <td>0.000000e+00</td>\n",
              "      <td>0.000000e+00</td>\n",
              "      <td>0.000000e+00</td>\n",
              "      <td>0.000000e+00</td>\n",
              "      <td>1.000000</td>\n",
              "    </tr>\n",
              "    <tr>\n",
              "      <th>max</th>\n",
              "      <td>191693.000000</td>\n",
              "      <td>65528.000000</td>\n",
              "      <td>65535.000000</td>\n",
              "      <td>17.000000</td>\n",
              "      <td>1.199474e+08</td>\n",
              "      <td>20444.000000</td>\n",
              "      <td>31700.000000</td>\n",
              "      <td>150726.000000</td>\n",
              "      <td>5.842950e+07</td>\n",
              "      <td>3583.000000</td>\n",
              "      <td>1000.000000</td>\n",
              "      <td>1449.000000</td>\n",
              "      <td>1178.542090</td>\n",
              "      <td>3543.000000</td>\n",
              "      <td>1019.000000</td>\n",
              "      <td>1843.202019</td>\n",
              "      <td>1135.799318</td>\n",
              "      <td>inf</td>\n",
              "      <td>inf</td>\n",
              "      <td>4.710396e+07</td>\n",
              "      <td>4.640870e+07</td>\n",
              "      <td>1.097105e+08</td>\n",
              "      <td>4.710396e+07</td>\n",
              "      <td>1.199472e+08</td>\n",
              "      <td>4.710396e+07</td>\n",
              "      <td>4.640870e+07</td>\n",
              "      <td>1.097105e+08</td>\n",
              "      <td>4.710396e+07</td>\n",
              "      <td>1.199473e+08</td>\n",
              "      <td>2.597506e+07</td>\n",
              "      <td>4.499012e+07</td>\n",
              "      <td>7.792518e+07</td>\n",
              "      <td>108.000000</td>\n",
              "      <td>1.000000</td>\n",
              "      <td>0.0</td>\n",
              "      <td>0.0</td>\n",
              "      <td>0.0</td>\n",
              "      <td>4.290160e+05</td>\n",
              "      <td>634024.000000</td>\n",
              "      <td>3.000000e+06</td>\n",
              "      <td>...</td>\n",
              "      <td>3583.000000</td>\n",
              "      <td>1392.190476</td>\n",
              "      <td>1078.103317</td>\n",
              "      <td>1.162307e+06</td>\n",
              "      <td>0.0</td>\n",
              "      <td>1.000000</td>\n",
              "      <td>1.000000</td>\n",
              "      <td>0.0</td>\n",
              "      <td>1.000000</td>\n",
              "      <td>1.000000</td>\n",
              "      <td>1.000000</td>\n",
              "      <td>0.0</td>\n",
              "      <td>12.000000</td>\n",
              "      <td>1500.000000</td>\n",
              "      <td>1449.000000</td>\n",
              "      <td>1843.202019</td>\n",
              "      <td>4.290160e+05</td>\n",
              "      <td>0.0</td>\n",
              "      <td>0.0</td>\n",
              "      <td>0.0</td>\n",
              "      <td>0.0</td>\n",
              "      <td>0.0</td>\n",
              "      <td>0.0</td>\n",
              "      <td>20444.000000</td>\n",
              "      <td>150726.000000</td>\n",
              "      <td>31700.000000</td>\n",
              "      <td>5.842950e+07</td>\n",
              "      <td>65535.000000</td>\n",
              "      <td>65535.000000</td>\n",
              "      <td>18766.000000</td>\n",
              "      <td>4.400000e+01</td>\n",
              "      <td>1.400653e+07</td>\n",
              "      <td>2.135244e+07</td>\n",
              "      <td>4.553668e+07</td>\n",
              "      <td>1.113396e+07</td>\n",
              "      <td>8.279180e+07</td>\n",
              "      <td>3.475561e+07</td>\n",
              "      <td>8.279180e+07</td>\n",
              "      <td>8.279180e+07</td>\n",
              "      <td>1.000000</td>\n",
              "    </tr>\n",
              "  </tbody>\n",
              "</table>\n",
              "<p>8 rows × 82 columns</p>\n",
              "</div>"
            ],
            "text/plain": [
              "          Unnamed: 0    Source Port  ...      Idle Min        Inbound\n",
              "count  191694.000000  191694.000000  ...  1.916940e+05  191694.000000\n",
              "mean    95846.500000    2088.157068  ...  1.110960e+05       0.977146\n",
              "std     55337.435588    8566.647296  ...  2.326992e+06       0.149439\n",
              "min         0.000000       0.000000  ...  0.000000e+00       0.000000\n",
              "25%     47923.250000     648.000000  ...  0.000000e+00       1.000000\n",
              "50%     95846.500000     651.000000  ...  0.000000e+00       1.000000\n",
              "75%    143769.750000     846.000000  ...  0.000000e+00       1.000000\n",
              "max    191693.000000   65528.000000  ...  8.279180e+07       1.000000\n",
              "\n",
              "[8 rows x 82 columns]"
            ]
          },
          "metadata": {
            "tags": []
          },
          "execution_count": 3
        }
      ]
    },
    {
      "cell_type": "markdown",
      "metadata": {
        "id": "f0vbAzG0iEif",
        "colab_type": "text"
      },
      "source": [
        "**Make the List of the Relevant Columns of Dataset**\n",
        "\n",
        "It can be analysis by the CICFlowMeter\n",
        "this the URL of the CICFlowMeter\n",
        "\n",
        "http://netflowmeter.ca/"
      ]
    },
    {
      "cell_type": "code",
      "metadata": {
        "id": "u_dDfctSDxXK",
        "colab_type": "code",
        "colab": {}
      },
      "source": [
        "irr = [' Fwd Packet Length Max',\n",
        "    ' Fwd Packet Length Min',\n",
        "    ' Min Packet Length',\n",
        "    ' Max Packet Length',\n",
        "    ' Average Packet Size',\n",
        "    'Fwd Packets/s',\n",
        "    ' Fwd Header Length',\n",
        "    ' Fwd Header Length.1',\n",
        "    ' min_seg_size_forward',\n",
        "    'Total Length of Fwd Packets',\n",
        "    ' Fwd Packet Length Std',\n",
        "    ' Flow IAT Min',\n",
        "    ' Subflow Fwd Bytes',\n",
        "    ' Destination Port',\n",
        "    ' Protocol',\n",
        "    ' Packet Length Std',\n",
        "    ' Flow Duration',\n",
        "    'Fwd IAT Total',\n",
        "    ' ACK Flag Count',\n",
        "    'Init_Win_bytes_forward',\n",
        "    ' Flow IAT Mean',\n",
        "    ' Flow IAT Max',\n",
        "    ' Fwd IAT Mean',\n",
        "    ' Fwd IAT Max']"
      ],
      "execution_count": 0,
      "outputs": []
    },
    {
      "cell_type": "code",
      "metadata": {
        "id": "sXBiY22hLX2V",
        "colab_type": "code",
        "colab": {
          "base_uri": "https://localhost:8080/",
          "height": 34
        },
        "outputId": "919fb7c2-5586-422d-be2c-ca3450a6c3fe"
      },
      "source": [
        "print(len(irr))"
      ],
      "execution_count": 5,
      "outputs": [
        {
          "output_type": "stream",
          "text": [
            "24\n"
          ],
          "name": "stdout"
        }
      ]
    },
    {
      "cell_type": "markdown",
      "metadata": {
        "id": "N2xFKy-OiVal",
        "colab_type": "text"
      },
      "source": [
        "**Here we remove the Irrevelent Columns except Revelent Column List which is defined above**"
      ]
    },
    {
      "cell_type": "code",
      "metadata": {
        "id": "K03LClpSEfUX",
        "colab_type": "code",
        "colab": {}
      },
      "source": [
        "remove_col = []\n",
        "for mycol in data.columns:\n",
        "    if all (x not in mycol for x in irr):\n",
        "        remove_col.append(mycol)"
      ],
      "execution_count": 0,
      "outputs": []
    },
    {
      "cell_type": "code",
      "metadata": {
        "id": "JIn0hfd3LPep",
        "colab_type": "code",
        "colab": {
          "base_uri": "https://localhost:8080/",
          "height": 71
        },
        "outputId": "38564d2c-84fb-4d67-efb2-a339ddd69e86"
      },
      "source": [
        "print(remove_col)\n",
        "print(len(remove_col))"
      ],
      "execution_count": 7,
      "outputs": [
        {
          "output_type": "stream",
          "text": [
            "['Unnamed: 0', 'Flow ID', ' Source IP', ' Source Port', ' Destination IP', ' Timestamp', ' Total Fwd Packets', ' Total Backward Packets', ' Total Length of Bwd Packets', ' Fwd Packet Length Mean', 'Bwd Packet Length Max', ' Bwd Packet Length Min', ' Bwd Packet Length Mean', 'Flow Bytes/s', ' Flow Packets/s', ' Flow IAT Std', ' Fwd IAT Std', ' Fwd IAT Min', 'Bwd IAT Total', ' Bwd IAT Mean', ' Bwd IAT Std', ' Bwd IAT Max', ' Bwd IAT Min', 'Fwd PSH Flags', ' Bwd PSH Flags', ' Fwd URG Flags', ' Bwd URG Flags', ' Bwd Header Length', ' Bwd Packets/s', ' Packet Length Mean', ' Packet Length Variance', 'FIN Flag Count', ' SYN Flag Count', ' RST Flag Count', ' PSH Flag Count', ' URG Flag Count', ' CWE Flag Count', ' ECE Flag Count', ' Down/Up Ratio', ' Avg Fwd Segment Size', ' Avg Bwd Segment Size', 'Fwd Avg Bytes/Bulk', ' Fwd Avg Packets/Bulk', ' Fwd Avg Bulk Rate', ' Bwd Avg Bytes/Bulk', ' Bwd Avg Packets/Bulk', 'Bwd Avg Bulk Rate', 'Subflow Fwd Packets', ' Subflow Bwd Packets', ' Subflow Bwd Bytes', ' Init_Win_bytes_backward', ' act_data_pkt_fwd', 'Active Mean', ' Active Std', ' Active Max', ' Active Min', 'Idle Mean', ' Idle Std', ' Idle Max', ' Idle Min', 'SimillarHTTP', ' Inbound', ' Label']\n",
            "63\n"
          ],
          "name": "stdout"
        }
      ]
    },
    {
      "cell_type": "code",
      "metadata": {
        "id": "WzKzq8SbUSCe",
        "colab_type": "code",
        "colab": {
          "base_uri": "https://localhost:8080/",
          "height": 275
        },
        "outputId": "2db48b7a-5de1-475d-984a-664dac5313c2"
      },
      "source": [
        "data = data.drop(['Unnamed: 0',\n",
        "'Flow ID',\n",
        "' Source IP',\n",
        "' Source Port',\n",
        "' Destination IP',\n",
        "' Timestamp',\n",
        "' Total Fwd Packets',\n",
        "' Total Backward Packets',\n",
        "' Total Length of Bwd Packets',\n",
        "' Fwd Packet Length Mean',\n",
        "'Bwd Packet Length Max',\n",
        "' Bwd Packet Length Min',\n",
        "' Bwd Packet Length Mean',\n",
        "'Flow Bytes/s',\n",
        "' Flow Packets/s',\n",
        "' Flow IAT Std',\n",
        "' Fwd IAT Std',\n",
        "' Fwd IAT Min',\n",
        "'Bwd IAT Total',\n",
        "' Bwd IAT Mean',\n",
        "' Bwd IAT Std',\n",
        "' Bwd IAT Max',\n",
        "' Bwd IAT Min',\n",
        "'Fwd PSH Flags',\n",
        "' Bwd PSH Flags',\n",
        "' Fwd URG Flags',\n",
        "' Bwd URG Flags',\n",
        "' Bwd Header Length',\n",
        "' Bwd Packets/s',\n",
        "' Packet Length Mean',\n",
        "' Packet Length Variance',\n",
        "'FIN Flag Count',\n",
        "' SYN Flag Count',\n",
        "' RST Flag Count',\n",
        "' PSH Flag Count',\n",
        "' URG Flag Count',\n",
        "' CWE Flag Count',\n",
        "' ECE Flag Count',\n",
        "' Down/Up Ratio',\n",
        "' Avg Fwd Segment Size',\n",
        "' Avg Bwd Segment Size',\n",
        "'Fwd Avg Bytes/Bulk',\n",
        "' Fwd Avg Packets/Bulk',\n",
        "' Fwd Avg Bulk Rate',\n",
        "' Bwd Avg Bytes/Bulk',\n",
        "' Bwd Avg Packets/Bulk',\n",
        "'Bwd Avg Bulk Rate',\n",
        "'Subflow Fwd Packets',\n",
        "' Subflow Bwd Packets',\n",
        "' Subflow Bwd Bytes',\n",
        "' Init_Win_bytes_backward',\n",
        "' act_data_pkt_fwd',\n",
        "'Active Mean',\n",
        "' Active Std',\n",
        "' Active Max',\n",
        "' Active Min',\n",
        "'Idle Mean',\n",
        "' Idle Std',\n",
        "' Idle Max',\n",
        "' Idle Min',\n",
        "'SimillarHTTP',\n",
        "' Inbound'],axis=1)\n",
        "data.head()"
      ],
      "execution_count": 8,
      "outputs": [
        {
          "output_type": "execute_result",
          "data": {
            "text/html": [
              "<div>\n",
              "<style scoped>\n",
              "    .dataframe tbody tr th:only-of-type {\n",
              "        vertical-align: middle;\n",
              "    }\n",
              "\n",
              "    .dataframe tbody tr th {\n",
              "        vertical-align: top;\n",
              "    }\n",
              "\n",
              "    .dataframe thead th {\n",
              "        text-align: right;\n",
              "    }\n",
              "</style>\n",
              "<table border=\"1\" class=\"dataframe\">\n",
              "  <thead>\n",
              "    <tr style=\"text-align: right;\">\n",
              "      <th></th>\n",
              "      <th>Destination Port</th>\n",
              "      <th>Protocol</th>\n",
              "      <th>Flow Duration</th>\n",
              "      <th>Total Length of Fwd Packets</th>\n",
              "      <th>Fwd Packet Length Max</th>\n",
              "      <th>Fwd Packet Length Min</th>\n",
              "      <th>Fwd Packet Length Std</th>\n",
              "      <th>Bwd Packet Length Std</th>\n",
              "      <th>Flow IAT Mean</th>\n",
              "      <th>Flow IAT Max</th>\n",
              "      <th>Flow IAT Min</th>\n",
              "      <th>Fwd IAT Total</th>\n",
              "      <th>Fwd IAT Mean</th>\n",
              "      <th>Fwd IAT Max</th>\n",
              "      <th>Fwd Header Length</th>\n",
              "      <th>Fwd Packets/s</th>\n",
              "      <th>Min Packet Length</th>\n",
              "      <th>Max Packet Length</th>\n",
              "      <th>Packet Length Std</th>\n",
              "      <th>ACK Flag Count</th>\n",
              "      <th>Average Packet Size</th>\n",
              "      <th>Fwd Header Length.1</th>\n",
              "      <th>Subflow Fwd Bytes</th>\n",
              "      <th>Init_Win_bytes_forward</th>\n",
              "      <th>min_seg_size_forward</th>\n",
              "      <th>Label</th>\n",
              "    </tr>\n",
              "  </thead>\n",
              "  <tbody>\n",
              "    <tr>\n",
              "      <th>0</th>\n",
              "      <td>0</td>\n",
              "      <td>0</td>\n",
              "      <td>114456999</td>\n",
              "      <td>0.0</td>\n",
              "      <td>0.0</td>\n",
              "      <td>0.0</td>\n",
              "      <td>0.000000</td>\n",
              "      <td>0.0</td>\n",
              "      <td>2.601295e+06</td>\n",
              "      <td>10001143.0</td>\n",
              "      <td>1.0</td>\n",
              "      <td>114456999.0</td>\n",
              "      <td>2.601295e+06</td>\n",
              "      <td>10001143.0</td>\n",
              "      <td>0</td>\n",
              "      <td>0.393161</td>\n",
              "      <td>0.0</td>\n",
              "      <td>0.0</td>\n",
              "      <td>0.000000</td>\n",
              "      <td>0</td>\n",
              "      <td>0.00</td>\n",
              "      <td>0</td>\n",
              "      <td>0</td>\n",
              "      <td>-1</td>\n",
              "      <td>0</td>\n",
              "      <td>BENIGN</td>\n",
              "    </tr>\n",
              "    <tr>\n",
              "      <th>1</th>\n",
              "      <td>0</td>\n",
              "      <td>0</td>\n",
              "      <td>114347504</td>\n",
              "      <td>0.0</td>\n",
              "      <td>0.0</td>\n",
              "      <td>0.0</td>\n",
              "      <td>0.000000</td>\n",
              "      <td>0.0</td>\n",
              "      <td>2.079046e+06</td>\n",
              "      <td>9978130.0</td>\n",
              "      <td>0.0</td>\n",
              "      <td>114347504.0</td>\n",
              "      <td>2.079046e+06</td>\n",
              "      <td>9978130.0</td>\n",
              "      <td>0</td>\n",
              "      <td>0.489735</td>\n",
              "      <td>0.0</td>\n",
              "      <td>0.0</td>\n",
              "      <td>0.000000</td>\n",
              "      <td>0</td>\n",
              "      <td>0.00</td>\n",
              "      <td>0</td>\n",
              "      <td>0</td>\n",
              "      <td>-1</td>\n",
              "      <td>0</td>\n",
              "      <td>BENIGN</td>\n",
              "    </tr>\n",
              "    <tr>\n",
              "      <th>2</th>\n",
              "      <td>443</td>\n",
              "      <td>6</td>\n",
              "      <td>36435473</td>\n",
              "      <td>116.0</td>\n",
              "      <td>46.0</td>\n",
              "      <td>6.0</td>\n",
              "      <td>20.655911</td>\n",
              "      <td>0.0</td>\n",
              "      <td>5.205068e+06</td>\n",
              "      <td>36373056.0</td>\n",
              "      <td>1.0</td>\n",
              "      <td>36435473.0</td>\n",
              "      <td>7.287095e+06</td>\n",
              "      <td>36373056.0</td>\n",
              "      <td>120</td>\n",
              "      <td>0.164675</td>\n",
              "      <td>6.0</td>\n",
              "      <td>46.0</td>\n",
              "      <td>21.081851</td>\n",
              "      <td>0</td>\n",
              "      <td>31.75</td>\n",
              "      <td>120</td>\n",
              "      <td>116</td>\n",
              "      <td>257</td>\n",
              "      <td>20</td>\n",
              "      <td>BENIGN</td>\n",
              "    </tr>\n",
              "    <tr>\n",
              "      <th>3</th>\n",
              "      <td>443</td>\n",
              "      <td>6</td>\n",
              "      <td>36434705</td>\n",
              "      <td>116.0</td>\n",
              "      <td>46.0</td>\n",
              "      <td>6.0</td>\n",
              "      <td>20.655911</td>\n",
              "      <td>0.0</td>\n",
              "      <td>5.204958e+06</td>\n",
              "      <td>36372291.0</td>\n",
              "      <td>1.0</td>\n",
              "      <td>36434705.0</td>\n",
              "      <td>7.286941e+06</td>\n",
              "      <td>36372291.0</td>\n",
              "      <td>120</td>\n",
              "      <td>0.164678</td>\n",
              "      <td>6.0</td>\n",
              "      <td>46.0</td>\n",
              "      <td>21.081851</td>\n",
              "      <td>0</td>\n",
              "      <td>31.75</td>\n",
              "      <td>120</td>\n",
              "      <td>116</td>\n",
              "      <td>253</td>\n",
              "      <td>20</td>\n",
              "      <td>BENIGN</td>\n",
              "    </tr>\n",
              "    <tr>\n",
              "      <th>4</th>\n",
              "      <td>443</td>\n",
              "      <td>6</td>\n",
              "      <td>36434626</td>\n",
              "      <td>116.0</td>\n",
              "      <td>46.0</td>\n",
              "      <td>6.0</td>\n",
              "      <td>20.655911</td>\n",
              "      <td>0.0</td>\n",
              "      <td>5.204947e+06</td>\n",
              "      <td>36372216.0</td>\n",
              "      <td>1.0</td>\n",
              "      <td>36434626.0</td>\n",
              "      <td>7.286925e+06</td>\n",
              "      <td>36372216.0</td>\n",
              "      <td>120</td>\n",
              "      <td>0.164679</td>\n",
              "      <td>6.0</td>\n",
              "      <td>46.0</td>\n",
              "      <td>21.081851</td>\n",
              "      <td>0</td>\n",
              "      <td>31.75</td>\n",
              "      <td>120</td>\n",
              "      <td>116</td>\n",
              "      <td>257</td>\n",
              "      <td>20</td>\n",
              "      <td>BENIGN</td>\n",
              "    </tr>\n",
              "  </tbody>\n",
              "</table>\n",
              "</div>"
            ],
            "text/plain": [
              "    Destination Port   Protocol  ...   min_seg_size_forward   Label\n",
              "0                  0          0  ...                      0  BENIGN\n",
              "1                  0          0  ...                      0  BENIGN\n",
              "2                443          6  ...                     20  BENIGN\n",
              "3                443          6  ...                     20  BENIGN\n",
              "4                443          6  ...                     20  BENIGN\n",
              "\n",
              "[5 rows x 26 columns]"
            ]
          },
          "metadata": {
            "tags": []
          },
          "execution_count": 8
        }
      ]
    },
    {
      "cell_type": "markdown",
      "metadata": {
        "id": "gij9msqiid2H",
        "colab_type": "text"
      },
      "source": [
        "**Shape of the Clean Dataset**"
      ]
    },
    {
      "cell_type": "code",
      "metadata": {
        "id": "l6FKV5IkW9rP",
        "colab_type": "code",
        "colab": {
          "base_uri": "https://localhost:8080/",
          "height": 34
        },
        "outputId": "7b05c435-7564-4dfb-adcf-727d956ab8c1"
      },
      "source": [
        "data.shape"
      ],
      "execution_count": 9,
      "outputs": [
        {
          "output_type": "execute_result",
          "data": {
            "text/plain": [
              "(191694, 26)"
            ]
          },
          "metadata": {
            "tags": []
          },
          "execution_count": 9
        }
      ]
    },
    {
      "cell_type": "markdown",
      "metadata": {
        "id": "mr_Zi7PdiiMZ",
        "colab_type": "text"
      },
      "source": [
        "**Check any Column have empty space**"
      ]
    },
    {
      "cell_type": "code",
      "metadata": {
        "id": "efcN8lUCXgmu",
        "colab_type": "code",
        "colab": {
          "base_uri": "https://localhost:8080/",
          "height": 476
        },
        "outputId": "1044659c-a099-408a-9bf3-a053f4e8ae72"
      },
      "source": [
        "data.isnull().sum()"
      ],
      "execution_count": 10,
      "outputs": [
        {
          "output_type": "execute_result",
          "data": {
            "text/plain": [
              " Destination Port              0\n",
              " Protocol                      0\n",
              " Flow Duration                 0\n",
              "Total Length of Fwd Packets    0\n",
              " Fwd Packet Length Max         0\n",
              " Fwd Packet Length Min         0\n",
              " Fwd Packet Length Std         0\n",
              " Bwd Packet Length Std         0\n",
              " Flow IAT Mean                 0\n",
              " Flow IAT Max                  0\n",
              " Flow IAT Min                  0\n",
              "Fwd IAT Total                  0\n",
              " Fwd IAT Mean                  0\n",
              " Fwd IAT Max                   0\n",
              " Fwd Header Length             0\n",
              "Fwd Packets/s                  0\n",
              " Min Packet Length             0\n",
              " Max Packet Length             0\n",
              " Packet Length Std             0\n",
              " ACK Flag Count                0\n",
              " Average Packet Size           0\n",
              " Fwd Header Length.1           0\n",
              " Subflow Fwd Bytes             0\n",
              "Init_Win_bytes_forward         0\n",
              " min_seg_size_forward          0\n",
              " Label                         0\n",
              "dtype: int64"
            ]
          },
          "metadata": {
            "tags": []
          },
          "execution_count": 10
        }
      ]
    },
    {
      "cell_type": "markdown",
      "metadata": {
        "id": "KOjfAeBTio18",
        "colab_type": "text"
      },
      "source": [
        "**Here no column have the empty space of NULL values all columns are the full**"
      ]
    },
    {
      "cell_type": "markdown",
      "metadata": {
        "id": "YaMfAb1ViozA",
        "colab_type": "text"
      },
      "source": [
        "**This we check the Object datatype column in the dataset**"
      ]
    },
    {
      "cell_type": "code",
      "metadata": {
        "id": "Ouej7mvTXoeb",
        "colab_type": "code",
        "colab": {
          "base_uri": "https://localhost:8080/",
          "height": 34
        },
        "outputId": "4b55a557-55ed-45c3-b828-06a8cda0914e"
      },
      "source": [
        "for i in data.columns:\n",
        "    if(data[i].dtype == np.object):\n",
        "        print(i)"
      ],
      "execution_count": 11,
      "outputs": [
        {
          "output_type": "stream",
          "text": [
            " Label\n"
          ],
          "name": "stdout"
        }
      ]
    },
    {
      "cell_type": "markdown",
      "metadata": {
        "id": "b0TKq6iuiwl2",
        "colab_type": "text"
      },
      "source": [
        "**Divide the data into two parts in X and Y**"
      ]
    },
    {
      "cell_type": "code",
      "metadata": {
        "id": "OWQMSwkcXvU-",
        "colab_type": "code",
        "colab": {
          "base_uri": "https://localhost:8080/",
          "height": 527
        },
        "outputId": "7caa8f8c-de71-4ab3-bf70-2f3fd91ef3ba"
      },
      "source": [
        "y = data[' Label']\n",
        "x = data.drop([' Label'],axis=1)\n",
        "\n",
        "print(\"\\n<<====================== X ================================>>\\n\",x)\n",
        "print(\"\\n<<====================== Y ================================>>\\n\",y)"
      ],
      "execution_count": 12,
      "outputs": [
        {
          "output_type": "stream",
          "text": [
            "\n",
            "<<====================== X ================================>>\n",
            "          Destination Port  ...   min_seg_size_forward\n",
            "0                       0  ...                      0\n",
            "1                       0  ...                      0\n",
            "2                     443  ...                     20\n",
            "3                     443  ...                     20\n",
            "4                     443  ...                     20\n",
            "...                   ...  ...                    ...\n",
            "191689              47131  ...                     20\n",
            "191690              53617  ...                     20\n",
            "191691               9612  ...                     20\n",
            "191692              23408  ...                     20\n",
            "191693              50418  ...                     20\n",
            "\n",
            "[191694 rows x 25 columns]\n",
            "\n",
            "<<====================== Y ================================>>\n",
            " 0          BENIGN\n",
            "1          BENIGN\n",
            "2          BENIGN\n",
            "3          BENIGN\n",
            "4          BENIGN\n",
            "           ...   \n",
            "191689    Portmap\n",
            "191690    Portmap\n",
            "191691    Portmap\n",
            "191692    Portmap\n",
            "191693    Portmap\n",
            "Name:  Label, Length: 191694, dtype: object\n"
          ],
          "name": "stdout"
        }
      ]
    },
    {
      "cell_type": "markdown",
      "metadata": {
        "id": "FwVAkocEi13R",
        "colab_type": "text"
      },
      "source": [
        "**Split the dataset into the x_train, x_test, y_train, y_test**\n",
        "\n",
        "**Split Ratio into Test and train is 30:70 means that 30% of the total data is goes for the test and 70% of the total data is goes for the training.**"
      ]
    },
    {
      "cell_type": "code",
      "metadata": {
        "id": "oNCg4zlnDAe9",
        "colab_type": "code",
        "colab": {
          "base_uri": "https://localhost:8080/",
          "height": 221
        },
        "outputId": "fe69047f-efe6-4b5a-dda2-4ec4839d3ffd"
      },
      "source": [
        "#split data into training and testing\n",
        "from sklearn.model_selection import train_test_split\n",
        "x_train,x_test,y_train,y_test=train_test_split(x,y,\n",
        "                                               test_size=0.30,\n",
        "                                               random_state=42)\n",
        "print(\"\\n<<======== X_Train ========>>\\n\",x_train.shape)\n",
        "print(\"\\n<<======== X_Train ========>>\\n\",y_train.shape)\n",
        "print(\"\\n<<======== X_Test ========>>\\n\",x_test.shape)\n",
        "print(\"\\n<<======== Y_Test ========>>\\n\",y_test.shape)"
      ],
      "execution_count": 13,
      "outputs": [
        {
          "output_type": "stream",
          "text": [
            "\n",
            "<<======== X_Train ========>>\n",
            " (134185, 25)\n",
            "\n",
            "<<======== X_Train ========>>\n",
            " (134185,)\n",
            "\n",
            "<<======== X_Test ========>>\n",
            " (57509, 25)\n",
            "\n",
            "<<======== Y_Test ========>>\n",
            " (57509,)\n"
          ],
          "name": "stdout"
        }
      ]
    },
    {
      "cell_type": "markdown",
      "metadata": {
        "id": "agKxJi3wDG1d",
        "colab_type": "text"
      },
      "source": [
        "#**LOGISTIC REGRESSION**"
      ]
    },
    {
      "cell_type": "markdown",
      "metadata": {
        "id": "8-L_JYySjy5l",
        "colab_type": "text"
      },
      "source": [
        "**Fiting the model in the Logistic Regression Algorithm**"
      ]
    },
    {
      "cell_type": "code",
      "metadata": {
        "id": "-lVRHpsrDGOH",
        "colab_type": "code",
        "colab": {
          "base_uri": "https://localhost:8080/",
          "height": 258
        },
        "outputId": "b56af162-d4d5-4af9-bc8e-a9ad8e091ca3"
      },
      "source": [
        "#fitting the logistic regression model\n",
        "from sklearn.linear_model import LogisticRegression\n",
        "classifier = LogisticRegression( random_state = 0)\n",
        "classifier.fit(x_train, y_train)"
      ],
      "execution_count": 14,
      "outputs": [
        {
          "output_type": "stream",
          "text": [
            "/usr/local/lib/python3.6/dist-packages/sklearn/linear_model/_logistic.py:940: ConvergenceWarning: lbfgs failed to converge (status=1):\n",
            "STOP: TOTAL NO. of ITERATIONS REACHED LIMIT.\n",
            "\n",
            "Increase the number of iterations (max_iter) or scale the data as shown in:\n",
            "    https://scikit-learn.org/stable/modules/preprocessing.html\n",
            "Please also refer to the documentation for alternative solver options:\n",
            "    https://scikit-learn.org/stable/modules/linear_model.html#logistic-regression\n",
            "  extra_warning_msg=_LOGISTIC_SOLVER_CONVERGENCE_MSG)\n"
          ],
          "name": "stderr"
        },
        {
          "output_type": "execute_result",
          "data": {
            "text/plain": [
              "LogisticRegression(C=1.0, class_weight=None, dual=False, fit_intercept=True,\n",
              "                   intercept_scaling=1, l1_ratio=None, max_iter=100,\n",
              "                   multi_class='auto', n_jobs=None, penalty='l2',\n",
              "                   random_state=0, solver='lbfgs', tol=0.0001, verbose=0,\n",
              "                   warm_start=False)"
            ]
          },
          "metadata": {
            "tags": []
          },
          "execution_count": 14
        }
      ]
    },
    {
      "cell_type": "code",
      "metadata": {
        "id": "kWvDIHgEDRLO",
        "colab_type": "code",
        "colab": {
          "base_uri": "https://localhost:8080/",
          "height": 34
        },
        "outputId": "42db41f7-6f94-4bf2-b183-1922609d0ddf"
      },
      "source": [
        "#predicting the test result\n",
        "y_pred = classifier.predict(x_test)\n",
        "print(y_pred)"
      ],
      "execution_count": 15,
      "outputs": [
        {
          "output_type": "stream",
          "text": [
            "['Portmap' 'Portmap' 'Portmap' ... 'Portmap' 'Portmap' 'Portmap']\n"
          ],
          "name": "stdout"
        }
      ]
    },
    {
      "cell_type": "markdown",
      "metadata": {
        "id": "uEIRkK2Fj5mp",
        "colab_type": "text"
      },
      "source": [
        "**Confusion Matrix of the Logisitic Regression**"
      ]
    },
    {
      "cell_type": "code",
      "metadata": {
        "id": "01Jjgn-PDU8O",
        "colab_type": "code",
        "colab": {
          "base_uri": "https://localhost:8080/",
          "height": 85
        },
        "outputId": "93b63478-be94-42ab-fa72-9e76d5777da0"
      },
      "source": [
        "#checking the accuracy of model\n",
        "\n",
        "from sklearn.metrics import confusion_matrix, accuracy_score, classification_report\n",
        "cfm = confusion_matrix(y_test, y_pred)\n",
        "print(\"\\n<<================= Confusion Matrix ======================>> \\n\",cfm)"
      ],
      "execution_count": 16,
      "outputs": [
        {
          "output_type": "stream",
          "text": [
            "\n",
            "<<================= Confusion Matrix ======================>> \n",
            " [[  975   440]\n",
            " [   51 56043]]\n"
          ],
          "name": "stdout"
        }
      ]
    },
    {
      "cell_type": "markdown",
      "metadata": {
        "id": "VWS4JonrkOpY",
        "colab_type": "text"
      },
      "source": [
        "**Classification Report of the Logistic Regeression**"
      ]
    },
    {
      "cell_type": "code",
      "metadata": {
        "id": "sbYRSIZTDdHT",
        "colab_type": "code",
        "colab": {
          "base_uri": "https://localhost:8080/",
          "height": 221
        },
        "outputId": "65e37f07-94b0-4510-d912-195df6a09f47"
      },
      "source": [
        "## Classification Report\n",
        "\n",
        "print(\"\\n<<==================== Calssification Report ====================>>\\n\")\n",
        "\n",
        "print (classification_report(y_test, y_pred))"
      ],
      "execution_count": 17,
      "outputs": [
        {
          "output_type": "stream",
          "text": [
            "\n",
            "<<==================== Calssification Report ====================>>\n",
            "\n",
            "              precision    recall  f1-score   support\n",
            "\n",
            "      BENIGN       0.95      0.69      0.80      1415\n",
            "     Portmap       0.99      1.00      1.00     56094\n",
            "\n",
            "    accuracy                           0.99     57509\n",
            "   macro avg       0.97      0.84      0.90     57509\n",
            "weighted avg       0.99      0.99      0.99     57509\n",
            "\n"
          ],
          "name": "stdout"
        }
      ]
    },
    {
      "cell_type": "markdown",
      "metadata": {
        "id": "fk3hR1zvkWJ9",
        "colab_type": "text"
      },
      "source": [
        "**Accuracy of the Logistic Regression**"
      ]
    },
    {
      "cell_type": "code",
      "metadata": {
        "id": "CE1l2kRcD08-",
        "colab_type": "code",
        "colab": {
          "base_uri": "https://localhost:8080/",
          "height": 68
        },
        "outputId": "1b3a91a1-6f0d-41d8-d37a-502c45d04365"
      },
      "source": [
        "## Accuracy Of The Model In the Linear Regression Algo\n",
        "acc = accuracy_score(y_test, y_pred)\n",
        "print ('\\n<<================================ Accuracy Of the Model in LR Algo ================================>>\\n', acc*100)"
      ],
      "execution_count": 18,
      "outputs": [
        {
          "output_type": "stream",
          "text": [
            "\n",
            "<<================================ Accuracy Of the Model in LR Algo ================================>>\n",
            " 99.14622059155958\n"
          ],
          "name": "stdout"
        }
      ]
    },
    {
      "cell_type": "code",
      "metadata": {
        "id": "--7iGT4sWGAc",
        "colab_type": "code",
        "colab": {
          "base_uri": "https://localhost:8080/",
          "height": 51
        },
        "outputId": "b3047d40-a5bb-405d-a539-f741bcc5ae23"
      },
      "source": [
        "############ \n",
        "from sklearn.metrics import accuracy_score\n",
        "print(\"Model Accuracy is : \\n \",accuracy_score(y_test,y_pred))"
      ],
      "execution_count": 19,
      "outputs": [
        {
          "output_type": "stream",
          "text": [
            "Model Accuracy is : \n",
            "  0.9914622059155959\n"
          ],
          "name": "stdout"
        }
      ]
    },
    {
      "cell_type": "code",
      "metadata": {
        "id": "0HVKEZw6WQAK",
        "colab_type": "code",
        "colab": {
          "base_uri": "https://localhost:8080/",
          "height": 289
        },
        "outputId": "5865258e-d178-4d96-8a60-12b1940d5dff"
      },
      "source": [
        "from sklearn.metrics import classification_report\n",
        "from sklearn.metrics import confusion_matrix\n",
        "\n",
        "print(classification_report(y_test,y_pred))\n",
        "print(\"\\n\\n <<===================================>> \\n\\n\")\n",
        "print(confusion_matrix(y_test,y_pred))"
      ],
      "execution_count": 20,
      "outputs": [
        {
          "output_type": "stream",
          "text": [
            "              precision    recall  f1-score   support\n",
            "\n",
            "      BENIGN       0.95      0.69      0.80      1415\n",
            "     Portmap       0.99      1.00      1.00     56094\n",
            "\n",
            "    accuracy                           0.99     57509\n",
            "   macro avg       0.97      0.84      0.90     57509\n",
            "weighted avg       0.99      0.99      0.99     57509\n",
            "\n",
            "\n",
            "\n",
            " <<===================================>> \n",
            "\n",
            "\n",
            "[[  975   440]\n",
            " [   51 56043]]\n"
          ],
          "name": "stdout"
        }
      ]
    },
    {
      "cell_type": "markdown",
      "metadata": {
        "id": "b7UNTsIrPIJ-",
        "colab_type": "text"
      },
      "source": [
        "#**NAIVE BAYES ALGORITHM**"
      ]
    },
    {
      "cell_type": "markdown",
      "metadata": {
        "id": "h9jF12ufkbZZ",
        "colab_type": "text"
      },
      "source": [
        "**Fiting the Model into the Navie Bayes Algorithm**"
      ]
    },
    {
      "cell_type": "code",
      "metadata": {
        "id": "ClfId6FCW1k9",
        "colab_type": "code",
        "colab": {
          "base_uri": "https://localhost:8080/",
          "height": 34
        },
        "outputId": "56b58ec1-7a55-42b7-ac58-6f97690a3143"
      },
      "source": [
        "############ now we solve naive Bayes algo\n",
        "from sklearn.naive_bayes import GaussianNB\n",
        "classifier = GaussianNB()\n",
        "## model fit on x,y data\n",
        "classifier.fit(x,y)"
      ],
      "execution_count": 58,
      "outputs": [
        {
          "output_type": "execute_result",
          "data": {
            "text/plain": [
              "GaussianNB(priors=None, var_smoothing=1e-09)"
            ]
          },
          "metadata": {
            "tags": []
          },
          "execution_count": 58
        }
      ]
    },
    {
      "cell_type": "code",
      "metadata": {
        "id": "Zuh3qsosXfBZ",
        "colab_type": "code",
        "colab": {
          "base_uri": "https://localhost:8080/",
          "height": 34
        },
        "outputId": "b40049f6-cf98-4fd4-f29c-38ceb3675d0b"
      },
      "source": [
        "#predicting the test result\n",
        "y_pred = classifier.predict(x)\n",
        "print(y_pred)"
      ],
      "execution_count": 59,
      "outputs": [
        {
          "output_type": "stream",
          "text": [
            "['BENIGN' 'BENIGN' 'BENIGN' ... 'BENIGN' 'BENIGN' 'BENIGN']\n"
          ],
          "name": "stdout"
        }
      ]
    },
    {
      "cell_type": "markdown",
      "metadata": {
        "id": "DozSymJ8kh4U",
        "colab_type": "text"
      },
      "source": [
        "**Confusion Matrix of the Naive Bayes Algorithm**"
      ]
    },
    {
      "cell_type": "code",
      "metadata": {
        "id": "3b6ZLYpkXiZk",
        "colab_type": "code",
        "colab": {
          "base_uri": "https://localhost:8080/",
          "height": 85
        },
        "outputId": "d76859b2-8d80-43ce-dcdf-763083fff09c"
      },
      "source": [
        "#checking the accuracy of model\n",
        "\n",
        "from sklearn.metrics import confusion_matrix, accuracy_score, classification_report\n",
        "cfm = confusion_matrix(y, y_pred)\n",
        "print(\"\\n<<================= Confusion Matrix ======================>> \\n\",cfm)"
      ],
      "execution_count": 60,
      "outputs": [
        {
          "output_type": "stream",
          "text": [
            "\n",
            "<<================= Confusion Matrix ======================>> \n",
            " [[  4731      3]\n",
            " [185174   1786]]\n"
          ],
          "name": "stdout"
        }
      ]
    },
    {
      "cell_type": "markdown",
      "metadata": {
        "id": "AYl09Axeko82",
        "colab_type": "text"
      },
      "source": [
        "**Classification Report of the Naive Bayes Algorithm**"
      ]
    },
    {
      "cell_type": "code",
      "metadata": {
        "id": "LjZFRBupXl0R",
        "colab_type": "code",
        "colab": {
          "base_uri": "https://localhost:8080/",
          "height": 221
        },
        "outputId": "d806477a-1988-4e14-ba23-2824884486e4"
      },
      "source": [
        "## Classification Report\n",
        "\n",
        "print(\"\\n<<==================== Calssification Report ====================>>\\n\")\n",
        "\n",
        "print (classification_report(y, y_pred))"
      ],
      "execution_count": 61,
      "outputs": [
        {
          "output_type": "stream",
          "text": [
            "\n",
            "<<==================== Calssification Report ====================>>\n",
            "\n",
            "              precision    recall  f1-score   support\n",
            "\n",
            "      BENIGN       0.02      1.00      0.05      4734\n",
            "     Portmap       1.00      0.01      0.02    186960\n",
            "\n",
            "    accuracy                           0.03    191694\n",
            "   macro avg       0.51      0.50      0.03    191694\n",
            "weighted avg       0.97      0.03      0.02    191694\n",
            "\n"
          ],
          "name": "stdout"
        }
      ]
    },
    {
      "cell_type": "markdown",
      "metadata": {
        "id": "ZyVkaVQMk1_H",
        "colab_type": "text"
      },
      "source": [
        "**Accuracy of the Naive Bayes Algorithm**"
      ]
    },
    {
      "cell_type": "code",
      "metadata": {
        "id": "HO-EsUOTXpeE",
        "colab_type": "code",
        "colab": {
          "base_uri": "https://localhost:8080/",
          "height": 68
        },
        "outputId": "2708554f-1669-4ef2-95e1-6fc82467cb23"
      },
      "source": [
        "## Accuracy Of The Model In the Linear Regression Algo\n",
        "acc = accuracy_score(y, y_pred)\n",
        "print ('\\n<<================================ Accuracy Of the Model in LR Algo ================================>>\\n', acc)"
      ],
      "execution_count": 63,
      "outputs": [
        {
          "output_type": "stream",
          "text": [
            "\n",
            "<<================================ Accuracy Of the Model in LR Algo ================================>>\n",
            " 0.03399689087817042\n"
          ],
          "name": "stdout"
        }
      ]
    },
    {
      "cell_type": "code",
      "metadata": {
        "id": "BEYtcJQmXuMr",
        "colab_type": "code",
        "colab": {
          "base_uri": "https://localhost:8080/",
          "height": 289
        },
        "outputId": "81d32b80-1072-4afc-a551-2435a47a45b7"
      },
      "source": [
        "from sklearn.metrics import classification_report\n",
        "from sklearn.metrics import confusion_matrix\n",
        "\n",
        "print(classification_report(y_test,y_pred))\n",
        "print(\"\\n\\n <<===================================>> \\n\\n\")\n",
        "print(confusion_matrix(y_test,y_pred))"
      ],
      "execution_count": 57,
      "outputs": [
        {
          "output_type": "stream",
          "text": [
            "              precision    recall  f1-score   support\n",
            "\n",
            "           0       0.02      1.00      0.05      1415\n",
            "           1       1.00      0.01      0.02     56094\n",
            "\n",
            "    accuracy                           0.03     57509\n",
            "   macro avg       0.51      0.50      0.03     57509\n",
            "weighted avg       0.97      0.03      0.02     57509\n",
            "\n",
            "\n",
            "\n",
            " <<===================================>> \n",
            "\n",
            "\n",
            "[[ 1414     1]\n",
            " [55553   541]]\n"
          ],
          "name": "stdout"
        }
      ]
    },
    {
      "cell_type": "markdown",
      "metadata": {
        "id": "x-9VaiYaiRoR",
        "colab_type": "text"
      },
      "source": [
        "#**KNN ALGORITHM**"
      ]
    },
    {
      "cell_type": "markdown",
      "metadata": {
        "id": "ueRBWE9Gk7Xg",
        "colab_type": "text"
      },
      "source": [
        "**Label Encoding of the Label Column in the Dataset becasuse its dtype is Object**"
      ]
    },
    {
      "cell_type": "code",
      "metadata": {
        "id": "xxDpweR5mlch",
        "colab_type": "code",
        "colab": {}
      },
      "source": [
        "## Label Encoding\n",
        "from sklearn.preprocessing import LabelEncoder\n",
        "le = LabelEncoder()\n",
        "y_train= le.fit_transform(y_train)\n",
        "y_test= le.fit_transform(y_test)"
      ],
      "execution_count": 0,
      "outputs": []
    },
    {
      "cell_type": "markdown",
      "metadata": {
        "id": "TcuV_JbTlB8P",
        "colab_type": "text"
      },
      "source": [
        "**Fiting the Model in the KNN Algorithm**"
      ]
    },
    {
      "cell_type": "code",
      "metadata": {
        "id": "OuNHehZYdfL7",
        "colab_type": "code",
        "colab": {
          "base_uri": "https://localhost:8080/",
          "height": 68
        },
        "outputId": "a63715a4-04aa-4fff-b320-6ade06aaaae4"
      },
      "source": [
        "from sklearn.neighbors import  KNeighborsClassifier\n",
        "model = KNeighborsClassifier(n_neighbors=100)\n",
        "\n",
        "model.fit(x_train,y_train)"
      ],
      "execution_count": 40,
      "outputs": [
        {
          "output_type": "execute_result",
          "data": {
            "text/plain": [
              "KNeighborsClassifier(algorithm='auto', leaf_size=30, metric='minkowski',\n",
              "                     metric_params=None, n_jobs=None, n_neighbors=100, p=2,\n",
              "                     weights='uniform')"
            ]
          },
          "metadata": {
            "tags": []
          },
          "execution_count": 40
        }
      ]
    },
    {
      "cell_type": "code",
      "metadata": {
        "id": "hg-_qQKthhXV",
        "colab_type": "code",
        "colab": {
          "base_uri": "https://localhost:8080/",
          "height": 34
        },
        "outputId": "96ff7abb-cfd3-43e6-d7ae-60cf6c9c77d2"
      },
      "source": [
        "THRESHOLD = 0.67\n",
        "\n",
        "import numpy as np\n",
        "\n",
        "y_pred = np.where(model.predict_proba(x_test)[:,1] > THRESHOLD, 1,0)\n",
        "\n",
        "#Print(model.predict_proba(x_test))\n",
        "#model test and take y_pred value\n",
        "\n",
        "print(y_pred)"
      ],
      "execution_count": 41,
      "outputs": [
        {
          "output_type": "stream",
          "text": [
            "[1 1 1 ... 1 1 1]\n"
          ],
          "name": "stdout"
        }
      ]
    },
    {
      "cell_type": "markdown",
      "metadata": {
        "id": "nvDL8N-HlIFz",
        "colab_type": "text"
      },
      "source": [
        "**Accuracy and Classification Report of the KNN Algorithn**"
      ]
    },
    {
      "cell_type": "code",
      "metadata": {
        "id": "UPuzBJNJkEJ_",
        "colab_type": "code",
        "colab": {
          "base_uri": "https://localhost:8080/",
          "height": 476
        },
        "outputId": "0fd4e984-d9ee-40ea-9b30-a8243a6b843f"
      },
      "source": [
        "##################\n",
        "\n",
        "from sklearn.metrics import accuracy_score\n",
        "print(\"Model Accuracy is : \\n \", accuracy_score(y_test,y_pred))\n",
        "\n",
        "from sklearn.metrics import classification_report\n",
        "from sklearn.metrics import confusion_matrix\n",
        "print(\"\\n\\n <<===================================>> \\n\\n\")\n",
        "print(\"\\t CLASSIFICATION REPORT \\n\")\n",
        "print(classification_report(y_test,y_pred))\n",
        "print(\"\\n\\n <<===================================>> \\n\\n\")\n",
        "print(\"Confusion Matrix \\n \")\n",
        "print(confusion_matrix(y_test,y_pred))"
      ],
      "execution_count": 42,
      "outputs": [
        {
          "output_type": "stream",
          "text": [
            "Model Accuracy is : \n",
            "  0.9968178893738371\n",
            "\n",
            "\n",
            " <<===================================>> \n",
            "\n",
            "\n",
            "\t CLASSIFICATION REPORT \n",
            "\n",
            "              precision    recall  f1-score   support\n",
            "\n",
            "           0       0.96      0.91      0.93      1415\n",
            "           1       1.00      1.00      1.00     56094\n",
            "\n",
            "    accuracy                           1.00     57509\n",
            "   macro avg       0.98      0.96      0.97     57509\n",
            "weighted avg       1.00      1.00      1.00     57509\n",
            "\n",
            "\n",
            "\n",
            " <<===================================>> \n",
            "\n",
            "\n",
            "Confusion Matrix \n",
            " \n",
            "[[ 1290   125]\n",
            " [   58 56036]]\n"
          ],
          "name": "stdout"
        }
      ]
    },
    {
      "cell_type": "markdown",
      "metadata": {
        "id": "O4AdWFsglOTK",
        "colab_type": "text"
      },
      "source": [
        "**Comparision of the Accuracies of the**\n",
        "\n",
        "**1.   Logistic Regression**\n",
        "\n",
        "**2.   KNN Algorithm**\n",
        "\n",
        "**3.   Naive Bayes Algorithm**\n"
      ]
    },
    {
      "cell_type": "code",
      "metadata": {
        "id": "A6aJ4lP6oki2",
        "colab_type": "code",
        "colab": {
          "base_uri": "https://localhost:8080/",
          "height": 265
        },
        "outputId": "84a31ada-6534-4089-d25d-346270b74e57"
      },
      "source": [
        "accu_LR =  0.9914622059155959*100\n",
        "accu_KNN =  0.9968178893738371*100\n",
        "accu_NB =  0.03399689087817042*100\n",
        "\n",
        "import matplotlib.pyplot as plt\n",
        "import matplotlib as pl\n",
        "import seaborn as sns\n",
        "y=[accu_LR,accu_KNN,accu_NB]\n",
        "x=[\"Logistic\",\"KNN\",\"NB\"]\n",
        "c=[\"red\",\"blue\",\"green\"]\n",
        "plt.bar(x,y,color=c)\n",
        "plt.show()"
      ],
      "execution_count": 66,
      "outputs": [
        {
          "output_type": "display_data",
          "data": {
            "image/png": "[encoded data removed]",
            "text/plain": [
              "<Figure size 432x288 with 1 Axes>"
            ]
          },
          "metadata": {
            "tags": [],
            "needs_background": "light"
          }
        }
      ]
    }
  ]
}